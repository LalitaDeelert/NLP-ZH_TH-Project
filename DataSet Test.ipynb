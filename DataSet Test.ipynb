{
 "cells": [
  {
   "cell_type": "code",
   "execution_count": 52,
   "metadata": {},
   "outputs": [],
   "source": [
    "with open(\"Ubuntu.th-zh_CN.th\",\"r\",encoding='utf-8') as f:\n",
    "    th_lines = f.readlines()\n",
    "    th_lines = [i[:-1] for i in th_lines]\n",
    "with open(\"Ubuntu.th-zh_CN.zh_CN\",\"r\",encoding='utf-8') as f:\n",
    "    zh_lines = f.readlines()\n",
    "    zh_lines = [i[:-1] for i in zh_lines]"
   ]
  },
  {
   "cell_type": "code",
   "execution_count": 53,
   "metadata": {},
   "outputs": [
    {
     "data": {
      "text/plain": [
       "1131"
      ]
     },
     "execution_count": 53,
     "metadata": {},
     "output_type": "execute_result"
    }
   ],
   "source": [
    "len(th_lines)"
   ]
  },
  {
   "cell_type": "code",
   "execution_count": 54,
   "metadata": {},
   "outputs": [
    {
     "data": {
      "text/plain": [
       "['ผู้ดูแลระบบ(รูท)เท่านั้นที่สามารถเพิ่มรายชื่อผู้ใช้หรือกลุ่มผู้ใช้',\n",
       " 'อนุญาต 1 หรือ 2 ชื่อเท่านั้น',\n",
       " 'ให้กำหนดเพียงชื่อเดียวในโหมดนี้',\n",
       " 'ออปชั่น --group, --ingroup, และ --gid มีความเกี่ยวเนื่องถึงกัน',\n",
       " 'ไดเร็คทอรี่ home จะต้องระบุในแบบ absolute path',\n",
       " \"GID '%s' กำลังถูกใช้งานอยู่แล้ว\",\n",
       " 'ไม่มี GID ปรากฏในช่วง %d ถึง %d (FIRST_SYS_GID - LAST_SYS_GID).',\n",
       " \"กรุ๊ป '%s' ยังไม่ได้ถูกสร้างขึ้น\",\n",
       " 'เสร็จเรียบร้อย',\n",
       " \"กรุ๊ป '%s' มีอยู่แล้ว\"]"
      ]
     },
     "execution_count": 54,
     "metadata": {},
     "output_type": "execute_result"
    }
   ],
   "source": [
    "th_lines[:10]"
   ]
  },
  {
   "cell_type": "code",
   "execution_count": 57,
   "metadata": {},
   "outputs": [
    {
     "data": {
      "text/plain": [
       "1131"
      ]
     },
     "execution_count": 57,
     "metadata": {},
     "output_type": "execute_result"
    }
   ],
   "source": [
    "len(zh_lines)"
   ]
  },
  {
   "cell_type": "code",
   "execution_count": 56,
   "metadata": {},
   "outputs": [
    {
     "data": {
      "text/plain": [
       "['只有 root 才能将用户或组添加到系统。',\n",
       " '只允许一个或者两个名字。',\n",
       " '这个模式下只能指定一个名字。',\n",
       " '--group，--ingroup，和 --gid 选项是不能同时使用的。',\n",
       " '主目录必须是一个绝对路径。',\n",
       " 'GID \" %s\"已被占用。',\n",
       " '范围 %d-%d (FIRST_SYS_GID - LAST_SYS_GID)里没有可用的 GID。',\n",
       " '组\"%s\"没有被创建。',\n",
       " '完成。',\n",
       " '\"%s\"组已经存在。']"
      ]
     },
     "execution_count": 56,
     "metadata": {},
     "output_type": "execute_result"
    }
   ],
   "source": [
    "zh_lines[:10]"
   ]
  },
  {
   "cell_type": "code",
   "execution_count": null,
   "metadata": {},
   "outputs": [],
   "source": []
  }
 ],
 "metadata": {
  "kernelspec": {
   "display_name": "Python 3",
   "language": "python",
   "name": "python3"
  },
  "language_info": {
   "codemirror_mode": {
    "name": "ipython",
    "version": 3
   },
   "file_extension": ".py",
   "mimetype": "text/x-python",
   "name": "python",
   "nbconvert_exporter": "python",
   "pygments_lexer": "ipython3",
   "version": "3.8.5"
  }
 },
 "nbformat": 4,
 "nbformat_minor": 4
}
