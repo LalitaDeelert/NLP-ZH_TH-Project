{
 "cells": [
  {
   "cell_type": "code",
   "execution_count": 1,
   "metadata": {},
   "outputs": [],
   "source": [
    "%reload_ext autoreload\n",
    "%autoreload 2\n",
    "%matplotlib inline"
   ]
  },
  {
   "cell_type": "code",
   "execution_count": 26,
   "metadata": {
    "scrolled": true
   },
   "outputs": [
    {
     "data": {
      "text/plain": [
       "'2.3.1'"
      ]
     },
     "execution_count": 26,
     "metadata": {},
     "output_type": "execute_result"
    }
   ],
   "source": [
    "import pythainlp\n",
    "\n",
    "pythainlp.__version__"
   ]
  },
  {
   "cell_type": "code",
   "execution_count": 45,
   "metadata": {},
   "outputs": [],
   "source": [
    "try:\n",
    "    %tensorflow_version 2.x\n",
    "except:\n",
    "    pass"
   ]
  },
  {
   "cell_type": "code",
   "execution_count": 46,
   "metadata": {},
   "outputs": [],
   "source": [
    "from pythainlp.tokenize import (\n",
    "    DEFAULT_SENT_TOKENIZE_ENGINE,\n",
    "    DEFAULT_SUBWORD_TOKENIZE_ENGINE,\n",
    "    DEFAULT_SYLLABLE_DICT_TRIE,\n",
    "    DEFAULT_SYLLABLE_TOKENIZE_ENGINE,\n",
    "    DEFAULT_WORD_DICT_TRIE,\n",
    "    DEFAULT_WORD_TOKENIZE_ENGINE,\n",
    ")\n",
    "from pythainlp.util.trie import Trie, dict_trie"
   ]
  },
  {
   "cell_type": "code",
   "execution_count": 48,
   "metadata": {},
   "outputs": [],
   "source": [
    "import warnings\n",
    "warnings.filterwarnings('ignore')"
   ]
  },
  {
   "cell_type": "code",
   "execution_count": 49,
   "metadata": {},
   "outputs": [
    {
     "data": {
      "text/plain": [
       "'กขฃคฅฆงจฉชซฌญฎฏฐฑฒณดตถทธนบปผฝพฟภมยรลวศษสหฬอฮฤฦะัาำิีึืุูเแโใไๅํ็่้๊๋ฯฺๆ์ํ๎๏๚๛๐๑๒๓๔๕๖๗๘๙฿'"
      ]
     },
     "execution_count": 49,
     "metadata": {},
     "output_type": "execute_result"
    }
   ],
   "source": [
    "pythainlp.thai_characters"
   ]
  },
  {
   "cell_type": "code",
   "execution_count": 50,
   "metadata": {
    "scrolled": true
   },
   "outputs": [
    {
     "data": {
      "text/plain": [
       "100.0"
      ]
     },
     "execution_count": 50,
     "metadata": {},
     "output_type": "execute_result"
    }
   ],
   "source": [
    "pythainlp.util.countthai(\"คุณจำตอนพิธีล้างบาปของคุณได้ เป็นไปได้ยังไง?เป็นไปไม่ได้รึไง?\")"
   ]
  },
  {
   "cell_type": "code",
   "execution_count": 51,
   "metadata": {},
   "outputs": [],
   "source": [
    "from pythainlp import sent_tokenize, word_tokenize"
   ]
  },
  {
   "cell_type": "code",
   "execution_count": 129,
   "metadata": {},
   "outputs": [],
   "source": [
    "with open(\"../data/OpenSubtitles/OpenSubtitles_sample.th\",\"r\",encoding='utf-8') as f:\n",
    "    th_lines = f.readlines()\n",
    "    th_lines = [i[:-1] for i in th_lines]"
   ]
  },
  {
   "cell_type": "code",
   "execution_count": 130,
   "metadata": {},
   "outputs": [],
   "source": [
    "text = 'การ'"
   ]
  },
  {
   "cell_type": "code",
   "execution_count": null,
   "metadata": {},
   "outputs": [],
   "source": []
  },
  {
   "cell_type": "code",
   "execution_count": 109,
   "metadata": {},
   "outputs": [],
   "source": [
    "text = df "
   ]
  },
  {
   "cell_type": "code",
   "execution_count": 62,
   "metadata": {},
   "outputs": [],
   "source": [
    "text = 'คุณจำตอนพิธีล้างบาปของคุณได้ เป็นไปได้ยังไง?เป็นไปไม่ได้รึไง? นั่นไม่ใช่รูปวาดหรอ'"
   ]
  },
  {
   "cell_type": "code",
   "execution_count": 111,
   "metadata": {},
   "outputs": [
    {
     "name": "stdout",
     "output_type": "stream",
     "text": [
      "word_tokenize: []\n"
     ]
    }
   ],
   "source": [
    "print(\"word_tokenize:\", word_tokenize(th_lines))"
   ]
  },
  {
   "cell_type": "code",
   "execution_count": 57,
   "metadata": {},
   "outputs": [
    {
     "data": {
      "text/plain": [
       "22"
      ]
     },
     "execution_count": 57,
     "metadata": {},
     "output_type": "execute_result"
    }
   ],
   "source": [
    "len(word_tokenize(text))"
   ]
  },
  {
   "cell_type": "code",
   "execution_count": 56,
   "metadata": {},
   "outputs": [
    {
     "name": "stdout",
     "output_type": "stream",
     "text": [
      "newmm    : ['คุณ', 'จำ', 'ตอน', 'พิธี', 'ล้างบาป', 'ของ', 'คุณ', 'ได้', ' ', 'เป็นไปได้', 'ยังไง', '?', 'เป็นไปไม่ได้', 'รึ', 'ไง', '?', ' ', 'นั่น', 'ไม่', 'ใช่', 'รูปวาด', 'หรอ']\n",
      "longest  : ['คุณ', 'จำ', 'ตอน', 'พิธี', 'ล้างบาป', 'ของ', 'คุณ', 'ได้', ' ', 'เป็นไปได้', 'ยัง', 'ไง', '?', 'เป็นไปไม่ได้', 'รึ', 'ไง', '?', ' ', 'นั่น', 'ไม่', 'ใช่', 'รูปวาด', 'หรอ']\n",
      "multi_cut: ['คุณ', 'จำ', 'ตอนพิธี', 'ล้างบาป', 'ของ', 'คุณ', 'ได้', ' ', 'เป็นไปได้', 'ยังไง', '?', 'เป็นไปไม่ได้', 'รึ', 'ไง', '?', ' ', 'นั่น', 'ไม่', 'ใช่', 'รูปวาด', 'หรอ']\n",
      "deepcut  : ['คุณ', 'จำ', 'ตอน', 'พิธี', 'ล้าง', 'บาป', 'ของ', 'คุณ', 'ได้', ' ', 'เป็น', 'ไป', 'ได้', 'ยัง', 'ไง', '?', 'เป็น', 'ไป', 'ไม่', 'ได้', 'รึไง', '?', ' ', 'นั่น', 'ไม่', 'ใช่', 'รูป', 'วาด', 'หรอ']\n"
     ]
    }
   ],
   "source": [
    "print(\"newmm    :\", word_tokenize(text))  \n",
    "print(\"longest  :\", word_tokenize(text, engine=\"longest\"))\n",
    "print(\"multi_cut:\", word_tokenize(text, engine=\"multi_cut\"))\n",
    "print(\"deepcut  :\", word_tokenize(text, engine=\"deepcut\"))"
   ]
  },
  {
   "cell_type": "code",
   "execution_count": null,
   "metadata": {},
   "outputs": [],
   "source": []
  }
 ],
 "metadata": {
  "kernelspec": {
   "display_name": "Python 3",
   "language": "python",
   "name": "python3"
  },
  "language_info": {
   "codemirror_mode": {
    "name": "ipython",
    "version": 3
   },
   "file_extension": ".py",
   "mimetype": "text/x-python",
   "name": "python",
   "nbconvert_exporter": "python",
   "pygments_lexer": "ipython3",
   "version": "3.8.5"
  }
 },
 "nbformat": 4,
 "nbformat_minor": 4
}
