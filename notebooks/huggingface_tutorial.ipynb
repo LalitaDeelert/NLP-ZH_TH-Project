{
  "nbformat": 4,
  "nbformat_minor": 0,
  "metadata": {
    "accelerator": "GPU",
    "colab": {
      "name": "huggingface_zhth_translation_tutorial",
      "provenance": [],
      "include_colab_link": true
    },
    "kernelspec": {
      "display_name": "Python 3",
      "language": "python",
      "name": "python3"
    },
    "language_info": {
      "codemirror_mode": {
        "name": "ipython",
        "version": 3
      },
      "file_extension": ".py",
      "mimetype": "text/x-python",
      "name": "python",
      "nbconvert_exporter": "python",
      "pygments_lexer": "ipython3",
      "version": "3.7.10"
    },
    "widgets": {
      "application/vnd.jupyter.widget-state+json": {
        "5a84a038e8984a918cf57c1dd341d1e6": {
          "model_module": "@jupyter-widgets/controls",
          "model_name": "HBoxModel",
          "state": {
            "_view_name": "HBoxView",
            "_dom_classes": [],
            "_model_name": "HBoxModel",
            "_view_module": "@jupyter-widgets/controls",
            "_model_module_version": "1.5.0",
            "_view_count": null,
            "_view_module_version": "1.5.0",
            "box_style": "",
            "layout": "IPY_MODEL_b9ddacae92bc42259d05b87dfaf416a3",
            "_model_module": "@jupyter-widgets/controls",
            "children": [
              "IPY_MODEL_5d0093b629254596a3689aff7da178e4",
              "IPY_MODEL_dd2c0353f26a49568df2315a20c5d2ed"
            ]
          }
        },
        "b9ddacae92bc42259d05b87dfaf416a3": {
          "model_module": "@jupyter-widgets/base",
          "model_name": "LayoutModel",
          "state": {
            "_view_name": "LayoutView",
            "grid_template_rows": null,
            "right": null,
            "justify_content": null,
            "_view_module": "@jupyter-widgets/base",
            "overflow": null,
            "_model_module_version": "1.2.0",
            "_view_count": null,
            "flex_flow": null,
            "width": null,
            "min_width": null,
            "border": null,
            "align_items": null,
            "bottom": null,
            "_model_module": "@jupyter-widgets/base",
            "top": null,
            "grid_column": null,
            "overflow_y": null,
            "overflow_x": null,
            "grid_auto_flow": null,
            "grid_area": null,
            "grid_template_columns": null,
            "flex": null,
            "_model_name": "LayoutModel",
            "justify_items": null,
            "grid_row": null,
            "max_height": null,
            "align_content": null,
            "visibility": null,
            "align_self": null,
            "height": null,
            "min_height": null,
            "padding": null,
            "grid_auto_rows": null,
            "grid_gap": null,
            "max_width": null,
            "order": null,
            "_view_module_version": "1.2.0",
            "grid_template_areas": null,
            "object_position": null,
            "object_fit": null,
            "grid_auto_columns": null,
            "margin": null,
            "display": null,
            "left": null
          }
        },
        "5d0093b629254596a3689aff7da178e4": {
          "model_module": "@jupyter-widgets/controls",
          "model_name": "FloatProgressModel",
          "state": {
            "_view_name": "ProgressView",
            "style": "IPY_MODEL_506cbad6ef8246c9a62b2ca179ad5596",
            "_dom_classes": [],
            "description": "100%",
            "_model_name": "FloatProgressModel",
            "bar_style": "success",
            "max": 9,
            "_view_module": "@jupyter-widgets/controls",
            "_model_module_version": "1.5.0",
            "value": 9,
            "_view_count": null,
            "_view_module_version": "1.5.0",
            "orientation": "horizontal",
            "min": 0,
            "description_tooltip": null,
            "_model_module": "@jupyter-widgets/controls",
            "layout": "IPY_MODEL_c0bde5db02024727aae4032273c4b073"
          }
        },
        "dd2c0353f26a49568df2315a20c5d2ed": {
          "model_module": "@jupyter-widgets/controls",
          "model_name": "HTMLModel",
          "state": {
            "_view_name": "HTMLView",
            "style": "IPY_MODEL_3b70fe99f487492f9b5e61db6dd6aee9",
            "_dom_classes": [],
            "description": "",
            "_model_name": "HTMLModel",
            "placeholder": "​",
            "_view_module": "@jupyter-widgets/controls",
            "_model_module_version": "1.5.0",
            "value": " 9/9 [01:36&lt;00:00, 10.70s/ba]",
            "_view_count": null,
            "_view_module_version": "1.5.0",
            "description_tooltip": null,
            "_model_module": "@jupyter-widgets/controls",
            "layout": "IPY_MODEL_459630dea34b44ff999d746b2b456f6d"
          }
        },
        "506cbad6ef8246c9a62b2ca179ad5596": {
          "model_module": "@jupyter-widgets/controls",
          "model_name": "ProgressStyleModel",
          "state": {
            "_view_name": "StyleView",
            "_model_name": "ProgressStyleModel",
            "description_width": "initial",
            "_view_module": "@jupyter-widgets/base",
            "_model_module_version": "1.5.0",
            "_view_count": null,
            "_view_module_version": "1.2.0",
            "bar_color": null,
            "_model_module": "@jupyter-widgets/controls"
          }
        },
        "c0bde5db02024727aae4032273c4b073": {
          "model_module": "@jupyter-widgets/base",
          "model_name": "LayoutModel",
          "state": {
            "_view_name": "LayoutView",
            "grid_template_rows": null,
            "right": null,
            "justify_content": null,
            "_view_module": "@jupyter-widgets/base",
            "overflow": null,
            "_model_module_version": "1.2.0",
            "_view_count": null,
            "flex_flow": null,
            "width": null,
            "min_width": null,
            "border": null,
            "align_items": null,
            "bottom": null,
            "_model_module": "@jupyter-widgets/base",
            "top": null,
            "grid_column": null,
            "overflow_y": null,
            "overflow_x": null,
            "grid_auto_flow": null,
            "grid_area": null,
            "grid_template_columns": null,
            "flex": null,
            "_model_name": "LayoutModel",
            "justify_items": null,
            "grid_row": null,
            "max_height": null,
            "align_content": null,
            "visibility": null,
            "align_self": null,
            "height": null,
            "min_height": null,
            "padding": null,
            "grid_auto_rows": null,
            "grid_gap": null,
            "max_width": null,
            "order": null,
            "_view_module_version": "1.2.0",
            "grid_template_areas": null,
            "object_position": null,
            "object_fit": null,
            "grid_auto_columns": null,
            "margin": null,
            "display": null,
            "left": null
          }
        },
        "3b70fe99f487492f9b5e61db6dd6aee9": {
          "model_module": "@jupyter-widgets/controls",
          "model_name": "DescriptionStyleModel",
          "state": {
            "_view_name": "StyleView",
            "_model_name": "DescriptionStyleModel",
            "description_width": "",
            "_view_module": "@jupyter-widgets/base",
            "_model_module_version": "1.5.0",
            "_view_count": null,
            "_view_module_version": "1.2.0",
            "_model_module": "@jupyter-widgets/controls"
          }
        },
        "459630dea34b44ff999d746b2b456f6d": {
          "model_module": "@jupyter-widgets/base",
          "model_name": "LayoutModel",
          "state": {
            "_view_name": "LayoutView",
            "grid_template_rows": null,
            "right": null,
            "justify_content": null,
            "_view_module": "@jupyter-widgets/base",
            "overflow": null,
            "_model_module_version": "1.2.0",
            "_view_count": null,
            "flex_flow": null,
            "width": null,
            "min_width": null,
            "border": null,
            "align_items": null,
            "bottom": null,
            "_model_module": "@jupyter-widgets/base",
            "top": null,
            "grid_column": null,
            "overflow_y": null,
            "overflow_x": null,
            "grid_auto_flow": null,
            "grid_area": null,
            "grid_template_columns": null,
            "flex": null,
            "_model_name": "LayoutModel",
            "justify_items": null,
            "grid_row": null,
            "max_height": null,
            "align_content": null,
            "visibility": null,
            "align_self": null,
            "height": null,
            "min_height": null,
            "padding": null,
            "grid_auto_rows": null,
            "grid_gap": null,
            "max_width": null,
            "order": null,
            "_view_module_version": "1.2.0",
            "grid_template_areas": null,
            "object_position": null,
            "object_fit": null,
            "grid_auto_columns": null,
            "margin": null,
            "display": null,
            "left": null
          }
        },
        "e8cd66a7c0d3415fbf733ed8d8a19ae6": {
          "model_module": "@jupyter-widgets/controls",
          "model_name": "HBoxModel",
          "state": {
            "_view_name": "HBoxView",
            "_dom_classes": [],
            "_model_name": "HBoxModel",
            "_view_module": "@jupyter-widgets/controls",
            "_model_module_version": "1.5.0",
            "_view_count": null,
            "_view_module_version": "1.5.0",
            "box_style": "",
            "layout": "IPY_MODEL_2bf5e74c85184db58bee9e68a35d1118",
            "_model_module": "@jupyter-widgets/controls",
            "children": [
              "IPY_MODEL_068b899731154f54ba430ed7b9897cad",
              "IPY_MODEL_ff7a31a51e1b4ebe942fdf38630daf84"
            ]
          }
        },
        "2bf5e74c85184db58bee9e68a35d1118": {
          "model_module": "@jupyter-widgets/base",
          "model_name": "LayoutModel",
          "state": {
            "_view_name": "LayoutView",
            "grid_template_rows": null,
            "right": null,
            "justify_content": null,
            "_view_module": "@jupyter-widgets/base",
            "overflow": null,
            "_model_module_version": "1.2.0",
            "_view_count": null,
            "flex_flow": null,
            "width": null,
            "min_width": null,
            "border": null,
            "align_items": null,
            "bottom": null,
            "_model_module": "@jupyter-widgets/base",
            "top": null,
            "grid_column": null,
            "overflow_y": null,
            "overflow_x": null,
            "grid_auto_flow": null,
            "grid_area": null,
            "grid_template_columns": null,
            "flex": null,
            "_model_name": "LayoutModel",
            "justify_items": null,
            "grid_row": null,
            "max_height": null,
            "align_content": null,
            "visibility": null,
            "align_self": null,
            "height": null,
            "min_height": null,
            "padding": null,
            "grid_auto_rows": null,
            "grid_gap": null,
            "max_width": null,
            "order": null,
            "_view_module_version": "1.2.0",
            "grid_template_areas": null,
            "object_position": null,
            "object_fit": null,
            "grid_auto_columns": null,
            "margin": null,
            "display": null,
            "left": null
          }
        },
        "068b899731154f54ba430ed7b9897cad": {
          "model_module": "@jupyter-widgets/controls",
          "model_name": "FloatProgressModel",
          "state": {
            "_view_name": "ProgressView",
            "style": "IPY_MODEL_cb8a5d06528d4d0098cb69ca14a165e7",
            "_dom_classes": [],
            "description": "100%",
            "_model_name": "FloatProgressModel",
            "bar_style": "success",
            "max": 1,
            "_view_module": "@jupyter-widgets/controls",
            "_model_module_version": "1.5.0",
            "value": 1,
            "_view_count": null,
            "_view_module_version": "1.5.0",
            "orientation": "horizontal",
            "min": 0,
            "description_tooltip": null,
            "_model_module": "@jupyter-widgets/controls",
            "layout": "IPY_MODEL_80c05f8dd2624632b6d7a73bd9b6056e"
          }
        },
        "ff7a31a51e1b4ebe942fdf38630daf84": {
          "model_module": "@jupyter-widgets/controls",
          "model_name": "HTMLModel",
          "state": {
            "_view_name": "HTMLView",
            "style": "IPY_MODEL_a7022017c9a64c068c4ccc2151eda0f3",
            "_dom_classes": [],
            "description": "",
            "_model_name": "HTMLModel",
            "placeholder": "​",
            "_view_module": "@jupyter-widgets/controls",
            "_model_module_version": "1.5.0",
            "value": " 1/1 [00:14&lt;00:00, 14.42s/ba]",
            "_view_count": null,
            "_view_module_version": "1.5.0",
            "description_tooltip": null,
            "_model_module": "@jupyter-widgets/controls",
            "layout": "IPY_MODEL_11595089ef894a8bb6291d34dc6ba1a4"
          }
        },
        "cb8a5d06528d4d0098cb69ca14a165e7": {
          "model_module": "@jupyter-widgets/controls",
          "model_name": "ProgressStyleModel",
          "state": {
            "_view_name": "StyleView",
            "_model_name": "ProgressStyleModel",
            "description_width": "initial",
            "_view_module": "@jupyter-widgets/base",
            "_model_module_version": "1.5.0",
            "_view_count": null,
            "_view_module_version": "1.2.0",
            "bar_color": null,
            "_model_module": "@jupyter-widgets/controls"
          }
        },
        "80c05f8dd2624632b6d7a73bd9b6056e": {
          "model_module": "@jupyter-widgets/base",
          "model_name": "LayoutModel",
          "state": {
            "_view_name": "LayoutView",
            "grid_template_rows": null,
            "right": null,
            "justify_content": null,
            "_view_module": "@jupyter-widgets/base",
            "overflow": null,
            "_model_module_version": "1.2.0",
            "_view_count": null,
            "flex_flow": null,
            "width": null,
            "min_width": null,
            "border": null,
            "align_items": null,
            "bottom": null,
            "_model_module": "@jupyter-widgets/base",
            "top": null,
            "grid_column": null,
            "overflow_y": null,
            "overflow_x": null,
            "grid_auto_flow": null,
            "grid_area": null,
            "grid_template_columns": null,
            "flex": null,
            "_model_name": "LayoutModel",
            "justify_items": null,
            "grid_row": null,
            "max_height": null,
            "align_content": null,
            "visibility": null,
            "align_self": null,
            "height": null,
            "min_height": null,
            "padding": null,
            "grid_auto_rows": null,
            "grid_gap": null,
            "max_width": null,
            "order": null,
            "_view_module_version": "1.2.0",
            "grid_template_areas": null,
            "object_position": null,
            "object_fit": null,
            "grid_auto_columns": null,
            "margin": null,
            "display": null,
            "left": null
          }
        },
        "a7022017c9a64c068c4ccc2151eda0f3": {
          "model_module": "@jupyter-widgets/controls",
          "model_name": "DescriptionStyleModel",
          "state": {
            "_view_name": "StyleView",
            "_model_name": "DescriptionStyleModel",
            "description_width": "",
            "_view_module": "@jupyter-widgets/base",
            "_model_module_version": "1.5.0",
            "_view_count": null,
            "_view_module_version": "1.2.0",
            "_model_module": "@jupyter-widgets/controls"
          }
        },
        "11595089ef894a8bb6291d34dc6ba1a4": {
          "model_module": "@jupyter-widgets/base",
          "model_name": "LayoutModel",
          "state": {
            "_view_name": "LayoutView",
            "grid_template_rows": null,
            "right": null,
            "justify_content": null,
            "_view_module": "@jupyter-widgets/base",
            "overflow": null,
            "_model_module_version": "1.2.0",
            "_view_count": null,
            "flex_flow": null,
            "width": null,
            "min_width": null,
            "border": null,
            "align_items": null,
            "bottom": null,
            "_model_module": "@jupyter-widgets/base",
            "top": null,
            "grid_column": null,
            "overflow_y": null,
            "overflow_x": null,
            "grid_auto_flow": null,
            "grid_area": null,
            "grid_template_columns": null,
            "flex": null,
            "_model_name": "LayoutModel",
            "justify_items": null,
            "grid_row": null,
            "max_height": null,
            "align_content": null,
            "visibility": null,
            "align_self": null,
            "height": null,
            "min_height": null,
            "padding": null,
            "grid_auto_rows": null,
            "grid_gap": null,
            "max_width": null,
            "order": null,
            "_view_module_version": "1.2.0",
            "grid_template_areas": null,
            "object_position": null,
            "object_fit": null,
            "grid_auto_columns": null,
            "margin": null,
            "display": null,
            "left": null
          }
        }
      }
    }
  },
  "cells": [
    {
      "cell_type": "markdown",
      "metadata": {
        "id": "view-in-github",
        "colab_type": "text"
      },
      "source": [
        "<a href=\"https://colab.research.google.com/github/LalitaDeelert/NLP-ZH_TH-Project/blob/main/notebooks/huggingface_tutorial.ipynb\" target=\"_parent\"><img src=\"https://colab.research.google.com/assets/colab-badge.svg\" alt=\"Open In Colab\"/></a>"
      ]
    },
    {
      "cell_type": "markdown",
      "metadata": {
        "id": "rEJBSTyZIrIb"
      },
      "source": [
        "# Pretraining Seq2Seq with MarianMT and HuggingFace"
      ]
    },
    {
      "cell_type": "code",
      "metadata": {
        "colab": {
          "base_uri": "https://localhost:8080/"
        },
        "id": "pJHLVMb2Tkj2",
        "outputId": "d15a05fb-66d0-4149-dfab-6336a3ccbf31"
      },
      "source": [
        "!pip -q install datasets transformers==4.6.0 sentencepiece pythainlp\n",
        "#install sacrebleu with thai\n",
        "!pip uninstall -q sacrebleu\n",
        "!pip install -q git+https://github.com/cstorm125/sacrebleu.git@add_thai_tokenizer"
      ],
      "execution_count": 1,
      "outputs": [
        {
          "output_type": "stream",
          "text": [
            "\u001b[K     |████████████████████████████████| 245kB 12.5MB/s \n",
            "\u001b[K     |████████████████████████████████| 2.3MB 21.9MB/s \n",
            "\u001b[K     |████████████████████████████████| 1.2MB 36.3MB/s \n",
            "\u001b[K     |████████████████████████████████| 11.0MB 37.1MB/s \n",
            "\u001b[K     |████████████████████████████████| 122kB 41.5MB/s \n",
            "\u001b[K     |████████████████████████████████| 245kB 37.6MB/s \n",
            "\u001b[K     |████████████████████████████████| 3.3MB 33.7MB/s \n",
            "\u001b[K     |████████████████████████████████| 901kB 34.0MB/s \n",
            "\u001b[K     |████████████████████████████████| 747kB 32.0MB/s \n",
            "\u001b[31mERROR: transformers 4.6.0 has requirement huggingface-hub==0.0.8, but you'll have huggingface-hub 0.0.10 which is incompatible.\u001b[0m\n",
            "\u001b[?25h\u001b[33mWARNING: Skipping sacrebleu as it is not installed.\u001b[0m\n",
            "  Building wheel for sacrebleu (setup.py) ... \u001b[?25l\u001b[?25hdone\n"
          ],
          "name": "stdout"
        }
      ]
    },
    {
      "cell_type": "code",
      "metadata": {
        "colab": {
          "base_uri": "https://localhost:8080/",
          "height": 35
        },
        "id": "up1ut6SZTkj3",
        "outputId": "49a78c7d-6c69-424b-954c-845f3a4d0aa0"
      },
      "source": [
        "import transformers\n",
        "transformers.__version__"
      ],
      "execution_count": 3,
      "outputs": [
        {
          "output_type": "execute_result",
          "data": {
            "application/vnd.google.colaboratory.intrinsic+json": {
              "type": "string"
            },
            "text/plain": [
              "'4.6.0'"
            ]
          },
          "metadata": {
            "tags": []
          },
          "execution_count": 3
        }
      ]
    },
    {
      "cell_type": "markdown",
      "metadata": {
        "id": "4RRkXuteIrIh"
      },
      "source": [
        "This notebook details how to pretrain a seq2seq model with `MarianMT` model using HuggingFace. In this example, we will train a `zh_cn` to `th` machine translation model using `open_subtitles` data. We refer to [`Helsinki-NLP/opus-mt-en-ro`](https://huggingface.co/Helsinki-NLP/opus-mt-en-ro) checkpoint as basis for our pretraining. The notebook is adapted from [Transformers Notebooks](https://github.com/huggingface/notebooks/blob/master/examples/translation.ipynb)."
      ]
    },
    {
      "cell_type": "markdown",
      "metadata": {
        "id": "whPRbBNbIrIl"
      },
      "source": [
        "## Loading the dataset"
      ]
    },
    {
      "cell_type": "markdown",
      "metadata": {
        "id": "W7QYTpxXIrIl"
      },
      "source": [
        "We will use the [🤗 Datasets](https://github.com/huggingface/datasets) library to download the data and get the metric we need to use for evaluation (to compare our model to the benchmark). This can be easily done with the functions `load_dataset` and `load_metric`. We use the `zh_cn`/`th` part of the `open_subtitles` dataset."
      ]
    },
    {
      "cell_type": "code",
      "metadata": {
        "id": "IreSlFmlIrIm"
      },
      "source": [
        "from datasets import load_dataset, load_metric, Dataset, DatasetDict\n",
        "\n",
        "metric = load_metric(\"sacrebleu\")"
      ],
      "execution_count": 38,
      "outputs": []
    },
    {
      "cell_type": "code",
      "metadata": {
        "colab": {
          "base_uri": "https://localhost:8080/",
          "height": 204
        },
        "id": "rpu8-xkEXG4I",
        "outputId": "e6998783-4dc9-4b81-cca0-6162ab8896f3"
      },
      "source": [
        "import pandas as pd\n",
        "\n",
        "#load data from csv\n",
        "df = pd.read_csv('zhth_sample.csv')\n",
        "df.tail()"
      ],
      "execution_count": 6,
      "outputs": [
        {
          "output_type": "execute_result",
          "data": {
            "text/html": [
              "<div>\n",
              "<style scoped>\n",
              "    .dataframe tbody tr th:only-of-type {\n",
              "        vertical-align: middle;\n",
              "    }\n",
              "\n",
              "    .dataframe tbody tr th {\n",
              "        vertical-align: top;\n",
              "    }\n",
              "\n",
              "    .dataframe thead th {\n",
              "        text-align: right;\n",
              "    }\n",
              "</style>\n",
              "<table border=\"1\" class=\"dataframe\">\n",
              "  <thead>\n",
              "    <tr style=\"text-align: right;\">\n",
              "      <th></th>\n",
              "      <th>zh</th>\n",
              "      <th>th</th>\n",
              "    </tr>\n",
              "  </thead>\n",
              "  <tbody>\n",
              "    <tr>\n",
              "      <th>9995</th>\n",
              "      <td>- 非常感谢你，玛莎。</td>\n",
              "      <td>- ขอบคุณมาก มาร์ธา</td>\n",
              "    </tr>\n",
              "    <tr>\n",
              "      <th>9996</th>\n",
              "      <td>- 非常感谢你。 - Ludo得到兄弟。</td>\n",
              "      <td>- ขอบคุณมาก ลูโดมีพี่ชาย</td>\n",
              "    </tr>\n",
              "    <tr>\n",
              "      <th>9997</th>\n",
              "      <td>- 谢谢，马克斯。</td>\n",
              "      <td>- ขอบคุณมาก แม็กซ์</td>\n",
              "    </tr>\n",
              "    <tr>\n",
              "      <th>9998</th>\n",
              "      <td>- 谢谢，兰迪。</td>\n",
              "      <td>- ขอบคุณมาก แรนดี้</td>\n",
              "    </tr>\n",
              "    <tr>\n",
              "      <th>9999</th>\n",
              "      <td>- 非常感谢你，伙计。</td>\n",
              "      <td>- ขอบคุณมาก ๆ เพื่อนยาก</td>\n",
              "    </tr>\n",
              "  </tbody>\n",
              "</table>\n",
              "</div>"
            ],
            "text/plain": [
              "                        zh                        th\n",
              "9995           - 非常感谢你，玛莎。        - ขอบคุณมาก มาร์ธา\n",
              "9996  - 非常感谢你。 - Ludo得到兄弟。  - ขอบคุณมาก ลูโดมีพี่ชาย\n",
              "9997             - 谢谢，马克斯。        - ขอบคุณมาก แม็กซ์\n",
              "9998              - 谢谢，兰迪。        - ขอบคุณมาก แรนดี้\n",
              "9999           - 非常感谢你，伙计。   - ขอบคุณมาก ๆ เพื่อนยาก"
            ]
          },
          "metadata": {
            "tags": []
          },
          "execution_count": 6
        }
      ]
    },
    {
      "cell_type": "code",
      "metadata": {
        "id": "RUadZwO-Xpvr"
      },
      "source": [
        "#convert to dictionary\n",
        "j = {'translation':[]}\n",
        "for i in df.itertuples():\n",
        "    j['translation'] += [{'zh_cn':i[1], 'th':i[2]}]"
      ],
      "execution_count": 60,
      "outputs": []
    },
    {
      "cell_type": "code",
      "metadata": {
        "colab": {
          "base_uri": "https://localhost:8080/"
        },
        "id": "qwxqC2q6ZIoz",
        "outputId": "2424f08a-6fa5-4c73-961b-6db0e0f9b960"
      },
      "source": [
        "#load into dataset\n",
        "train_dataset = Dataset.from_dict(j)\n",
        "raw_datasets = train_dataset.train_test_split(test_size=0.1, seed=42)\n",
        "raw_datasets"
      ],
      "execution_count": 61,
      "outputs": [
        {
          "output_type": "execute_result",
          "data": {
            "text/plain": [
              "DatasetDict({\n",
              "    train: Dataset({\n",
              "        features: ['translation'],\n",
              "        num_rows: 9000\n",
              "    })\n",
              "    test: Dataset({\n",
              "        features: ['translation'],\n",
              "        num_rows: 1000\n",
              "    })\n",
              "})"
            ]
          },
          "metadata": {
            "tags": []
          },
          "execution_count": 61
        }
      ]
    },
    {
      "cell_type": "markdown",
      "metadata": {
        "id": "u3EtYfeHIrIz"
      },
      "source": [
        "To access an actual element, you need to select a split first, then give an index:"
      ]
    },
    {
      "cell_type": "code",
      "metadata": {
        "colab": {
          "base_uri": "https://localhost:8080/"
        },
        "id": "X6HrpprwIrIz",
        "outputId": "fe341308-f0d7-4963-f915-085f7816c6c2"
      },
      "source": [
        "raw_datasets[\"train\"][0]"
      ],
      "execution_count": 62,
      "outputs": [
        {
          "output_type": "execute_result",
          "data": {
            "text/plain": [
              "{'translation': {'th': '\"ผมอยู่ในหลุม, Bertie ฉันต้องการคําแนะนําของคุณ.\"',\n",
              "  'zh_cn': '“我在一个洞里，伯蒂。我需要你的建议。”'}}"
            ]
          },
          "metadata": {
            "tags": []
          },
          "execution_count": 62
        }
      ]
    },
    {
      "cell_type": "markdown",
      "metadata": {
        "id": "WHUmphG3IrI3"
      },
      "source": [
        "To get a sense of what the data looks like, the following function will show some examples picked randomly in the dataset."
      ]
    },
    {
      "cell_type": "code",
      "metadata": {
        "id": "i3j8APAoIrI3"
      },
      "source": [
        "import datasets\n",
        "import random\n",
        "import pandas as pd\n",
        "from IPython.display import display, HTML\n",
        "\n",
        "def show_random_elements(dataset, num_examples=5):\n",
        "    assert num_examples <= len(dataset), \"Can't pick more elements than there are in the dataset.\"\n",
        "    picks = []\n",
        "    for _ in range(num_examples):\n",
        "        pick = random.randint(0, len(dataset)-1)\n",
        "        while pick in picks:\n",
        "            pick = random.randint(0, len(dataset)-1)\n",
        "        picks.append(pick)\n",
        "    \n",
        "    df = pd.DataFrame(dataset[picks]['translation'])\n",
        "    for column, typ in dataset.features.items():\n",
        "        if isinstance(typ, datasets.ClassLabel):\n",
        "            df[column] = df[column].transform(lambda i: typ.names[i])\n",
        "    display(HTML(df.to_html()))"
      ],
      "execution_count": 63,
      "outputs": []
    },
    {
      "cell_type": "code",
      "metadata": {
        "colab": {
          "base_uri": "https://localhost:8080/",
          "height": 238
        },
        "id": "SZy5tRB_IrI7",
        "outputId": "046010b6-4106-42f8-a5fa-547f98931b1a"
      },
      "source": [
        "show_random_elements(raw_datasets[\"train\"])"
      ],
      "execution_count": 64,
      "outputs": [
        {
          "output_type": "display_data",
          "data": {
            "text/html": [
              "<table border=\"1\" class=\"dataframe\">\n",
              "  <thead>\n",
              "    <tr style=\"text-align: right;\">\n",
              "      <th></th>\n",
              "      <th>th</th>\n",
              "      <th>zh_cn</th>\n",
              "    </tr>\n",
              "  </thead>\n",
              "  <tbody>\n",
              "    <tr>\n",
              "      <th>0</th>\n",
              "      <td>- กษัตริย์มีเรื่องให้คิดมากมาย ข้าเข้าใจ</td>\n",
              "      <td>- 国王有很多心事。 - 我明白。</td>\n",
              "    </tr>\n",
              "    <tr>\n",
              "      <th>1</th>\n",
              "      <td>\"หลังจากที่ธนาคารกลางของเราถูกโจมตี สวิฟต์ได้ดําเนินการมาตรการหลายอย่างเพื่อปกป้องระบบทั่วโลก แต่เหตุการณ์เช่นนี้ยังคงเกิดขึ้น นั่นหมายความว่าอาชญากรมีความสามารถเพิ่มขึ้นและมีอาวุธที่มีประสิทธิภาพสูงขึ้น\" นายอาบู เฮนา โมฮัมหมัด ราซี ฮัสซาน รองผู้ว่าการธนาคารบังกลาเทศกล่าวต่อรอยเตอร์ \"นี่คือเวลาที่เราต้องปรับปรุงระบบโอนเงินทั่วโลกเพิ่มขึ้น\"</td>\n",
              "      <td>“在我们的中央银行遭到袭击后，SWIFT 采取了多项措施在全球范围内保护该系统，但这种情况正在发生，这意味着犯罪分子拥有更多的能力和更有能力的武器，”Abu Hena Mohd。孟加拉国银行副行长 Razee Hassan 告诉路透社。 “因此，现在是进一步完善全球金融转移体系的时候了。”</td>\n",
              "    </tr>\n",
              "    <tr>\n",
              "      <th>2</th>\n",
              "      <td>\"ซึ่งก็คือทุกสิ่ง\"</td>\n",
              "      <td>“这就是一切。”</td>\n",
              "    </tr>\n",
              "    <tr>\n",
              "      <th>3</th>\n",
              "      <td>\"คดีนี้เป็นความท้าทายทางจิตใจและทําให้อ่อนล้าทางอารมณ์\" หัวหน้าคนงาน Jim Wolfcale ศาสนาจารย์วัย 41 ปีกล่าว</td>\n",
              "      <td>41 岁的部长吉姆·沃尔夫卡勒 (Jim Wolfcale) 说：“这起案件在精神上既充满挑战，又令人精神疲惫。”</td>\n",
              "    </tr>\n",
              "    <tr>\n",
              "      <th>4</th>\n",
              "      <td>- Hey, ดีที่ได้พบคุณ หวัดดี</td>\n",
              "      <td>- 嘿，很高兴认识你。 - 你好。</td>\n",
              "    </tr>\n",
              "  </tbody>\n",
              "</table>"
            ],
            "text/plain": [
              "<IPython.core.display.HTML object>"
            ]
          },
          "metadata": {
            "tags": []
          }
        }
      ]
    },
    {
      "cell_type": "markdown",
      "metadata": {
        "id": "lnjDIuQ3IrI-"
      },
      "source": [
        "The metric is an instance of [`datasets.Metric`](https://huggingface.co/docs/datasets/package_reference/main_classes.html#datasets.Metric):"
      ]
    },
    {
      "cell_type": "code",
      "metadata": {
        "colab": {
          "base_uri": "https://localhost:8080/"
        },
        "id": "5o4rUteaIrI_",
        "outputId": "e1733bff-ffa0-443a-d2a9-6a9f054cf611"
      },
      "source": [
        "metric"
      ],
      "execution_count": 65,
      "outputs": [
        {
          "output_type": "execute_result",
          "data": {
            "text/plain": [
              "Metric(name: \"sacrebleu\", features: {'predictions': Value(dtype='string', id='sequence'), 'references': Sequence(feature=Value(dtype='string', id='sequence'), length=-1, id='references')}, usage: \"\"\"\n",
              "Produces BLEU scores along with its sufficient statistics\n",
              "from a source against one or more references.\n",
              "\n",
              "Args:\n",
              "    predictions: The system stream (a sequence of segments)\n",
              "    references: A list of one or more reference streams (each a sequence of segments)\n",
              "    smooth: The smoothing method to use\n",
              "    smooth_value: For 'floor' smoothing, the floor to use\n",
              "    force: Ignore data that looks already tokenized\n",
              "    lowercase: Lowercase the data\n",
              "    tokenize: The tokenizer to use\n",
              "Returns:\n",
              "    'score': BLEU score,\n",
              "    'counts': Counts,\n",
              "    'totals': Totals,\n",
              "    'precisions': Precisions,\n",
              "    'bp': Brevity penalty,\n",
              "    'sys_len': predictions length,\n",
              "    'ref_len': reference length,\n",
              "Examples:\n",
              "\n",
              "    >>> predictions = [\"hello there general kenobi\", \"foo bar foobar\"]\n",
              "    >>> references = [[\"hello there general kenobi\", \"hello there !\"], [\"foo bar foobar\", \"foo bar foobar\"]]\n",
              "    >>> sacrebleu = datasets.load_metric(\"sacrebleu\")\n",
              "    >>> results = sacrebleu.compute(predictions=predictions, references=references)\n",
              "    >>> print(list(results.keys()))\n",
              "    ['score', 'counts', 'totals', 'precisions', 'bp', 'sys_len', 'ref_len']\n",
              "    >>> print(round(results[\"score\"], 1))\n",
              "    100.0\n",
              "\"\"\", stored examples: 0)"
            ]
          },
          "metadata": {
            "tags": []
          },
          "execution_count": 65
        }
      ]
    },
    {
      "cell_type": "markdown",
      "metadata": {
        "id": "jAWdqcUBIrJC"
      },
      "source": [
        "You can call its `compute` method with your predictions and labels, which need to be list of decoded strings (list of list for the labels):"
      ]
    },
    {
      "cell_type": "code",
      "metadata": {
        "colab": {
          "base_uri": "https://localhost:8080/"
        },
        "id": "6XN1Rq0aIrJC",
        "outputId": "7757566c-da6a-4b32-e120-481ea0be171b"
      },
      "source": [
        "fake_preds = [\"hello there general kenobi\"]\n",
        "fake_labels = [[\"hello there general kenobi\"]]\n",
        "metric.compute(predictions=fake_preds, references=fake_labels)"
      ],
      "execution_count": 66,
      "outputs": [
        {
          "output_type": "execute_result",
          "data": {
            "text/plain": [
              "{'bp': 1.0,\n",
              " 'counts': [4, 3, 2, 1],\n",
              " 'precisions': [100.0, 100.0, 100.0, 100.0],\n",
              " 'ref_len': 4,\n",
              " 'score': 100.00000000000004,\n",
              " 'sys_len': 4,\n",
              " 'totals': [4, 3, 2, 1]}"
            ]
          },
          "metadata": {
            "tags": []
          },
          "execution_count": 66
        }
      ]
    },
    {
      "cell_type": "markdown",
      "metadata": {
        "id": "4iUsPbS4TkkG"
      },
      "source": [
        "## Train Tokenizer with `sentencepiece`"
      ]
    },
    {
      "cell_type": "markdown",
      "metadata": {
        "id": "J4C8vRYnTkkH"
      },
      "source": [
        "`MarianMT` requires 2 `sentencepiece` tokenizers for `source.spm` and `target.spm` languages. We will use the same tokenizer trained on both languages for this."
      ]
    },
    {
      "cell_type": "markdown",
      "metadata": {
        "id": "v8e49MrFTkkH"
      },
      "source": [
        "Save training set to text files for tokenizer training."
      ]
    },
    {
      "cell_type": "code",
      "metadata": {
        "id": "5RAyYaV4TkkI"
      },
      "source": [
        "train_df = pd.DataFrame(raw_datasets['train']['translation'])"
      ],
      "execution_count": 67,
      "outputs": []
    },
    {
      "cell_type": "code",
      "metadata": {
        "id": "SipP3BGdTkkI"
      },
      "source": [
        "# #zh_cn\n",
        "# train_df['zh_cn'].to_csv('zh_cn_tokenizer_train.txt',header=None,index=None)\n",
        "\n",
        "# #th\n",
        "# train_df['th'].to_csv('th_tokenizer_train.txt',header=None,index=None)\n",
        "\n",
        "#both languages\n",
        "train_df.to_csv('zh_cn_th_tokenizer_train.txt',header=None, index=None, sep='\\n')"
      ],
      "execution_count": 68,
      "outputs": []
    },
    {
      "cell_type": "code",
      "metadata": {
        "id": "YdtX_8elTkkI"
      },
      "source": [
        "import sentencepiece as spm\n",
        "\n",
        "vocab_size = 32000 #choose what you want\n",
        "user_defined_symbols = '<pad>'\n",
        "vocab_special_size = vocab_size + len(user_defined_symbols)\n",
        "\n",
        "#train tokenizer\n",
        "def train_spm_tokenizer(train_fname, \n",
        "                        model_prefix,\n",
        "                        vocab_special_size,\n",
        "                        model_dir,\n",
        "                        character_coverage=0.9995,\n",
        "                        max_sentencepiece_length=16,\n",
        "                        add_dummy_prefix='false',\n",
        "                        model_type='unigram',\n",
        "                        user_defined_symbols='<pad>'):\n",
        "    sp = spm.SentencePieceProcessor()\n",
        "    spm.SentencePieceTrainer.train((f'--input={train_fname} '\n",
        "                                   f'--model_prefix={model_prefix} '\n",
        "                                   f'--vocab_size={vocab_special_size} '\n",
        "                                   f'--character_coverage={character_coverage} '\n",
        "                                   f'--max_sentencepiece_length={max_sentencepiece_length} '\n",
        "                                   f'--add_dummy_prefix={add_dummy_prefix} '\n",
        "                                   f'--model_type={model_type} '\n",
        "                                   f'--user_defined_symbols={user_defined_symbols}'))\n",
        "    !mkdir $model_dir; mv $model_prefix* $model_dir"
      ],
      "execution_count": 69,
      "outputs": []
    },
    {
      "cell_type": "code",
      "metadata": {
        "id": "J3R5VY-sTkkJ"
      },
      "source": [
        "# #train zh_cn spm\n",
        "# train_spm_tokenizer(train_fname='zh_cn_tokenizer_train.txt',\n",
        "#                     model_prefix='source',\n",
        "#                     vocab_special_size=16000+1, #+1 for <pad>\n",
        "#                     model_dir='marian-mt-zh_cn-th'\n",
        "#                    ) \n",
        "\n",
        "# #train th spm\n",
        "# train_spm_tokenizer(train_fname='th_tokenizer_train.txt',\n",
        "#                     model_prefix='target',\n",
        "#                     vocab_special_size=16000+1, #+1 for <pad>\n",
        "#                     model_dir='marian-mt-zh_cn-th'\n",
        "#                    ) \n",
        "\n",
        "#train both spm\n",
        "train_spm_tokenizer(train_fname='zh_cn_th_tokenizer_train.txt',\n",
        "                    model_prefix='both',\n",
        "                    vocab_special_size=16000+1, #+1 for <pad>\n",
        "                    model_dir='marian-mt-zh_cn-th'\n",
        "                   ) \n",
        "\n",
        "#copy both.model to source.spm and target.spm for marianmt tokenizer\n",
        "!cp marian-mt-zh_cn-th/both.model marian-mt-zh_cn-th/source.spm\n",
        "!cp marian-mt-zh_cn-th/both.model marian-mt-zh_cn-th/target.spm"
      ],
      "execution_count": 70,
      "outputs": []
    },
    {
      "cell_type": "code",
      "metadata": {
        "colab": {
          "base_uri": "https://localhost:8080/"
        },
        "id": "Iv-hYpBrTkkJ",
        "outputId": "f8ebafd8-9286-41cd-a475-221d93844c37"
      },
      "source": [
        "#load tokenizer\n",
        "sp = spm.SentencePieceProcessor()\n",
        "sp.load('marian-mt-zh_cn-th/both.model')"
      ],
      "execution_count": 71,
      "outputs": [
        {
          "output_type": "execute_result",
          "data": {
            "text/plain": [
              "True"
            ]
          },
          "metadata": {
            "tags": []
          },
          "execution_count": 71
        }
      ]
    },
    {
      "cell_type": "code",
      "metadata": {
        "colab": {
          "base_uri": "https://localhost:8080/"
        },
        "id": "uF5ASFuBTkkK",
        "outputId": "0032fbb1-4743-4256-9e56-4072e280269c"
      },
      "source": [
        "sp.encode_as_pieces('和别人一起来吗? สวัสดีครับพี่น้อง')"
      ],
      "execution_count": 72,
      "outputs": [
        {
          "output_type": "execute_result",
          "data": {
            "text/plain": [
              "['和', '别人', '一起', '来', '吗', '?', '▁', 'สวัสดี', 'ครับ', 'พี่น้อง']"
            ]
          },
          "metadata": {
            "tags": []
          },
          "execution_count": 72
        }
      ]
    },
    {
      "cell_type": "markdown",
      "metadata": {
        "id": "THnJCmQkTkkL"
      },
      "source": [
        "`MarianMT` also requires `vocab.json` with all vocab."
      ]
    },
    {
      "cell_type": "code",
      "metadata": {
        "id": "sRxK8y7KTkkL"
      },
      "source": [
        "import json\n",
        "\n",
        "#read vocab\n",
        "with open('marian-mt-zh_cn-th/both.vocab','r') as f:\n",
        "    vocab_lines = f.readlines()\n",
        "vocab_lines[:10]\n",
        "vocab_dict = {j.split('\\t')[0]:i for i,j in enumerate(vocab_lines)}"
      ],
      "execution_count": 73,
      "outputs": []
    },
    {
      "cell_type": "code",
      "metadata": {
        "id": "t6eXgPE9TkkM"
      },
      "source": [
        "#save vocab\n",
        "with open('marian-mt-zh_cn-th/vocab.json','w') as f:\n",
        "    json.dump(vocab_dict,f)"
      ],
      "execution_count": 74,
      "outputs": []
    },
    {
      "cell_type": "markdown",
      "metadata": {
        "id": "n9qywopnIrJH"
      },
      "source": [
        "## Preprocessing the data"
      ]
    },
    {
      "cell_type": "markdown",
      "metadata": {
        "id": "HfCnTTcmTkkM"
      },
      "source": [
        "Once we have trained the `sentencepiece` tokenizer and all the necessary preparations, we can load the tokenizer as follows."
      ]
    },
    {
      "cell_type": "code",
      "metadata": {
        "id": "gNodrh4MTkkM"
      },
      "source": [
        "from transformers import MarianTokenizer\n",
        "tokenizer = MarianTokenizer.from_pretrained('marian-mt-zh_cn-th')"
      ],
      "execution_count": 75,
      "outputs": []
    },
    {
      "cell_type": "markdown",
      "metadata": {
        "id": "rowT4iCLIrJK"
      },
      "source": [
        "You can directly call this tokenizer on one sentence or a pair of sentences:"
      ]
    },
    {
      "cell_type": "code",
      "metadata": {
        "colab": {
          "base_uri": "https://localhost:8080/"
        },
        "id": "a5hBlsrHIrJL",
        "outputId": "b49ac3f5-f134-4063-9281-9258220427dd"
      },
      "source": [
        "tokenizer(\"สวัสดีครับ นี่ประโยคเดียว\")"
      ],
      "execution_count": 76,
      "outputs": [
        {
          "output_type": "execute_result",
          "data": {
            "text/plain": [
              "{'input_ids': [5403, 409, 1856, 1011, 5658, 190, 760, 2], 'attention_mask': [1, 1, 1, 1, 1, 1, 1, 1]}"
            ]
          },
          "metadata": {
            "tags": []
          },
          "execution_count": 76
        }
      ]
    },
    {
      "cell_type": "code",
      "metadata": {
        "colab": {
          "base_uri": "https://localhost:8080/",
          "height": 35
        },
        "id": "AG9c1Z2NTkkO",
        "outputId": "22c60ebe-0e2b-448c-8dd8-2c24c3660b55"
      },
      "source": [
        "tokenizer.decode(tokenizer(\"สวัสดีครับ นี่ประโยคเดียว\").input_ids)"
      ],
      "execution_count": 77,
      "outputs": [
        {
          "output_type": "execute_result",
          "data": {
            "application/vnd.google.colaboratory.intrinsic+json": {
              "type": "string"
            },
            "text/plain": [
              "'สวัสดีครับ นี่ประโยคเดียว'"
            ]
          },
          "metadata": {
            "tags": []
          },
          "execution_count": 77
        }
      ]
    },
    {
      "cell_type": "markdown",
      "metadata": {
        "id": "qo_0B1M2IrJM"
      },
      "source": [
        "Depending on the model you selected, you will see different keys in the dictionary returned by the cell above. They don't matter much for what we're doing here (just know they are required by the model we will instantiate later), you can learn more about them in [this tutorial](https://huggingface.co/transformers/preprocessing.html) if you're interested.\n",
        "\n",
        "Instead of one sentence, we can pass along a list of sentences:"
      ]
    },
    {
      "cell_type": "code",
      "metadata": {
        "colab": {
          "base_uri": "https://localhost:8080/"
        },
        "id": "zSphcukK0RWC",
        "outputId": "86a41356-580e-4907-d1bb-6def8ed89e07"
      },
      "source": [
        "tokenizer([\"สวัสดีครับพี่น้อง\", \"你好兄弟\"])"
      ],
      "execution_count": 78,
      "outputs": [
        {
          "output_type": "execute_result",
          "data": {
            "text/plain": [
              "{'input_ids': [[5403, 409, 6081, 2], [2620, 4060, 2]], 'attention_mask': [[1, 1, 1, 1], [1, 1, 1]]}"
            ]
          },
          "metadata": {
            "tags": []
          },
          "execution_count": 78
        }
      ]
    },
    {
      "cell_type": "markdown",
      "metadata": {
        "id": "CBgu8aSC0RWD"
      },
      "source": [
        "To prepare the targets for our model, we need to tokenize them inside the `as_target_tokenizer` context manager. This will make sure the tokenizer uses the special tokens corresponding to the targets:"
      ]
    },
    {
      "cell_type": "code",
      "metadata": {
        "colab": {
          "base_uri": "https://localhost:8080/"
        },
        "id": "e2V0NAmg0RWD",
        "outputId": "c66213f2-a2c9-49ee-cdc8-f6ddfd4284ba"
      },
      "source": [
        "with tokenizer.as_target_tokenizer():\n",
        "    print(tokenizer([\"สวัสดีครับพี่น้อง\", \"你好兄弟\"]))"
      ],
      "execution_count": 79,
      "outputs": [
        {
          "output_type": "stream",
          "text": [
            "{'input_ids': [[5403, 409, 6081, 2], [2620, 4060, 2]], 'attention_mask': [[1, 1, 1, 1], [1, 1, 1]]}\n"
          ],
          "name": "stdout"
        }
      ]
    },
    {
      "cell_type": "markdown",
      "metadata": {
        "id": "cU0EBRlT0RWG"
      },
      "source": [
        "We can then write the function that will preprocess our samples. We just feed them to the `tokenizer` with the argument `truncation=True`. This will ensure that an input longer that what the model selected can handle will be truncated to the maximum length accepted by the model. The padding will be dealt with later on (in a data collator) so we pad examples to the longest length in the batch and not the whole dataset."
      ]
    },
    {
      "cell_type": "code",
      "metadata": {
        "id": "vc0BSBLIIrJQ"
      },
      "source": [
        "max_input_length = 128\n",
        "max_target_length = 128\n",
        "source_lang = \"zh_cn\"\n",
        "target_lang = \"th\"\n",
        "\n",
        "def preprocess_function(examples, tokenizer, prefix=''):\n",
        "    inputs = [prefix + ex[source_lang] for ex in examples[\"translation\"]]\n",
        "    targets = [ex[target_lang] for ex in examples[\"translation\"]]\n",
        "    model_inputs = tokenizer(inputs, max_length=max_input_length, truncation=True)\n",
        "\n",
        "    # Setup the tokenizer for targets\n",
        "    with tokenizer.as_target_tokenizer():\n",
        "        labels = tokenizer(targets, max_length=max_target_length, truncation=True)\n",
        "\n",
        "    model_inputs[\"labels\"] = labels[\"input_ids\"]\n",
        "    return model_inputs"
      ],
      "execution_count": 80,
      "outputs": []
    },
    {
      "cell_type": "markdown",
      "metadata": {
        "id": "0lm8ozrJIrJR"
      },
      "source": [
        "This function works with one or several examples. In the case of several examples, the tokenizer will return a list of lists for each key:"
      ]
    },
    {
      "cell_type": "code",
      "metadata": {
        "colab": {
          "base_uri": "https://localhost:8080/"
        },
        "id": "-b70jh26IrJS",
        "outputId": "a28cd570-0f18-4642-ba44-bd4261002f3f"
      },
      "source": [
        "preprocess_function(raw_datasets['train'][:2], tokenizer)"
      ],
      "execution_count": 81,
      "outputs": [
        {
          "output_type": "execute_result",
          "data": {
            "text/plain": [
              "{'input_ids': [[7, 724, 122, 3121, 171, 6, 11095, 8, 8502, 5897, 12, 2], [14, 4, 6427, 4, 960, 307, 6, 1058, 100, 2]], 'attention_mask': [[1, 1, 1, 1, 1, 1, 1, 1, 1, 1, 1, 1], [1, 1, 1, 1, 1, 1, 1, 1, 1, 1]], 'labels': [[11, 67, 244, 4442, 6, 10457, 4, 1049, 3062, 172, 1377, 2], [14, 307, 916, 4, 6427, 469, 52, 2]]}"
            ]
          },
          "metadata": {
            "tags": []
          },
          "execution_count": 81
        }
      ]
    },
    {
      "cell_type": "markdown",
      "metadata": {
        "id": "zS-6iXTkIrJT"
      },
      "source": [
        "To apply this function on all the pairs of sentences in our dataset, we just use the `map` method of our `dataset` object we created earlier. This will apply the function on all the elements of all the splits in `dataset`, so our training, validation and testing data will be preprocessed in one single command."
      ]
    },
    {
      "cell_type": "code",
      "metadata": {
        "colab": {
          "base_uri": "https://localhost:8080/",
          "height": 115,
          "referenced_widgets": [
            "5a84a038e8984a918cf57c1dd341d1e6",
            "b9ddacae92bc42259d05b87dfaf416a3",
            "5d0093b629254596a3689aff7da178e4",
            "dd2c0353f26a49568df2315a20c5d2ed",
            "506cbad6ef8246c9a62b2ca179ad5596",
            "c0bde5db02024727aae4032273c4b073",
            "3b70fe99f487492f9b5e61db6dd6aee9",
            "459630dea34b44ff999d746b2b456f6d",
            "e8cd66a7c0d3415fbf733ed8d8a19ae6",
            "2bf5e74c85184db58bee9e68a35d1118",
            "068b899731154f54ba430ed7b9897cad",
            "ff7a31a51e1b4ebe942fdf38630daf84",
            "cb8a5d06528d4d0098cb69ca14a165e7",
            "80c05f8dd2624632b6d7a73bd9b6056e",
            "a7022017c9a64c068c4ccc2151eda0f3",
            "11595089ef894a8bb6291d34dc6ba1a4"
          ]
        },
        "id": "DDtsaJeVIrJT",
        "outputId": "30fa14b7-0443-4440-8105-718dc6dddb83"
      },
      "source": [
        "from functools import partial\n",
        "\n",
        "tokenized_datasets = raw_datasets.map(partial(preprocess_function, tokenizer=tokenizer), \n",
        "                                      batched=True,)"
      ],
      "execution_count": 82,
      "outputs": [
        {
          "output_type": "display_data",
          "data": {
            "application/vnd.jupyter.widget-view+json": {
              "model_id": "5a84a038e8984a918cf57c1dd341d1e6",
              "version_minor": 0,
              "version_major": 2
            },
            "text/plain": [
              "HBox(children=(FloatProgress(value=0.0, max=9.0), HTML(value='')))"
            ]
          },
          "metadata": {
            "tags": []
          }
        },
        {
          "output_type": "stream",
          "text": [
            "\n"
          ],
          "name": "stdout"
        },
        {
          "output_type": "display_data",
          "data": {
            "application/vnd.jupyter.widget-view+json": {
              "model_id": "e8cd66a7c0d3415fbf733ed8d8a19ae6",
              "version_minor": 0,
              "version_major": 2
            },
            "text/plain": [
              "HBox(children=(FloatProgress(value=0.0, max=1.0), HTML(value='')))"
            ]
          },
          "metadata": {
            "tags": []
          }
        },
        {
          "output_type": "stream",
          "text": [
            "\n"
          ],
          "name": "stdout"
        }
      ]
    },
    {
      "cell_type": "markdown",
      "metadata": {
        "id": "voWiw8C7IrJV"
      },
      "source": [
        "Even better, the results are automatically cached by the 🤗 Datasets library to avoid spending time on this step the next time you run your notebook. The 🤗 Datasets library is normally smart enough to detect when the function you pass to map has changed (and thus requires to not use the cache data). For instance, it will properly detect if you change the task in the first cell and rerun the notebook. 🤗 Datasets warns you when it uses cached files, you can pass `load_from_cache_file=False` in the call to `map` to not use the cached files and force the preprocessing to be applied again.\n",
        "\n",
        "Note that we passed `batched=True` to encode the texts by batches together. This is to leverage the full benefit of the fast tokenizer we loaded earlier, which will use multi-threading to treat the texts in a batch concurrently."
      ]
    },
    {
      "cell_type": "markdown",
      "metadata": {
        "id": "545PP3o8IrJV"
      },
      "source": [
        "## Pretraining the Model"
      ]
    },
    {
      "cell_type": "markdown",
      "metadata": {
        "id": "hw7Gain3TkkX"
      },
      "source": [
        "In order to be able to pretrain the model from scratch we copy the `config.json` from [`Helsinki-NLP/opus-mt-en-ro`](https://huggingface.co/Helsinki-NLP/opus-mt-en-ro) and modify it as follows to save in `marian-mt-zh_cn-th`. The only parts you might need to change are:\n",
        "```\n",
        "  \"bos_token_id\": 1,\n",
        "  \"eos_token_id\": 2,\n",
        "  \"pad_token_id\": 3,\n",
        "  \"unk_token_id\": 0,\n",
        "  \"decoder_start_token_id\": 3,\n",
        "  \"vocab_size\": 16001,\n",
        " ```"
      ]
    },
    {
      "cell_type": "raw",
      "metadata": {
        "id": "UbFJiwdYTkkY"
      },
      "source": [
        "{\n",
        "  \"_num_labels\": 3,\n",
        "  \"activation_dropout\": 0.0,\n",
        "  \"activation_function\": \"swish\",\n",
        "  \"add_bias_logits\": false,\n",
        "  \"add_final_layer_norm\": false,\n",
        "  \"architectures\": [\n",
        "    \"MarianMTModel\"\n",
        "  ],\n",
        "  \"attention_dropout\": 0.0,\n",
        "  \"bad_words_ids\": [\n",
        "    [\n",
        "      3\n",
        "    ]\n",
        "  ],\n",
        "  \"bos_token_id\": 1,\n",
        "  \"eos_token_id\": 2,\n",
        "  \"pad_token_id\": 3,\n",
        "  \"unk_token_id\": 0,\n",
        "  \"decoder_start_token_id\": 3,\n",
        "  \"vocab_size\": 16001,\n",
        "  \"classif_dropout\": 0.0,\n",
        "  \"d_model\": 512,\n",
        "  \"decoder_attention_heads\": 8,\n",
        "  \"decoder_ffn_dim\": 2048,\n",
        "  \"decoder_layerdrop\": 0.0,\n",
        "  \"decoder_layers\": 6,\n",
        "  \"dropout\": 0.1,\n",
        "  \"encoder_attention_heads\": 8,\n",
        "  \"encoder_ffn_dim\": 2048,\n",
        "  \"encoder_layerdrop\": 0.0,\n",
        "  \"encoder_layers\": 6,\n",
        "  \"id2label\": {\n",
        "    \"0\": \"LABEL_0\",\n",
        "    \"1\": \"LABEL_1\",\n",
        "    \"2\": \"LABEL_2\"\n",
        "  },\n",
        "  \"init_std\": 0.02,\n",
        "  \"is_encoder_decoder\": true,\n",
        "  \"label2id\": {\n",
        "    \"LABEL_0\": 0,\n",
        "    \"LABEL_1\": 1,\n",
        "    \"LABEL_2\": 2\n",
        "  },\n",
        "  \"max_length\": 512,\n",
        "  \"max_position_embeddings\": 512,\n",
        "  \"model_type\": \"marian\",\n",
        "  \"normalize_before\": false,\n",
        "  \"normalize_embedding\": false,\n",
        "  \"num_beams\": 4,\n",
        "  \"num_hidden_layers\": 6,\n",
        "  \"scale_embedding\": true,\n",
        "  \"static_position_embeddings\": true\n",
        "}"
      ]
    },
    {
      "cell_type": "markdown",
      "metadata": {
        "id": "FBiW8UpKIrJW"
      },
      "source": [
        "Now that our data is ready, we can download the pretrained model and fine-tune it. Since our task is of the sequence-to-sequence kind, we use the `AutoModelForSeq2SeqLM` class. Like with the tokenizer, the `from_pretrained` method will download and cache the model for us."
      ]
    },
    {
      "cell_type": "code",
      "metadata": {
        "id": "TlqNaB8jIrJW"
      },
      "source": [
        "from transformers import (\n",
        "    MarianMTModel, \n",
        "    MarianConfig, \n",
        "    AutoModelForSeq2SeqLM, \n",
        "    DataCollatorForSeq2Seq, \n",
        "    Seq2SeqTrainingArguments, \n",
        "    Seq2SeqTrainer,\n",
        ")\n",
        "\n",
        "# model = AutoModelForSeq2SeqLM.from_pretrained(model_checkpoint)\n",
        "config = MarianConfig.from_pretrained('marian-mt-zh_cn-th')\n",
        "model = MarianMTModel(config)"
      ],
      "execution_count": 84,
      "outputs": []
    },
    {
      "cell_type": "markdown",
      "metadata": {
        "id": "CczA5lJlIrJX"
      },
      "source": [
        "Note that  we don't get a warning like in our classification example. This means we used all the weights of the pretrained model and there is no randomly initialized head in this case."
      ]
    },
    {
      "cell_type": "markdown",
      "metadata": {
        "id": "_N8urzhyIrJY"
      },
      "source": [
        "To instantiate a `Seq2SeqTrainer`, we will need to define three more things. The most important is the [`Seq2SeqTrainingArguments`](https://huggingface.co/transformers/main_classes/trainer.html#transformers.Seq2SeqTrainingArguments), which is a class that contains all the attributes to customize the training. It requires one folder name, which will be used to save the checkpoints of the model, and all other arguments are optional:"
      ]
    },
    {
      "cell_type": "code",
      "metadata": {
        "id": "Bliy8zgjIrJY"
      },
      "source": [
        "batch_size = 16\n",
        "args = Seq2SeqTrainingArguments(\n",
        "    \"zh_cn-th-translation\",\n",
        "    evaluation_strategy = \"epoch\",\n",
        "    learning_rate=2e-5,\n",
        "    per_device_train_batch_size=batch_size,\n",
        "    per_device_eval_batch_size=batch_size,\n",
        "    weight_decay=0.01,\n",
        "    save_total_limit=1,\n",
        "    num_train_epochs=1,\n",
        "    predict_with_generate=True,\n",
        "    fp16=True,\n",
        ")"
      ],
      "execution_count": 85,
      "outputs": []
    },
    {
      "cell_type": "markdown",
      "metadata": {
        "id": "km3pGVdTIrJc"
      },
      "source": [
        "Here we set the evaluation to be done at the end of each epoch, tweak the learning rate, use the `batch_size` defined at the top of the cell and customize the weight decay. Since the `Seq2SeqTrainer` will save the model regularly and our dataset is quite large, we tell it to make three saves maximum. Lastly, we use the `predict_with_generate` option (to properly generate summaries) and activate mixed precision training (to go a bit faster).\n",
        "\n",
        "Then, we need a special kind of data collator, which will not only pad the inputs to the maximum length in the batch, but also the labels:"
      ]
    },
    {
      "cell_type": "code",
      "metadata": {
        "id": "sWsUjLDp0RWL"
      },
      "source": [
        "data_collator = DataCollatorForSeq2Seq(tokenizer, model=model)"
      ],
      "execution_count": 86,
      "outputs": []
    },
    {
      "cell_type": "markdown",
      "metadata": {
        "id": "7sZOdRlRIrJd"
      },
      "source": [
        "The last thing to define for our `Seq2SeqTrainer` is how to compute the metrics from the predictions. We need to define a function for this, which will just use the `metric` we loaded earlier, and we have to do a bit of pre-processing to decode the predictions into texts:"
      ]
    },
    {
      "cell_type": "code",
      "metadata": {
        "id": "UmvbnJ9JIrJd"
      },
      "source": [
        "import numpy as np\n",
        "\n",
        "def postprocess_text(preds, labels):\n",
        "    preds = [pred.strip() for pred in preds]\n",
        "    labels = [[label.strip()] for label in labels]\n",
        "\n",
        "    return preds, labels\n",
        "\n",
        "def compute_metrics(eval_preds):\n",
        "    preds, labels = eval_preds\n",
        "    if isinstance(preds, tuple):\n",
        "        preds = preds[0]\n",
        "    decoded_preds = tokenizer.batch_decode(preds, skip_special_tokens=True)\n",
        "\n",
        "    # Replace -100 in the labels as we can't decode them.\n",
        "    labels = np.where(labels != -100, labels, tokenizer.pad_token_id)\n",
        "    decoded_labels = tokenizer.batch_decode(labels, skip_special_tokens=True)\n",
        "\n",
        "    # Some simple post-processing\n",
        "    decoded_preds, decoded_labels = postprocess_text(decoded_preds, decoded_labels)\n",
        "\n",
        "    result = metric.compute(predictions=decoded_preds, references=decoded_labels)\n",
        "    result = {\"bleu\": result[\"score\"]}\n",
        "\n",
        "    prediction_lens = [np.count_nonzero(pred != tokenizer.pad_token_id) for pred in preds]\n",
        "    result[\"gen_len\"] = np.mean(prediction_lens)\n",
        "    result = {k: round(v, 4) for k, v in result.items()}\n",
        "    return result"
      ],
      "execution_count": 87,
      "outputs": []
    },
    {
      "cell_type": "markdown",
      "metadata": {
        "id": "rXuFTAzDIrJe"
      },
      "source": [
        "Then we just need to pass all of this along with our datasets to the `Seq2SeqTrainer`:"
      ]
    },
    {
      "cell_type": "code",
      "metadata": {
        "id": "imY1oC3SIrJf"
      },
      "source": [
        "trainer = Seq2SeqTrainer(\n",
        "    model,\n",
        "    args,\n",
        "    train_dataset=tokenized_datasets[\"train\"], \n",
        "    eval_dataset=tokenized_datasets[\"test\"],\n",
        "    data_collator=data_collator,\n",
        "    tokenizer=tokenizer,\n",
        "    compute_metrics=compute_metrics\n",
        ")"
      ],
      "execution_count": 89,
      "outputs": []
    },
    {
      "cell_type": "markdown",
      "metadata": {
        "id": "CdzABDVcIrJg"
      },
      "source": [
        "We can now finetune our model by just calling the `train` method:"
      ]
    },
    {
      "cell_type": "code",
      "metadata": {
        "colab": {
          "base_uri": "https://localhost:8080/",
          "height": 143
        },
        "id": "uNx5pyRlIrJh",
        "scrolled": false,
        "outputId": "8aa9c93d-e9b9-4636-935b-3c0ad257da54"
      },
      "source": [
        "trainer.train()"
      ],
      "execution_count": 90,
      "outputs": [
        {
          "output_type": "display_data",
          "data": {
            "text/html": [
              "\n",
              "    <div>\n",
              "      \n",
              "      <progress value='563' max='563' style='width:300px; height:20px; vertical-align: middle;'></progress>\n",
              "      [563/563 20:44, Epoch 1/1]\n",
              "    </div>\n",
              "    <table border=\"1\" class=\"dataframe\">\n",
              "  <thead>\n",
              "    <tr style=\"text-align: left;\">\n",
              "      <th>Epoch</th>\n",
              "      <th>Training Loss</th>\n",
              "      <th>Validation Loss</th>\n",
              "      <th>Bleu</th>\n",
              "      <th>Gen Len</th>\n",
              "    </tr>\n",
              "  </thead>\n",
              "  <tbody>\n",
              "    <tr>\n",
              "      <td>1</td>\n",
              "      <td>7.700200</td>\n",
              "      <td>7.216439</td>\n",
              "      <td>0.083200</td>\n",
              "      <td>25.955000</td>\n",
              "    </tr>\n",
              "  </tbody>\n",
              "</table><p>"
            ],
            "text/plain": [
              "<IPython.core.display.HTML object>"
            ]
          },
          "metadata": {
            "tags": []
          }
        },
        {
          "output_type": "execute_result",
          "data": {
            "text/plain": [
              "TrainOutput(global_step=563, training_loss=7.65129769631855, metrics={'train_runtime': 1245.6053, 'train_samples_per_second': 0.452, 'total_flos': 39479100530688.0, 'epoch': 1.0, 'init_mem_cpu_alloc_delta': 1453400064, 'init_mem_gpu_alloc_delta': 212270080, 'init_mem_cpu_peaked_delta': 0, 'init_mem_gpu_peaked_delta': 0, 'train_mem_cpu_alloc_delta': 15802368, 'train_mem_gpu_alloc_delta': 635342848, 'train_mem_cpu_peaked_delta': 413696, 'train_mem_gpu_peaked_delta': 2650507776})"
            ]
          },
          "metadata": {
            "tags": []
          },
          "execution_count": 90
        }
      ]
    },
    {
      "cell_type": "code",
      "metadata": {
        "id": "jQo1UeceijTh"
      },
      "source": [
        "#save model\n",
        "trainer.save_model('trained_model')"
      ],
      "execution_count": 93,
      "outputs": []
    },
    {
      "cell_type": "code",
      "metadata": {
        "id": "SEvEDAsyi2D9",
        "outputId": "2bb85250-02b7-4cff-c5f0-218813e17700",
        "colab": {
          "base_uri": "https://localhost:8080/"
        }
      },
      "source": [
        "#infer sample sentence zh_cn to th\n",
        "model.cpu()\n",
        "src_text = [\n",
        "    '我爱你',\n",
        "    '国王有很多心事。我明白'\n",
        "]\n",
        "translated = model.generate(**tokenizer(src_text, return_tensors=\"pt\", padding=True))\n",
        "[tokenizer.decode(t, skip_special_tokens=True) for t in translated]"
      ],
      "execution_count": 122,
      "outputs": [
        {
          "output_type": "execute_result",
          "data": {
            "text/plain": [
              "['\"', '\"']"
            ]
          },
          "metadata": {
            "tags": []
          },
          "execution_count": 122
        }
      ]
    },
    {
      "cell_type": "markdown",
      "metadata": {
        "id": "fprJxAS20RWN"
      },
      "source": [
        "Don't forget to [upload your model](https://huggingface.co/transformers/model_sharing.html) on the [🤗 Model Hub](https://huggingface.co/models). You can then use it only to generate results like the one shown in the first picture of this notebook!"
      ]
    }
  ]
}