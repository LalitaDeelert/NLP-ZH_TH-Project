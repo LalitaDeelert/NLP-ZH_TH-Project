{
 "cells": [
  {
   "cell_type": "markdown",
   "metadata": {},
   "source": [
    "# `fairseq` Tutorial for Machine Translation"
   ]
  },
  {
   "cell_type": "markdown",
   "metadata": {},
   "source": [
    "Install `fairseq` from [fairseq repository](https://github.com/pytorch/fairseq). Make sure you remember what version you are using."
   ]
  },
  {
   "cell_type": "code",
   "execution_count": 1,
   "metadata": {},
   "outputs": [
    {
     "data": {
      "text/plain": [
       "'1.0.0a0+19793a7'"
      ]
     },
     "execution_count": 1,
     "metadata": {},
     "output_type": "execute_result"
    }
   ],
   "source": [
    "import numpy as np\n",
    "import pandas as pd\n",
    "\n",
    "import fairseq\n",
    "fairseq.__version__"
   ]
  },
  {
   "cell_type": "markdown",
   "metadata": {},
   "source": [
    "## Load Data"
   ]
  },
  {
   "cell_type": "code",
   "execution_count": 2,
   "metadata": {},
   "outputs": [],
   "source": [
    "#read sample dataset\n",
    "with open(\"../data/OpenSubtitles/OpenSubtitles_sample.th\", \"r\", encoding='utf-8') as f:\n",
    "    th_lines = f.readlines()\n",
    "    th_lines = [i[:-1] for i in th_lines]\n",
    "with open(\"../data/OpenSubtitles/OpenSubtitles_sample.zh_cn\", \"r\", encoding='utf-8') as f:\n",
    "    zh_lines = f.readlines()\n",
    "    zh_lines = [i[:-1] for i in zh_lines]"
   ]
  },
  {
   "cell_type": "code",
   "execution_count": 3,
   "metadata": {},
   "outputs": [
    {
     "data": {
      "text/html": [
       "<div>\n",
       "<style scoped>\n",
       "    .dataframe tbody tr th:only-of-type {\n",
       "        vertical-align: middle;\n",
       "    }\n",
       "\n",
       "    .dataframe tbody tr th {\n",
       "        vertical-align: top;\n",
       "    }\n",
       "\n",
       "    .dataframe thead th {\n",
       "        text-align: right;\n",
       "    }\n",
       "</style>\n",
       "<table border=\"1\" class=\"dataframe\">\n",
       "  <thead>\n",
       "    <tr style=\"text-align: right;\">\n",
       "      <th></th>\n",
       "      <th>zh</th>\n",
       "      <th>th</th>\n",
       "    </tr>\n",
       "  </thead>\n",
       "  <tbody>\n",
       "    <tr>\n",
       "      <th>0</th>\n",
       "      <td>记得自己的洗礼仪式 这可能吗?</td>\n",
       "      <td>คุณจำตอนพิธีล้างบาปของคุณได้ เป็นไปได้ยังไง?</td>\n",
       "    </tr>\n",
       "    <tr>\n",
       "      <th>1</th>\n",
       "      <td>不可能?</td>\n",
       "      <td>เป็นไปไม่ได้รึไง? แต่มันจริงนะ</td>\n",
       "    </tr>\n",
       "    <tr>\n",
       "      <th>2</th>\n",
       "      <td>可那是事实啊 是听大人们说的吧?</td>\n",
       "      <td>คุณได้ยินผู้ใหญ่เขาคุยกันรึเปล่า?</td>\n",
       "    </tr>\n",
       "    <tr>\n",
       "      <th>3</th>\n",
       "      <td>我能感受到透过玻璃的阳光</td>\n",
       "      <td>ฉันรู้สึกได้ถึงแสงอาทิตย์ลอดผ่านกระจกเข้ามา</td>\n",
       "    </tr>\n",
       "    <tr>\n",
       "      <th>4</th>\n",
       "      <td>我还记得爸爸的心跳声呢</td>\n",
       "      <td>ฉันยังจำเสียงหัวใจเต้นของพ่อได้</td>\n",
       "    </tr>\n",
       "    <tr>\n",
       "      <th>...</th>\n",
       "      <td>...</td>\n",
       "      <td>...</td>\n",
       "    </tr>\n",
       "    <tr>\n",
       "      <th>95</th>\n",
       "      <td>是你非常爱惜的</td>\n",
       "      <td>มันมีค่าต่อคุณมากนี่</td>\n",
       "    </tr>\n",
       "    <tr>\n",
       "      <th>96</th>\n",
       "      <td>偶尔会在恋爱时常常约会的饭店碰面</td>\n",
       "      <td>บางทีคุณก็เจอกันโดยบังเอิญใน ภัตตาคารที่เคยมาด...</td>\n",
       "    </tr>\n",
       "    <tr>\n",
       "      <th>97</th>\n",
       "      <td>也会在经常光顾的酒吧碰面</td>\n",
       "      <td>และเจอกันในบาร์ที่เคยไปเมาด้วยกัน ดื่ม</td>\n",
       "    </tr>\n",
       "    <tr>\n",
       "      <th>98</th>\n",
       "      <td>干</td>\n",
       "      <td>ดื่ม</td>\n",
       "    </tr>\n",
       "    <tr>\n",
       "      <th>99</th>\n",
       "      <td>真的好好吃啊</td>\n",
       "      <td>ดูน่าอร่อยนะ นั่นไม่ใช่รูปวาดหรอ?</td>\n",
       "    </tr>\n",
       "  </tbody>\n",
       "</table>\n",
       "<p>99 rows × 2 columns</p>\n",
       "</div>"
      ],
      "text/plain": [
       "                  zh                                                 th\n",
       "0    记得自己的洗礼仪式 这可能吗?       คุณจำตอนพิธีล้างบาปของคุณได้ เป็นไปได้ยังไง?\n",
       "1               不可能?                     เป็นไปไม่ได้รึไง? แต่มันจริงนะ\n",
       "2   可那是事实啊 是听大人们说的吧?                  คุณได้ยินผู้ใหญ่เขาคุยกันรึเปล่า?\n",
       "3       我能感受到透过玻璃的阳光        ฉันรู้สึกได้ถึงแสงอาทิตย์ลอดผ่านกระจกเข้ามา\n",
       "4        我还记得爸爸的心跳声呢                    ฉันยังจำเสียงหัวใจเต้นของพ่อได้\n",
       "..               ...                                                ...\n",
       "95           是你非常爱惜的                               มันมีค่าต่อคุณมากนี่\n",
       "96  偶尔会在恋爱时常常约会的饭店碰面  บางทีคุณก็เจอกันโดยบังเอิญใน ภัตตาคารที่เคยมาด...\n",
       "97      也会在经常光顾的酒吧碰面             และเจอกันในบาร์ที่เคยไปเมาด้วยกัน ดื่ม\n",
       "98                 干                                               ดื่ม\n",
       "99            真的好好吃啊                  ดูน่าอร่อยนะ นั่นไม่ใช่รูปวาดหรอ?\n",
       "\n",
       "[99 rows x 2 columns]"
      ]
     },
     "execution_count": 3,
     "metadata": {},
     "output_type": "execute_result"
    }
   ],
   "source": [
    "df = pd.DataFrame({'zh':zh_lines, 'th':th_lines}).drop_duplicates()\n",
    "df"
   ]
  },
  {
   "cell_type": "markdown",
   "metadata": {},
   "source": [
    "## Clean Data"
   ]
  },
  {
   "cell_type": "markdown",
   "metadata": {},
   "source": [
    "In this tutorial, we will assume the sample data is already cleaned by:\n",
    "1. Deduplication\n",
    "2. Filter out by similarity score\n",
    "3. Filter out by word/character ratio\n",
    "4. See more cleaning in [thai2nmt/scripts/clean_text.py](https://github.com/vistec-AI/thai2nmt/blob/master/scripts/clean_text.py)"
   ]
  },
  {
   "cell_type": "markdown",
   "metadata": {},
   "source": [
    "## Split to Train/Validation/Test"
   ]
  },
  {
   "cell_type": "code",
   "execution_count": 4,
   "metadata": {},
   "outputs": [
    {
     "data": {
      "text/plain": [
       "(79, 10, 10, 99)"
      ]
     },
     "execution_count": 4,
     "metadata": {},
     "output_type": "execute_result"
    }
   ],
   "source": [
    "np.random.seed(1112)\n",
    "train_pct = 0.8\n",
    "valid_pct = 0.9\n",
    "random_idxs = np.random.choice(df.index.tolist(), size=df.shape[0]).tolist()\n",
    "train_idxs = random_idxs[:int(df.shape[0]*train_pct)]\n",
    "valid_idxs = random_idxs[int(df.shape[0]*train_pct):int(df.shape[0]*valid_pct)]\n",
    "test_idxs = random_idxs[int(df.shape[0]*valid_pct):]\n",
    "len(train_idxs), len(valid_idxs), len(test_idxs), len(random_idxs)"
   ]
  },
  {
   "cell_type": "code",
   "execution_count": 6,
   "metadata": {},
   "outputs": [
    {
     "data": {
      "text/plain": [
       "((79, 2), (10, 2), (10, 2))"
      ]
     },
     "execution_count": 6,
     "metadata": {},
     "output_type": "execute_result"
    }
   ],
   "source": [
    "train_df = df.iloc[train_idxs,:]\n",
    "valid_df = df.iloc[valid_idxs,:]\n",
    "test_df = df.iloc[test_idxs,:]\n",
    "\n",
    "train_df.to_csv('../data/fairseq_tutorial/cleaned/train.csv',index=False)\n",
    "valid_df.to_csv('../data/fairseq_tutorial/cleaned/valid.csv',index=False)\n",
    "test_df.to_csv('../data/fairseq_tutorial/cleaned/test.csv',index=False)\n",
    "\n",
    "train_df.shape, valid_df.shape, test_df.shape"
   ]
  },
  {
   "cell_type": "markdown",
   "metadata": {},
   "source": [
    "## Train `sentencepiece` Tokenizer"
   ]
  },
  {
   "cell_type": "markdown",
   "metadata": {},
   "source": [
    "Only train on the training set."
   ]
  },
  {
   "cell_type": "code",
   "execution_count": 7,
   "metadata": {},
   "outputs": [],
   "source": [
    "#save deduped\n",
    "train_df.to_csv('../data/fairseq_tutorial/cleaned/train.txt',header=None, index=None, sep='\\n')"
   ]
  },
  {
   "cell_type": "code",
   "execution_count": 8,
   "metadata": {},
   "outputs": [],
   "source": [
    "import sentencepiece as spm"
   ]
  },
  {
   "cell_type": "code",
   "execution_count": 11,
   "metadata": {},
   "outputs": [],
   "source": [
    "#train\n",
    "input_fname = '../data/fairseq_tutorial/cleaned/train.txt'\n",
    "vocab_size = 500\n",
    "tokenizer_name = 'sample_zhth'\n",
    "\n",
    "spm_cmd = (f'--input={input_fname} '\n",
    "           '--character_coverage=1.0 '\n",
    "           f'--model_prefix={tokenizer_name} '\n",
    "           f'--vocab_size={vocab_size} ')\n",
    "spm.SentencePieceTrainer.train(spm_cmd)"
   ]
  },
  {
   "cell_type": "code",
   "execution_count": 13,
   "metadata": {},
   "outputs": [
    {
     "data": {
      "text/plain": [
       "True"
      ]
     },
     "execution_count": 13,
     "metadata": {},
     "output_type": "execute_result"
    }
   ],
   "source": [
    "#tokenize\n",
    "sp = spm.SentencePieceProcessor()\n",
    "sp.load(f'{tokenizer_name}.model')"
   ]
  },
  {
   "cell_type": "code",
   "execution_count": 14,
   "metadata": {},
   "outputs": [
    {
     "data": {
      "text/plain": [
       "['▁', 'มา', 'นั่', 'ง', 'ตร', 'ง', 'นี้', 'สิ']"
      ]
     },
     "execution_count": 14,
     "metadata": {},
     "output_type": "execute_result"
    }
   ],
   "source": [
    "sp.encode_as_pieces('มานั่งตรงนี้สิ')"
   ]
  },
  {
   "cell_type": "code",
   "execution_count": 15,
   "metadata": {},
   "outputs": [
    {
     "data": {
      "text/plain": [
       "['▁', '和', '别', '人', '一', '起', '来', '吗', '?']"
      ]
     },
     "execution_count": 15,
     "metadata": {},
     "output_type": "execute_result"
    }
   ],
   "source": [
    "sp.encode_as_pieces('和别人一起来吗?')"
   ]
  },
  {
   "cell_type": "markdown",
   "metadata": {},
   "source": [
    "## Tokenize with Trained `sentencepiece`"
   ]
  },
  {
   "cell_type": "code",
   "execution_count": 16,
   "metadata": {},
   "outputs": [],
   "source": [
    "def tokenize_and_save(df, output_fname, src, tgt, tokenizer):\n",
    "    #tokenize\n",
    "    df[f'{src}_tokenized'] = df[f'{src}'].map(tokenizer.encode_as_pieces)\n",
    "    df[f'{tgt}_tokenized'] = df[f'{tgt}'].map(tokenizer.encode_as_pieces)\n",
    "    \n",
    "    #save to file\n",
    "    with open(f'{output_fname}.{src}', 'w', encoding='utf-8') as f:\n",
    "        for tokens in df[f'{src}_tokenized'].tolist():\n",
    "            line = ' '.join(tokens)\n",
    "            f.write(f\"{line}\\n\")\n",
    "    with open(f'{output_fname}.{tgt}', 'w', encoding='utf-8') as f:\n",
    "        for tokens in df[f'{tgt}_tokenized'].tolist():\n",
    "            line = ' '.join(tokens)\n",
    "            f.write(f\"{line}\\n\")"
   ]
  },
  {
   "cell_type": "code",
   "execution_count": 19,
   "metadata": {},
   "outputs": [
    {
     "name": "stderr",
     "output_type": "stream",
     "text": [
      "/opt/conda/lib/python3.7/site-packages/ipykernel_launcher.py:7: SettingWithCopyWarning: \n",
      "A value is trying to be set on a copy of a slice from a DataFrame.\n",
      "Try using .loc[row_indexer,col_indexer] = value instead\n",
      "\n",
      "See the caveats in the documentation: https://pandas.pydata.org/pandas-docs/stable/user_guide/indexing.html#returning-a-view-versus-a-copy\n",
      "  import sys\n",
      "/opt/conda/lib/python3.7/site-packages/ipykernel_launcher.py:8: SettingWithCopyWarning: \n",
      "A value is trying to be set on a copy of a slice from a DataFrame.\n",
      "Try using .loc[row_indexer,col_indexer] = value instead\n",
      "\n",
      "See the caveats in the documentation: https://pandas.pydata.org/pandas-docs/stable/user_guide/indexing.html#returning-a-view-versus-a-copy\n",
      "  \n"
     ]
    }
   ],
   "source": [
    "tokenize_and_save(train_df, '../data/fairseq_tutorial/tokenized/train', 'zh', 'th', sp)\n",
    "tokenize_and_save(valid_df, '../data/fairseq_tutorial/tokenized/valid', 'zh', 'th', sp)\n",
    "tokenize_and_save(test_df, '../data/fairseq_tutorial/tokenized/test', 'zh', 'th', sp)"
   ]
  },
  {
   "cell_type": "markdown",
   "metadata": {},
   "source": [
    "## Binarize with `fairseq-preprocess`"
   ]
  },
  {
   "cell_type": "markdown",
   "metadata": {},
   "source": [
    "`fairseq` takes input as binarized files created by [fairseq-preprocess](https://fairseq.readthedocs.io/en/latest/command_line_tools.html) command."
   ]
  },
  {
   "cell_type": "code",
   "execution_count": 20,
   "metadata": {},
   "outputs": [
    {
     "name": "stdout",
     "output_type": "stream",
     "text": [
      "2021-05-30 18:10:42 | INFO | fairseq_cli.preprocess | Namespace(align_suffix=None, alignfile=None, all_gather_list_size=16384, amp=False, amp_batch_retries=2, amp_init_scale=128, amp_scale_window=None, azureml_logging=False, bf16=False, bpe=None, cpu=False, criterion='cross_entropy', dataset_impl='mmap', destdir='../data/fairseq_tutorial/binarized', dict_only=False, empty_cache_freq=0, fp16=False, fp16_init_scale=128, fp16_no_flatten_grads=False, fp16_scale_tolerance=0.0, fp16_scale_window=None, joined_dictionary=True, log_file=None, log_format=None, log_interval=100, lr_scheduler='fixed', memory_efficient_bf16=False, memory_efficient_fp16=False, min_loss_scale=0.0001, model_parallel_size=1, no_progress_bar=False, nwordssrc=500, nwordstgt=500, only_source=False, optimizer=None, padding_factor=8, plasma_path='/tmp/plasma', profile=False, quantization_config_path=None, reset_logging=False, scoring='bleu', seed=1, simul_type=None, source_lang='zh', srcdict=None, suppress_crashes=False, target_lang='th', task='translation', tensorboard_logdir=None, testpref='../data/fairseq_tutorial/tokenized/test', tgtdict=None, threshold_loss_scale=None, thresholdsrc=0, thresholdtgt=0, tokenizer=None, tpu=False, trainpref='../data/fairseq_tutorial/tokenized/train', use_plasma_view=False, user_dir=None, validpref='../data/fairseq_tutorial/tokenized/valid', wandb_project=None, workers=30)\n",
      "2021-05-30 18:10:42 | INFO | fairseq_cli.preprocess | [zh] Dictionary: 472 types\n",
      "2021-05-30 18:10:43 | INFO | fairseq_cli.preprocess | [zh] ../data/fairseq_tutorial/tokenized/train.zh: 79 sents, 785 tokens, 0.0% replaced by <unk>\n",
      "2021-05-30 18:10:43 | INFO | fairseq_cli.preprocess | [zh] Dictionary: 472 types\n",
      "2021-05-30 18:10:43 | INFO | fairseq_cli.preprocess | [zh] ../data/fairseq_tutorial/tokenized/valid.zh: 10 sents, 97 tokens, 5.15% replaced by <unk>\n",
      "2021-05-30 18:10:43 | INFO | fairseq_cli.preprocess | [zh] Dictionary: 472 types\n",
      "2021-05-30 18:10:43 | INFO | fairseq_cli.preprocess | [zh] ../data/fairseq_tutorial/tokenized/test.zh: 10 sents, 95 tokens, 7.37% replaced by <unk>\n",
      "2021-05-30 18:10:43 | INFO | fairseq_cli.preprocess | [th] Dictionary: 472 types\n",
      "2021-05-30 18:10:43 | INFO | fairseq_cli.preprocess | [th] ../data/fairseq_tutorial/tokenized/train.th: 79 sents, 1093 tokens, 0.0% replaced by <unk>\n",
      "2021-05-30 18:10:43 | INFO | fairseq_cli.preprocess | [th] Dictionary: 472 types\n",
      "2021-05-30 18:10:44 | INFO | fairseq_cli.preprocess | [th] ../data/fairseq_tutorial/tokenized/valid.th: 10 sents, 143 tokens, 0.699% replaced by <unk>\n",
      "2021-05-30 18:10:44 | INFO | fairseq_cli.preprocess | [th] Dictionary: 472 types\n",
      "2021-05-30 18:10:44 | INFO | fairseq_cli.preprocess | [th] ../data/fairseq_tutorial/tokenized/test.th: 10 sents, 151 tokens, 0.662% replaced by <unk>\n",
      "2021-05-30 18:10:44 | INFO | fairseq_cli.preprocess | Wrote preprocessed data to ../data/fairseq_tutorial/binarized\n"
     ]
    }
   ],
   "source": [
    "!fairseq-preprocess --source-lang zh --target-lang th \\\n",
    "    --trainpref ../data/fairseq_tutorial/tokenized/train \\\n",
    "    --validpref ../data/fairseq_tutorial/tokenized/valid \\\n",
    "    --testpref ../data/fairseq_tutorial/tokenized/test \\\n",
    "    --destdir ../data/fairseq_tutorial/binarized \\\n",
    "    --workers 30 \\\n",
    "    --nwordssrc 500 \\\n",
    "    --nwordstgt 500 --joined-dictionary"
   ]
  },
  {
   "cell_type": "markdown",
   "metadata": {},
   "source": [
    "## Train Transformer with `fairseq-train`"
   ]
  },
  {
   "cell_type": "markdown",
   "metadata": {},
   "source": [
    "`fairseq` takes input as binarized files created by [fairseq-train](https://fairseq.readthedocs.io/en/latest/command_line_tools.html) command."
   ]
  },
  {
   "cell_type": "code",
   "execution_count": 24,
   "metadata": {},
   "outputs": [
    {
     "name": "stderr",
     "output_type": "stream",
     "text": [
      "\u001b[34m\u001b[1mwandb\u001b[0m: wandb version 0.10.31 is available!  To upgrade, please run:\n",
      "\u001b[34m\u001b[1mwandb\u001b[0m:  $ pip install wandb --upgrade\n"
     ]
    },
    {
     "data": {
      "text/html": [
       "\n",
       "                Tracking run with wandb version 0.10.23<br/>\n",
       "                Syncing run <strong style=\"color:#cdcd00\">chocolate-donkey-1</strong> to <a href=\"https://wandb.ai\" target=\"_blank\">Weights & Biases</a> <a href=\"https://docs.wandb.com/integrations/jupyter.html\" target=\"_blank\">(Documentation)</a>.<br/>\n",
       "                Project page: <a href=\"https://wandb.ai/cstorm125/fairseq-tutorial\" target=\"_blank\">https://wandb.ai/cstorm125/fairseq-tutorial</a><br/>\n",
       "                Run page: <a href=\"https://wandb.ai/cstorm125/fairseq-tutorial/runs/w86rrpuc\" target=\"_blank\">https://wandb.ai/cstorm125/fairseq-tutorial/runs/w86rrpuc</a><br/>\n",
       "                Run data is saved locally in <code>/home/cstorm125/NLP-ZH_TH-Project/notebooks/wandb/run-20210530_182049-w86rrpuc</code><br/><br/>\n",
       "            "
      ],
      "text/plain": [
       "<IPython.core.display.HTML object>"
      ]
     },
     "metadata": {},
     "output_type": "display_data"
    },
    {
     "data": {
      "text/html": [
       "<h1>Run(w86rrpuc)</h1><iframe src=\"https://wandb.ai/cstorm125/fairseq-tutorial/runs/w86rrpuc\" style=\"border:none;width:100%;height:400px\"></iframe>"
      ],
      "text/plain": [
       "<wandb.sdk.wandb_run.Run at 0x7fd90890ec10>"
      ]
     },
     "execution_count": 24,
     "metadata": {},
     "output_type": "execute_result"
    }
   ],
   "source": [
    "import wandb\n",
    "wandb.init(project='fairseq-tutorial', entity='cstorm125')"
   ]
  },
  {
   "cell_type": "code",
   "execution_count": 28,
   "metadata": {},
   "outputs": [
    {
     "name": "stdout",
     "output_type": "stream",
     "text": [
      "2021-05-30 18:27:54 | INFO | fairseq_cli.train | {'_name': None, 'common': {'_name': None, 'no_progress_bar': False, 'log_interval': 100, 'log_format': None, 'log_file': None, 'tensorboard_logdir': None, 'wandb_project': 'fairseq-tutorial', 'azureml_logging': False, 'seed': 1, 'cpu': False, 'tpu': False, 'bf16': False, 'memory_efficient_bf16': False, 'fp16': True, 'memory_efficient_fp16': False, 'fp16_no_flatten_grads': False, 'fp16_init_scale': 128, 'fp16_scale_window': None, 'fp16_scale_tolerance': 0.0, 'min_loss_scale': 0.0001, 'threshold_loss_scale': None, 'amp': False, 'amp_batch_retries': 2, 'amp_init_scale': 128, 'amp_scale_window': None, 'user_dir': None, 'empty_cache_freq': 0, 'all_gather_list_size': 16384, 'model_parallel_size': 1, 'quantization_config_path': None, 'profile': False, 'reset_logging': False, 'suppress_crashes': False, 'use_plasma_view': False, 'plasma_path': '/tmp/plasma'}, 'common_eval': {'_name': None, 'path': None, 'post_process': None, 'quiet': False, 'model_overrides': '{}', 'results_path': None}, 'distributed_training': {'_name': None, 'distributed_world_size': 1, 'distributed_rank': 0, 'distributed_backend': 'nccl', 'distributed_init_method': None, 'distributed_port': -1, 'device_id': 0, 'distributed_no_spawn': False, 'ddp_backend': 'pytorch_ddp', 'ddp_comm_hook': 'none', 'bucket_cap_mb': 25, 'fix_batches_to_gpus': False, 'find_unused_parameters': False, 'fast_stat_sync': False, 'heartbeat_timeout': -1, 'broadcast_buffers': False, 'slowmo_momentum': None, 'slowmo_algorithm': 'LocalSGD', 'localsgd_frequency': 3, 'nprocs_per_node': 1, 'pipeline_model_parallel': False, 'pipeline_balance': None, 'pipeline_devices': None, 'pipeline_chunks': 0, 'pipeline_encoder_balance': None, 'pipeline_encoder_devices': None, 'pipeline_decoder_balance': None, 'pipeline_decoder_devices': None, 'pipeline_checkpoint': 'never', 'zero_sharding': 'none', 'fp16': True, 'memory_efficient_fp16': False, 'tpu': False, 'no_reshard_after_forward': False, 'fp32_reduce_scatter': False, 'cpu_offload': False, 'use_sharded_state': False, 'distributed_num_procs': 1}, 'dataset': {'_name': None, 'num_workers': 0, 'skip_invalid_size_inputs_valid_test': True, 'max_tokens': 5000, 'batch_size': None, 'required_batch_size_multiple': 8, 'required_seq_len_multiple': 1, 'dataset_impl': None, 'data_buffer_size': 10, 'train_subset': 'train', 'valid_subset': 'valid', 'combine_valid_subsets': None, 'ignore_unused_valid_subsets': False, 'validate_interval': 1, 'validate_interval_updates': 0, 'validate_after_updates': 0, 'fixed_validation_seed': None, 'disable_validation': False, 'max_tokens_valid': 5000, 'batch_size_valid': None, 'max_valid_steps': None, 'curriculum': 0, 'gen_subset': 'test', 'num_shards': 1, 'shard_id': 0}, 'optimization': {'_name': None, 'max_epoch': 10, 'max_update': 0, 'stop_time_hours': 0.0, 'clip_norm': 0.0, 'sentence_avg': False, 'update_freq': [16], 'lr': [0.0005], 'stop_min_lr': -1.0, 'use_bmuf': False}, 'checkpoint': {'_name': None, 'save_dir': '../data/fairseq_tutorial/models', 'restore_file': 'checkpoint_last.pt', 'finetune_from_model': None, 'reset_dataloader': False, 'reset_lr_scheduler': False, 'reset_meters': False, 'reset_optimizer': False, 'optimizer_overrides': '{}', 'save_interval': 1, 'save_interval_updates': 0, 'keep_interval_updates': -1, 'keep_interval_updates_pattern': -1, 'keep_last_epochs': 25, 'keep_best_checkpoints': -1, 'no_save': False, 'no_epoch_checkpoints': False, 'no_last_checkpoints': False, 'no_save_optimizer_state': False, 'best_checkpoint_metric': 'loss', 'maximize_best_checkpoint_metric': False, 'patience': -1, 'checkpoint_suffix': '', 'checkpoint_shard_count': 1, 'load_checkpoint_on_all_dp_ranks': False, 'write_checkpoints_asynchronously': False, 'model_parallel_size': 1}, 'bmuf': {'_name': None, 'block_lr': 1.0, 'block_momentum': 0.875, 'global_sync_iter': 50, 'warmup_iterations': 500, 'use_nbm': False, 'average_sync': False, 'distributed_world_size': 1}, 'generation': {'_name': None, 'beam': 5, 'nbest': 1, 'max_len_a': 0.0, 'max_len_b': 200, 'min_len': 1, 'match_source_len': False, 'unnormalized': False, 'no_early_stop': False, 'no_beamable_mm': False, 'lenpen': 1.0, 'unkpen': 0.0, 'replace_unk': None, 'sacrebleu': False, 'score_reference': False, 'prefix_size': 0, 'no_repeat_ngram_size': 0, 'sampling': False, 'sampling_topk': -1, 'sampling_topp': -1.0, 'constraints': None, 'temperature': 1.0, 'diverse_beam_groups': -1, 'diverse_beam_strength': 0.5, 'diversity_rate': -1.0, 'print_alignment': None, 'print_step': False, 'lm_path': None, 'lm_weight': 0.0, 'iter_decode_eos_penalty': 0.0, 'iter_decode_max_iter': 10, 'iter_decode_force_max_iter': False, 'iter_decode_with_beam': 1, 'iter_decode_with_external_reranker': False, 'retain_iter_history': False, 'retain_dropout': False, 'retain_dropout_modules': None, 'decoding_format': None, 'no_seed_provided': False}, 'eval_lm': {'_name': None, 'output_word_probs': False, 'output_word_stats': False, 'context_window': 0, 'softmax_batch': 9223372036854775807}, 'interactive': {'_name': None, 'buffer_size': 0, 'input': '-'}, 'model': Namespace(_name='transformer', activation_dropout=0.0, activation_fn='relu', adam_betas='(0.9, 0.98)', adam_eps=1e-08, adaptive_input=False, adaptive_softmax_cutoff=None, adaptive_softmax_dropout=0, all_gather_list_size=16384, amp=False, amp_batch_retries=2, amp_init_scale=128, amp_scale_window=None, arch='transformer', attention_dropout=0.0, azureml_logging=False, batch_size=None, batch_size_valid=None, best_checkpoint_metric='loss', bf16=False, bpe=None, broadcast_buffers=False, bucket_cap_mb=25, checkpoint_activations=False, checkpoint_shard_count=1, checkpoint_suffix='', clip_norm=0.0, combine_valid_subsets=None, cpu=False, cpu_offload=False, criterion='label_smoothed_cross_entropy', cross_self_attention=False, curriculum=0, data='../data/fairseq_tutorial/binarized', data_buffer_size=10, dataset_impl=None, ddp_backend='pytorch_ddp', ddp_comm_hook='none', decoder_attention_heads=8, decoder_embed_dim=512, decoder_embed_path=None, decoder_ffn_embed_dim=2048, decoder_input_dim=512, decoder_layerdrop=0, decoder_layers=6, decoder_layers_to_keep=None, decoder_learned_pos=False, decoder_normalize_before=False, decoder_output_dim=512, device_id=0, disable_validation=False, distributed_backend='nccl', distributed_init_method=None, distributed_no_spawn=False, distributed_port=-1, distributed_rank=0, distributed_world_size=1, dropout=0.3, empty_cache_freq=0, encoder_attention_heads=8, encoder_embed_dim=512, encoder_embed_path=None, encoder_ffn_embed_dim=2048, encoder_layerdrop=0, encoder_layers=6, encoder_layers_to_keep=None, encoder_learned_pos=False, encoder_normalize_before=False, eos=2, eval_bleu=False, eval_bleu_args='{}', eval_bleu_detok='space', eval_bleu_detok_args='{}', eval_bleu_print_samples=False, eval_bleu_remove_bpe=None, eval_tokenized_bleu=False, fast_stat_sync=False, find_unused_parameters=False, finetune_from_model=None, fix_batches_to_gpus=False, fixed_validation_seed=None, fp16=True, fp16_init_scale=128, fp16_no_flatten_grads=False, fp16_scale_tolerance=0.0, fp16_scale_window=None, fp32_reduce_scatter=False, gen_subset='test', heartbeat_timeout=-1, ignore_prefix_size=0, ignore_unused_valid_subsets=False, keep_best_checkpoints=-1, keep_interval_updates=-1, keep_interval_updates_pattern=-1, keep_last_epochs=25, label_smoothing=0.1, layernorm_embedding=False, left_pad_source=True, left_pad_target=False, load_alignments=False, load_checkpoint_on_all_dp_ranks=False, localsgd_frequency=3, log_file=None, log_format=None, log_interval=100, lr=[0.0005], lr_scheduler='inverse_sqrt', max_epoch=10, max_source_positions=1024, max_target_positions=1024, max_tokens=5000, max_tokens_valid=5000, max_update=0, max_valid_steps=None, maximize_best_checkpoint_metric=False, memory_efficient_bf16=False, memory_efficient_fp16=False, min_loss_scale=0.0001, min_params_to_wrap=100000000, model_parallel_size=1, no_cross_attention=False, no_epoch_checkpoints=False, no_last_checkpoints=False, no_progress_bar=False, no_reshard_after_forward=False, no_save=False, no_save_optimizer_state=False, no_scale_embedding=False, no_seed_provided=False, no_token_positional_embeddings=False, nprocs_per_node=1, num_batch_buckets=0, num_shards=1, num_workers=0, offload_activations=False, optimizer='adam', optimizer_overrides='{}', pad=1, patience=-1, pipeline_balance=None, pipeline_checkpoint='never', pipeline_chunks=0, pipeline_decoder_balance=None, pipeline_decoder_devices=None, pipeline_devices=None, pipeline_encoder_balance=None, pipeline_encoder_devices=None, pipeline_model_parallel=False, plasma_path='/tmp/plasma', profile=False, quant_noise_pq=0, quant_noise_pq_block_size=8, quant_noise_scalar=0, quantization_config_path=None, report_accuracy=False, required_batch_size_multiple=8, required_seq_len_multiple=1, reset_dataloader=False, reset_logging=False, reset_lr_scheduler=False, reset_meters=False, reset_optimizer=False, restore_file='checkpoint_last.pt', save_dir='../data/fairseq_tutorial/models', save_interval=1, save_interval_updates=0, scoring='bleu', seed=1, sentence_avg=False, shard_id=0, share_all_embeddings=False, share_decoder_input_output_embed=True, simul_type=None, skip_invalid_size_inputs_valid_test=True, slowmo_algorithm='LocalSGD', slowmo_momentum=None, source_lang=None, stop_min_lr=-1.0, stop_time_hours=0, suppress_crashes=False, target_lang=None, task='translation', tensorboard_logdir=None, threshold_loss_scale=None, tie_adaptive_weights=False, tokenizer=None, tpu=False, train_subset='train', truncate_source=False, unk=3, update_freq=[16], upsample_primary=-1, use_bmuf=False, use_old_adam=False, use_plasma_view=False, use_sharded_state=False, user_dir=None, valid_subset='valid', validate_after_updates=0, validate_interval=1, validate_interval_updates=0, wandb_project='fairseq-tutorial', warmup_init_lr=1e-07, warmup_updates=4000, weight_decay=0.0, write_checkpoints_asynchronously=False, zero_sharding='none'), 'task': {'_name': 'translation', 'data': '../data/fairseq_tutorial/binarized', 'source_lang': None, 'target_lang': None, 'load_alignments': False, 'left_pad_source': True, 'left_pad_target': False, 'max_source_positions': 1024, 'max_target_positions': 1024, 'upsample_primary': -1, 'truncate_source': False, 'num_batch_buckets': 0, 'train_subset': 'train', 'dataset_impl': None, 'required_seq_len_multiple': 1, 'eval_bleu': False, 'eval_bleu_args': '{}', 'eval_bleu_detok': 'space', 'eval_bleu_detok_args': '{}', 'eval_tokenized_bleu': False, 'eval_bleu_remove_bpe': None, 'eval_bleu_print_samples': False}, 'criterion': {'_name': 'label_smoothed_cross_entropy', 'label_smoothing': 0.1, 'report_accuracy': False, 'ignore_prefix_size': 0, 'sentence_avg': False}, 'optimizer': {'_name': 'adam', 'adam_betas': '(0.9, 0.98)', 'adam_eps': 1e-08, 'weight_decay': 0.0, 'use_old_adam': False, 'tpu': False, 'lr': [0.0005]}, 'lr_scheduler': {'_name': 'inverse_sqrt', 'warmup_updates': 4000, 'warmup_init_lr': 1e-07, 'lr': [0.0005]}, 'scoring': {'_name': 'bleu', 'pad': 1, 'eos': 2, 'unk': 3}, 'bpe': None, 'tokenizer': None, 'simul_type': None}\r\n"
     ]
    },
    {
     "name": "stdout",
     "output_type": "stream",
     "text": [
      "2021-05-30 18:27:54 | INFO | fairseq.tasks.translation | [zh] dictionary: 472 types\n",
      "2021-05-30 18:27:54 | INFO | fairseq.tasks.translation | [th] dictionary: 472 types\n",
      "2021-05-30 18:27:55 | INFO | fairseq_cli.train | TransformerModel(\n",
      "  (encoder): TransformerEncoder(\n",
      "    (dropout_module): FairseqDropout()\n",
      "    (embed_tokens): Embedding(472, 512, padding_idx=1)\n",
      "    (embed_positions): SinusoidalPositionalEmbedding()\n",
      "    (layers): ModuleList(\n",
      "      (0): TransformerEncoderLayer(\n",
      "        (self_attn): MultiheadAttention(\n",
      "          (dropout_module): FairseqDropout()\n",
      "          (k_proj): Linear(in_features=512, out_features=512, bias=True)\n",
      "          (v_proj): Linear(in_features=512, out_features=512, bias=True)\n",
      "          (q_proj): Linear(in_features=512, out_features=512, bias=True)\n",
      "          (out_proj): Linear(in_features=512, out_features=512, bias=True)\n",
      "        )\n",
      "        (self_attn_layer_norm): LayerNorm((512,), eps=1e-05, elementwise_affine=True)\n",
      "        (dropout_module): FairseqDropout()\n",
      "        (activation_dropout_module): FairseqDropout()\n",
      "        (fc1): Linear(in_features=512, out_features=2048, bias=True)\n",
      "        (fc2): Linear(in_features=2048, out_features=512, bias=True)\n",
      "        (final_layer_norm): LayerNorm((512,), eps=1e-05, elementwise_affine=True)\n",
      "      )\n",
      "      (1): TransformerEncoderLayer(\n",
      "        (self_attn): MultiheadAttention(\n",
      "          (dropout_module): FairseqDropout()\n",
      "          (k_proj): Linear(in_features=512, out_features=512, bias=True)\n",
      "          (v_proj): Linear(in_features=512, out_features=512, bias=True)\n",
      "          (q_proj): Linear(in_features=512, out_features=512, bias=True)\n",
      "          (out_proj): Linear(in_features=512, out_features=512, bias=True)\n",
      "        )\n",
      "        (self_attn_layer_norm): LayerNorm((512,), eps=1e-05, elementwise_affine=True)\n",
      "        (dropout_module): FairseqDropout()\n",
      "        (activation_dropout_module): FairseqDropout()\n",
      "        (fc1): Linear(in_features=512, out_features=2048, bias=True)\n",
      "        (fc2): Linear(in_features=2048, out_features=512, bias=True)\n",
      "        (final_layer_norm): LayerNorm((512,), eps=1e-05, elementwise_affine=True)\n",
      "      )\n",
      "      (2): TransformerEncoderLayer(\n",
      "        (self_attn): MultiheadAttention(\n",
      "          (dropout_module): FairseqDropout()\n",
      "          (k_proj): Linear(in_features=512, out_features=512, bias=True)\n",
      "          (v_proj): Linear(in_features=512, out_features=512, bias=True)\n",
      "          (q_proj): Linear(in_features=512, out_features=512, bias=True)\n",
      "          (out_proj): Linear(in_features=512, out_features=512, bias=True)\n",
      "        )\n",
      "        (self_attn_layer_norm): LayerNorm((512,), eps=1e-05, elementwise_affine=True)\n",
      "        (dropout_module): FairseqDropout()\n",
      "        (activation_dropout_module): FairseqDropout()\n",
      "        (fc1): Linear(in_features=512, out_features=2048, bias=True)\n",
      "        (fc2): Linear(in_features=2048, out_features=512, bias=True)\n",
      "        (final_layer_norm): LayerNorm((512,), eps=1e-05, elementwise_affine=True)\n",
      "      )\n",
      "      (3): TransformerEncoderLayer(\n",
      "        (self_attn): MultiheadAttention(\n",
      "          (dropout_module): FairseqDropout()\n",
      "          (k_proj): Linear(in_features=512, out_features=512, bias=True)\n",
      "          (v_proj): Linear(in_features=512, out_features=512, bias=True)\n",
      "          (q_proj): Linear(in_features=512, out_features=512, bias=True)\n",
      "          (out_proj): Linear(in_features=512, out_features=512, bias=True)\n",
      "        )\n",
      "        (self_attn_layer_norm): LayerNorm((512,), eps=1e-05, elementwise_affine=True)\n",
      "        (dropout_module): FairseqDropout()\n",
      "        (activation_dropout_module): FairseqDropout()\n",
      "        (fc1): Linear(in_features=512, out_features=2048, bias=True)\n",
      "        (fc2): Linear(in_features=2048, out_features=512, bias=True)\n",
      "        (final_layer_norm): LayerNorm((512,), eps=1e-05, elementwise_affine=True)\n",
      "      )\n",
      "      (4): TransformerEncoderLayer(\n",
      "        (self_attn): MultiheadAttention(\n",
      "          (dropout_module): FairseqDropout()\n",
      "          (k_proj): Linear(in_features=512, out_features=512, bias=True)\n",
      "          (v_proj): Linear(in_features=512, out_features=512, bias=True)\n",
      "          (q_proj): Linear(in_features=512, out_features=512, bias=True)\n",
      "          (out_proj): Linear(in_features=512, out_features=512, bias=True)\n",
      "        )\n",
      "        (self_attn_layer_norm): LayerNorm((512,), eps=1e-05, elementwise_affine=True)\n",
      "        (dropout_module): FairseqDropout()\n",
      "        (activation_dropout_module): FairseqDropout()\n",
      "        (fc1): Linear(in_features=512, out_features=2048, bias=True)\n",
      "        (fc2): Linear(in_features=2048, out_features=512, bias=True)\n",
      "        (final_layer_norm): LayerNorm((512,), eps=1e-05, elementwise_affine=True)\n",
      "      )\n",
      "      (5): TransformerEncoderLayer(\n",
      "        (self_attn): MultiheadAttention(\n",
      "          (dropout_module): FairseqDropout()\n",
      "          (k_proj): Linear(in_features=512, out_features=512, bias=True)\n",
      "          (v_proj): Linear(in_features=512, out_features=512, bias=True)\n",
      "          (q_proj): Linear(in_features=512, out_features=512, bias=True)\n",
      "          (out_proj): Linear(in_features=512, out_features=512, bias=True)\n",
      "        )\n",
      "        (self_attn_layer_norm): LayerNorm((512,), eps=1e-05, elementwise_affine=True)\n",
      "        (dropout_module): FairseqDropout()\n",
      "        (activation_dropout_module): FairseqDropout()\n",
      "        (fc1): Linear(in_features=512, out_features=2048, bias=True)\n",
      "        (fc2): Linear(in_features=2048, out_features=512, bias=True)\n",
      "        (final_layer_norm): LayerNorm((512,), eps=1e-05, elementwise_affine=True)\n",
      "      )\n",
      "    )\n",
      "  )\n",
      "  (decoder): TransformerDecoder(\n",
      "    (dropout_module): FairseqDropout()\n",
      "    (embed_tokens): Embedding(472, 512, padding_idx=1)\n",
      "    (embed_positions): SinusoidalPositionalEmbedding()\n",
      "    (layers): ModuleList(\n",
      "      (0): TransformerDecoderLayer(\n",
      "        (dropout_module): FairseqDropout()\n",
      "        (self_attn): MultiheadAttention(\n",
      "          (dropout_module): FairseqDropout()\n",
      "          (k_proj): Linear(in_features=512, out_features=512, bias=True)\n",
      "          (v_proj): Linear(in_features=512, out_features=512, bias=True)\n",
      "          (q_proj): Linear(in_features=512, out_features=512, bias=True)\n",
      "          (out_proj): Linear(in_features=512, out_features=512, bias=True)\n",
      "        )\n",
      "        (activation_dropout_module): FairseqDropout()\n",
      "        (self_attn_layer_norm): LayerNorm((512,), eps=1e-05, elementwise_affine=True)\n",
      "        (encoder_attn): MultiheadAttention(\n",
      "          (dropout_module): FairseqDropout()\n",
      "          (k_proj): Linear(in_features=512, out_features=512, bias=True)\n",
      "          (v_proj): Linear(in_features=512, out_features=512, bias=True)\n",
      "          (q_proj): Linear(in_features=512, out_features=512, bias=True)\n",
      "          (out_proj): Linear(in_features=512, out_features=512, bias=True)\n",
      "        )\n",
      "        (encoder_attn_layer_norm): LayerNorm((512,), eps=1e-05, elementwise_affine=True)\n",
      "        (fc1): Linear(in_features=512, out_features=2048, bias=True)\n",
      "        (fc2): Linear(in_features=2048, out_features=512, bias=True)\n",
      "        (final_layer_norm): LayerNorm((512,), eps=1e-05, elementwise_affine=True)\n",
      "      )\n",
      "      (1): TransformerDecoderLayer(\n",
      "        (dropout_module): FairseqDropout()\n",
      "        (self_attn): MultiheadAttention(\n",
      "          (dropout_module): FairseqDropout()\n",
      "          (k_proj): Linear(in_features=512, out_features=512, bias=True)\n",
      "          (v_proj): Linear(in_features=512, out_features=512, bias=True)\n",
      "          (q_proj): Linear(in_features=512, out_features=512, bias=True)\n",
      "          (out_proj): Linear(in_features=512, out_features=512, bias=True)\n",
      "        )\n",
      "        (activation_dropout_module): FairseqDropout()\n",
      "        (self_attn_layer_norm): LayerNorm((512,), eps=1e-05, elementwise_affine=True)\n",
      "        (encoder_attn): MultiheadAttention(\n",
      "          (dropout_module): FairseqDropout()\n",
      "          (k_proj): Linear(in_features=512, out_features=512, bias=True)\n",
      "          (v_proj): Linear(in_features=512, out_features=512, bias=True)\n",
      "          (q_proj): Linear(in_features=512, out_features=512, bias=True)\n",
      "          (out_proj): Linear(in_features=512, out_features=512, bias=True)\n",
      "        )\n",
      "        (encoder_attn_layer_norm): LayerNorm((512,), eps=1e-05, elementwise_affine=True)\n",
      "        (fc1): Linear(in_features=512, out_features=2048, bias=True)\n",
      "        (fc2): Linear(in_features=2048, out_features=512, bias=True)\n",
      "        (final_layer_norm): LayerNorm((512,), eps=1e-05, elementwise_affine=True)\n",
      "      )\n",
      "      (2): TransformerDecoderLayer(\n",
      "        (dropout_module): FairseqDropout()\n",
      "        (self_attn): MultiheadAttention(\n",
      "          (dropout_module): FairseqDropout()\n",
      "          (k_proj): Linear(in_features=512, out_features=512, bias=True)\n",
      "          (v_proj): Linear(in_features=512, out_features=512, bias=True)\n",
      "          (q_proj): Linear(in_features=512, out_features=512, bias=True)\n",
      "          (out_proj): Linear(in_features=512, out_features=512, bias=True)\n",
      "        )\n",
      "        (activation_dropout_module): FairseqDropout()\n",
      "        (self_attn_layer_norm): LayerNorm((512,), eps=1e-05, elementwise_affine=True)\n",
      "        (encoder_attn): MultiheadAttention(\n",
      "          (dropout_module): FairseqDropout()\n",
      "          (k_proj): Linear(in_features=512, out_features=512, bias=True)\n",
      "          (v_proj): Linear(in_features=512, out_features=512, bias=True)\n",
      "          (q_proj): Linear(in_features=512, out_features=512, bias=True)\n",
      "          (out_proj): Linear(in_features=512, out_features=512, bias=True)\n",
      "        )\n",
      "        (encoder_attn_layer_norm): LayerNorm((512,), eps=1e-05, elementwise_affine=True)\n",
      "        (fc1): Linear(in_features=512, out_features=2048, bias=True)\n",
      "        (fc2): Linear(in_features=2048, out_features=512, bias=True)\n",
      "        (final_layer_norm): LayerNorm((512,), eps=1e-05, elementwise_affine=True)\n",
      "      )\n",
      "      (3): TransformerDecoderLayer(\n",
      "        (dropout_module): FairseqDropout()\n",
      "        (self_attn): MultiheadAttention(\n",
      "          (dropout_module): FairseqDropout()\n",
      "          (k_proj): Linear(in_features=512, out_features=512, bias=True)\n",
      "          (v_proj): Linear(in_features=512, out_features=512, bias=True)\n",
      "          (q_proj): Linear(in_features=512, out_features=512, bias=True)\n",
      "          (out_proj): Linear(in_features=512, out_features=512, bias=True)\n",
      "        )\n",
      "        (activation_dropout_module): FairseqDropout()\n",
      "        (self_attn_layer_norm): LayerNorm((512,), eps=1e-05, elementwise_affine=True)\n",
      "        (encoder_attn): MultiheadAttention(\n",
      "          (dropout_module): FairseqDropout()\n",
      "          (k_proj): Linear(in_features=512, out_features=512, bias=True)\n",
      "          (v_proj): Linear(in_features=512, out_features=512, bias=True)\n",
      "          (q_proj): Linear(in_features=512, out_features=512, bias=True)\n",
      "          (out_proj): Linear(in_features=512, out_features=512, bias=True)\n",
      "        )\n",
      "        (encoder_attn_layer_norm): LayerNorm((512,), eps=1e-05, elementwise_affine=True)\n",
      "        (fc1): Linear(in_features=512, out_features=2048, bias=True)\n",
      "        (fc2): Linear(in_features=2048, out_features=512, bias=True)\n",
      "        (final_layer_norm): LayerNorm((512,), eps=1e-05, elementwise_affine=True)\n",
      "      )\n",
      "      (4): TransformerDecoderLayer(\n",
      "        (dropout_module): FairseqDropout()\n",
      "        (self_attn): MultiheadAttention(\n",
      "          (dropout_module): FairseqDropout()\n",
      "          (k_proj): Linear(in_features=512, out_features=512, bias=True)\n",
      "          (v_proj): Linear(in_features=512, out_features=512, bias=True)\n",
      "          (q_proj): Linear(in_features=512, out_features=512, bias=True)\n",
      "          (out_proj): Linear(in_features=512, out_features=512, bias=True)\n",
      "        )\n",
      "        (activation_dropout_module): FairseqDropout()\n",
      "        (self_attn_layer_norm): LayerNorm((512,), eps=1e-05, elementwise_affine=True)\n",
      "        (encoder_attn): MultiheadAttention(\n",
      "          (dropout_module): FairseqDropout()\n",
      "          (k_proj): Linear(in_features=512, out_features=512, bias=True)\n",
      "          (v_proj): Linear(in_features=512, out_features=512, bias=True)\n",
      "          (q_proj): Linear(in_features=512, out_features=512, bias=True)\n",
      "          (out_proj): Linear(in_features=512, out_features=512, bias=True)\n",
      "        )\n",
      "        (encoder_attn_layer_norm): LayerNorm((512,), eps=1e-05, elementwise_affine=True)\n",
      "        (fc1): Linear(in_features=512, out_features=2048, bias=True)\n",
      "        (fc2): Linear(in_features=2048, out_features=512, bias=True)\n",
      "        (final_layer_norm): LayerNorm((512,), eps=1e-05, elementwise_affine=True)\n",
      "      )\n",
      "      (5): TransformerDecoderLayer(\n",
      "        (dropout_module): FairseqDropout()\n",
      "        (self_attn): MultiheadAttention(\n",
      "          (dropout_module): FairseqDropout()\n",
      "          (k_proj): Linear(in_features=512, out_features=512, bias=True)\n",
      "          (v_proj): Linear(in_features=512, out_features=512, bias=True)\n",
      "          (q_proj): Linear(in_features=512, out_features=512, bias=True)\n",
      "          (out_proj): Linear(in_features=512, out_features=512, bias=True)\n",
      "        )\n",
      "        (activation_dropout_module): FairseqDropout()\n",
      "        (self_attn_layer_norm): LayerNorm((512,), eps=1e-05, elementwise_affine=True)\n",
      "        (encoder_attn): MultiheadAttention(\n",
      "          (dropout_module): FairseqDropout()\n",
      "          (k_proj): Linear(in_features=512, out_features=512, bias=True)\n",
      "          (v_proj): Linear(in_features=512, out_features=512, bias=True)\n",
      "          (q_proj): Linear(in_features=512, out_features=512, bias=True)\n",
      "          (out_proj): Linear(in_features=512, out_features=512, bias=True)\n",
      "        )\n",
      "        (encoder_attn_layer_norm): LayerNorm((512,), eps=1e-05, elementwise_affine=True)\n",
      "        (fc1): Linear(in_features=512, out_features=2048, bias=True)\n",
      "        (fc2): Linear(in_features=2048, out_features=512, bias=True)\n",
      "        (final_layer_norm): LayerNorm((512,), eps=1e-05, elementwise_affine=True)\n",
      "      )\n",
      "    )\n",
      "    (output_projection): Linear(in_features=512, out_features=472, bias=False)\n",
      "  )\n",
      ")\n",
      "2021-05-30 18:27:55 | INFO | fairseq_cli.train | task: TranslationTask\n",
      "2021-05-30 18:27:55 | INFO | fairseq_cli.train | model: TransformerModel\n",
      "2021-05-30 18:27:55 | INFO | fairseq_cli.train | criterion: LabelSmoothedCrossEntropyCriterion\n",
      "2021-05-30 18:27:55 | INFO | fairseq_cli.train | num. shared model params: 44,621,824 (num. trained: 44,621,824)\n",
      "2021-05-30 18:27:55 | INFO | fairseq_cli.train | num. expert model params: 0 (num. trained: 0)\n",
      "2021-05-30 18:27:55 | INFO | fairseq.data.data_utils | loaded 10 examples from: ../data/fairseq_tutorial/binarized/valid.zh-th.zh\n",
      "2021-05-30 18:27:55 | INFO | fairseq.data.data_utils | loaded 10 examples from: ../data/fairseq_tutorial/binarized/valid.zh-th.th\n",
      "2021-05-30 18:27:55 | INFO | fairseq.tasks.translation | ../data/fairseq_tutorial/binarized valid zh-th 10 examples\n"
     ]
    },
    {
     "name": "stdout",
     "output_type": "stream",
     "text": [
      "2021-05-30 18:27:58 | INFO | fairseq.trainer | detected shared parameter: decoder.embed_tokens.weight <- decoder.output_projection.weight\n",
      "2021-05-30 18:27:58 | INFO | fairseq.utils | ***********************CUDA enviroments for all 1 workers***********************\n",
      "2021-05-30 18:27:58 | INFO | fairseq.utils | rank   0: capabilities =  7.0  ; total memory = 15.782 GB ; name = Tesla V100-SXM2-16GB                    \n",
      "2021-05-30 18:27:58 | INFO | fairseq.utils | ***********************CUDA enviroments for all 1 workers***********************\n",
      "2021-05-30 18:27:58 | INFO | fairseq_cli.train | training on 1 devices (GPUs/TPUs)\n",
      "2021-05-30 18:27:58 | INFO | fairseq_cli.train | max tokens per device = 5000 and max sentences per device = None\n",
      "2021-05-30 18:27:58 | INFO | fairseq.trainer | Preparing to load checkpoint ../data/fairseq_tutorial/models/checkpoint_last.pt\n",
      "2021-05-30 18:27:59 | INFO | fairseq.trainer | Loaded checkpoint ../data/fairseq_tutorial/models/checkpoint_last.pt (epoch 2 @ 1 updates)\n",
      "2021-05-30 18:27:59 | INFO | fairseq.trainer | loading train data for epoch 2\n",
      "2021-05-30 18:27:59 | INFO | fairseq.data.data_utils | loaded 79 examples from: ../data/fairseq_tutorial/binarized/train.zh-th.zh\n",
      "2021-05-30 18:27:59 | INFO | fairseq.data.data_utils | loaded 79 examples from: ../data/fairseq_tutorial/binarized/train.zh-th.th\n",
      "2021-05-30 18:27:59 | INFO | fairseq.tasks.translation | ../data/fairseq_tutorial/binarized train zh-th 79 examples\n",
      "epoch 002:   0%|                                          | 0/1 [00:00<?, ?it/s]\u001b[34m\u001b[1mwandb\u001b[0m: Currently logged in as: \u001b[33mcstorm125\u001b[0m (use `wandb login --relogin` to force relogin)\n",
      "\u001b[34m\u001b[1mwandb\u001b[0m: wandb version 0.10.31 is available!  To upgrade, please run:\n",
      "\u001b[34m\u001b[1mwandb\u001b[0m:  $ pip install wandb --upgrade\n",
      "2021-05-30 18:28:00.534263: W tensorflow/stream_executor/platform/default/dso_loader.cc:59] Could not load dynamic library 'libcudart.so.10.1'; dlerror: libcudart.so.10.1: cannot open shared object file: No such file or directory; LD_LIBRARY_PATH: /usr/local/cuda/lib64:/usr/local/nccl2/lib:/usr/local/cuda/extras/CUPTI/lib64\n",
      "2021-05-30 18:28:00.534311: I tensorflow/stream_executor/cuda/cudart_stub.cc:29] Ignore above cudart dlerror if you do not have a GPU set up on your machine.\n",
      "\u001b[34m\u001b[1mwandb\u001b[0m: Tracking run with wandb version 0.10.23\n",
      "\u001b[34m\u001b[1mwandb\u001b[0m: Syncing run \u001b[33mmodels\u001b[0m\n",
      "\u001b[34m\u001b[1mwandb\u001b[0m: ⭐️ View project at \u001b[34m\u001b[4mhttps://wandb.ai/cstorm125/fairseq-tutorial\u001b[0m\n",
      "\u001b[34m\u001b[1mwandb\u001b[0m: 🚀 View run at \u001b[34m\u001b[4mhttps://wandb.ai/cstorm125/fairseq-tutorial/runs/3qea5wn7\u001b[0m\n",
      "\u001b[34m\u001b[1mwandb\u001b[0m: Run data is saved locally in /home/cstorm125/NLP-ZH_TH-Project/notebooks/wandb/run-20210530_182759-3qea5wn7\n",
      "\u001b[34m\u001b[1mwandb\u001b[0m: Run `wandb offline` to turn off syncing.\n",
      "\n",
      "2021-05-30 18:28:02 | INFO | fairseq.trainer | begin training epoch 2\n",
      "2021-05-30 18:28:02 | INFO | fairseq_cli.train | Start iterating over samples\n",
      "2021-05-30 18:28:02 | INFO | fairseq_cli.train | begin validation on \"valid\" subset\n",
      "2021-05-30 18:28:02 | INFO | valid | epoch 002 | valid on 'valid' subset | loss 9.69 | nll_loss 9.692 | ppl 827.22 | wps 3208.2 | wpb 71.5 | bsz 5 | num_updates 2 | best_loss 9.69\n",
      "2021-05-30 18:28:02 | INFO | fairseq.checkpoint_utils | Preparing to save checkpoint for epoch 2 @ 2 updates\n",
      "2021-05-30 18:28:02 | INFO | fairseq.trainer | Saving checkpoint to ../data/fairseq_tutorial/models/checkpoint2.pt\n",
      "2021-05-30 18:28:03 | INFO | fairseq.trainer | Finished saving checkpoint to ../data/fairseq_tutorial/models/checkpoint2.pt\n",
      "2021-05-30 18:28:12 | INFO | fairseq.checkpoint_utils | Saved checkpoint ../data/fairseq_tutorial/models/checkpoint2.pt (epoch 2 @ 2 updates, score 9.69) (writing took 10.185011350999957 seconds)\n",
      "epoch 002: 100%|██████████████████████████████████| 1/1 [00:13<00:00, 13.14s/it]2021-05-30 18:28:12 | INFO | fairseq_cli.train | end of epoch 2 (average epoch stats below)\n",
      "2021-05-30 18:28:12 | INFO | train | epoch 002 | loss 9.639 | nll_loss 9.64 | ppl 797.97 | wps 0 | ups 0 | wpb 1093 | bsz 79 | num_updates 2 | lr 3.4995e-07 | gnorm 6.266 | loss_scale 128 | train_wall 0 | gb_free 14.4 | wall 14\n",
      "2021-05-30 18:28:12 | INFO | fairseq.trainer | begin training epoch 3\n",
      "2021-05-30 18:28:12 | INFO | fairseq_cli.train | Start iterating over samples\n",
      "2021-05-30 18:28:12 | INFO | fairseq_cli.train | begin validation on \"valid\" subset\n",
      "2021-05-30 18:28:12 | INFO | valid | epoch 003 | valid on 'valid' subset | loss 9.689 | nll_loss 9.691 | ppl 826.42 | wps 3112.9 | wpb 71.5 | bsz 5 | num_updates 3 | best_loss 9.689\n",
      "2021-05-30 18:28:12 | INFO | fairseq.checkpoint_utils | Preparing to save checkpoint for epoch 3 @ 3 updates\n",
      "2021-05-30 18:28:12 | INFO | fairseq.trainer | Saving checkpoint to ../data/fairseq_tutorial/models/checkpoint3.pt\n",
      "2021-05-30 18:28:13 | INFO | fairseq.trainer | Finished saving checkpoint to ../data/fairseq_tutorial/models/checkpoint3.pt\n",
      "2021-05-30 18:28:22 | INFO | fairseq.checkpoint_utils | Saved checkpoint ../data/fairseq_tutorial/models/checkpoint3.pt (epoch 3 @ 3 updates, score 9.689) (writing took 10.171653674000027 seconds)\n",
      "2021-05-30 18:28:22 | INFO | fairseq_cli.train | end of epoch 3 (average epoch stats below)\n",
      "2021-05-30 18:28:22 | INFO | train | epoch 003 | loss 9.601 | nll_loss 9.599 | ppl 775.31 | wps 105.4 | ups 0.1 | wpb 1093 | bsz 79 | num_updates 3 | lr 4.74925e-07 | gnorm 6.341 | loss_scale 128 | train_wall 0 | gb_free 14.4 | wall 24\n",
      "2021-05-30 18:28:22 | INFO | fairseq.trainer | begin training epoch 4\n",
      "2021-05-30 18:28:22 | INFO | fairseq_cli.train | Start iterating over samples\n",
      "2021-05-30 18:28:22 | INFO | fairseq_cli.train | begin validation on \"valid\" subset\n",
      "2021-05-30 18:28:22 | INFO | valid | epoch 004 | valid on 'valid' subset | loss 9.685 | nll_loss 9.686 | ppl 823.8 | wps 3065.9 | wpb 71.5 | bsz 5 | num_updates 4 | best_loss 9.685\n",
      "2021-05-30 18:28:22 | INFO | fairseq.checkpoint_utils | Preparing to save checkpoint for epoch 4 @ 4 updates\n",
      "2021-05-30 18:28:22 | INFO | fairseq.trainer | Saving checkpoint to ../data/fairseq_tutorial/models/checkpoint4.pt\n",
      "2021-05-30 18:28:23 | INFO | fairseq.trainer | Finished saving checkpoint to ../data/fairseq_tutorial/models/checkpoint4.pt\n",
      "2021-05-30 18:28:33 | INFO | fairseq.checkpoint_utils | Saved checkpoint ../data/fairseq_tutorial/models/checkpoint4.pt (epoch 4 @ 4 updates, score 9.685) (writing took 10.04700419999972 seconds)\n",
      "2021-05-30 18:28:33 | INFO | fairseq_cli.train | end of epoch 4 (average epoch stats below)\n",
      "2021-05-30 18:28:33 | INFO | train | epoch 004 | loss 9.648 | nll_loss 9.649 | ppl 803.11 | wps 106.7 | ups 0.1 | wpb 1093 | bsz 79 | num_updates 4 | lr 5.999e-07 | gnorm 6.424 | loss_scale 128 | train_wall 0 | gb_free 14.5 | wall 34\n",
      "2021-05-30 18:28:33 | INFO | fairseq.trainer | begin training epoch 5\n",
      "2021-05-30 18:28:33 | INFO | fairseq_cli.train | Start iterating over samples\n",
      "2021-05-30 18:28:33 | INFO | fairseq_cli.train | begin validation on \"valid\" subset\n",
      "2021-05-30 18:28:33 | INFO | valid | epoch 005 | valid on 'valid' subset | loss 9.682 | nll_loss 9.684 | ppl 822.32 | wps 3216.4 | wpb 71.5 | bsz 5 | num_updates 5 | best_loss 9.682\n",
      "2021-05-30 18:28:33 | INFO | fairseq.checkpoint_utils | Preparing to save checkpoint for epoch 5 @ 5 updates\n",
      "2021-05-30 18:28:33 | INFO | fairseq.trainer | Saving checkpoint to ../data/fairseq_tutorial/models/checkpoint5.pt\n",
      "2021-05-30 18:28:34 | INFO | fairseq.trainer | Finished saving checkpoint to ../data/fairseq_tutorial/models/checkpoint5.pt\n",
      "2021-05-30 18:28:48 | INFO | fairseq.checkpoint_utils | Saved checkpoint ../data/fairseq_tutorial/models/checkpoint5.pt (epoch 5 @ 5 updates, score 9.682) (writing took 15.03830141599974 seconds)\n",
      "2021-05-30 18:28:48 | INFO | fairseq_cli.train | end of epoch 5 (average epoch stats below)\n",
      "2021-05-30 18:28:48 | INFO | train | epoch 005 | loss 9.6 | nll_loss 9.597 | ppl 774.43 | wps 71.8 | ups 0.07 | wpb 1093 | bsz 79 | num_updates 5 | lr 7.24875e-07 | gnorm 6.384 | loss_scale 128 | train_wall 0 | gb_free 14.4 | wall 50\n",
      "2021-05-30 18:28:48 | INFO | fairseq.trainer | begin training epoch 6\n",
      "2021-05-30 18:28:48 | INFO | fairseq_cli.train | Start iterating over samples\n",
      "2021-05-30 18:28:48 | INFO | fairseq_cli.train | begin validation on \"valid\" subset\n"
     ]
    },
    {
     "name": "stdout",
     "output_type": "stream",
     "text": [
      "2021-05-30 18:28:48 | INFO | valid | epoch 006 | valid on 'valid' subset | loss 9.665 | nll_loss 9.665 | ppl 811.79 | wps 2837.3 | wpb 71.5 | bsz 5 | num_updates 6 | best_loss 9.665\n",
      "2021-05-30 18:28:48 | INFO | fairseq.checkpoint_utils | Preparing to save checkpoint for epoch 6 @ 6 updates\n",
      "2021-05-30 18:28:48 | INFO | fairseq.trainer | Saving checkpoint to ../data/fairseq_tutorial/models/checkpoint6.pt\n",
      "2021-05-30 18:28:49 | INFO | fairseq.trainer | Finished saving checkpoint to ../data/fairseq_tutorial/models/checkpoint6.pt\n",
      "2021-05-30 18:29:06 | INFO | fairseq.checkpoint_utils | Saved checkpoint ../data/fairseq_tutorial/models/checkpoint6.pt (epoch 6 @ 6 updates, score 9.665) (writing took 17.626613359999737 seconds)\n",
      "2021-05-30 18:29:06 | INFO | fairseq_cli.train | end of epoch 6 (average epoch stats below)\n",
      "2021-05-30 18:29:06 | INFO | train | epoch 006 | loss 9.627 | nll_loss 9.627 | ppl 790.75 | wps 61.3 | ups 0.06 | wpb 1093 | bsz 79 | num_updates 6 | lr 8.4985e-07 | gnorm 6.399 | loss_scale 128 | train_wall 0 | gb_free 14.5 | wall 67\n",
      "2021-05-30 18:29:06 | INFO | fairseq.trainer | begin training epoch 7\n",
      "2021-05-30 18:29:06 | INFO | fairseq_cli.train | Start iterating over samples\n",
      "2021-05-30 18:29:06 | INFO | fairseq_cli.train | begin validation on \"valid\" subset\n",
      "2021-05-30 18:29:06 | INFO | valid | epoch 007 | valid on 'valid' subset | loss 9.658 | nll_loss 9.657 | ppl 807.58 | wps 3224.5 | wpb 71.5 | bsz 5 | num_updates 7 | best_loss 9.658\n",
      "2021-05-30 18:29:06 | INFO | fairseq.checkpoint_utils | Preparing to save checkpoint for epoch 7 @ 7 updates\n",
      "2021-05-30 18:29:06 | INFO | fairseq.trainer | Saving checkpoint to ../data/fairseq_tutorial/models/checkpoint7.pt\n",
      "2021-05-30 18:29:07 | INFO | fairseq.trainer | Finished saving checkpoint to ../data/fairseq_tutorial/models/checkpoint7.pt\n",
      "2021-05-30 18:29:18 | INFO | fairseq.checkpoint_utils | Saved checkpoint ../data/fairseq_tutorial/models/checkpoint7.pt (epoch 7 @ 7 updates, score 9.658) (writing took 12.099286169999687 seconds)\n",
      "2021-05-30 18:29:18 | INFO | fairseq_cli.train | end of epoch 7 (average epoch stats below)\n",
      "2021-05-30 18:29:18 | INFO | train | epoch 007 | loss 9.639 | nll_loss 9.64 | ppl 798.04 | wps 88.8 | ups 0.08 | wpb 1093 | bsz 79 | num_updates 7 | lr 9.74825e-07 | gnorm 6.467 | loss_scale 128 | train_wall 0 | gb_free 14.5 | wall 80\n",
      "2021-05-30 18:29:18 | INFO | fairseq.trainer | begin training epoch 8\n",
      "2021-05-30 18:29:18 | INFO | fairseq_cli.train | Start iterating over samples\n",
      "2021-05-30 18:29:18 | INFO | fairseq_cli.train | begin validation on \"valid\" subset\n",
      "2021-05-30 18:29:18 | INFO | valid | epoch 008 | valid on 'valid' subset | loss 9.602 | nll_loss 9.595 | ppl 773.62 | wps 3099.5 | wpb 71.5 | bsz 5 | num_updates 8 | best_loss 9.602\n",
      "2021-05-30 18:29:18 | INFO | fairseq.checkpoint_utils | Preparing to save checkpoint for epoch 8 @ 8 updates\n",
      "2021-05-30 18:29:18 | INFO | fairseq.trainer | Saving checkpoint to ../data/fairseq_tutorial/models/checkpoint8.pt\n",
      "2021-05-30 18:29:19 | INFO | fairseq.trainer | Finished saving checkpoint to ../data/fairseq_tutorial/models/checkpoint8.pt\n",
      "2021-05-30 18:29:35 | INFO | fairseq.checkpoint_utils | Saved checkpoint ../data/fairseq_tutorial/models/checkpoint8.pt (epoch 8 @ 8 updates, score 9.602) (writing took 16.52761162600018 seconds)\n",
      "2021-05-30 18:29:35 | INFO | fairseq_cli.train | end of epoch 8 (average epoch stats below)\n",
      "2021-05-30 18:29:35 | INFO | train | epoch 008 | loss 9.602 | nll_loss 9.599 | ppl 775.74 | wps 65.3 | ups 0.06 | wpb 1093 | bsz 79 | num_updates 8 | lr 1.0998e-06 | gnorm 6.354 | loss_scale 128 | train_wall 0 | gb_free 14.4 | wall 96\n",
      "2021-05-30 18:29:35 | INFO | fairseq.trainer | begin training epoch 9\n",
      "2021-05-30 18:29:35 | INFO | fairseq_cli.train | Start iterating over samples\n",
      "2021-05-30 18:29:35 | INFO | fairseq_cli.train | begin validation on \"valid\" subset\n",
      "2021-05-30 18:29:35 | INFO | valid | epoch 009 | valid on 'valid' subset | loss 9.584 | nll_loss 9.576 | ppl 763.12 | wps 2539.9 | wpb 71.5 | bsz 5 | num_updates 9 | best_loss 9.584\n",
      "2021-05-30 18:29:35 | INFO | fairseq.checkpoint_utils | Preparing to save checkpoint for epoch 9 @ 9 updates\n",
      "2021-05-30 18:29:35 | INFO | fairseq.trainer | Saving checkpoint to ../data/fairseq_tutorial/models/checkpoint9.pt\n",
      "2021-05-30 18:29:36 | INFO | fairseq.trainer | Finished saving checkpoint to ../data/fairseq_tutorial/models/checkpoint9.pt\n",
      "2021-05-30 18:29:51 | INFO | fairseq.checkpoint_utils | Saved checkpoint ../data/fairseq_tutorial/models/checkpoint9.pt (epoch 9 @ 9 updates, score 9.584) (writing took 15.962500663000355 seconds)\n",
      "2021-05-30 18:29:51 | INFO | fairseq_cli.train | end of epoch 9 (average epoch stats below)\n",
      "2021-05-30 18:29:51 | INFO | train | epoch 009 | loss 9.554 | nll_loss 9.547 | ppl 747.98 | wps 67.6 | ups 0.06 | wpb 1093 | bsz 79 | num_updates 9 | lr 1.22478e-06 | gnorm 6.305 | loss_scale 128 | train_wall 0 | gb_free 14.5 | wall 113\n",
      "2021-05-30 18:29:51 | INFO | fairseq.trainer | begin training epoch 10\n",
      "2021-05-30 18:29:51 | INFO | fairseq_cli.train | Start iterating over samples\n",
      "2021-05-30 18:29:51 | INFO | fairseq_cli.train | begin validation on \"valid\" subset\n",
      "2021-05-30 18:29:51 | INFO | valid | epoch 010 | valid on 'valid' subset | loss 9.563 | nll_loss 9.553 | ppl 751.31 | wps 3014.8 | wpb 71.5 | bsz 5 | num_updates 10 | best_loss 9.563\n",
      "2021-05-30 18:29:51 | INFO | fairseq.checkpoint_utils | Preparing to save checkpoint for epoch 10 @ 10 updates\n",
      "2021-05-30 18:29:51 | INFO | fairseq.trainer | Saving checkpoint to ../data/fairseq_tutorial/models/checkpoint10.pt\n",
      "2021-05-30 18:29:52 | INFO | fairseq.trainer | Finished saving checkpoint to ../data/fairseq_tutorial/models/checkpoint10.pt\n",
      "2021-05-30 18:30:04 | INFO | fairseq.checkpoint_utils | Saved checkpoint ../data/fairseq_tutorial/models/checkpoint10.pt (epoch 10 @ 10 updates, score 9.563) (writing took 13.117237547999594 seconds)\n",
      "2021-05-30 18:30:04 | INFO | fairseq_cli.train | end of epoch 10 (average epoch stats below)\n",
      "2021-05-30 18:30:04 | INFO | train | epoch 010 | loss 9.602 | nll_loss 9.599 | ppl 775.49 | wps 82.1 | ups 0.08 | wpb 1093 | bsz 79 | num_updates 10 | lr 1.34975e-06 | gnorm 6.251 | loss_scale 128 | train_wall 0 | gb_free 14.5 | wall 126\n",
      "2021-05-30 18:30:04 | INFO | fairseq_cli.train | done training in 125.3 seconds\n",
      "\n",
      "\u001b[34m\u001b[1mwandb\u001b[0m: Waiting for W&B process to finish, PID 5441\n",
      "\u001b[34m\u001b[1mwandb\u001b[0m: Program ended successfully.\n",
      "\u001b[34m\u001b[1mwandb\u001b[0m:                                                                                \n",
      "\u001b[34m\u001b[1mwandb\u001b[0m: Find user logs for this run at: /home/cstorm125/NLP-ZH_TH-Project/notebooks/wandb/run-20210530_182759-3qea5wn7/logs/debug.log\n",
      "\u001b[34m\u001b[1mwandb\u001b[0m: Find internal logs for this run at: /home/cstorm125/NLP-ZH_TH-Project/notebooks/wandb/run-20210530_182759-3qea5wn7/logs/debug-internal.log\n",
      "\u001b[34m\u001b[1mwandb\u001b[0m: Run summary:\n",
      "\u001b[34m\u001b[1mwandb\u001b[0m:         valid/loss 9.563\n",
      "\u001b[34m\u001b[1mwandb\u001b[0m:          valid/wpb 71.5\n",
      "\u001b[34m\u001b[1mwandb\u001b[0m:    valid/best_loss 9.563\n",
      "\u001b[34m\u001b[1mwandb\u001b[0m:          valid/wps 3014.8\n",
      "\u001b[34m\u001b[1mwandb\u001b[0m:          valid/bsz 5.0\n",
      "\u001b[34m\u001b[1mwandb\u001b[0m:     valid/nll_loss 9.553\n",
      "\u001b[34m\u001b[1mwandb\u001b[0m:          valid/ppl 751.31\n",
      "\u001b[34m\u001b[1mwandb\u001b[0m:   train/loss_scale 128\n",
      "\u001b[34m\u001b[1mwandb\u001b[0m:         train/loss 9.602\n",
      "\u001b[34m\u001b[1mwandb\u001b[0m:        train/gnorm 6.251\n",
      "\u001b[34m\u001b[1mwandb\u001b[0m:          train/wpb 1093.0\n",
      "\u001b[34m\u001b[1mwandb\u001b[0m:          train/wps 82.1\n",
      "\u001b[34m\u001b[1mwandb\u001b[0m:         train/wall 126.0\n",
      "\u001b[34m\u001b[1mwandb\u001b[0m:   train/train_wall 0.0\n",
      "\u001b[34m\u001b[1mwandb\u001b[0m:      train/gb_free 14.5\n",
      "\u001b[34m\u001b[1mwandb\u001b[0m:          train/ups 0.08\n",
      "\u001b[34m\u001b[1mwandb\u001b[0m:          train/bsz 79.0\n",
      "\u001b[34m\u001b[1mwandb\u001b[0m:           train/lr 0.0\n",
      "\u001b[34m\u001b[1mwandb\u001b[0m:     train/nll_loss 9.599\n",
      "\u001b[34m\u001b[1mwandb\u001b[0m:          train/ppl 775.49\n",
      "\u001b[34m\u001b[1mwandb\u001b[0m:           _runtime 125\n",
      "\u001b[34m\u001b[1mwandb\u001b[0m:         _timestamp 1622399404\n",
      "\u001b[34m\u001b[1mwandb\u001b[0m:              _step 10\n",
      "\u001b[34m\u001b[1mwandb\u001b[0m: Run history:\n",
      "\u001b[34m\u001b[1mwandb\u001b[0m:         valid/loss ████▇▆▃▂▁\n",
      "\u001b[34m\u001b[1mwandb\u001b[0m:          valid/wpb ▁▁▁▁▁▁▁▁▁\n",
      "\u001b[34m\u001b[1mwandb\u001b[0m:    valid/best_loss ████▇▆▃▂▁\n",
      "\u001b[34m\u001b[1mwandb\u001b[0m:          valid/wps █▇▆█▄█▇▁▆\n",
      "\u001b[34m\u001b[1mwandb\u001b[0m:          valid/bsz ▁▁▁▁▁▁▁▁▁\n",
      "\u001b[34m\u001b[1mwandb\u001b[0m:     valid/nll_loss ████▇▆▃▂▁\n",
      "\u001b[34m\u001b[1mwandb\u001b[0m:          valid/ppl ████▇▆▃▂▁\n",
      "\u001b[34m\u001b[1mwandb\u001b[0m:   train/loss_scale ▁▁▁▁▁▁▁▁▁\n",
      "\u001b[34m\u001b[1mwandb\u001b[0m:         train/loss ▇▅█▄▆▇▅▁▅\n",
      "\u001b[34m\u001b[1mwandb\u001b[0m:        train/gnorm ▁▄▇▅▆█▄▃▁\n",
      "\u001b[34m\u001b[1mwandb\u001b[0m:          train/wpb ▁▁▁▁▁▁▁▁▁\n",
      "\u001b[34m\u001b[1mwandb\u001b[0m:          train/wps ▁██▆▅▇▅▅▆\n",
      "\u001b[34m\u001b[1mwandb\u001b[0m:         train/wall ▁▂▂▃▄▅▆▇█\n",
      "\u001b[34m\u001b[1mwandb\u001b[0m:   train/train_wall ▁▁▁▁▁▁▁▁▁\n",
      "\u001b[34m\u001b[1mwandb\u001b[0m:      train/gb_free ▁▁█▁██▁██\n",
      "\u001b[34m\u001b[1mwandb\u001b[0m:          train/ups ▁██▆▅▇▅▅▇\n",
      "\u001b[34m\u001b[1mwandb\u001b[0m:          train/bsz ▁▁▁▁▁▁▁▁▁\n",
      "\u001b[34m\u001b[1mwandb\u001b[0m:           train/lr ▁▂▃▄▄▅▆▇█\n",
      "\u001b[34m\u001b[1mwandb\u001b[0m:     train/nll_loss ▇▅█▄▆▇▅▁▅\n",
      "\u001b[34m\u001b[1mwandb\u001b[0m:          train/ppl ▇▄█▄▆▇▅▁▄\n",
      "\u001b[34m\u001b[1mwandb\u001b[0m:           _runtime ▁▂▂▃▄▅▆▇█\n",
      "\u001b[34m\u001b[1mwandb\u001b[0m:         _timestamp ▁▂▂▃▄▅▆▇█\n",
      "\u001b[34m\u001b[1mwandb\u001b[0m:              _step ▁▂▃▄▅▅▆▇█\n",
      "\u001b[34m\u001b[1mwandb\u001b[0m: \n",
      "\u001b[34m\u001b[1mwandb\u001b[0m: Synced 5 W&B file(s), 0 media file(s), 0 artifact file(s) and 0 other file(s)\n",
      "\u001b[34m\u001b[1mwandb\u001b[0m: \n",
      "\u001b[34m\u001b[1mwandb\u001b[0m: Synced \u001b[33mmodels\u001b[0m: \u001b[34mhttps://wandb.ai/cstorm125/fairseq-tutorial/runs/3qea5wn7\u001b[0m\n"
     ]
    }
   ],
   "source": [
    "!CUDA_VISIBLE_DEVICES=0 fairseq-train ../data/fairseq_tutorial/binarizedR \\\n",
    "    --arch transformer --share-decoder-input-output-embed \\\n",
    "    --optimizer adam --adam-betas '(0.9, 0.98)' --clip-norm 0.0 \\\n",
    "    --lr 5e-4 --lr-scheduler inverse_sqrt --warmup-updates 4000 --warmup-init-lr 1e-07 \\\n",
    "    --dropout 0.3 --weight-decay 0.0 \\\n",
    "    --criterion label_smoothed_cross_entropy --label-smoothing 0.1 \\\n",
    "    --skip-invalid-size-inputs-valid-test \\\n",
    "    --max-tokens 5000 \\\n",
    "    --save-dir ../data/fairseq_tutorial/models \\\n",
    "    --update-freq 16 \\\n",
    "    --wandb-project $WANDB_PROJECT \\\n",
    "    --fp16 \\\n",
    "    --keep-last-epochs 25 \\\n",
    "    --max-epoch 10 \\\n",
    "    --num-workers 0"
   ]
  },
  {
   "cell_type": "markdown",
   "metadata": {},
   "source": [
    "## Make Predictions with `fairseq-interactive`"
   ]
  },
  {
   "cell_type": "code",
   "execution_count": 32,
   "metadata": {},
   "outputs": [],
   "source": [
    "!cat ../data/fairseq_tutorial/tokenized/test.zh \\\n",
    "    | fairseq-interactive ../data/fairseq_tutorial/binarized \\\n",
    "      --task translation \\\n",
    "      --source-lang zh --target-lang th \\\n",
    "      --path ../data/fairseq_tutorial/models/checkpoint_best.pt \\\n",
    "      --buffer-size 2500 \\\n",
    "      --fp16 \\\n",
    "      --max-tokens 20000 \\\n",
    "      --beam 4 \\\n",
    "    > ../data/fairseq_tutorial/predictions/zhth_test.out"
   ]
  },
  {
   "cell_type": "markdown",
   "metadata": {},
   "source": [
    "## Measure Performance with BLEU and chrF"
   ]
  },
  {
   "cell_type": "markdown",
   "metadata": {},
   "source": [
    "To be added."
   ]
  },
  {
   "cell_type": "code",
   "execution_count": null,
   "metadata": {},
   "outputs": [],
   "source": []
  }
 ],
 "metadata": {
  "kernelspec": {
   "display_name": "Python 3",
   "language": "python",
   "name": "python3"
  },
  "language_info": {
   "codemirror_mode": {
    "name": "ipython",
    "version": 3
   },
   "file_extension": ".py",
   "mimetype": "text/x-python",
   "name": "python",
   "nbconvert_exporter": "python",
   "pygments_lexer": "ipython3",
   "version": "3.7.10"
  }
 },
 "nbformat": 4,
 "nbformat_minor": 2
}
