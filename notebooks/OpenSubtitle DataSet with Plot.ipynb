{
 "cells": [
  {
   "cell_type": "markdown",
   "metadata": {},
   "source": [
    "# OpenSubtitle DataSet with Plot"
   ]
  },
  {
   "cell_type": "code",
   "execution_count": 2,
   "metadata": {},
   "outputs": [],
   "source": [
    "#read full dataset\n",
    "with open(\"../data/OpenSubtitles/OpenSubtitles.th-zh_cn.th\",\"r\",encoding='utf-8') as f:\n",
    "    th_lines = f.readlines()\n",
    "    th_lines = [i[:-1] for i in th_lines]\n",
    "with open(\"../data/OpenSubtitles/OpenSubtitles.th-zh_cn.zh_cn\",\"r\",encoding='utf-8') as f:\n",
    "    zh_lines = f.readlines()\n",
    "    zh_lines = [i[:-1] for i in zh_lines]"
   ]
  },
  {
   "cell_type": "code",
   "execution_count": null,
   "metadata": {},
   "outputs": [],
   "source": []
  },
  {
   "cell_type": "code",
   "execution_count": 3,
   "metadata": {},
   "outputs": [
    {
     "data": {
      "text/plain": [
       "1227589"
      ]
     },
     "execution_count": 3,
     "metadata": {},
     "output_type": "execute_result"
    }
   ],
   "source": [
    "len(th_lines)"
   ]
  },
  {
   "cell_type": "code",
   "execution_count": 4,
   "metadata": {},
   "outputs": [
    {
     "data": {
      "text/plain": [
       "['คุณจำตอนพิธีล้างบาปของคุณได้ เป็นไปได้ยังไง?',\n",
       " 'เป็นไปไม่ได้รึไง? แต่มันจริงนะ',\n",
       " 'คุณได้ยินผู้ใหญ่เขาคุยกันรึเปล่า?',\n",
       " 'ฉันรู้สึกได้ถึงแสงอาทิตย์ลอดผ่านกระจกเข้ามา',\n",
       " 'ฉันยังจำเสียงหัวใจเต้นของพ่อได้',\n",
       " 'ไม่ใช่ฉันที่จำได้ แต่เป็นความทรงจำของฉันต่างหาก',\n",
       " 'แต่คุณไม่ใช่ คาธอลิกแล้วนี่?',\n",
       " 'เขาปล่อยให้คนอื่นผ่านไป',\n",
       " 'ทำไมอยู่ดีๆถึงพูดเรื่องพิธีล้างบาปขึ้นมาล่ะ?',\n",
       " 'ฉันนึกถึงมันบ่อยๆ บางทีฉันก็จำได้']"
      ]
     },
     "execution_count": 4,
     "metadata": {},
     "output_type": "execute_result"
    }
   ],
   "source": [
    "th_lines[:10]"
   ]
  },
  {
   "cell_type": "code",
   "execution_count": 5,
   "metadata": {},
   "outputs": [
    {
     "data": {
      "text/plain": [
       "1227589"
      ]
     },
     "execution_count": 5,
     "metadata": {},
     "output_type": "execute_result"
    }
   ],
   "source": [
    "len(zh_lines)"
   ]
  },
  {
   "cell_type": "code",
   "execution_count": 6,
   "metadata": {},
   "outputs": [
    {
     "data": {
      "text/plain": [
       "['记得自己的洗礼仪式 这可能吗?',\n",
       " '不可能?',\n",
       " '可那是事实啊 是听大人们说的吧?',\n",
       " '我能感受到透过玻璃的阳光',\n",
       " '我还记得爸爸的心跳声呢',\n",
       " '真的不是听来的 是记忆里的',\n",
       " '你也不是信天主教的吧',\n",
       " '改新教也有洗礼这种仪式',\n",
       " '为什么忽然提起洗礼仪式?',\n",
       " '最近想起来的 偶尔会想起']"
      ]
     },
     "execution_count": 6,
     "metadata": {},
     "output_type": "execute_result"
    }
   ],
   "source": [
    "zh_lines[:10]"
   ]
  },
  {
   "cell_type": "code",
   "execution_count": 7,
   "metadata": {},
   "outputs": [],
   "source": [
    "import pandas as pd"
   ]
  },
  {
   "cell_type": "code",
   "execution_count": 8,
   "metadata": {},
   "outputs": [],
   "source": [
    "df = pd.DataFrame({'th':th_lines,'zh':zh_lines}) "
   ]
  },
  {
   "cell_type": "code",
   "execution_count": 9,
   "metadata": {},
   "outputs": [
    {
     "data": {
      "text/html": [
       "<div>\n",
       "<style scoped>\n",
       "    .dataframe tbody tr th:only-of-type {\n",
       "        vertical-align: middle;\n",
       "    }\n",
       "\n",
       "    .dataframe tbody tr th {\n",
       "        vertical-align: top;\n",
       "    }\n",
       "\n",
       "    .dataframe thead th {\n",
       "        text-align: right;\n",
       "    }\n",
       "</style>\n",
       "<table border=\"1\" class=\"dataframe\">\n",
       "  <thead>\n",
       "    <tr style=\"text-align: right;\">\n",
       "      <th></th>\n",
       "      <th>th</th>\n",
       "      <th>zh</th>\n",
       "    </tr>\n",
       "  </thead>\n",
       "  <tbody>\n",
       "    <tr>\n",
       "      <th>0</th>\n",
       "      <td>คุณจำตอนพิธีล้างบาปของคุณได้ เป็นไปได้ยังไง?</td>\n",
       "      <td>记得自己的洗礼仪式 这可能吗?</td>\n",
       "    </tr>\n",
       "    <tr>\n",
       "      <th>1</th>\n",
       "      <td>เป็นไปไม่ได้รึไง? แต่มันจริงนะ</td>\n",
       "      <td>不可能?</td>\n",
       "    </tr>\n",
       "    <tr>\n",
       "      <th>2</th>\n",
       "      <td>คุณได้ยินผู้ใหญ่เขาคุยกันรึเปล่า?</td>\n",
       "      <td>可那是事实啊 是听大人们说的吧?</td>\n",
       "    </tr>\n",
       "    <tr>\n",
       "      <th>3</th>\n",
       "      <td>ฉันรู้สึกได้ถึงแสงอาทิตย์ลอดผ่านกระจกเข้ามา</td>\n",
       "      <td>我能感受到透过玻璃的阳光</td>\n",
       "    </tr>\n",
       "    <tr>\n",
       "      <th>4</th>\n",
       "      <td>ฉันยังจำเสียงหัวใจเต้นของพ่อได้</td>\n",
       "      <td>我还记得爸爸的心跳声呢</td>\n",
       "    </tr>\n",
       "    <tr>\n",
       "      <th>...</th>\n",
       "      <td>...</td>\n",
       "      <td>...</td>\n",
       "    </tr>\n",
       "    <tr>\n",
       "      <th>1227584</th>\n",
       "      <td>นั่นก็เพราะว่า ผมต้องการให้มันเป็นอย่างนั้น</td>\n",
       "      <td>这是我自己的原则</td>\n",
       "    </tr>\n",
       "    <tr>\n",
       "      <th>1227585</th>\n",
       "      <td>(เหล่าสุภาพสตรีของผม โดย มิชิมะ ชิน)</td>\n",
       "      <td>（我的女人们）</td>\n",
       "    </tr>\n",
       "    <tr>\n",
       "      <th>1227586</th>\n",
       "      <td>(ภาพยนตร์ชุดนี้เป็นเรื่องแต่ง) (ตัวละครและองค์...</td>\n",
       "      <td>（本剧纯属虚构 剧中人物、团体名称皆为架空）</td>\n",
       "    </tr>\n",
       "    <tr>\n",
       "      <th>1227587</th>\n",
       "      <td>คำบรรยายโดย:</td>\n",
       "      <td>字幕翻译：</td>\n",
       "    </tr>\n",
       "    <tr>\n",
       "      <th>1227588</th>\n",
       "      <td>วัชรพล อิศรานนท์</td>\n",
       "      <td>汪千然</td>\n",
       "    </tr>\n",
       "  </tbody>\n",
       "</table>\n",
       "<p>1227589 rows × 2 columns</p>\n",
       "</div>"
      ],
      "text/plain": [
       "                                                        th  \\\n",
       "0             คุณจำตอนพิธีล้างบาปของคุณได้ เป็นไปได้ยังไง?   \n",
       "1                           เป็นไปไม่ได้รึไง? แต่มันจริงนะ   \n",
       "2                        คุณได้ยินผู้ใหญ่เขาคุยกันรึเปล่า?   \n",
       "3              ฉันรู้สึกได้ถึงแสงอาทิตย์ลอดผ่านกระจกเข้ามา   \n",
       "4                          ฉันยังจำเสียงหัวใจเต้นของพ่อได้   \n",
       "...                                                    ...   \n",
       "1227584        นั่นก็เพราะว่า ผมต้องการให้มันเป็นอย่างนั้น   \n",
       "1227585               (เหล่าสุภาพสตรีของผม โดย มิชิมะ ชิน)   \n",
       "1227586  (ภาพยนตร์ชุดนี้เป็นเรื่องแต่ง) (ตัวละครและองค์...   \n",
       "1227587                                       คำบรรยายโดย:   \n",
       "1227588                                   วัชรพล อิศรานนท์   \n",
       "\n",
       "                             zh  \n",
       "0               记得自己的洗礼仪式 这可能吗?  \n",
       "1                          不可能?  \n",
       "2              可那是事实啊 是听大人们说的吧?  \n",
       "3                  我能感受到透过玻璃的阳光  \n",
       "4                   我还记得爸爸的心跳声呢  \n",
       "...                         ...  \n",
       "1227584                这是我自己的原则  \n",
       "1227585                 （我的女人们）  \n",
       "1227586  （本剧纯属虚构 剧中人物、团体名称皆为架空）  \n",
       "1227587                   字幕翻译：  \n",
       "1227588                     汪千然  \n",
       "\n",
       "[1227589 rows x 2 columns]"
      ]
     },
     "execution_count": 9,
     "metadata": {},
     "output_type": "execute_result"
    }
   ],
   "source": [
    "df"
   ]
  },
  {
   "cell_type": "code",
   "execution_count": 9,
   "metadata": {},
   "outputs": [
    {
     "data": {
      "text/plain": [
       "(1227589, 2)"
      ]
     },
     "execution_count": 9,
     "metadata": {},
     "output_type": "execute_result"
    }
   ],
   "source": [
    "df.shape"
   ]
  },
  {
   "cell_type": "code",
   "execution_count": 10,
   "metadata": {},
   "outputs": [
    {
     "data": {
      "text/plain": [
       "(1188987, 2)"
      ]
     },
     "execution_count": 10,
     "metadata": {},
     "output_type": "execute_result"
    }
   ],
   "source": [
    "df.drop_duplicates().shape"
   ]
  },
  {
   "cell_type": "code",
   "execution_count": 11,
   "metadata": {},
   "outputs": [
    {
     "data": {
      "text/plain": [
       "(1090783, 1079254)"
      ]
     },
     "execution_count": 11,
     "metadata": {},
     "output_type": "execute_result"
    }
   ],
   "source": [
    "df.th.nunique(),df.zh.nunique()"
   ]
  },
  {
   "cell_type": "code",
   "execution_count": 12,
   "metadata": {},
   "outputs": [],
   "source": [
    "#save deduped\n",
    "df.to_csv('../data/OpenSubtitles/OpenSubtitles_zhth_dedup.txt',header=None, index=None, sep='\\n')"
   ]
  },
  {
   "cell_type": "code",
   "execution_count": 10,
   "metadata": {},
   "outputs": [],
   "source": [
    "from pythainlp import word_tokenize"
   ]
  },
  {
   "cell_type": "code",
   "execution_count": 11,
   "metadata": {
    "scrolled": false
   },
   "outputs": [],
   "source": [
    "df['th_str'] = df.th.map(lambda x: len(x))"
   ]
  },
  {
   "cell_type": "code",
   "execution_count": 12,
   "metadata": {},
   "outputs": [],
   "source": [
    "df['zh_str'] = df.zh.map(lambda x: len(x))"
   ]
  },
  {
   "cell_type": "code",
   "execution_count": null,
   "metadata": {},
   "outputs": [],
   "source": []
  },
  {
   "cell_type": "code",
   "execution_count": 13,
   "metadata": {
    "scrolled": true
   },
   "outputs": [],
   "source": [
    "df['th_word'] = df.th.map(lambda x: len(word_tokenize(x)))"
   ]
  },
  {
   "cell_type": "code",
   "execution_count": 14,
   "metadata": {},
   "outputs": [
    {
     "data": {
      "text/html": [
       "<div>\n",
       "<style scoped>\n",
       "    .dataframe tbody tr th:only-of-type {\n",
       "        vertical-align: middle;\n",
       "    }\n",
       "\n",
       "    .dataframe tbody tr th {\n",
       "        vertical-align: top;\n",
       "    }\n",
       "\n",
       "    .dataframe thead th {\n",
       "        text-align: right;\n",
       "    }\n",
       "</style>\n",
       "<table border=\"1\" class=\"dataframe\">\n",
       "  <thead>\n",
       "    <tr style=\"text-align: right;\">\n",
       "      <th></th>\n",
       "      <th>th</th>\n",
       "      <th>zh</th>\n",
       "      <th>th_str</th>\n",
       "      <th>zh_str</th>\n",
       "      <th>th_word</th>\n",
       "    </tr>\n",
       "  </thead>\n",
       "  <tbody>\n",
       "    <tr>\n",
       "      <th>0</th>\n",
       "      <td>คุณจำตอนพิธีล้างบาปของคุณได้ เป็นไปได้ยังไง?</td>\n",
       "      <td>记得自己的洗礼仪式 这可能吗?</td>\n",
       "      <td>44</td>\n",
       "      <td>15</td>\n",
       "      <td>12</td>\n",
       "    </tr>\n",
       "    <tr>\n",
       "      <th>1</th>\n",
       "      <td>เป็นไปไม่ได้รึไง? แต่มันจริงนะ</td>\n",
       "      <td>不可能?</td>\n",
       "      <td>30</td>\n",
       "      <td>4</td>\n",
       "      <td>9</td>\n",
       "    </tr>\n",
       "    <tr>\n",
       "      <th>2</th>\n",
       "      <td>คุณได้ยินผู้ใหญ่เขาคุยกันรึเปล่า?</td>\n",
       "      <td>可那是事实啊 是听大人们说的吧?</td>\n",
       "      <td>33</td>\n",
       "      <td>16</td>\n",
       "      <td>8</td>\n",
       "    </tr>\n",
       "    <tr>\n",
       "      <th>3</th>\n",
       "      <td>ฉันรู้สึกได้ถึงแสงอาทิตย์ลอดผ่านกระจกเข้ามา</td>\n",
       "      <td>我能感受到透过玻璃的阳光</td>\n",
       "      <td>43</td>\n",
       "      <td>12</td>\n",
       "      <td>8</td>\n",
       "    </tr>\n",
       "    <tr>\n",
       "      <th>4</th>\n",
       "      <td>ฉันยังจำเสียงหัวใจเต้นของพ่อได้</td>\n",
       "      <td>我还记得爸爸的心跳声呢</td>\n",
       "      <td>31</td>\n",
       "      <td>11</td>\n",
       "      <td>9</td>\n",
       "    </tr>\n",
       "    <tr>\n",
       "      <th>...</th>\n",
       "      <td>...</td>\n",
       "      <td>...</td>\n",
       "      <td>...</td>\n",
       "      <td>...</td>\n",
       "      <td>...</td>\n",
       "    </tr>\n",
       "    <tr>\n",
       "      <th>1227584</th>\n",
       "      <td>นั่นก็เพราะว่า ผมต้องการให้มันเป็นอย่างนั้น</td>\n",
       "      <td>这是我自己的原则</td>\n",
       "      <td>43</td>\n",
       "      <td>8</td>\n",
       "      <td>9</td>\n",
       "    </tr>\n",
       "    <tr>\n",
       "      <th>1227585</th>\n",
       "      <td>(เหล่าสุภาพสตรีของผม โดย มิชิมะ ชิน)</td>\n",
       "      <td>（我的女人们）</td>\n",
       "      <td>36</td>\n",
       "      <td>7</td>\n",
       "      <td>14</td>\n",
       "    </tr>\n",
       "    <tr>\n",
       "      <th>1227586</th>\n",
       "      <td>(ภาพยนตร์ชุดนี้เป็นเรื่องแต่ง) (ตัวละครและองค์...</td>\n",
       "      <td>（本剧纯属虚构 剧中人物、团体名称皆为架空）</td>\n",
       "      <td>76</td>\n",
       "      <td>22</td>\n",
       "      <td>19</td>\n",
       "    </tr>\n",
       "    <tr>\n",
       "      <th>1227587</th>\n",
       "      <td>คำบรรยายโดย:</td>\n",
       "      <td>字幕翻译：</td>\n",
       "      <td>12</td>\n",
       "      <td>5</td>\n",
       "      <td>3</td>\n",
       "    </tr>\n",
       "    <tr>\n",
       "      <th>1227588</th>\n",
       "      <td>วัชรพล อิศรานนท์</td>\n",
       "      <td>汪千然</td>\n",
       "      <td>16</td>\n",
       "      <td>3</td>\n",
       "      <td>5</td>\n",
       "    </tr>\n",
       "  </tbody>\n",
       "</table>\n",
       "<p>1227589 rows × 5 columns</p>\n",
       "</div>"
      ],
      "text/plain": [
       "                                                        th  \\\n",
       "0             คุณจำตอนพิธีล้างบาปของคุณได้ เป็นไปได้ยังไง?   \n",
       "1                           เป็นไปไม่ได้รึไง? แต่มันจริงนะ   \n",
       "2                        คุณได้ยินผู้ใหญ่เขาคุยกันรึเปล่า?   \n",
       "3              ฉันรู้สึกได้ถึงแสงอาทิตย์ลอดผ่านกระจกเข้ามา   \n",
       "4                          ฉันยังจำเสียงหัวใจเต้นของพ่อได้   \n",
       "...                                                    ...   \n",
       "1227584        นั่นก็เพราะว่า ผมต้องการให้มันเป็นอย่างนั้น   \n",
       "1227585               (เหล่าสุภาพสตรีของผม โดย มิชิมะ ชิน)   \n",
       "1227586  (ภาพยนตร์ชุดนี้เป็นเรื่องแต่ง) (ตัวละครและองค์...   \n",
       "1227587                                       คำบรรยายโดย:   \n",
       "1227588                                   วัชรพล อิศรานนท์   \n",
       "\n",
       "                             zh  th_str  zh_str  th_word  \n",
       "0               记得自己的洗礼仪式 这可能吗?      44      15       12  \n",
       "1                          不可能?      30       4        9  \n",
       "2              可那是事实啊 是听大人们说的吧?      33      16        8  \n",
       "3                  我能感受到透过玻璃的阳光      43      12        8  \n",
       "4                   我还记得爸爸的心跳声呢      31      11        9  \n",
       "...                         ...     ...     ...      ...  \n",
       "1227584                这是我自己的原则      43       8        9  \n",
       "1227585                 （我的女人们）      36       7       14  \n",
       "1227586  （本剧纯属虚构 剧中人物、团体名称皆为架空）      76      22       19  \n",
       "1227587                   字幕翻译：      12       5        3  \n",
       "1227588                     汪千然      16       3        5  \n",
       "\n",
       "[1227589 rows x 5 columns]"
      ]
     },
     "execution_count": 14,
     "metadata": {},
     "output_type": "execute_result"
    }
   ],
   "source": [
    "df"
   ]
  },
  {
   "cell_type": "code",
   "execution_count": 28,
   "metadata": {},
   "outputs": [
    {
     "data": {
      "text/plain": [
       "array([[<AxesSubplot:title={'center':'th_str'}>,\n",
       "        <AxesSubplot:title={'center':'zh_str'}>],\n",
       "       [<AxesSubplot:title={'center':'th_word'}>, <AxesSubplot:>]],\n",
       "      dtype=object)"
      ]
     },
     "execution_count": 28,
     "metadata": {},
     "output_type": "execute_result"
    },
    {
     "data": {
      "image/png": "[encoded data removed]",
      "text/plain": [
       "<Figure size 432x288 with 4 Axes>"
      ]
     },
     "metadata": {
      "needs_background": "light"
     },
     "output_type": "display_data"
    }
   ],
   "source": [
    "df.hist(bins = 40)"
   ]
  },
  {
   "cell_type": "code",
   "execution_count": 29,
   "metadata": {},
   "outputs": [
    {
     "data": {
      "text/plain": [
       "34705871"
      ]
     },
     "execution_count": 29,
     "metadata": {},
     "output_type": "execute_result"
    }
   ],
   "source": [
    "df.th_str.sum()"
   ]
  },
  {
   "cell_type": "code",
   "execution_count": 30,
   "metadata": {},
   "outputs": [
    {
     "data": {
      "text/plain": [
       "28.27157216299592"
      ]
     },
     "execution_count": 30,
     "metadata": {},
     "output_type": "execute_result"
    }
   ],
   "source": [
    "df.th_str.mean()"
   ]
  },
  {
   "cell_type": "code",
   "execution_count": 31,
   "metadata": {},
   "outputs": [
    {
     "data": {
      "text/plain": [
       "16411969"
      ]
     },
     "execution_count": 31,
     "metadata": {},
     "output_type": "execute_result"
    }
   ],
   "source": [
    "df.zh_str.sum()"
   ]
  },
  {
   "cell_type": "code",
   "execution_count": 32,
   "metadata": {},
   "outputs": [
    {
     "data": {
      "text/plain": [
       "13.369270171042588"
      ]
     },
     "execution_count": 32,
     "metadata": {},
     "output_type": "execute_result"
    }
   ],
   "source": [
    "df.zh_str.mean()"
   ]
  },
  {
   "cell_type": "code",
   "execution_count": 33,
   "metadata": {},
   "outputs": [
    {
     "data": {
      "text/plain": [
       "10079120"
      ]
     },
     "execution_count": 33,
     "metadata": {},
     "output_type": "execute_result"
    }
   ],
   "source": [
    "df.th_word.sum()"
   ]
  },
  {
   "cell_type": "code",
   "execution_count": 34,
   "metadata": {},
   "outputs": [
    {
     "data": {
      "text/plain": [
       "8.21050041992882"
      ]
     },
     "execution_count": 34,
     "metadata": {},
     "output_type": "execute_result"
    }
   ],
   "source": [
    "df.th_word.mean()"
   ]
  },
  {
   "cell_type": "markdown",
   "metadata": {},
   "source": [
    "## spacy-pkuseg"
   ]
  },
  {
   "cell_type": "code",
   "execution_count": 15,
   "metadata": {},
   "outputs": [],
   "source": [
    "import pkuseg"
   ]
  },
  {
   "cell_type": "code",
   "execution_count": 16,
   "metadata": {},
   "outputs": [],
   "source": [
    "seg = pkuseg.pkuseg()           # 以默认配置加载模型\n",
    "# text = seg.cut('我爱北京天安门')  # 进行分词\n",
    "# print(len(text))"
   ]
  },
  {
   "cell_type": "code",
   "execution_count": 17,
   "metadata": {},
   "outputs": [
    {
     "data": {
      "text/html": [
       "<div>\n",
       "<style scoped>\n",
       "    .dataframe tbody tr th:only-of-type {\n",
       "        vertical-align: middle;\n",
       "    }\n",
       "\n",
       "    .dataframe tbody tr th {\n",
       "        vertical-align: top;\n",
       "    }\n",
       "\n",
       "    .dataframe thead th {\n",
       "        text-align: right;\n",
       "    }\n",
       "</style>\n",
       "<table border=\"1\" class=\"dataframe\">\n",
       "  <thead>\n",
       "    <tr style=\"text-align: right;\">\n",
       "      <th></th>\n",
       "      <th>th</th>\n",
       "      <th>zh</th>\n",
       "      <th>th_str</th>\n",
       "      <th>zh_str</th>\n",
       "      <th>th_word</th>\n",
       "      <th>zh_word</th>\n",
       "    </tr>\n",
       "  </thead>\n",
       "  <tbody>\n",
       "    <tr>\n",
       "      <th>0</th>\n",
       "      <td>คุณจำตอนพิธีล้างบาปของคุณได้ เป็นไปได้ยังไง?</td>\n",
       "      <td>记得自己的洗礼仪式 这可能吗?</td>\n",
       "      <td>44</td>\n",
       "      <td>15</td>\n",
       "      <td>12</td>\n",
       "      <td>9</td>\n",
       "    </tr>\n",
       "    <tr>\n",
       "      <th>1</th>\n",
       "      <td>เป็นไปไม่ได้รึไง? แต่มันจริงนะ</td>\n",
       "      <td>不可能?</td>\n",
       "      <td>30</td>\n",
       "      <td>4</td>\n",
       "      <td>9</td>\n",
       "      <td>3</td>\n",
       "    </tr>\n",
       "    <tr>\n",
       "      <th>2</th>\n",
       "      <td>คุณได้ยินผู้ใหญ่เขาคุยกันรึเปล่า?</td>\n",
       "      <td>可那是事实啊 是听大人们说的吧?</td>\n",
       "      <td>33</td>\n",
       "      <td>16</td>\n",
       "      <td>8</td>\n",
       "      <td>12</td>\n",
       "    </tr>\n",
       "    <tr>\n",
       "      <th>3</th>\n",
       "      <td>ฉันรู้สึกได้ถึงแสงอาทิตย์ลอดผ่านกระจกเข้ามา</td>\n",
       "      <td>我能感受到透过玻璃的阳光</td>\n",
       "      <td>43</td>\n",
       "      <td>12</td>\n",
       "      <td>8</td>\n",
       "      <td>8</td>\n",
       "    </tr>\n",
       "    <tr>\n",
       "      <th>4</th>\n",
       "      <td>ฉันยังจำเสียงหัวใจเต้นของพ่อได้</td>\n",
       "      <td>我还记得爸爸的心跳声呢</td>\n",
       "      <td>31</td>\n",
       "      <td>11</td>\n",
       "      <td>9</td>\n",
       "      <td>8</td>\n",
       "    </tr>\n",
       "    <tr>\n",
       "      <th>...</th>\n",
       "      <td>...</td>\n",
       "      <td>...</td>\n",
       "      <td>...</td>\n",
       "      <td>...</td>\n",
       "      <td>...</td>\n",
       "      <td>...</td>\n",
       "    </tr>\n",
       "    <tr>\n",
       "      <th>1227584</th>\n",
       "      <td>นั่นก็เพราะว่า ผมต้องการให้มันเป็นอย่างนั้น</td>\n",
       "      <td>这是我自己的原则</td>\n",
       "      <td>43</td>\n",
       "      <td>8</td>\n",
       "      <td>9</td>\n",
       "      <td>5</td>\n",
       "    </tr>\n",
       "    <tr>\n",
       "      <th>1227585</th>\n",
       "      <td>(เหล่าสุภาพสตรีของผม โดย มิชิมะ ชิน)</td>\n",
       "      <td>（我的女人们）</td>\n",
       "      <td>36</td>\n",
       "      <td>7</td>\n",
       "      <td>14</td>\n",
       "      <td>5</td>\n",
       "    </tr>\n",
       "    <tr>\n",
       "      <th>1227586</th>\n",
       "      <td>(ภาพยนตร์ชุดนี้เป็นเรื่องแต่ง) (ตัวละครและองค์...</td>\n",
       "      <td>（本剧纯属虚构 剧中人物、团体名称皆为架空）</td>\n",
       "      <td>76</td>\n",
       "      <td>22</td>\n",
       "      <td>19</td>\n",
       "      <td>14</td>\n",
       "    </tr>\n",
       "    <tr>\n",
       "      <th>1227587</th>\n",
       "      <td>คำบรรยายโดย:</td>\n",
       "      <td>字幕翻译：</td>\n",
       "      <td>12</td>\n",
       "      <td>5</td>\n",
       "      <td>3</td>\n",
       "      <td>3</td>\n",
       "    </tr>\n",
       "    <tr>\n",
       "      <th>1227588</th>\n",
       "      <td>วัชรพล อิศรานนท์</td>\n",
       "      <td>汪千然</td>\n",
       "      <td>16</td>\n",
       "      <td>3</td>\n",
       "      <td>5</td>\n",
       "      <td>2</td>\n",
       "    </tr>\n",
       "  </tbody>\n",
       "</table>\n",
       "<p>1227589 rows × 6 columns</p>\n",
       "</div>"
      ],
      "text/plain": [
       "                                                        th  \\\n",
       "0             คุณจำตอนพิธีล้างบาปของคุณได้ เป็นไปได้ยังไง?   \n",
       "1                           เป็นไปไม่ได้รึไง? แต่มันจริงนะ   \n",
       "2                        คุณได้ยินผู้ใหญ่เขาคุยกันรึเปล่า?   \n",
       "3              ฉันรู้สึกได้ถึงแสงอาทิตย์ลอดผ่านกระจกเข้ามา   \n",
       "4                          ฉันยังจำเสียงหัวใจเต้นของพ่อได้   \n",
       "...                                                    ...   \n",
       "1227584        นั่นก็เพราะว่า ผมต้องการให้มันเป็นอย่างนั้น   \n",
       "1227585               (เหล่าสุภาพสตรีของผม โดย มิชิมะ ชิน)   \n",
       "1227586  (ภาพยนตร์ชุดนี้เป็นเรื่องแต่ง) (ตัวละครและองค์...   \n",
       "1227587                                       คำบรรยายโดย:   \n",
       "1227588                                   วัชรพล อิศรานนท์   \n",
       "\n",
       "                             zh  th_str  zh_str  th_word  zh_word  \n",
       "0               记得自己的洗礼仪式 这可能吗?      44      15       12        9  \n",
       "1                          不可能?      30       4        9        3  \n",
       "2              可那是事实啊 是听大人们说的吧?      33      16        8       12  \n",
       "3                  我能感受到透过玻璃的阳光      43      12        8        8  \n",
       "4                   我还记得爸爸的心跳声呢      31      11        9        8  \n",
       "...                         ...     ...     ...      ...      ...  \n",
       "1227584                这是我自己的原则      43       8        9        5  \n",
       "1227585                 （我的女人们）      36       7       14        5  \n",
       "1227586  （本剧纯属虚构 剧中人物、团体名称皆为架空）      76      22       19       14  \n",
       "1227587                   字幕翻译：      12       5        3        3  \n",
       "1227588                     汪千然      16       3        5        2  \n",
       "\n",
       "[1227589 rows x 6 columns]"
      ]
     },
     "execution_count": 17,
     "metadata": {},
     "output_type": "execute_result"
    }
   ],
   "source": [
    "df['zh_word'] = df.zh.map(lambda x: len(seg.cut(x)))\n",
    "df"
   ]
  },
  {
   "cell_type": "code",
   "execution_count": 65,
   "metadata": {},
   "outputs": [],
   "source": [
    "# df.to_csv('../data/OpenSubtitles/OpenSubtitles_sample_str_word.csv',header=None, index=None, sep='\\n')"
   ]
  },
  {
   "cell_type": "code",
   "execution_count": 18,
   "metadata": {},
   "outputs": [
    {
     "data": {
      "text/html": [
       "<div>\n",
       "<style scoped>\n",
       "    .dataframe tbody tr th:only-of-type {\n",
       "        vertical-align: middle;\n",
       "    }\n",
       "\n",
       "    .dataframe tbody tr th {\n",
       "        vertical-align: top;\n",
       "    }\n",
       "\n",
       "    .dataframe thead th {\n",
       "        text-align: right;\n",
       "    }\n",
       "</style>\n",
       "<table border=\"1\" class=\"dataframe\">\n",
       "  <thead>\n",
       "    <tr style=\"text-align: right;\">\n",
       "      <th></th>\n",
       "      <th>th</th>\n",
       "      <th>zh</th>\n",
       "      <th>th_str</th>\n",
       "      <th>zh_str</th>\n",
       "      <th>th_word</th>\n",
       "      <th>zh_word</th>\n",
       "    </tr>\n",
       "  </thead>\n",
       "  <tbody>\n",
       "    <tr>\n",
       "      <th>0</th>\n",
       "      <td>คุณจำตอนพิธีล้างบาปของคุณได้ เป็นไปได้ยังไง?</td>\n",
       "      <td>记得自己的洗礼仪式 这可能吗?</td>\n",
       "      <td>44</td>\n",
       "      <td>15</td>\n",
       "      <td>12</td>\n",
       "      <td>9</td>\n",
       "    </tr>\n",
       "    <tr>\n",
       "      <th>1</th>\n",
       "      <td>เป็นไปไม่ได้รึไง? แต่มันจริงนะ</td>\n",
       "      <td>不可能?</td>\n",
       "      <td>30</td>\n",
       "      <td>4</td>\n",
       "      <td>9</td>\n",
       "      <td>3</td>\n",
       "    </tr>\n",
       "    <tr>\n",
       "      <th>2</th>\n",
       "      <td>คุณได้ยินผู้ใหญ่เขาคุยกันรึเปล่า?</td>\n",
       "      <td>可那是事实啊 是听大人们说的吧?</td>\n",
       "      <td>33</td>\n",
       "      <td>16</td>\n",
       "      <td>8</td>\n",
       "      <td>12</td>\n",
       "    </tr>\n",
       "    <tr>\n",
       "      <th>3</th>\n",
       "      <td>ฉันรู้สึกได้ถึงแสงอาทิตย์ลอดผ่านกระจกเข้ามา</td>\n",
       "      <td>我能感受到透过玻璃的阳光</td>\n",
       "      <td>43</td>\n",
       "      <td>12</td>\n",
       "      <td>8</td>\n",
       "      <td>8</td>\n",
       "    </tr>\n",
       "    <tr>\n",
       "      <th>4</th>\n",
       "      <td>ฉันยังจำเสียงหัวใจเต้นของพ่อได้</td>\n",
       "      <td>我还记得爸爸的心跳声呢</td>\n",
       "      <td>31</td>\n",
       "      <td>11</td>\n",
       "      <td>9</td>\n",
       "      <td>8</td>\n",
       "    </tr>\n",
       "    <tr>\n",
       "      <th>...</th>\n",
       "      <td>...</td>\n",
       "      <td>...</td>\n",
       "      <td>...</td>\n",
       "      <td>...</td>\n",
       "      <td>...</td>\n",
       "      <td>...</td>\n",
       "    </tr>\n",
       "    <tr>\n",
       "      <th>1227584</th>\n",
       "      <td>นั่นก็เพราะว่า ผมต้องการให้มันเป็นอย่างนั้น</td>\n",
       "      <td>这是我自己的原则</td>\n",
       "      <td>43</td>\n",
       "      <td>8</td>\n",
       "      <td>9</td>\n",
       "      <td>5</td>\n",
       "    </tr>\n",
       "    <tr>\n",
       "      <th>1227585</th>\n",
       "      <td>(เหล่าสุภาพสตรีของผม โดย มิชิมะ ชิน)</td>\n",
       "      <td>（我的女人们）</td>\n",
       "      <td>36</td>\n",
       "      <td>7</td>\n",
       "      <td>14</td>\n",
       "      <td>5</td>\n",
       "    </tr>\n",
       "    <tr>\n",
       "      <th>1227586</th>\n",
       "      <td>(ภาพยนตร์ชุดนี้เป็นเรื่องแต่ง) (ตัวละครและองค์...</td>\n",
       "      <td>（本剧纯属虚构 剧中人物、团体名称皆为架空）</td>\n",
       "      <td>76</td>\n",
       "      <td>22</td>\n",
       "      <td>19</td>\n",
       "      <td>14</td>\n",
       "    </tr>\n",
       "    <tr>\n",
       "      <th>1227587</th>\n",
       "      <td>คำบรรยายโดย:</td>\n",
       "      <td>字幕翻译：</td>\n",
       "      <td>12</td>\n",
       "      <td>5</td>\n",
       "      <td>3</td>\n",
       "      <td>3</td>\n",
       "    </tr>\n",
       "    <tr>\n",
       "      <th>1227588</th>\n",
       "      <td>วัชรพล อิศรานนท์</td>\n",
       "      <td>汪千然</td>\n",
       "      <td>16</td>\n",
       "      <td>3</td>\n",
       "      <td>5</td>\n",
       "      <td>2</td>\n",
       "    </tr>\n",
       "  </tbody>\n",
       "</table>\n",
       "<p>1227589 rows × 6 columns</p>\n",
       "</div>"
      ],
      "text/plain": [
       "                                                        th  \\\n",
       "0             คุณจำตอนพิธีล้างบาปของคุณได้ เป็นไปได้ยังไง?   \n",
       "1                           เป็นไปไม่ได้รึไง? แต่มันจริงนะ   \n",
       "2                        คุณได้ยินผู้ใหญ่เขาคุยกันรึเปล่า?   \n",
       "3              ฉันรู้สึกได้ถึงแสงอาทิตย์ลอดผ่านกระจกเข้ามา   \n",
       "4                          ฉันยังจำเสียงหัวใจเต้นของพ่อได้   \n",
       "...                                                    ...   \n",
       "1227584        นั่นก็เพราะว่า ผมต้องการให้มันเป็นอย่างนั้น   \n",
       "1227585               (เหล่าสุภาพสตรีของผม โดย มิชิมะ ชิน)   \n",
       "1227586  (ภาพยนตร์ชุดนี้เป็นเรื่องแต่ง) (ตัวละครและองค์...   \n",
       "1227587                                       คำบรรยายโดย:   \n",
       "1227588                                   วัชรพล อิศรานนท์   \n",
       "\n",
       "                             zh  th_str  zh_str  th_word  zh_word  \n",
       "0               记得自己的洗礼仪式 这可能吗?      44      15       12        9  \n",
       "1                          不可能?      30       4        9        3  \n",
       "2              可那是事实啊 是听大人们说的吧?      33      16        8       12  \n",
       "3                  我能感受到透过玻璃的阳光      43      12        8        8  \n",
       "4                   我还记得爸爸的心跳声呢      31      11        9        8  \n",
       "...                         ...     ...     ...      ...      ...  \n",
       "1227584                这是我自己的原则      43       8        9        5  \n",
       "1227585                 （我的女人们）      36       7       14        5  \n",
       "1227586  （本剧纯属虚构 剧中人物、团体名称皆为架空）      76      22       19       14  \n",
       "1227587                   字幕翻译：      12       5        3        3  \n",
       "1227588                     汪千然      16       3        5        2  \n",
       "\n",
       "[1227589 rows x 6 columns]"
      ]
     },
     "execution_count": 18,
     "metadata": {},
     "output_type": "execute_result"
    }
   ],
   "source": [
    "df"
   ]
  },
  {
   "cell_type": "markdown",
   "metadata": {},
   "source": [
    "## Ratio"
   ]
  },
  {
   "cell_type": "code",
   "execution_count": 19,
   "metadata": {},
   "outputs": [],
   "source": [
    "ratio = df['th_word'] / df['zh_word']"
   ]
  },
  {
   "cell_type": "code",
   "execution_count": 20,
   "metadata": {},
   "outputs": [
    {
     "data": {
      "text/plain": [
       "0          1.333333\n",
       "1          3.000000\n",
       "2          0.666667\n",
       "3          1.000000\n",
       "4          1.125000\n",
       "             ...   \n",
       "1227584    1.800000\n",
       "1227585    2.800000\n",
       "1227586    1.357143\n",
       "1227587    1.000000\n",
       "1227588    2.500000\n",
       "Length: 1227589, dtype: float64"
      ]
     },
     "execution_count": 20,
     "metadata": {},
     "output_type": "execute_result"
    }
   ],
   "source": [
    "ratio"
   ]
  },
  {
   "cell_type": "code",
   "execution_count": 21,
   "metadata": {},
   "outputs": [],
   "source": [
    "df['Ratio'] = ratio"
   ]
  },
  {
   "cell_type": "code",
   "execution_count": 22,
   "metadata": {},
   "outputs": [
    {
     "data": {
      "text/html": [
       "<div>\n",
       "<style scoped>\n",
       "    .dataframe tbody tr th:only-of-type {\n",
       "        vertical-align: middle;\n",
       "    }\n",
       "\n",
       "    .dataframe tbody tr th {\n",
       "        vertical-align: top;\n",
       "    }\n",
       "\n",
       "    .dataframe thead th {\n",
       "        text-align: right;\n",
       "    }\n",
       "</style>\n",
       "<table border=\"1\" class=\"dataframe\">\n",
       "  <thead>\n",
       "    <tr style=\"text-align: right;\">\n",
       "      <th></th>\n",
       "      <th>th</th>\n",
       "      <th>zh</th>\n",
       "      <th>th_str</th>\n",
       "      <th>zh_str</th>\n",
       "      <th>th_word</th>\n",
       "      <th>zh_word</th>\n",
       "      <th>Ratio</th>\n",
       "    </tr>\n",
       "  </thead>\n",
       "  <tbody>\n",
       "    <tr>\n",
       "      <th>0</th>\n",
       "      <td>คุณจำตอนพิธีล้างบาปของคุณได้ เป็นไปได้ยังไง?</td>\n",
       "      <td>记得自己的洗礼仪式 这可能吗?</td>\n",
       "      <td>44</td>\n",
       "      <td>15</td>\n",
       "      <td>12</td>\n",
       "      <td>9</td>\n",
       "      <td>1.333333</td>\n",
       "    </tr>\n",
       "    <tr>\n",
       "      <th>1</th>\n",
       "      <td>เป็นไปไม่ได้รึไง? แต่มันจริงนะ</td>\n",
       "      <td>不可能?</td>\n",
       "      <td>30</td>\n",
       "      <td>4</td>\n",
       "      <td>9</td>\n",
       "      <td>3</td>\n",
       "      <td>3.000000</td>\n",
       "    </tr>\n",
       "    <tr>\n",
       "      <th>2</th>\n",
       "      <td>คุณได้ยินผู้ใหญ่เขาคุยกันรึเปล่า?</td>\n",
       "      <td>可那是事实啊 是听大人们说的吧?</td>\n",
       "      <td>33</td>\n",
       "      <td>16</td>\n",
       "      <td>8</td>\n",
       "      <td>12</td>\n",
       "      <td>0.666667</td>\n",
       "    </tr>\n",
       "    <tr>\n",
       "      <th>3</th>\n",
       "      <td>ฉันรู้สึกได้ถึงแสงอาทิตย์ลอดผ่านกระจกเข้ามา</td>\n",
       "      <td>我能感受到透过玻璃的阳光</td>\n",
       "      <td>43</td>\n",
       "      <td>12</td>\n",
       "      <td>8</td>\n",
       "      <td>8</td>\n",
       "      <td>1.000000</td>\n",
       "    </tr>\n",
       "    <tr>\n",
       "      <th>4</th>\n",
       "      <td>ฉันยังจำเสียงหัวใจเต้นของพ่อได้</td>\n",
       "      <td>我还记得爸爸的心跳声呢</td>\n",
       "      <td>31</td>\n",
       "      <td>11</td>\n",
       "      <td>9</td>\n",
       "      <td>8</td>\n",
       "      <td>1.125000</td>\n",
       "    </tr>\n",
       "    <tr>\n",
       "      <th>...</th>\n",
       "      <td>...</td>\n",
       "      <td>...</td>\n",
       "      <td>...</td>\n",
       "      <td>...</td>\n",
       "      <td>...</td>\n",
       "      <td>...</td>\n",
       "      <td>...</td>\n",
       "    </tr>\n",
       "    <tr>\n",
       "      <th>1227584</th>\n",
       "      <td>นั่นก็เพราะว่า ผมต้องการให้มันเป็นอย่างนั้น</td>\n",
       "      <td>这是我自己的原则</td>\n",
       "      <td>43</td>\n",
       "      <td>8</td>\n",
       "      <td>9</td>\n",
       "      <td>5</td>\n",
       "      <td>1.800000</td>\n",
       "    </tr>\n",
       "    <tr>\n",
       "      <th>1227585</th>\n",
       "      <td>(เหล่าสุภาพสตรีของผม โดย มิชิมะ ชิน)</td>\n",
       "      <td>（我的女人们）</td>\n",
       "      <td>36</td>\n",
       "      <td>7</td>\n",
       "      <td>14</td>\n",
       "      <td>5</td>\n",
       "      <td>2.800000</td>\n",
       "    </tr>\n",
       "    <tr>\n",
       "      <th>1227586</th>\n",
       "      <td>(ภาพยนตร์ชุดนี้เป็นเรื่องแต่ง) (ตัวละครและองค์...</td>\n",
       "      <td>（本剧纯属虚构 剧中人物、团体名称皆为架空）</td>\n",
       "      <td>76</td>\n",
       "      <td>22</td>\n",
       "      <td>19</td>\n",
       "      <td>14</td>\n",
       "      <td>1.357143</td>\n",
       "    </tr>\n",
       "    <tr>\n",
       "      <th>1227587</th>\n",
       "      <td>คำบรรยายโดย:</td>\n",
       "      <td>字幕翻译：</td>\n",
       "      <td>12</td>\n",
       "      <td>5</td>\n",
       "      <td>3</td>\n",
       "      <td>3</td>\n",
       "      <td>1.000000</td>\n",
       "    </tr>\n",
       "    <tr>\n",
       "      <th>1227588</th>\n",
       "      <td>วัชรพล อิศรานนท์</td>\n",
       "      <td>汪千然</td>\n",
       "      <td>16</td>\n",
       "      <td>3</td>\n",
       "      <td>5</td>\n",
       "      <td>2</td>\n",
       "      <td>2.500000</td>\n",
       "    </tr>\n",
       "  </tbody>\n",
       "</table>\n",
       "<p>1227589 rows × 7 columns</p>\n",
       "</div>"
      ],
      "text/plain": [
       "                                                        th  \\\n",
       "0             คุณจำตอนพิธีล้างบาปของคุณได้ เป็นไปได้ยังไง?   \n",
       "1                           เป็นไปไม่ได้รึไง? แต่มันจริงนะ   \n",
       "2                        คุณได้ยินผู้ใหญ่เขาคุยกันรึเปล่า?   \n",
       "3              ฉันรู้สึกได้ถึงแสงอาทิตย์ลอดผ่านกระจกเข้ามา   \n",
       "4                          ฉันยังจำเสียงหัวใจเต้นของพ่อได้   \n",
       "...                                                    ...   \n",
       "1227584        นั่นก็เพราะว่า ผมต้องการให้มันเป็นอย่างนั้น   \n",
       "1227585               (เหล่าสุภาพสตรีของผม โดย มิชิมะ ชิน)   \n",
       "1227586  (ภาพยนตร์ชุดนี้เป็นเรื่องแต่ง) (ตัวละครและองค์...   \n",
       "1227587                                       คำบรรยายโดย:   \n",
       "1227588                                   วัชรพล อิศรานนท์   \n",
       "\n",
       "                             zh  th_str  zh_str  th_word  zh_word     Ratio  \n",
       "0               记得自己的洗礼仪式 这可能吗?      44      15       12        9  1.333333  \n",
       "1                          不可能?      30       4        9        3  3.000000  \n",
       "2              可那是事实啊 是听大人们说的吧?      33      16        8       12  0.666667  \n",
       "3                  我能感受到透过玻璃的阳光      43      12        8        8  1.000000  \n",
       "4                   我还记得爸爸的心跳声呢      31      11        9        8  1.125000  \n",
       "...                         ...     ...     ...      ...      ...       ...  \n",
       "1227584                这是我自己的原则      43       8        9        5  1.800000  \n",
       "1227585                 （我的女人们）      36       7       14        5  2.800000  \n",
       "1227586  （本剧纯属虚构 剧中人物、团体名称皆为架空）      76      22       19       14  1.357143  \n",
       "1227587                   字幕翻译：      12       5        3        3  1.000000  \n",
       "1227588                     汪千然      16       3        5        2  2.500000  \n",
       "\n",
       "[1227589 rows x 7 columns]"
      ]
     },
     "execution_count": 22,
     "metadata": {},
     "output_type": "execute_result"
    }
   ],
   "source": [
    "df"
   ]
  },
  {
   "cell_type": "code",
   "execution_count": null,
   "metadata": {},
   "outputs": [],
   "source": []
  },
  {
   "cell_type": "markdown",
   "metadata": {},
   "source": [
    "## Similarity Score"
   ]
  },
  {
   "cell_type": "code",
   "execution_count": 23,
   "metadata": {},
   "outputs": [],
   "source": [
    "import tensorflow as tf\n",
    "import tensorflow_hub as hub\n",
    "import tensorflow_text"
   ]
  },
  {
   "cell_type": "code",
   "execution_count": 24,
   "metadata": {},
   "outputs": [],
   "source": [
    "def get_similar_score(lang1: str, lang2: str, batch_size: int, embed):\n",
    "\n",
    "    scores = []\n",
    "\n",
    "    if len(lang1) % batch_size != 0:\n",
    "        num_of_batch = int(len(lang1)/batch_size)+1\n",
    "    else:\n",
    "        num_of_batch = int(len(lang1)/batch_size)\n",
    "\n",
    "    for i in range(num_of_batch):\n",
    "        start = i*batch_size\n",
    "        end = start+batch_size\n",
    "        if i <= num_of_batch:\n",
    "\n",
    "            lang1_temp = lang1[start:end]\n",
    "            lang2_temp = lang2[start:end]\n",
    "\n",
    "            lang1_embedding = embed(lang1_temp)\n",
    "            lang2_embedding = embed(lang2_temp)\n",
    "            distance_matrix = tf.matmul(\n",
    "                lang1_embedding, lang2_embedding, transpose_b=True).numpy()\n",
    "\n",
    "            for j in range(len(distance_matrix)):\n",
    "                scores.append(distance_matrix[j][j])\n",
    "\n",
    "    return scores"
   ]
  },
  {
   "cell_type": "code",
   "execution_count": 25,
   "metadata": {},
   "outputs": [],
   "source": [
    "emb = hub.load('https://tfhub.dev/google/universal-sentence-encoder-multilingual-large/3', tags=None, options=None)"
   ]
  },
  {
   "cell_type": "code",
   "execution_count": 27,
   "metadata": {},
   "outputs": [],
   "source": [
    "sims = get_similar_score(zh_lines, th_lines, 16, emb)"
   ]
  },
  {
   "cell_type": "code",
   "execution_count": 28,
   "metadata": {},
   "outputs": [],
   "source": [
    "df['Similarity_score'] = sims"
   ]
  },
  {
   "cell_type": "code",
   "execution_count": 87,
   "metadata": {},
   "outputs": [
    {
     "data": {
      "text/html": [
       "<div>\n",
       "<style scoped>\n",
       "    .dataframe tbody tr th:only-of-type {\n",
       "        vertical-align: middle;\n",
       "    }\n",
       "\n",
       "    .dataframe tbody tr th {\n",
       "        vertical-align: top;\n",
       "    }\n",
       "\n",
       "    .dataframe thead th {\n",
       "        text-align: right;\n",
       "    }\n",
       "</style>\n",
       "<table border=\"1\" class=\"dataframe\">\n",
       "  <thead>\n",
       "    <tr style=\"text-align: right;\">\n",
       "      <th></th>\n",
       "      <th>th</th>\n",
       "      <th>zh</th>\n",
       "      <th>th_str</th>\n",
       "      <th>zh_str</th>\n",
       "      <th>th_word</th>\n",
       "      <th>zh_word</th>\n",
       "      <th>Ratio</th>\n",
       "      <th>Similarity_score</th>\n",
       "    </tr>\n",
       "  </thead>\n",
       "  <tbody>\n",
       "    <tr>\n",
       "      <th>0</th>\n",
       "      <td>คุณจำตอนพิธีล้างบาปของคุณได้ เป็นไปได้ยังไง?</td>\n",
       "      <td>记得自己的洗礼仪式 这可能吗?</td>\n",
       "      <td>44</td>\n",
       "      <td>15</td>\n",
       "      <td>12</td>\n",
       "      <td>9</td>\n",
       "      <td>1.333333</td>\n",
       "      <td>0.594708</td>\n",
       "    </tr>\n",
       "    <tr>\n",
       "      <th>1</th>\n",
       "      <td>เป็นไปไม่ได้รึไง? แต่มันจริงนะ</td>\n",
       "      <td>不可能?</td>\n",
       "      <td>30</td>\n",
       "      <td>4</td>\n",
       "      <td>9</td>\n",
       "      <td>3</td>\n",
       "      <td>3.000000</td>\n",
       "      <td>0.626082</td>\n",
       "    </tr>\n",
       "    <tr>\n",
       "      <th>2</th>\n",
       "      <td>คุณได้ยินผู้ใหญ่เขาคุยกันรึเปล่า?</td>\n",
       "      <td>可那是事实啊 是听大人们说的吧?</td>\n",
       "      <td>33</td>\n",
       "      <td>16</td>\n",
       "      <td>8</td>\n",
       "      <td>12</td>\n",
       "      <td>0.666667</td>\n",
       "      <td>0.380066</td>\n",
       "    </tr>\n",
       "    <tr>\n",
       "      <th>3</th>\n",
       "      <td>ฉันรู้สึกได้ถึงแสงอาทิตย์ลอดผ่านกระจกเข้ามา</td>\n",
       "      <td>我能感受到透过玻璃的阳光</td>\n",
       "      <td>43</td>\n",
       "      <td>12</td>\n",
       "      <td>8</td>\n",
       "      <td>8</td>\n",
       "      <td>1.000000</td>\n",
       "      <td>0.788977</td>\n",
       "    </tr>\n",
       "    <tr>\n",
       "      <th>4</th>\n",
       "      <td>ฉันยังจำเสียงหัวใจเต้นของพ่อได้</td>\n",
       "      <td>我还记得爸爸的心跳声呢</td>\n",
       "      <td>31</td>\n",
       "      <td>11</td>\n",
       "      <td>9</td>\n",
       "      <td>8</td>\n",
       "      <td>1.125000</td>\n",
       "      <td>0.831345</td>\n",
       "    </tr>\n",
       "    <tr>\n",
       "      <th>...</th>\n",
       "      <td>...</td>\n",
       "      <td>...</td>\n",
       "      <td>...</td>\n",
       "      <td>...</td>\n",
       "      <td>...</td>\n",
       "      <td>...</td>\n",
       "      <td>...</td>\n",
       "      <td>...</td>\n",
       "    </tr>\n",
       "    <tr>\n",
       "      <th>1227584</th>\n",
       "      <td>นั่นก็เพราะว่า ผมต้องการให้มันเป็นอย่างนั้น</td>\n",
       "      <td>这是我自己的原则</td>\n",
       "      <td>43</td>\n",
       "      <td>8</td>\n",
       "      <td>9</td>\n",
       "      <td>5</td>\n",
       "      <td>1.800000</td>\n",
       "      <td>0.299133</td>\n",
       "    </tr>\n",
       "    <tr>\n",
       "      <th>1227585</th>\n",
       "      <td>(เหล่าสุภาพสตรีของผม โดย มิชิมะ ชิน)</td>\n",
       "      <td>（我的女人们）</td>\n",
       "      <td>36</td>\n",
       "      <td>7</td>\n",
       "      <td>14</td>\n",
       "      <td>5</td>\n",
       "      <td>2.800000</td>\n",
       "      <td>0.548381</td>\n",
       "    </tr>\n",
       "    <tr>\n",
       "      <th>1227586</th>\n",
       "      <td>(ภาพยนตร์ชุดนี้เป็นเรื่องแต่ง) (ตัวละครและองค์...</td>\n",
       "      <td>（本剧纯属虚构 剧中人物、团体名称皆为架空）</td>\n",
       "      <td>76</td>\n",
       "      <td>22</td>\n",
       "      <td>19</td>\n",
       "      <td>14</td>\n",
       "      <td>1.357143</td>\n",
       "      <td>0.486174</td>\n",
       "    </tr>\n",
       "    <tr>\n",
       "      <th>1227587</th>\n",
       "      <td>คำบรรยายโดย:</td>\n",
       "      <td>字幕翻译：</td>\n",
       "      <td>12</td>\n",
       "      <td>5</td>\n",
       "      <td>3</td>\n",
       "      <td>3</td>\n",
       "      <td>1.000000</td>\n",
       "      <td>0.408680</td>\n",
       "    </tr>\n",
       "    <tr>\n",
       "      <th>1227588</th>\n",
       "      <td>วัชรพล อิศรานนท์</td>\n",
       "      <td>汪千然</td>\n",
       "      <td>16</td>\n",
       "      <td>3</td>\n",
       "      <td>5</td>\n",
       "      <td>2</td>\n",
       "      <td>2.500000</td>\n",
       "      <td>0.159511</td>\n",
       "    </tr>\n",
       "  </tbody>\n",
       "</table>\n",
       "<p>1227589 rows × 8 columns</p>\n",
       "</div>"
      ],
      "text/plain": [
       "                                                        th  \\\n",
       "0             คุณจำตอนพิธีล้างบาปของคุณได้ เป็นไปได้ยังไง?   \n",
       "1                           เป็นไปไม่ได้รึไง? แต่มันจริงนะ   \n",
       "2                        คุณได้ยินผู้ใหญ่เขาคุยกันรึเปล่า?   \n",
       "3              ฉันรู้สึกได้ถึงแสงอาทิตย์ลอดผ่านกระจกเข้ามา   \n",
       "4                          ฉันยังจำเสียงหัวใจเต้นของพ่อได้   \n",
       "...                                                    ...   \n",
       "1227584        นั่นก็เพราะว่า ผมต้องการให้มันเป็นอย่างนั้น   \n",
       "1227585               (เหล่าสุภาพสตรีของผม โดย มิชิมะ ชิน)   \n",
       "1227586  (ภาพยนตร์ชุดนี้เป็นเรื่องแต่ง) (ตัวละครและองค์...   \n",
       "1227587                                       คำบรรยายโดย:   \n",
       "1227588                                   วัชรพล อิศรานนท์   \n",
       "\n",
       "                             zh  th_str  zh_str  th_word  zh_word     Ratio  \\\n",
       "0               记得自己的洗礼仪式 这可能吗?      44      15       12        9  1.333333   \n",
       "1                          不可能?      30       4        9        3  3.000000   \n",
       "2              可那是事实啊 是听大人们说的吧?      33      16        8       12  0.666667   \n",
       "3                  我能感受到透过玻璃的阳光      43      12        8        8  1.000000   \n",
       "4                   我还记得爸爸的心跳声呢      31      11        9        8  1.125000   \n",
       "...                         ...     ...     ...      ...      ...       ...   \n",
       "1227584                这是我自己的原则      43       8        9        5  1.800000   \n",
       "1227585                 （我的女人们）      36       7       14        5  2.800000   \n",
       "1227586  （本剧纯属虚构 剧中人物、团体名称皆为架空）      76      22       19       14  1.357143   \n",
       "1227587                   字幕翻译：      12       5        3        3  1.000000   \n",
       "1227588                     汪千然      16       3        5        2  2.500000   \n",
       "\n",
       "         Similarity_score  \n",
       "0                0.594708  \n",
       "1                0.626082  \n",
       "2                0.380066  \n",
       "3                0.788977  \n",
       "4                0.831345  \n",
       "...                   ...  \n",
       "1227584          0.299133  \n",
       "1227585          0.548381  \n",
       "1227586          0.486174  \n",
       "1227587          0.408680  \n",
       "1227588          0.159511  \n",
       "\n",
       "[1227589 rows x 8 columns]"
      ]
     },
     "execution_count": 87,
     "metadata": {},
     "output_type": "execute_result"
    }
   ],
   "source": [
    "df"
   ]
  },
  {
   "cell_type": "code",
   "execution_count": 88,
   "metadata": {},
   "outputs": [],
   "source": [
    "df.to_csv('../data/OpenSubtitles/OpenSubtitles_ALL.csv',header=None, index=None, sep='\\n')"
   ]
  },
  {
   "cell_type": "code",
   "execution_count": null,
   "metadata": {},
   "outputs": [],
   "source": []
  },
  {
   "cell_type": "code",
   "execution_count": 91,
   "metadata": {},
   "outputs": [],
   "source": [
    "df2 = df.sort_values('Similarity_score')"
   ]
  },
  {
   "cell_type": "code",
   "execution_count": 92,
   "metadata": {},
   "outputs": [],
   "source": [
    "df2.to_csv('../data/OpenSubtitles/OpenSubtitles_ALL_SortbySims.csv',header=None, index=None, sep='\\n')"
   ]
  },
  {
   "cell_type": "code",
   "execution_count": null,
   "metadata": {},
   "outputs": [],
   "source": []
  },
  {
   "cell_type": "code",
   "execution_count": null,
   "metadata": {},
   "outputs": [],
   "source": []
  },
  {
   "cell_type": "code",
   "execution_count": 66,
   "metadata": {},
   "outputs": [
    {
     "data": {
      "text/plain": [
       "<AxesSubplot:ylabel='Frequency'>"
      ]
     },
     "execution_count": 66,
     "metadata": {},
     "output_type": "execute_result"
    },
    {
     "data": {
      "image/png": "[encoded data removed]",
      "text/plain": [
       "<Figure size 432x288 with 1 Axes>"
      ]
     },
     "metadata": {
      "needs_background": "light"
     },
     "output_type": "display_data"
    }
   ],
   "source": [
    "df['th_word'].plot(kind='hist', bins=20)"
   ]
  },
  {
   "cell_type": "code",
   "execution_count": 94,
   "metadata": {},
   "outputs": [
    {
     "data": {
      "text/plain": [
       "90"
      ]
     },
     "execution_count": 94,
     "metadata": {},
     "output_type": "execute_result"
    }
   ],
   "source": [
    "df['th_word'].max()"
   ]
  },
  {
   "cell_type": "code",
   "execution_count": 95,
   "metadata": {},
   "outputs": [
    {
     "data": {
      "text/plain": [
       "8.21050041992882"
      ]
     },
     "execution_count": 95,
     "metadata": {},
     "output_type": "execute_result"
    }
   ],
   "source": [
    "df['th_word'].mean()"
   ]
  },
  {
   "cell_type": "code",
   "execution_count": 96,
   "metadata": {},
   "outputs": [
    {
     "data": {
      "text/plain": [
       "5     114872\n",
       "6     112052\n",
       "7     107687\n",
       "4     104370\n",
       "8      97866\n",
       "       ...  \n",
       "67         3\n",
       "73         2\n",
       "64         2\n",
       "63         2\n",
       "90         1\n",
       "Name: th_word, Length: 68, dtype: int64"
      ]
     },
     "execution_count": 96,
     "metadata": {},
     "output_type": "execute_result"
    }
   ],
   "source": [
    "df['th_word'].value_counts()"
   ]
  },
  {
   "cell_type": "code",
   "execution_count": null,
   "metadata": {},
   "outputs": [],
   "source": []
  },
  {
   "cell_type": "code",
   "execution_count": 78,
   "metadata": {},
   "outputs": [
    {
     "data": {
      "text/plain": [
       "<AxesSubplot:ylabel='Frequency'>"
      ]
     },
     "execution_count": 78,
     "metadata": {},
     "output_type": "execute_result"
    },
    {
     "data": {
      "image/png": "[encoded data removed]",
      "text/plain": [
       "<Figure size 432x288 with 1 Axes>"
      ]
     },
     "metadata": {
      "needs_background": "light"
     },
     "output_type": "display_data"
    }
   ],
   "source": [
    "df['zh_word'].plot(kind='hist', bins=20)"
   ]
  },
  {
   "cell_type": "code",
   "execution_count": 97,
   "metadata": {},
   "outputs": [
    {
     "data": {
      "text/plain": [
       "191"
      ]
     },
     "execution_count": 97,
     "metadata": {},
     "output_type": "execute_result"
    }
   ],
   "source": [
    "df['zh_word'].max()"
   ]
  },
  {
   "cell_type": "code",
   "execution_count": 98,
   "metadata": {},
   "outputs": [
    {
     "data": {
      "text/plain": [
       "7.323725611747906"
      ]
     },
     "execution_count": 98,
     "metadata": {},
     "output_type": "execute_result"
    }
   ],
   "source": [
    "df['zh_word'].mean()"
   ]
  },
  {
   "cell_type": "code",
   "execution_count": 110,
   "metadata": {},
   "outputs": [
    {
     "data": {
      "text/plain": [
       "5      135027\n",
       "6      132358\n",
       "4      125836\n",
       "7      119072\n",
       "3      105469\n",
       "        ...  \n",
       "112         1\n",
       "111         1\n",
       "100         1\n",
       "95          1\n",
       "191         1\n",
       "Name: zh_word, Length: 123, dtype: int64"
      ]
     },
     "execution_count": 110,
     "metadata": {},
     "output_type": "execute_result"
    }
   ],
   "source": [
    "df['zh_word'].value_counts()"
   ]
  },
  {
   "cell_type": "code",
   "execution_count": null,
   "metadata": {},
   "outputs": [],
   "source": []
  },
  {
   "cell_type": "code",
   "execution_count": 83,
   "metadata": {},
   "outputs": [
    {
     "data": {
      "text/plain": [
       "<AxesSubplot:ylabel='Frequency'>"
      ]
     },
     "execution_count": 83,
     "metadata": {},
     "output_type": "execute_result"
    },
    {
     "data": {
      "image/png": "[encoded data removed]",
      "text/plain": [
       "<Figure size 432x288 with 1 Axes>"
      ]
     },
     "metadata": {
      "needs_background": "light"
     },
     "output_type": "display_data"
    }
   ],
   "source": [
    "df['Ratio'].plot(kind='hist', bins=100)"
   ]
  },
  {
   "cell_type": "code",
   "execution_count": 77,
   "metadata": {},
   "outputs": [
    {
     "data": {
      "text/plain": [
       "56.0"
      ]
     },
     "execution_count": 77,
     "metadata": {},
     "output_type": "execute_result"
    }
   ],
   "source": [
    "df['Ratio'].max()"
   ]
  },
  {
   "cell_type": "code",
   "execution_count": 84,
   "metadata": {},
   "outputs": [
    {
     "data": {
      "text/plain": [
       "1.3694959875491268"
      ]
     },
     "execution_count": 84,
     "metadata": {},
     "output_type": "execute_result"
    }
   ],
   "source": [
    "df['Ratio'].mean()"
   ]
  },
  {
   "cell_type": "code",
   "execution_count": 112,
   "metadata": {},
   "outputs": [
    {
     "data": {
      "text/plain": [
       "1.000000    167515\n",
       "2.000000     62184\n",
       "1.500000     58043\n",
       "1.333333     43179\n",
       "0.500000     36797\n",
       "             ...  \n",
       "9.600000         1\n",
       "9.285714         1\n",
       "3.928571         1\n",
       "2.150000         1\n",
       "0.177419         1\n",
       "Name: Ratio, Length: 1602, dtype: int64"
      ]
     },
     "execution_count": 112,
     "metadata": {},
     "output_type": "execute_result"
    }
   ],
   "source": [
    "df['Ratio'].value_counts()"
   ]
  },
  {
   "cell_type": "code",
   "execution_count": 117,
   "metadata": {},
   "outputs": [],
   "source": [
    "df2 = df['Ratio'] != 1"
   ]
  },
  {
   "cell_type": "code",
   "execution_count": 118,
   "metadata": {},
   "outputs": [
    {
     "data": {
      "text/plain": [
       "True     1060074\n",
       "False     167515\n",
       "Name: Ratio, dtype: int64"
      ]
     },
     "execution_count": 118,
     "metadata": {},
     "output_type": "execute_result"
    }
   ],
   "source": [
    "df2.value_counts()"
   ]
  },
  {
   "cell_type": "code",
   "execution_count": null,
   "metadata": {},
   "outputs": [],
   "source": []
  },
  {
   "cell_type": "code",
   "execution_count": 34,
   "metadata": {},
   "outputs": [
    {
     "data": {
      "text/plain": [
       "<AxesSubplot:ylabel='Frequency'>"
      ]
     },
     "execution_count": 34,
     "metadata": {},
     "output_type": "execute_result"
    },
    {
     "data": {
      "image/png": "[encoded data removed]",
      "text/plain": [
       "<Figure size 432x288 with 1 Axes>"
      ]
     },
     "metadata": {
      "needs_background": "light"
     },
     "output_type": "display_data"
    }
   ],
   "source": [
    "df['Similarity_score'].plot(kind='hist', bins=10)"
   ]
  },
  {
   "cell_type": "code",
   "execution_count": 85,
   "metadata": {},
   "outputs": [
    {
     "data": {
      "text/plain": [
       "1.0000009536743164"
      ]
     },
     "execution_count": 85,
     "metadata": {},
     "output_type": "execute_result"
    }
   ],
   "source": [
    "df['Similarity_score'].max()"
   ]
  },
  {
   "cell_type": "code",
   "execution_count": 86,
   "metadata": {},
   "outputs": [
    {
     "data": {
      "text/plain": [
       "0.461020182776236"
      ]
     },
     "execution_count": 86,
     "metadata": {},
     "output_type": "execute_result"
    }
   ],
   "source": [
    "df['Similarity_score'].mean()"
   ]
  }
 ],
 "metadata": {
  "kernelspec": {
   "display_name": "Python 3",
   "language": "python",
   "name": "python3"
  },
  "language_info": {
   "codemirror_mode": {
    "name": "ipython",
    "version": 3
   },
   "file_extension": ".py",
   "mimetype": "text/x-python",
   "name": "python",
   "nbconvert_exporter": "python",
   "pygments_lexer": "ipython3",
   "version": "3.8.5"
  }
 },
 "nbformat": 4,
 "nbformat_minor": 4
}
