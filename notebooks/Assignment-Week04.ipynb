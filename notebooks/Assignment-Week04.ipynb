{
 "cells": [
  {
   "cell_type": "markdown",
   "metadata": {},
   "source": [
    "# Assignment Week 04"
   ]
  },
  {
   "cell_type": "code",
   "execution_count": 2,
   "metadata": {},
   "outputs": [],
   "source": [
    "#read full dataset\n",
    "with open(\"../data/OpenSubtitles/OpenSubtitles_sample.th\",\"r\",encoding='utf-8') as f:\n",
    "    th_lines = f.readlines()\n",
    "    th_lines = [i[:-1] for i in th_lines]\n",
    "with open(\"../data/OpenSubtitles/OpenSubtitles_sample.zh_cn\",\"r\",encoding='utf-8') as f:\n",
    "    zh_lines = f.readlines()\n",
    "    zh_lines = [i[:-1] for i in zh_lines]"
   ]
  },
  {
   "cell_type": "code",
   "execution_count": 41,
   "metadata": {},
   "outputs": [],
   "source": []
  },
  {
   "cell_type": "code",
   "execution_count": 3,
   "metadata": {},
   "outputs": [
    {
     "data": {
      "text/plain": [
       "100"
      ]
     },
     "execution_count": 3,
     "metadata": {},
     "output_type": "execute_result"
    }
   ],
   "source": [
    "len(th_lines)"
   ]
  },
  {
   "cell_type": "code",
   "execution_count": 4,
   "metadata": {},
   "outputs": [
    {
     "data": {
      "text/plain": [
       "['คุณจำตอนพิธีล้างบาปของคุณได้ เป็นไปได้ยังไง?',\n",
       " 'เป็นไปไม่ได้รึไง? แต่มันจริงนะ',\n",
       " 'คุณได้ยินผู้ใหญ่เขาคุยกันรึเปล่า?',\n",
       " 'ฉันรู้สึกได้ถึงแสงอาทิตย์ลอดผ่านกระจกเข้ามา',\n",
       " 'ฉันยังจำเสียงหัวใจเต้นของพ่อได้',\n",
       " 'ไม่ใช่ฉันที่จำได้ แต่เป็นความทรงจำของฉันต่างหาก',\n",
       " 'แต่คุณไม่ใช่ คาธอลิกแล้วนี่?',\n",
       " 'เขาปล่อยให้คนอื่นผ่านไป',\n",
       " 'ทำไมอยู่ดีๆถึงพูดเรื่องพิธีล้างบาปขึ้นมาล่ะ?',\n",
       " 'ฉันนึกถึงมันบ่อยๆ บางทีฉันก็จำได้']"
      ]
     },
     "execution_count": 4,
     "metadata": {},
     "output_type": "execute_result"
    }
   ],
   "source": [
    "th_lines[:10]"
   ]
  },
  {
   "cell_type": "code",
   "execution_count": 5,
   "metadata": {},
   "outputs": [
    {
     "data": {
      "text/plain": [
       "100"
      ]
     },
     "execution_count": 5,
     "metadata": {},
     "output_type": "execute_result"
    }
   ],
   "source": [
    "len(zh_lines)"
   ]
  },
  {
   "cell_type": "code",
   "execution_count": 6,
   "metadata": {},
   "outputs": [
    {
     "data": {
      "text/plain": [
       "['记得自己的洗礼仪式 这可能吗?',\n",
       " '不可能?',\n",
       " '可那是事实啊 是听大人们说的吧?',\n",
       " '我能感受到透过玻璃的阳光',\n",
       " '我还记得爸爸的心跳声呢',\n",
       " '真的不是听来的 是记忆里的',\n",
       " '你也不是信天主教的吧',\n",
       " '改新教也有洗礼这种仪式',\n",
       " '为什么忽然提起洗礼仪式?',\n",
       " '最近想起来的 偶尔会想起']"
      ]
     },
     "execution_count": 6,
     "metadata": {},
     "output_type": "execute_result"
    }
   ],
   "source": [
    "zh_lines[:10]"
   ]
  },
  {
   "cell_type": "code",
   "execution_count": 7,
   "metadata": {},
   "outputs": [],
   "source": [
    "import pandas as pd"
   ]
  },
  {
   "cell_type": "code",
   "execution_count": 8,
   "metadata": {},
   "outputs": [],
   "source": [
    "df = pd.DataFrame({'th':th_lines,'zh':zh_lines}) "
   ]
  },
  {
   "cell_type": "code",
   "execution_count": 12,
   "metadata": {},
   "outputs": [
    {
     "data": {
      "text/html": [
       "<div>\n",
       "<style scoped>\n",
       "    .dataframe tbody tr th:only-of-type {\n",
       "        vertical-align: middle;\n",
       "    }\n",
       "\n",
       "    .dataframe tbody tr th {\n",
       "        vertical-align: top;\n",
       "    }\n",
       "\n",
       "    .dataframe thead th {\n",
       "        text-align: right;\n",
       "    }\n",
       "</style>\n",
       "<table border=\"1\" class=\"dataframe\">\n",
       "  <thead>\n",
       "    <tr style=\"text-align: right;\">\n",
       "      <th></th>\n",
       "      <th>th</th>\n",
       "      <th>zh</th>\n",
       "    </tr>\n",
       "  </thead>\n",
       "  <tbody>\n",
       "    <tr>\n",
       "      <th>0</th>\n",
       "      <td>คุณจำตอนพิธีล้างบาปของคุณได้ เป็นไปได้ยังไง?</td>\n",
       "      <td>记得自己的洗礼仪式 这可能吗?</td>\n",
       "    </tr>\n",
       "    <tr>\n",
       "      <th>1</th>\n",
       "      <td>เป็นไปไม่ได้รึไง? แต่มันจริงนะ</td>\n",
       "      <td>不可能?</td>\n",
       "    </tr>\n",
       "    <tr>\n",
       "      <th>2</th>\n",
       "      <td>คุณได้ยินผู้ใหญ่เขาคุยกันรึเปล่า?</td>\n",
       "      <td>可那是事实啊 是听大人们说的吧?</td>\n",
       "    </tr>\n",
       "    <tr>\n",
       "      <th>3</th>\n",
       "      <td>ฉันรู้สึกได้ถึงแสงอาทิตย์ลอดผ่านกระจกเข้ามา</td>\n",
       "      <td>我能感受到透过玻璃的阳光</td>\n",
       "    </tr>\n",
       "    <tr>\n",
       "      <th>4</th>\n",
       "      <td>ฉันยังจำเสียงหัวใจเต้นของพ่อได้</td>\n",
       "      <td>我还记得爸爸的心跳声呢</td>\n",
       "    </tr>\n",
       "    <tr>\n",
       "      <th>...</th>\n",
       "      <td>...</td>\n",
       "      <td>...</td>\n",
       "    </tr>\n",
       "    <tr>\n",
       "      <th>95</th>\n",
       "      <td>มันมีค่าต่อคุณมากนี่</td>\n",
       "      <td>是你非常爱惜的</td>\n",
       "    </tr>\n",
       "    <tr>\n",
       "      <th>96</th>\n",
       "      <td>บางทีคุณก็เจอกันโดยบังเอิญใน ภัตตาคารที่เคยมาด...</td>\n",
       "      <td>偶尔会在恋爱时常常约会的饭店碰面</td>\n",
       "    </tr>\n",
       "    <tr>\n",
       "      <th>97</th>\n",
       "      <td>และเจอกันในบาร์ที่เคยไปเมาด้วยกัน ดื่ม</td>\n",
       "      <td>也会在经常光顾的酒吧碰面</td>\n",
       "    </tr>\n",
       "    <tr>\n",
       "      <th>98</th>\n",
       "      <td>ดื่ม</td>\n",
       "      <td>干</td>\n",
       "    </tr>\n",
       "    <tr>\n",
       "      <th>99</th>\n",
       "      <td>ดูน่าอร่อยนะ นั่นไม่ใช่รูปวาดหรอ?</td>\n",
       "      <td>真的好好吃啊</td>\n",
       "    </tr>\n",
       "  </tbody>\n",
       "</table>\n",
       "<p>100 rows × 2 columns</p>\n",
       "</div>"
      ],
      "text/plain": [
       "                                                   th                zh\n",
       "0        คุณจำตอนพิธีล้างบาปของคุณได้ เป็นไปได้ยังไง?   记得自己的洗礼仪式 这可能吗?\n",
       "1                      เป็นไปไม่ได้รึไง? แต่มันจริงนะ              不可能?\n",
       "2                   คุณได้ยินผู้ใหญ่เขาคุยกันรึเปล่า?  可那是事实啊 是听大人们说的吧?\n",
       "3         ฉันรู้สึกได้ถึงแสงอาทิตย์ลอดผ่านกระจกเข้ามา      我能感受到透过玻璃的阳光\n",
       "4                     ฉันยังจำเสียงหัวใจเต้นของพ่อได้       我还记得爸爸的心跳声呢\n",
       "..                                                ...               ...\n",
       "95                               มันมีค่าต่อคุณมากนี่           是你非常爱惜的\n",
       "96  บางทีคุณก็เจอกันโดยบังเอิญใน ภัตตาคารที่เคยมาด...  偶尔会在恋爱时常常约会的饭店碰面\n",
       "97             และเจอกันในบาร์ที่เคยไปเมาด้วยกัน ดื่ม      也会在经常光顾的酒吧碰面\n",
       "98                                               ดื่ม                 干\n",
       "99                  ดูน่าอร่อยนะ นั่นไม่ใช่รูปวาดหรอ?            真的好好吃啊\n",
       "\n",
       "[100 rows x 2 columns]"
      ]
     },
     "execution_count": 12,
     "metadata": {},
     "output_type": "execute_result"
    }
   ],
   "source": [
    "df"
   ]
  },
  {
   "cell_type": "code",
   "execution_count": 13,
   "metadata": {},
   "outputs": [
    {
     "data": {
      "text/plain": [
       "(100, 2)"
      ]
     },
     "execution_count": 13,
     "metadata": {},
     "output_type": "execute_result"
    }
   ],
   "source": [
    "df.shape"
   ]
  },
  {
   "cell_type": "code",
   "execution_count": 14,
   "metadata": {},
   "outputs": [
    {
     "data": {
      "text/plain": [
       "(99, 2)"
      ]
     },
     "execution_count": 14,
     "metadata": {},
     "output_type": "execute_result"
    }
   ],
   "source": [
    "df.drop_duplicates().shape"
   ]
  },
  {
   "cell_type": "code",
   "execution_count": 11,
   "metadata": {},
   "outputs": [
    {
     "data": {
      "text/plain": [
       "(99, 99)"
      ]
     },
     "execution_count": 11,
     "metadata": {},
     "output_type": "execute_result"
    }
   ],
   "source": [
    "df.th.nunique(),df.zh.nunique()"
   ]
  },
  {
   "cell_type": "code",
   "execution_count": 12,
   "metadata": {},
   "outputs": [],
   "source": [
    "#save deduped\n",
    "df.to_csv('../data/OpenSubtitles/OpenSubtitles_sample_zhth_dedup.txt',header=None, index=None, sep='\\n')"
   ]
  },
  {
   "cell_type": "code",
   "execution_count": 15,
   "metadata": {},
   "outputs": [],
   "source": [
    "from pythainlp import word_tokenize"
   ]
  },
  {
   "cell_type": "code",
   "execution_count": 16,
   "metadata": {},
   "outputs": [],
   "source": [
    "import jieba"
   ]
  },
  {
   "cell_type": "code",
   "execution_count": 17,
   "metadata": {
    "scrolled": false
   },
   "outputs": [],
   "source": [
    "df['th_str'] = df.th.map(lambda x: len(x))"
   ]
  },
  {
   "cell_type": "code",
   "execution_count": 18,
   "metadata": {},
   "outputs": [],
   "source": [
    "df['zh_str'] = df.zh.map(lambda x: len(x))"
   ]
  },
  {
   "cell_type": "code",
   "execution_count": null,
   "metadata": {},
   "outputs": [],
   "source": []
  },
  {
   "cell_type": "code",
   "execution_count": 19,
   "metadata": {
    "scrolled": true
   },
   "outputs": [],
   "source": [
    "df['th_word'] = df.th.map(lambda x: len(word_tokenize(x)))"
   ]
  },
  {
   "cell_type": "code",
   "execution_count": 20,
   "metadata": {},
   "outputs": [
    {
     "name": "stderr",
     "output_type": "stream",
     "text": [
      "Building prefix dict from the default dictionary ...\n",
      "Loading model from cache C:\\Users\\PC-2\\AppData\\Local\\Temp\\jieba.cache\n",
      "Loading model cost 0.541 seconds.\n",
      "Prefix dict has been built successfully.\n"
     ]
    },
    {
     "data": {
      "text/html": [
       "<div>\n",
       "<style scoped>\n",
       "    .dataframe tbody tr th:only-of-type {\n",
       "        vertical-align: middle;\n",
       "    }\n",
       "\n",
       "    .dataframe tbody tr th {\n",
       "        vertical-align: top;\n",
       "    }\n",
       "\n",
       "    .dataframe thead th {\n",
       "        text-align: right;\n",
       "    }\n",
       "</style>\n",
       "<table border=\"1\" class=\"dataframe\">\n",
       "  <thead>\n",
       "    <tr style=\"text-align: right;\">\n",
       "      <th></th>\n",
       "      <th>th</th>\n",
       "      <th>zh</th>\n",
       "      <th>th_str</th>\n",
       "      <th>zh_str</th>\n",
       "      <th>th_word</th>\n",
       "      <th>zh_word</th>\n",
       "    </tr>\n",
       "  </thead>\n",
       "  <tbody>\n",
       "    <tr>\n",
       "      <th>0</th>\n",
       "      <td>คุณจำตอนพิธีล้างบาปของคุณได้ เป็นไปได้ยังไง?</td>\n",
       "      <td>记得自己的洗礼仪式 这可能吗?</td>\n",
       "      <td>44</td>\n",
       "      <td>15</td>\n",
       "      <td>12</td>\n",
       "      <td>10</td>\n",
       "    </tr>\n",
       "    <tr>\n",
       "      <th>1</th>\n",
       "      <td>เป็นไปไม่ได้รึไง? แต่มันจริงนะ</td>\n",
       "      <td>不可能?</td>\n",
       "      <td>30</td>\n",
       "      <td>4</td>\n",
       "      <td>9</td>\n",
       "      <td>3</td>\n",
       "    </tr>\n",
       "    <tr>\n",
       "      <th>2</th>\n",
       "      <td>คุณได้ยินผู้ใหญ่เขาคุยกันรึเปล่า?</td>\n",
       "      <td>可那是事实啊 是听大人们说的吧?</td>\n",
       "      <td>33</td>\n",
       "      <td>16</td>\n",
       "      <td>8</td>\n",
       "      <td>14</td>\n",
       "    </tr>\n",
       "    <tr>\n",
       "      <th>3</th>\n",
       "      <td>ฉันรู้สึกได้ถึงแสงอาทิตย์ลอดผ่านกระจกเข้ามา</td>\n",
       "      <td>我能感受到透过玻璃的阳光</td>\n",
       "      <td>43</td>\n",
       "      <td>12</td>\n",
       "      <td>8</td>\n",
       "      <td>7</td>\n",
       "    </tr>\n",
       "    <tr>\n",
       "      <th>4</th>\n",
       "      <td>ฉันยังจำเสียงหัวใจเต้นของพ่อได้</td>\n",
       "      <td>我还记得爸爸的心跳声呢</td>\n",
       "      <td>31</td>\n",
       "      <td>11</td>\n",
       "      <td>9</td>\n",
       "      <td>7</td>\n",
       "    </tr>\n",
       "    <tr>\n",
       "      <th>...</th>\n",
       "      <td>...</td>\n",
       "      <td>...</td>\n",
       "      <td>...</td>\n",
       "      <td>...</td>\n",
       "      <td>...</td>\n",
       "      <td>...</td>\n",
       "    </tr>\n",
       "    <tr>\n",
       "      <th>95</th>\n",
       "      <td>มันมีค่าต่อคุณมากนี่</td>\n",
       "      <td>是你非常爱惜的</td>\n",
       "      <td>20</td>\n",
       "      <td>7</td>\n",
       "      <td>6</td>\n",
       "      <td>5</td>\n",
       "    </tr>\n",
       "    <tr>\n",
       "      <th>96</th>\n",
       "      <td>บางทีคุณก็เจอกันโดยบังเอิญใน ภัตตาคารที่เคยมาด...</td>\n",
       "      <td>偶尔会在恋爱时常常约会的饭店碰面</td>\n",
       "      <td>60</td>\n",
       "      <td>16</td>\n",
       "      <td>15</td>\n",
       "      <td>10</td>\n",
       "    </tr>\n",
       "    <tr>\n",
       "      <th>97</th>\n",
       "      <td>และเจอกันในบาร์ที่เคยไปเมาด้วยกัน ดื่ม</td>\n",
       "      <td>也会在经常光顾的酒吧碰面</td>\n",
       "      <td>38</td>\n",
       "      <td>12</td>\n",
       "      <td>11</td>\n",
       "      <td>8</td>\n",
       "    </tr>\n",
       "    <tr>\n",
       "      <th>98</th>\n",
       "      <td>ดื่ม</td>\n",
       "      <td>干</td>\n",
       "      <td>4</td>\n",
       "      <td>1</td>\n",
       "      <td>1</td>\n",
       "      <td>1</td>\n",
       "    </tr>\n",
       "    <tr>\n",
       "      <th>99</th>\n",
       "      <td>ดูน่าอร่อยนะ นั่นไม่ใช่รูปวาดหรอ?</td>\n",
       "      <td>真的好好吃啊</td>\n",
       "      <td>33</td>\n",
       "      <td>6</td>\n",
       "      <td>10</td>\n",
       "      <td>4</td>\n",
       "    </tr>\n",
       "  </tbody>\n",
       "</table>\n",
       "<p>100 rows × 6 columns</p>\n",
       "</div>"
      ],
      "text/plain": [
       "                                                   th                zh  \\\n",
       "0        คุณจำตอนพิธีล้างบาปของคุณได้ เป็นไปได้ยังไง?   记得自己的洗礼仪式 这可能吗?   \n",
       "1                      เป็นไปไม่ได้รึไง? แต่มันจริงนะ              不可能?   \n",
       "2                   คุณได้ยินผู้ใหญ่เขาคุยกันรึเปล่า?  可那是事实啊 是听大人们说的吧?   \n",
       "3         ฉันรู้สึกได้ถึงแสงอาทิตย์ลอดผ่านกระจกเข้ามา      我能感受到透过玻璃的阳光   \n",
       "4                     ฉันยังจำเสียงหัวใจเต้นของพ่อได้       我还记得爸爸的心跳声呢   \n",
       "..                                                ...               ...   \n",
       "95                               มันมีค่าต่อคุณมากนี่           是你非常爱惜的   \n",
       "96  บางทีคุณก็เจอกันโดยบังเอิญใน ภัตตาคารที่เคยมาด...  偶尔会在恋爱时常常约会的饭店碰面   \n",
       "97             และเจอกันในบาร์ที่เคยไปเมาด้วยกัน ดื่ม      也会在经常光顾的酒吧碰面   \n",
       "98                                               ดื่ม                 干   \n",
       "99                  ดูน่าอร่อยนะ นั่นไม่ใช่รูปวาดหรอ?            真的好好吃啊   \n",
       "\n",
       "    th_str  zh_str  th_word  zh_word  \n",
       "0       44      15       12       10  \n",
       "1       30       4        9        3  \n",
       "2       33      16        8       14  \n",
       "3       43      12        8        7  \n",
       "4       31      11        9        7  \n",
       "..     ...     ...      ...      ...  \n",
       "95      20       7        6        5  \n",
       "96      60      16       15       10  \n",
       "97      38      12       11        8  \n",
       "98       4       1        1        1  \n",
       "99      33       6       10        4  \n",
       "\n",
       "[100 rows x 6 columns]"
      ]
     },
     "execution_count": 20,
     "metadata": {},
     "output_type": "execute_result"
    }
   ],
   "source": [
    "df['zh_word'] = df.zh.map(lambda x: len(jieba.lcut(x)))\n",
    "df"
   ]
  },
  {
   "cell_type": "code",
   "execution_count": null,
   "metadata": {},
   "outputs": [],
   "source": []
  },
  {
   "cell_type": "code",
   "execution_count": 99,
   "metadata": {},
   "outputs": [
    {
     "data": {
      "text/plain": [
       "array([[<AxesSubplot:title={'center':'th_str'}>,\n",
       "        <AxesSubplot:title={'center':'zh_str'}>],\n",
       "       [<AxesSubplot:title={'center':'th_word'}>, <AxesSubplot:>]],\n",
       "      dtype=object)"
      ]
     },
     "execution_count": 99,
     "metadata": {},
     "output_type": "execute_result"
    },
    {
     "data": {
      "image/png": "[encoded data removed]",
      "text/plain": [
       "<Figure size 432x288 with 4 Axes>"
      ]
     },
     "metadata": {
      "needs_background": "light"
     },
     "output_type": "display_data"
    }
   ],
   "source": [
    "df.hist(bins = 30)"
   ]
  },
  {
   "cell_type": "code",
   "execution_count": 108,
   "metadata": {},
   "outputs": [
    {
     "data": {
      "text/plain": [
       "3106"
      ]
     },
     "execution_count": 108,
     "metadata": {},
     "output_type": "execute_result"
    }
   ],
   "source": [
    "df.th_str.sum()"
   ]
  },
  {
   "cell_type": "code",
   "execution_count": 109,
   "metadata": {},
   "outputs": [
    {
     "data": {
      "text/plain": [
       "31.06"
      ]
     },
     "execution_count": 109,
     "metadata": {},
     "output_type": "execute_result"
    }
   ],
   "source": [
    "df.th_str.mean()"
   ]
  },
  {
   "cell_type": "code",
   "execution_count": 102,
   "metadata": {},
   "outputs": [
    {
     "data": {
      "text/plain": [
       "1038"
      ]
     },
     "execution_count": 102,
     "metadata": {},
     "output_type": "execute_result"
    }
   ],
   "source": [
    "df.zh_str.sum()"
   ]
  },
  {
   "cell_type": "code",
   "execution_count": 103,
   "metadata": {},
   "outputs": [
    {
     "data": {
      "text/plain": [
       "10.38"
      ]
     },
     "execution_count": 103,
     "metadata": {},
     "output_type": "execute_result"
    }
   ],
   "source": [
    "df.zh_str.mean()"
   ]
  },
  {
   "cell_type": "code",
   "execution_count": 104,
   "metadata": {},
   "outputs": [
    {
     "data": {
      "text/plain": [
       "907"
      ]
     },
     "execution_count": 104,
     "metadata": {},
     "output_type": "execute_result"
    }
   ],
   "source": [
    "df.th_word.sum()"
   ]
  },
  {
   "cell_type": "code",
   "execution_count": 105,
   "metadata": {},
   "outputs": [
    {
     "data": {
      "text/plain": [
       "9.07"
      ]
     },
     "execution_count": 105,
     "metadata": {},
     "output_type": "execute_result"
    }
   ],
   "source": [
    "df.th_word.mean()"
   ]
  },
  {
   "cell_type": "markdown",
   "metadata": {},
   "source": [
    "## Jieba"
   ]
  },
  {
   "cell_type": "code",
   "execution_count": 15,
   "metadata": {},
   "outputs": [],
   "source": [
    "import jieba\n",
    "import jieba.analyse"
   ]
  },
  {
   "cell_type": "code",
   "execution_count": 10,
   "metadata": {},
   "outputs": [],
   "source": [
    "seg_list = jieba.cut(\"我来到北京清华大学\", cut_all=True)"
   ]
  },
  {
   "cell_type": "code",
   "execution_count": 12,
   "metadata": {},
   "outputs": [
    {
     "name": "stdout",
     "output_type": "stream",
     "text": [
      "Default Mode: 我/ 来到/ 北京/ 清华大学\n"
     ]
    }
   ],
   "source": [
    "seg_list = jieba.cut(\"我来到北京清华大学\", cut_all=False)\n",
    "print(\"Default Mode: \" + \"/ \".join(seg_list))"
   ]
  },
  {
   "cell_type": "code",
   "execution_count": 24,
   "metadata": {},
   "outputs": [
    {
     "name": "stdout",
     "output_type": "stream",
     "text": [
      "我,来到,北京,清华,清华大学,华大,大学\n"
     ]
    }
   ],
   "source": [
    "seg_list = jieba.cut(\"我来到北京清华大学\",cut_all=True)\n",
    "print(\",\".join(seg_list))"
   ]
  },
  {
   "cell_type": "code",
   "execution_count": 30,
   "metadata": {},
   "outputs": [
    {
     "data": {
      "text/plain": [
       "['我', '来到', '北京', '清华大学']"
      ]
     },
     "execution_count": 30,
     "metadata": {},
     "output_type": "execute_result"
    }
   ],
   "source": [
    "jieba.lcut(\"我来到北京清华大学\")"
   ]
  },
  {
   "cell_type": "code",
   "execution_count": 31,
   "metadata": {},
   "outputs": [
    {
     "data": {
      "text/plain": [
       "4"
      ]
     },
     "execution_count": 31,
     "metadata": {},
     "output_type": "execute_result"
    }
   ],
   "source": [
    "len(jieba.lcut(\"我来到北京清华大学\"))"
   ]
  },
  {
   "cell_type": "code",
   "execution_count": 32,
   "metadata": {},
   "outputs": [
    {
     "data": {
      "text/plain": [
       "['我', '来到', '北京', '清华', '清华大学', '华大', '大学']"
      ]
     },
     "execution_count": 32,
     "metadata": {},
     "output_type": "execute_result"
    }
   ],
   "source": [
    "jieba.lcut (\"我来到北京清华大学\", cut_all = True)"
   ]
  },
  {
   "cell_type": "code",
   "execution_count": 33,
   "metadata": {},
   "outputs": [
    {
     "data": {
      "text/plain": [
       "['我', '来到', '北京', '清华', '华大', '大学', '清华大学']"
      ]
     },
     "execution_count": 33,
     "metadata": {},
     "output_type": "execute_result"
    }
   ],
   "source": [
    "jieba.lcut_for_search(\"我来到北京清华大学\")"
   ]
  },
  {
   "cell_type": "code",
   "execution_count": null,
   "metadata": {},
   "outputs": [],
   "source": []
  },
  {
   "cell_type": "markdown",
   "metadata": {},
   "source": [
    "## spacy-pkuseg"
   ]
  },
  {
   "cell_type": "code",
   "execution_count": 60,
   "metadata": {},
   "outputs": [
    {
     "name": "stderr",
     "output_type": "stream",
     "text": [
      "C:\\Users\\PC-2\\anaconda3\\lib\\site-packages\\ipykernel\\ipkernel.py:287: DeprecationWarning: `should_run_async` will not call `transform_cell` automatically in the future. Please pass the result to `transformed_cell` argument and any exception that happen during thetransform in `preprocessing_exc_tuple` in IPython 7.17 and above.\n",
      "  and should_run_async(code)\n"
     ]
    }
   ],
   "source": [
    "import pkuseg"
   ]
  },
  {
   "cell_type": "code",
   "execution_count": 62,
   "metadata": {},
   "outputs": [
    {
     "name": "stdout",
     "output_type": "stream",
     "text": [
      "4\n"
     ]
    }
   ],
   "source": [
    "seg = pkuseg.pkuseg()           # 以默认配置加载模型\n",
    "text = seg.cut('我爱北京天安门')  # 进行分词\n",
    "print(len(text))"
   ]
  },
  {
   "cell_type": "code",
   "execution_count": 63,
   "metadata": {},
   "outputs": [
    {
     "data": {
      "text/html": [
       "<div>\n",
       "<style scoped>\n",
       "    .dataframe tbody tr th:only-of-type {\n",
       "        vertical-align: middle;\n",
       "    }\n",
       "\n",
       "    .dataframe tbody tr th {\n",
       "        vertical-align: top;\n",
       "    }\n",
       "\n",
       "    .dataframe thead th {\n",
       "        text-align: right;\n",
       "    }\n",
       "</style>\n",
       "<table border=\"1\" class=\"dataframe\">\n",
       "  <thead>\n",
       "    <tr style=\"text-align: right;\">\n",
       "      <th></th>\n",
       "      <th>th</th>\n",
       "      <th>zh</th>\n",
       "      <th>th_str</th>\n",
       "      <th>zh_str</th>\n",
       "      <th>th_word</th>\n",
       "      <th>zh_word</th>\n",
       "      <th>zh_word_pkuseg</th>\n",
       "    </tr>\n",
       "  </thead>\n",
       "  <tbody>\n",
       "    <tr>\n",
       "      <th>0</th>\n",
       "      <td>คุณจำตอนพิธีล้างบาปของคุณได้ เป็นไปได้ยังไง?</td>\n",
       "      <td>记得自己的洗礼仪式 这可能吗?</td>\n",
       "      <td>44</td>\n",
       "      <td>15</td>\n",
       "      <td>12</td>\n",
       "      <td>10</td>\n",
       "      <td>9</td>\n",
       "    </tr>\n",
       "    <tr>\n",
       "      <th>1</th>\n",
       "      <td>เป็นไปไม่ได้รึไง? แต่มันจริงนะ</td>\n",
       "      <td>不可能?</td>\n",
       "      <td>30</td>\n",
       "      <td>4</td>\n",
       "      <td>9</td>\n",
       "      <td>3</td>\n",
       "      <td>3</td>\n",
       "    </tr>\n",
       "    <tr>\n",
       "      <th>2</th>\n",
       "      <td>คุณได้ยินผู้ใหญ่เขาคุยกันรึเปล่า?</td>\n",
       "      <td>可那是事实啊 是听大人们说的吧?</td>\n",
       "      <td>33</td>\n",
       "      <td>16</td>\n",
       "      <td>8</td>\n",
       "      <td>14</td>\n",
       "      <td>12</td>\n",
       "    </tr>\n",
       "    <tr>\n",
       "      <th>3</th>\n",
       "      <td>ฉันรู้สึกได้ถึงแสงอาทิตย์ลอดผ่านกระจกเข้ามา</td>\n",
       "      <td>我能感受到透过玻璃的阳光</td>\n",
       "      <td>43</td>\n",
       "      <td>12</td>\n",
       "      <td>8</td>\n",
       "      <td>7</td>\n",
       "      <td>8</td>\n",
       "    </tr>\n",
       "    <tr>\n",
       "      <th>4</th>\n",
       "      <td>ฉันยังจำเสียงหัวใจเต้นของพ่อได้</td>\n",
       "      <td>我还记得爸爸的心跳声呢</td>\n",
       "      <td>31</td>\n",
       "      <td>11</td>\n",
       "      <td>9</td>\n",
       "      <td>7</td>\n",
       "      <td>8</td>\n",
       "    </tr>\n",
       "    <tr>\n",
       "      <th>...</th>\n",
       "      <td>...</td>\n",
       "      <td>...</td>\n",
       "      <td>...</td>\n",
       "      <td>...</td>\n",
       "      <td>...</td>\n",
       "      <td>...</td>\n",
       "      <td>...</td>\n",
       "    </tr>\n",
       "    <tr>\n",
       "      <th>95</th>\n",
       "      <td>มันมีค่าต่อคุณมากนี่</td>\n",
       "      <td>是你非常爱惜的</td>\n",
       "      <td>20</td>\n",
       "      <td>7</td>\n",
       "      <td>6</td>\n",
       "      <td>5</td>\n",
       "      <td>5</td>\n",
       "    </tr>\n",
       "    <tr>\n",
       "      <th>96</th>\n",
       "      <td>บางทีคุณก็เจอกันโดยบังเอิญใน ภัตตาคารที่เคยมาด...</td>\n",
       "      <td>偶尔会在恋爱时常常约会的饭店碰面</td>\n",
       "      <td>60</td>\n",
       "      <td>16</td>\n",
       "      <td>15</td>\n",
       "      <td>10</td>\n",
       "      <td>10</td>\n",
       "    </tr>\n",
       "    <tr>\n",
       "      <th>97</th>\n",
       "      <td>และเจอกันในบาร์ที่เคยไปเมาด้วยกัน ดื่ม</td>\n",
       "      <td>也会在经常光顾的酒吧碰面</td>\n",
       "      <td>38</td>\n",
       "      <td>12</td>\n",
       "      <td>11</td>\n",
       "      <td>8</td>\n",
       "      <td>8</td>\n",
       "    </tr>\n",
       "    <tr>\n",
       "      <th>98</th>\n",
       "      <td>ดื่ม</td>\n",
       "      <td>干</td>\n",
       "      <td>4</td>\n",
       "      <td>1</td>\n",
       "      <td>1</td>\n",
       "      <td>1</td>\n",
       "      <td>1</td>\n",
       "    </tr>\n",
       "    <tr>\n",
       "      <th>99</th>\n",
       "      <td>ดูน่าอร่อยนะ นั่นไม่ใช่รูปวาดหรอ?</td>\n",
       "      <td>真的好好吃啊</td>\n",
       "      <td>33</td>\n",
       "      <td>6</td>\n",
       "      <td>10</td>\n",
       "      <td>4</td>\n",
       "      <td>4</td>\n",
       "    </tr>\n",
       "  </tbody>\n",
       "</table>\n",
       "<p>100 rows × 7 columns</p>\n",
       "</div>"
      ],
      "text/plain": [
       "                                                   th                zh  \\\n",
       "0        คุณจำตอนพิธีล้างบาปของคุณได้ เป็นไปได้ยังไง?   记得自己的洗礼仪式 这可能吗?   \n",
       "1                      เป็นไปไม่ได้รึไง? แต่มันจริงนะ              不可能?   \n",
       "2                   คุณได้ยินผู้ใหญ่เขาคุยกันรึเปล่า?  可那是事实啊 是听大人们说的吧?   \n",
       "3         ฉันรู้สึกได้ถึงแสงอาทิตย์ลอดผ่านกระจกเข้ามา      我能感受到透过玻璃的阳光   \n",
       "4                     ฉันยังจำเสียงหัวใจเต้นของพ่อได้       我还记得爸爸的心跳声呢   \n",
       "..                                                ...               ...   \n",
       "95                               มันมีค่าต่อคุณมากนี่           是你非常爱惜的   \n",
       "96  บางทีคุณก็เจอกันโดยบังเอิญใน ภัตตาคารที่เคยมาด...  偶尔会在恋爱时常常约会的饭店碰面   \n",
       "97             และเจอกันในบาร์ที่เคยไปเมาด้วยกัน ดื่ม      也会在经常光顾的酒吧碰面   \n",
       "98                                               ดื่ม                 干   \n",
       "99                  ดูน่าอร่อยนะ นั่นไม่ใช่รูปวาดหรอ?            真的好好吃啊   \n",
       "\n",
       "    th_str  zh_str  th_word  zh_word  zh_word_pkuseg  \n",
       "0       44      15       12       10               9  \n",
       "1       30       4        9        3               3  \n",
       "2       33      16        8       14              12  \n",
       "3       43      12        8        7               8  \n",
       "4       31      11        9        7               8  \n",
       "..     ...     ...      ...      ...             ...  \n",
       "95      20       7        6        5               5  \n",
       "96      60      16       15       10              10  \n",
       "97      38      12       11        8               8  \n",
       "98       4       1        1        1               1  \n",
       "99      33       6       10        4               4  \n",
       "\n",
       "[100 rows x 7 columns]"
      ]
     },
     "execution_count": 63,
     "metadata": {},
     "output_type": "execute_result"
    }
   ],
   "source": [
    "df['zh_word_pkuseg'] = df.zh.map(lambda x: len(seg.cut(x)))\n",
    "df"
   ]
  },
  {
   "cell_type": "code",
   "execution_count": 65,
   "metadata": {},
   "outputs": [],
   "source": [
    "# df.to_csv('../data/OpenSubtitles/OpenSubtitles_sample_str_word.csv',header=None, index=None, sep='\\n')"
   ]
  },
  {
   "cell_type": "code",
   "execution_count": null,
   "metadata": {},
   "outputs": [],
   "source": []
  },
  {
   "cell_type": "markdown",
   "metadata": {},
   "source": [
    "## thulac"
   ]
  },
  {
   "cell_type": "code",
   "execution_count": 72,
   "metadata": {},
   "outputs": [],
   "source": [
    "import thulac"
   ]
  },
  {
   "cell_type": "code",
   "execution_count": 166,
   "metadata": {},
   "outputs": [
    {
     "name": "stdout",
     "output_type": "stream",
     "text": [
      "Model loaded succeed\n"
     ]
    },
    {
     "ename": "AttributeError",
     "evalue": "module 'time' has no attribute 'clock'",
     "output_type": "error",
     "traceback": [
      "\u001b[1;31m---------------------------------------------------------------------------\u001b[0m",
      "\u001b[1;31mAttributeError\u001b[0m                            Traceback (most recent call last)",
      "\u001b[1;32m<ipython-input-166-163835c06a18>\u001b[0m in \u001b[0;36m<module>\u001b[1;34m\u001b[0m\n\u001b[1;32m----> 1\u001b[1;33m \u001b[0mthulac\u001b[0m\u001b[1;33m.\u001b[0m\u001b[0mthulac\u001b[0m\u001b[1;33m(\u001b[0m\u001b[0mseg_only\u001b[0m\u001b[1;33m=\u001b[0m\u001b[1;32mTrue\u001b[0m\u001b[1;33m)\u001b[0m\u001b[1;33m.\u001b[0m\u001b[0mcut\u001b[0m\u001b[1;33m(\u001b[0m\u001b[1;34m\"记得自己的洗礼仪式 这可能吗?\"\u001b[0m\u001b[1;33m,\u001b[0m \u001b[0mtext\u001b[0m\u001b[1;33m=\u001b[0m\u001b[1;32mTrue\u001b[0m\u001b[1;33m)\u001b[0m\u001b[1;33m\u001b[0m\u001b[1;33m\u001b[0m\u001b[0m\n\u001b[0m",
      "\u001b[1;32m~\\anaconda3\\lib\\site-packages\\thulac\\__init__.py\u001b[0m in \u001b[0;36mcut\u001b[1;34m(self, oiraw, text)\u001b[0m\n\u001b[0;32m    105\u001b[0m \u001b[1;33m\u001b[0m\u001b[0m\n\u001b[0;32m    106\u001b[0m     \u001b[1;32mdef\u001b[0m \u001b[0mcut\u001b[0m\u001b[1;33m(\u001b[0m\u001b[0mself\u001b[0m\u001b[1;33m,\u001b[0m \u001b[0moiraw\u001b[0m\u001b[1;33m,\u001b[0m \u001b[0mtext\u001b[0m \u001b[1;33m=\u001b[0m \u001b[1;32mFalse\u001b[0m\u001b[1;33m)\u001b[0m\u001b[1;33m:\u001b[0m\u001b[1;33m\u001b[0m\u001b[1;33m\u001b[0m\u001b[0m\n\u001b[1;32m--> 107\u001b[1;33m         \u001b[1;32mreturn\u001b[0m \u001b[0mself\u001b[0m\u001b[1;33m.\u001b[0m\u001b[0m__cutWithOutMethod\u001b[0m\u001b[1;33m(\u001b[0m\u001b[0moiraw\u001b[0m\u001b[1;33m,\u001b[0m \u001b[0mself\u001b[0m\u001b[1;33m.\u001b[0m\u001b[0m__cutline\u001b[0m\u001b[1;33m,\u001b[0m \u001b[0mtext\u001b[0m \u001b[1;33m=\u001b[0m \u001b[0mtext\u001b[0m\u001b[1;33m)\u001b[0m\u001b[1;33m\u001b[0m\u001b[1;33m\u001b[0m\u001b[0m\n\u001b[0m\u001b[0;32m    108\u001b[0m \u001b[1;33m\u001b[0m\u001b[0m\n\u001b[0;32m    109\u001b[0m     \u001b[1;32mdef\u001b[0m \u001b[0mfast_cut\u001b[0m\u001b[1;33m(\u001b[0m\u001b[0mself\u001b[0m\u001b[1;33m,\u001b[0m \u001b[0moiraw\u001b[0m\u001b[1;33m,\u001b[0m \u001b[0mtext\u001b[0m \u001b[1;33m=\u001b[0m \u001b[1;32mFalse\u001b[0m\u001b[1;33m)\u001b[0m\u001b[1;33m:\u001b[0m\u001b[1;33m\u001b[0m\u001b[1;33m\u001b[0m\u001b[0m\n",
      "\u001b[1;32m~\\anaconda3\\lib\\site-packages\\thulac\\__init__.py\u001b[0m in \u001b[0;36m__cutWithOutMethod\u001b[1;34m(self, oiraw, cut_method, text)\u001b[0m\n\u001b[0;32m     87\u001b[0m             \u001b[1;32mfor\u001b[0m \u001b[0mline\u001b[0m \u001b[1;32min\u001b[0m \u001b[0moiraw\u001b[0m\u001b[1;33m:\u001b[0m\u001b[1;33m\u001b[0m\u001b[1;33m\u001b[0m\u001b[0m\n\u001b[0;32m     88\u001b[0m                 \u001b[1;32mif\u001b[0m\u001b[1;33m(\u001b[0m\u001b[0mself\u001b[0m\u001b[1;33m.\u001b[0m\u001b[0m__seg_only\u001b[0m\u001b[1;33m)\u001b[0m\u001b[1;33m:\u001b[0m\u001b[1;33m\u001b[0m\u001b[1;33m\u001b[0m\u001b[0m\n\u001b[1;32m---> 89\u001b[1;33m                     \u001b[0mtemp_txt\u001b[0m \u001b[1;33m=\u001b[0m \u001b[0mreduce\u001b[0m\u001b[1;33m(\u001b[0m\u001b[1;32mlambda\u001b[0m \u001b[0mx\u001b[0m\u001b[1;33m,\u001b[0m \u001b[0my\u001b[0m\u001b[1;33m:\u001b[0m \u001b[0mx\u001b[0m \u001b[1;33m+\u001b[0m \u001b[1;34m' '\u001b[0m \u001b[1;33m+\u001b[0m \u001b[0my\u001b[0m \u001b[1;32mif\u001b[0m \u001b[0my\u001b[0m \u001b[1;33m!=\u001b[0m \u001b[1;34m\" \"\u001b[0m \u001b[1;32melse\u001b[0m \u001b[0mx\u001b[0m\u001b[1;33m,\u001b[0m \u001b[0mcut_method\u001b[0m\u001b[1;33m(\u001b[0m\u001b[0mline\u001b[0m\u001b[1;33m)\u001b[0m\u001b[1;33m,\u001b[0m \u001b[1;34m''\u001b[0m\u001b[1;33m)\u001b[0m \u001b[1;33m+\u001b[0m \u001b[1;34m'\\n'\u001b[0m\u001b[1;33m\u001b[0m\u001b[1;33m\u001b[0m\u001b[0m\n\u001b[0m\u001b[0;32m     90\u001b[0m                 \u001b[1;32melse\u001b[0m\u001b[1;33m:\u001b[0m\u001b[1;33m\u001b[0m\u001b[1;33m\u001b[0m\u001b[0m\n\u001b[0;32m     91\u001b[0m                     \u001b[0mtemp_txt\u001b[0m \u001b[1;33m=\u001b[0m \u001b[0mreduce\u001b[0m\u001b[1;33m(\u001b[0m\u001b[1;32mlambda\u001b[0m \u001b[0mx\u001b[0m\u001b[1;33m,\u001b[0m \u001b[0my\u001b[0m\u001b[1;33m:\u001b[0m \u001b[0mx\u001b[0m \u001b[1;33m+\u001b[0m \u001b[1;34m' '\u001b[0m \u001b[1;33m+\u001b[0m \u001b[1;34m\"\"\u001b[0m\u001b[1;33m.\u001b[0m\u001b[0mjoin\u001b[0m\u001b[1;33m(\u001b[0m\u001b[0my\u001b[0m\u001b[1;33m)\u001b[0m\u001b[1;33m,\u001b[0m \u001b[0mcut_method\u001b[0m\u001b[1;33m(\u001b[0m\u001b[0mline\u001b[0m\u001b[1;33m)\u001b[0m\u001b[1;33m,\u001b[0m \u001b[1;34m''\u001b[0m\u001b[1;33m)\u001b[0m \u001b[1;33m+\u001b[0m \u001b[1;34m'\\n'\u001b[0m\u001b[1;33m\u001b[0m\u001b[1;33m\u001b[0m\u001b[0m\n",
      "\u001b[1;32m~\\anaconda3\\lib\\site-packages\\thulac\\__init__.py\u001b[0m in \u001b[0;36m__cutline\u001b[1;34m(self, oiraw)\u001b[0m\n\u001b[0;32m    129\u001b[0m             \u001b[1;32mif\u001b[0m\u001b[1;33m(\u001b[0m\u001b[0mlen\u001b[0m\u001b[1;33m(\u001b[0m\u001b[0mraw\u001b[0m\u001b[1;33m)\u001b[0m \u001b[1;33m>\u001b[0m \u001b[1;36m0\u001b[0m\u001b[1;33m)\u001b[0m\u001b[1;33m:\u001b[0m\u001b[1;33m\u001b[0m\u001b[1;33m\u001b[0m\u001b[0m\n\u001b[0;32m    130\u001b[0m                 \u001b[1;32mif\u001b[0m\u001b[1;33m(\u001b[0m\u001b[0mself\u001b[0m\u001b[1;33m.\u001b[0m\u001b[0m__seg_only\u001b[0m\u001b[1;33m)\u001b[0m\u001b[1;33m:\u001b[0m\u001b[1;33m\u001b[0m\u001b[1;33m\u001b[0m\u001b[0m\n\u001b[1;32m--> 131\u001b[1;33m                     \u001b[0mtmp\u001b[0m\u001b[1;33m,\u001b[0m \u001b[0mtagged\u001b[0m \u001b[1;33m=\u001b[0m \u001b[0mself\u001b[0m\u001b[1;33m.\u001b[0m\u001b[0m__cws_tagging_decoder\u001b[0m\u001b[1;33m.\u001b[0m\u001b[0msegmentTag\u001b[0m\u001b[1;33m(\u001b[0m\u001b[0mraw\u001b[0m\u001b[1;33m,\u001b[0m \u001b[0m__poc_cands\u001b[0m\u001b[1;33m)\u001b[0m\u001b[1;33m\u001b[0m\u001b[1;33m\u001b[0m\u001b[0m\n\u001b[0m\u001b[0;32m    132\u001b[0m                     \u001b[0msegged\u001b[0m \u001b[1;33m=\u001b[0m \u001b[0mself\u001b[0m\u001b[1;33m.\u001b[0m\u001b[0m__cws_tagging_decoder\u001b[0m\u001b[1;33m.\u001b[0m\u001b[0mget_seg_result\u001b[0m\u001b[1;33m(\u001b[0m\u001b[1;33m)\u001b[0m\u001b[1;33m\u001b[0m\u001b[1;33m\u001b[0m\u001b[0m\n\u001b[0;32m    133\u001b[0m                     \u001b[1;32mif\u001b[0m\u001b[1;33m(\u001b[0m\u001b[0mself\u001b[0m\u001b[1;33m.\u001b[0m\u001b[0m__userDict\u001b[0m \u001b[1;32mis\u001b[0m \u001b[1;32mnot\u001b[0m \u001b[1;32mNone\u001b[0m\u001b[1;33m)\u001b[0m\u001b[1;33m:\u001b[0m\u001b[1;33m\u001b[0m\u001b[1;33m\u001b[0m\u001b[0m\n",
      "\u001b[1;32m~\\anaconda3\\lib\\site-packages\\thulac\\character\\CBTaggingDecoder.py\u001b[0m in \u001b[0;36msegmentTag\u001b[1;34m(self, raw, graph)\u001b[0m\n\u001b[0;32m    168\u001b[0m         \u001b[0mself\u001b[0m\u001b[1;33m.\u001b[0m\u001b[0msequence\u001b[0m \u001b[1;33m=\u001b[0m \u001b[0mraw\u001b[0m\u001b[1;33m\u001b[0m\u001b[1;33m\u001b[0m\u001b[0m\n\u001b[0;32m    169\u001b[0m         \u001b[0mself\u001b[0m\u001b[1;33m.\u001b[0m\u001b[0mlen\u001b[0m \u001b[1;33m=\u001b[0m \u001b[0mlen\u001b[0m\u001b[1;33m(\u001b[0m\u001b[0mraw\u001b[0m\u001b[1;33m)\u001b[0m\u001b[1;33m\u001b[0m\u001b[1;33m\u001b[0m\u001b[0m\n\u001b[1;32m--> 170\u001b[1;33m         \u001b[0mstart\u001b[0m \u001b[1;33m=\u001b[0m \u001b[0mtime\u001b[0m\u001b[1;33m.\u001b[0m\u001b[0mtime\u001b[0m\u001b[1;33m(\u001b[0m\u001b[1;33m)\u001b[0m\u001b[1;33m\u001b[0m\u001b[1;33m\u001b[0m\u001b[0m\n\u001b[0m\u001b[0;32m    171\u001b[0m         \u001b[0mself\u001b[0m\u001b[1;33m.\u001b[0m\u001b[0mputValues\u001b[0m\u001b[1;33m(\u001b[0m\u001b[1;33m)\u001b[0m\u001b[1;33m\u001b[0m\u001b[1;33m\u001b[0m\u001b[0m\n\u001b[0;32m    172\u001b[0m         \u001b[0mself\u001b[0m\u001b[1;33m.\u001b[0m\u001b[0mdp\u001b[0m\u001b[1;33m(\u001b[0m\u001b[1;33m)\u001b[0m\u001b[1;33m\u001b[0m\u001b[1;33m\u001b[0m\u001b[0m\n",
      "\u001b[1;31mAttributeError\u001b[0m: module 'time' has no attribute 'clock'"
     ]
    }
   ],
   "source": [
    "thulac.thulac(seg_only=True).cut(\"记得自己的洗礼仪式 这可能吗?\", text=True) "
   ]
  },
  {
   "cell_type": "code",
   "execution_count": null,
   "metadata": {},
   "outputs": [],
   "source": []
  },
  {
   "cell_type": "markdown",
   "metadata": {},
   "source": [
    "## SnowNLP"
   ]
  },
  {
   "cell_type": "code",
   "execution_count": 144,
   "metadata": {},
   "outputs": [],
   "source": [
    "from snownlp import SnowNLP"
   ]
  },
  {
   "cell_type": "code",
   "execution_count": 77,
   "metadata": {},
   "outputs": [],
   "source": [
    "snow = SnowNLP('记得自己的洗礼仪式 这可能吗?')"
   ]
  },
  {
   "cell_type": "code",
   "execution_count": 78,
   "metadata": {},
   "outputs": [
    {
     "data": {
      "text/plain": [
       "['记得', '自己', '的', '洗礼', '仪式', '这', '可能', '吗', '?']"
      ]
     },
     "execution_count": 78,
     "metadata": {},
     "output_type": "execute_result"
    }
   ],
   "source": [
    "snow.words"
   ]
  },
  {
   "cell_type": "code",
   "execution_count": 79,
   "metadata": {},
   "outputs": [
    {
     "data": {
      "text/plain": [
       "9"
      ]
     },
     "execution_count": 79,
     "metadata": {},
     "output_type": "execute_result"
    }
   ],
   "source": [
    "len(snow.words)"
   ]
  },
  {
   "cell_type": "code",
   "execution_count": 148,
   "metadata": {},
   "outputs": [],
   "source": [
    "df['zh_word_SnowNLP'] = df.zh.map(lambda x: len(SnowNLP(x).words))"
   ]
  },
  {
   "cell_type": "code",
   "execution_count": 149,
   "metadata": {},
   "outputs": [
    {
     "data": {
      "text/html": [
       "<div>\n",
       "<style scoped>\n",
       "    .dataframe tbody tr th:only-of-type {\n",
       "        vertical-align: middle;\n",
       "    }\n",
       "\n",
       "    .dataframe tbody tr th {\n",
       "        vertical-align: top;\n",
       "    }\n",
       "\n",
       "    .dataframe thead th {\n",
       "        text-align: right;\n",
       "    }\n",
       "</style>\n",
       "<table border=\"1\" class=\"dataframe\">\n",
       "  <thead>\n",
       "    <tr style=\"text-align: right;\">\n",
       "      <th></th>\n",
       "      <th>th</th>\n",
       "      <th>zh</th>\n",
       "      <th>th_str</th>\n",
       "      <th>zh_str</th>\n",
       "      <th>th_word</th>\n",
       "      <th>zh_word</th>\n",
       "      <th>zh_word_pkuseg</th>\n",
       "      <th>zh_word_SnowNLP</th>\n",
       "    </tr>\n",
       "  </thead>\n",
       "  <tbody>\n",
       "    <tr>\n",
       "      <th>0</th>\n",
       "      <td>คุณจำตอนพิธีล้างบาปของคุณได้ เป็นไปได้ยังไง?</td>\n",
       "      <td>记得自己的洗礼仪式 这可能吗?</td>\n",
       "      <td>44</td>\n",
       "      <td>15</td>\n",
       "      <td>12</td>\n",
       "      <td>10</td>\n",
       "      <td>9</td>\n",
       "      <td>9</td>\n",
       "    </tr>\n",
       "    <tr>\n",
       "      <th>1</th>\n",
       "      <td>เป็นไปไม่ได้รึไง? แต่มันจริงนะ</td>\n",
       "      <td>不可能?</td>\n",
       "      <td>30</td>\n",
       "      <td>4</td>\n",
       "      <td>9</td>\n",
       "      <td>3</td>\n",
       "      <td>3</td>\n",
       "      <td>3</td>\n",
       "    </tr>\n",
       "    <tr>\n",
       "      <th>2</th>\n",
       "      <td>คุณได้ยินผู้ใหญ่เขาคุยกันรึเปล่า?</td>\n",
       "      <td>可那是事实啊 是听大人们说的吧?</td>\n",
       "      <td>33</td>\n",
       "      <td>16</td>\n",
       "      <td>8</td>\n",
       "      <td>14</td>\n",
       "      <td>12</td>\n",
       "      <td>12</td>\n",
       "    </tr>\n",
       "    <tr>\n",
       "      <th>3</th>\n",
       "      <td>ฉันรู้สึกได้ถึงแสงอาทิตย์ลอดผ่านกระจกเข้ามา</td>\n",
       "      <td>我能感受到透过玻璃的阳光</td>\n",
       "      <td>43</td>\n",
       "      <td>12</td>\n",
       "      <td>8</td>\n",
       "      <td>7</td>\n",
       "      <td>8</td>\n",
       "      <td>8</td>\n",
       "    </tr>\n",
       "    <tr>\n",
       "      <th>4</th>\n",
       "      <td>ฉันยังจำเสียงหัวใจเต้นของพ่อได้</td>\n",
       "      <td>我还记得爸爸的心跳声呢</td>\n",
       "      <td>31</td>\n",
       "      <td>11</td>\n",
       "      <td>9</td>\n",
       "      <td>7</td>\n",
       "      <td>8</td>\n",
       "      <td>7</td>\n",
       "    </tr>\n",
       "    <tr>\n",
       "      <th>...</th>\n",
       "      <td>...</td>\n",
       "      <td>...</td>\n",
       "      <td>...</td>\n",
       "      <td>...</td>\n",
       "      <td>...</td>\n",
       "      <td>...</td>\n",
       "      <td>...</td>\n",
       "      <td>...</td>\n",
       "    </tr>\n",
       "    <tr>\n",
       "      <th>95</th>\n",
       "      <td>มันมีค่าต่อคุณมากนี่</td>\n",
       "      <td>是你非常爱惜的</td>\n",
       "      <td>20</td>\n",
       "      <td>7</td>\n",
       "      <td>6</td>\n",
       "      <td>5</td>\n",
       "      <td>5</td>\n",
       "      <td>5</td>\n",
       "    </tr>\n",
       "    <tr>\n",
       "      <th>96</th>\n",
       "      <td>บางทีคุณก็เจอกันโดยบังเอิญใน ภัตตาคารที่เคยมาด...</td>\n",
       "      <td>偶尔会在恋爱时常常约会的饭店碰面</td>\n",
       "      <td>60</td>\n",
       "      <td>16</td>\n",
       "      <td>15</td>\n",
       "      <td>10</td>\n",
       "      <td>10</td>\n",
       "      <td>11</td>\n",
       "    </tr>\n",
       "    <tr>\n",
       "      <th>97</th>\n",
       "      <td>และเจอกันในบาร์ที่เคยไปเมาด้วยกัน ดื่ม</td>\n",
       "      <td>也会在经常光顾的酒吧碰面</td>\n",
       "      <td>38</td>\n",
       "      <td>12</td>\n",
       "      <td>11</td>\n",
       "      <td>8</td>\n",
       "      <td>8</td>\n",
       "      <td>8</td>\n",
       "    </tr>\n",
       "    <tr>\n",
       "      <th>98</th>\n",
       "      <td>ดื่ม</td>\n",
       "      <td>干</td>\n",
       "      <td>4</td>\n",
       "      <td>1</td>\n",
       "      <td>1</td>\n",
       "      <td>1</td>\n",
       "      <td>1</td>\n",
       "      <td>1</td>\n",
       "    </tr>\n",
       "    <tr>\n",
       "      <th>99</th>\n",
       "      <td>ดูน่าอร่อยนะ นั่นไม่ใช่รูปวาดหรอ?</td>\n",
       "      <td>真的好好吃啊</td>\n",
       "      <td>33</td>\n",
       "      <td>6</td>\n",
       "      <td>10</td>\n",
       "      <td>4</td>\n",
       "      <td>4</td>\n",
       "      <td>4</td>\n",
       "    </tr>\n",
       "  </tbody>\n",
       "</table>\n",
       "<p>100 rows × 8 columns</p>\n",
       "</div>"
      ],
      "text/plain": [
       "                                                   th                zh  \\\n",
       "0        คุณจำตอนพิธีล้างบาปของคุณได้ เป็นไปได้ยังไง?   记得自己的洗礼仪式 这可能吗?   \n",
       "1                      เป็นไปไม่ได้รึไง? แต่มันจริงนะ              不可能?   \n",
       "2                   คุณได้ยินผู้ใหญ่เขาคุยกันรึเปล่า?  可那是事实啊 是听大人们说的吧?   \n",
       "3         ฉันรู้สึกได้ถึงแสงอาทิตย์ลอดผ่านกระจกเข้ามา      我能感受到透过玻璃的阳光   \n",
       "4                     ฉันยังจำเสียงหัวใจเต้นของพ่อได้       我还记得爸爸的心跳声呢   \n",
       "..                                                ...               ...   \n",
       "95                               มันมีค่าต่อคุณมากนี่           是你非常爱惜的   \n",
       "96  บางทีคุณก็เจอกันโดยบังเอิญใน ภัตตาคารที่เคยมาด...  偶尔会在恋爱时常常约会的饭店碰面   \n",
       "97             และเจอกันในบาร์ที่เคยไปเมาด้วยกัน ดื่ม      也会在经常光顾的酒吧碰面   \n",
       "98                                               ดื่ม                 干   \n",
       "99                  ดูน่าอร่อยนะ นั่นไม่ใช่รูปวาดหรอ?            真的好好吃啊   \n",
       "\n",
       "    th_str  zh_str  th_word  zh_word  zh_word_pkuseg  zh_word_SnowNLP  \n",
       "0       44      15       12       10               9                9  \n",
       "1       30       4        9        3               3                3  \n",
       "2       33      16        8       14              12               12  \n",
       "3       43      12        8        7               8                8  \n",
       "4       31      11        9        7               8                7  \n",
       "..     ...     ...      ...      ...             ...              ...  \n",
       "95      20       7        6        5               5                5  \n",
       "96      60      16       15       10              10               11  \n",
       "97      38      12       11        8               8                8  \n",
       "98       4       1        1        1               1                1  \n",
       "99      33       6       10        4               4                4  \n",
       "\n",
       "[100 rows x 8 columns]"
      ]
     },
     "execution_count": 149,
     "metadata": {},
     "output_type": "execute_result"
    }
   ],
   "source": [
    "df"
   ]
  },
  {
   "cell_type": "code",
   "execution_count": null,
   "metadata": {},
   "outputs": [],
   "source": []
  },
  {
   "cell_type": "code",
   "execution_count": null,
   "metadata": {},
   "outputs": [],
   "source": []
  },
  {
   "cell_type": "markdown",
   "metadata": {},
   "source": [
    "## LTP"
   ]
  },
  {
   "cell_type": "code",
   "execution_count": 101,
   "metadata": {},
   "outputs": [],
   "source": [
    "from ltp import LTP"
   ]
  },
  {
   "cell_type": "code",
   "execution_count": 102,
   "metadata": {},
   "outputs": [
    {
     "name": "stderr",
     "output_type": "stream",
     "text": [
      "C:\\Users\\PC-2\\anaconda3\\lib\\site-packages\\ipykernel\\ipkernel.py:287: DeprecationWarning: `should_run_async` will not call `transform_cell` automatically in the future. Please pass the result to `transformed_cell` argument and any exception that happen during thetransform in `preprocessing_exc_tuple` in IPython 7.17 and above.\n",
      "  and should_run_async(code)\n"
     ]
    },
    {
     "data": {
      "application/vnd.jupyter.widget-view+json": {
       "model_id": "02715b5d1fc242f6925c843ffd932af9",
       "version_major": 2,
       "version_minor": 0
      },
      "text/plain": [
       "HBox(children=(HTML(value='Downloading'), FloatProgress(value=0.0, max=164437832.0), HTML(value='')))"
      ]
     },
     "metadata": {},
     "output_type": "display_data"
    },
    {
     "name": "stdout",
     "output_type": "stream",
     "text": [
      "\n"
     ]
    },
    {
     "name": "stderr",
     "output_type": "stream",
     "text": [
      "C:\\Users\\PC-2\\anaconda3\\lib\\site-packages\\ltp\\frontend.py:260: DeprecationWarning: Deprecated in 0.9.4: Encoding.words is deprecated, please use Encoding.word_ids instead.\n",
      "  for idx, word_idx in enumerate(encoding.words) if word_idx is not None\n",
      "C:\\Users\\PC-2\\anaconda3\\lib\\site-packages\\ltp\\frontend.py:259: DeprecationWarning: Deprecated in 0.9.4: Encoding.words is deprecated, please use Encoding.word_ids instead.\n",
      "  word_idx != encoding.words[idx - 1]\n"
     ]
    },
    {
     "data": {
      "text/plain": [
       "([['他', '叫', '汤姆', '去', '拿', '外衣', '。']],\n",
       " {'word_cls': tensor([[[-0.0672, -0.0493,  0.1183,  0.3838, -0.3820,  0.5235,  3.1999,\n",
       "            -0.1500, -0.0364,  0.1319,  0.3216, -0.1366,  0.4782,  0.0810,\n",
       "             0.0423,  0.5122, -0.1440,  0.1501,  0.4322,  0.0077,  0.3647,\n",
       "             0.1413, -0.3616, -0.3091,  0.3150, -0.0164,  0.5533, -0.2611,\n",
       "             0.2620,  0.0908, -0.4209,  0.5186, -0.0698,  0.0151,  0.1728,\n",
       "             0.1305, -0.0345, -0.0302,  0.1197, -0.0142,  0.3436, -0.1812,\n",
       "             0.1627, -0.1769, -0.4197,  0.2693, -0.0171, -0.0273,  0.2886,\n",
       "             0.3032,  0.1218,  0.3062,  0.2644,  0.1319, -0.3072,  0.0520,\n",
       "            -0.4313, -0.4694, -0.0326,  0.1693, -0.2474,  0.1384,  0.4765,\n",
       "            -0.1389, -0.1348, -0.6550,  0.0306, -0.1754,  0.4295, -0.0508,\n",
       "             0.3525, -0.1318,  0.1029, -0.1084,  0.0255, -0.0418,  0.1969,\n",
       "             0.2150, -0.2743,  0.2014,  0.4680,  0.1464,  0.2401,  0.1330,\n",
       "             0.1947, -0.0417, -0.0238, -0.1169,  0.0377,  0.2891, -0.0645,\n",
       "            -0.1654, -0.1619,  0.0392, -0.3654,  0.3935, -0.2072,  0.5992,\n",
       "            -0.0132, -0.1607,  0.2593, -0.0560,  0.0982, -0.2655,  0.3749,\n",
       "             0.3543, -0.1408, -0.2902, -0.0882,  0.2775,  0.4472, -0.0403,\n",
       "            -0.2637,  0.0476, -0.1692,  0.1824, -0.3699,  0.4031, -0.4037,\n",
       "            -0.1919,  0.3853, -0.2300,  0.4003,  0.3515,  0.1458, -0.1732,\n",
       "             0.8006,  0.0435,  0.5615, -0.3631, -0.1343,  0.0894, -0.1435,\n",
       "             0.4718,  0.2187, -0.1348,  0.0445,  0.6410,  0.1762,  0.4794,\n",
       "             0.9021, -0.6186, -0.3188, -0.4908,  0.0227, -0.3387, -0.0160,\n",
       "             0.9485, -0.0139, -0.2065, -0.2041, -0.0341,  0.0796,  0.0039,\n",
       "             0.1278,  0.1658,  0.4777,  0.6346, -0.4423,  0.1379, -0.0728,\n",
       "            -0.0902, -0.1847,  0.0108,  0.3218,  0.2155,  0.3008, -0.0277,\n",
       "            -0.1941, -0.0226,  0.1122,  0.4004, -0.1279, -0.3353,  0.5141,\n",
       "             0.7061, -0.0087, -0.1810,  0.1385,  0.1225,  0.4841,  0.1188,\n",
       "             0.1562, -0.1966,  0.0277,  0.2530,  0.1641,  0.1850,  0.1876,\n",
       "             0.2797,  0.6536,  0.2288, -0.4651, -0.2215,  0.4217, -0.0733,\n",
       "             0.2973,  0.1349,  0.4563, -0.0235,  0.1950,  0.0692,  0.0202,\n",
       "            -0.3049,  0.2486,  0.4141, -0.0986,  0.6993,  0.1881, -0.1734,\n",
       "            -0.0471, -0.1240, -0.3807,  0.3131, -0.2050, -0.0912,  1.1415,\n",
       "             0.0573,  0.6285, -0.0386,  0.5240,  0.0299,  0.2185, -0.1708,\n",
       "             0.1613,  0.2166,  0.6676,  0.0625, -0.3584,  0.2631,  0.0798,\n",
       "             0.0823,  0.2914, -0.2228,  0.1371, -0.2230,  0.2383,  0.4838,\n",
       "            -0.0543, -0.1162,  0.1270, -0.2977,  0.3388,  0.4352, -0.1141,\n",
       "            -0.1027, -0.1045, -0.1163,  0.2693,  0.4188,  0.0774, -0.4768,\n",
       "            -0.6485,  0.1697,  0.4605,  0.2197]]]),\n",
       "  'word_input': tensor([[[-0.3917,  0.3768,  0.1465,  ..., -0.3472,  0.5388, -0.3908],\n",
       "           [-0.1003,  0.3173,  0.1406,  ..., -0.5376,  0.2835, -0.1910],\n",
       "           [-0.0719, -0.3016,  0.1469,  ...,  0.5053,  0.3661,  0.4453],\n",
       "           ...,\n",
       "           [-0.2100,  0.0979, -0.3931,  ..., -0.0040, -0.7396, -0.1465],\n",
       "           [-0.3889, -0.1804,  0.1337,  ...,  0.3720, -0.3300,  0.0270],\n",
       "           [ 0.2546, -0.0828,  0.0694,  ...,  0.6388,  0.0963, -0.1677]]]),\n",
       "  'word_length': [7],\n",
       "  'word_cls_input': tensor([[[-0.0672, -0.0493,  0.1183,  ...,  0.1697,  0.4605,  0.2197],\n",
       "           [-0.3917,  0.3768,  0.1465,  ..., -0.3472,  0.5388, -0.3908],\n",
       "           [-0.1003,  0.3173,  0.1406,  ..., -0.5376,  0.2835, -0.1910],\n",
       "           ...,\n",
       "           [-0.2100,  0.0979, -0.3931,  ..., -0.0040, -0.7396, -0.1465],\n",
       "           [-0.3889, -0.1804,  0.1337,  ...,  0.3720, -0.3300,  0.0270],\n",
       "           [ 0.2546, -0.0828,  0.0694,  ...,  0.6388,  0.0963, -0.1677]]]),\n",
       "  'word_cls_mask': tensor([[False,  True,  True,  True,  True,  True,  True,  True]])})"
      ]
     },
     "execution_count": 102,
     "metadata": {},
     "output_type": "execute_result"
    }
   ],
   "source": [
    "LTP().seg([\"他叫汤姆去拿外衣。\"])"
   ]
  },
  {
   "cell_type": "code",
   "execution_count": 109,
   "metadata": {},
   "outputs": [
    {
     "data": {
      "text/plain": [
       "1"
      ]
     },
     "execution_count": 109,
     "metadata": {},
     "output_type": "execute_result"
    }
   ],
   "source": [
    "len(LTP().seg([\"记得自己的洗礼仪式 这可能吗?\"])[1])"
   ]
  },
  {
   "cell_type": "code",
   "execution_count": 131,
   "metadata": {},
   "outputs": [],
   "source": [
    "ltp = LTP()\n",
    "seg, hidden = ltp.seg([\"他叫汤姆去拿外衣。\"])"
   ]
  },
  {
   "cell_type": "code",
   "execution_count": 132,
   "metadata": {},
   "outputs": [
    {
     "data": {
      "text/plain": [
       "[['他', '叫', '汤姆', '去', '拿', '外衣', '。']]"
      ]
     },
     "execution_count": 132,
     "metadata": {},
     "output_type": "execute_result"
    }
   ],
   "source": [
    "seg"
   ]
  },
  {
   "cell_type": "code",
   "execution_count": 133,
   "metadata": {},
   "outputs": [
    {
     "data": {
      "text/plain": [
       "7"
      ]
     },
     "execution_count": 133,
     "metadata": {},
     "output_type": "execute_result"
    }
   ],
   "source": [
    "len(seg[0])"
   ]
  },
  {
   "cell_type": "code",
   "execution_count": 134,
   "metadata": {},
   "outputs": [
    {
     "data": {
      "text/plain": [
       "['他', '叫', '汤姆', '去', '拿', '外衣', '。']"
      ]
     },
     "execution_count": 134,
     "metadata": {},
     "output_type": "execute_result"
    }
   ],
   "source": [
    "seg[0]"
   ]
  },
  {
   "cell_type": "code",
   "execution_count": 137,
   "metadata": {},
   "outputs": [
    {
     "data": {
      "text/plain": [
       "5"
      ]
     },
     "execution_count": 137,
     "metadata": {},
     "output_type": "execute_result"
    }
   ],
   "source": [
    "len(ltp.seg([\"他叫汤姆去拿外衣。\"])[1])"
   ]
  },
  {
   "cell_type": "code",
   "execution_count": 142,
   "metadata": {},
   "outputs": [
    {
     "data": {
      "text/plain": [
       "7"
      ]
     },
     "execution_count": 142,
     "metadata": {},
     "output_type": "execute_result"
    }
   ],
   "source": [
    "len(ltp.seg([\"他叫汤姆去拿外衣。\"])[0][0])"
   ]
  },
  {
   "cell_type": "code",
   "execution_count": 152,
   "metadata": {},
   "outputs": [],
   "source": [
    "df['zh_word_LTP'] = df.zh.map(lambda x: len(ltp.seg([x])[0][0]))"
   ]
  },
  {
   "cell_type": "code",
   "execution_count": 153,
   "metadata": {},
   "outputs": [
    {
     "data": {
      "text/html": [
       "<div>\n",
       "<style scoped>\n",
       "    .dataframe tbody tr th:only-of-type {\n",
       "        vertical-align: middle;\n",
       "    }\n",
       "\n",
       "    .dataframe tbody tr th {\n",
       "        vertical-align: top;\n",
       "    }\n",
       "\n",
       "    .dataframe thead th {\n",
       "        text-align: right;\n",
       "    }\n",
       "</style>\n",
       "<table border=\"1\" class=\"dataframe\">\n",
       "  <thead>\n",
       "    <tr style=\"text-align: right;\">\n",
       "      <th></th>\n",
       "      <th>th</th>\n",
       "      <th>zh</th>\n",
       "      <th>th_str</th>\n",
       "      <th>zh_str</th>\n",
       "      <th>th_word</th>\n",
       "      <th>zh_word</th>\n",
       "      <th>zh_word_pkuseg</th>\n",
       "      <th>zh_word_SnowNLP</th>\n",
       "      <th>zh_word_LTP</th>\n",
       "    </tr>\n",
       "  </thead>\n",
       "  <tbody>\n",
       "    <tr>\n",
       "      <th>0</th>\n",
       "      <td>คุณจำตอนพิธีล้างบาปของคุณได้ เป็นไปได้ยังไง?</td>\n",
       "      <td>记得自己的洗礼仪式 这可能吗?</td>\n",
       "      <td>44</td>\n",
       "      <td>15</td>\n",
       "      <td>12</td>\n",
       "      <td>10</td>\n",
       "      <td>9</td>\n",
       "      <td>9</td>\n",
       "      <td>9</td>\n",
       "    </tr>\n",
       "    <tr>\n",
       "      <th>1</th>\n",
       "      <td>เป็นไปไม่ได้รึไง? แต่มันจริงนะ</td>\n",
       "      <td>不可能?</td>\n",
       "      <td>30</td>\n",
       "      <td>4</td>\n",
       "      <td>9</td>\n",
       "      <td>3</td>\n",
       "      <td>3</td>\n",
       "      <td>3</td>\n",
       "      <td>3</td>\n",
       "    </tr>\n",
       "    <tr>\n",
       "      <th>2</th>\n",
       "      <td>คุณได้ยินผู้ใหญ่เขาคุยกันรึเปล่า?</td>\n",
       "      <td>可那是事实啊 是听大人们说的吧?</td>\n",
       "      <td>33</td>\n",
       "      <td>16</td>\n",
       "      <td>8</td>\n",
       "      <td>14</td>\n",
       "      <td>12</td>\n",
       "      <td>12</td>\n",
       "      <td>12</td>\n",
       "    </tr>\n",
       "    <tr>\n",
       "      <th>3</th>\n",
       "      <td>ฉันรู้สึกได้ถึงแสงอาทิตย์ลอดผ่านกระจกเข้ามา</td>\n",
       "      <td>我能感受到透过玻璃的阳光</td>\n",
       "      <td>43</td>\n",
       "      <td>12</td>\n",
       "      <td>8</td>\n",
       "      <td>7</td>\n",
       "      <td>8</td>\n",
       "      <td>8</td>\n",
       "      <td>8</td>\n",
       "    </tr>\n",
       "    <tr>\n",
       "      <th>4</th>\n",
       "      <td>ฉันยังจำเสียงหัวใจเต้นของพ่อได้</td>\n",
       "      <td>我还记得爸爸的心跳声呢</td>\n",
       "      <td>31</td>\n",
       "      <td>11</td>\n",
       "      <td>9</td>\n",
       "      <td>7</td>\n",
       "      <td>8</td>\n",
       "      <td>7</td>\n",
       "      <td>7</td>\n",
       "    </tr>\n",
       "    <tr>\n",
       "      <th>...</th>\n",
       "      <td>...</td>\n",
       "      <td>...</td>\n",
       "      <td>...</td>\n",
       "      <td>...</td>\n",
       "      <td>...</td>\n",
       "      <td>...</td>\n",
       "      <td>...</td>\n",
       "      <td>...</td>\n",
       "      <td>...</td>\n",
       "    </tr>\n",
       "    <tr>\n",
       "      <th>95</th>\n",
       "      <td>มันมีค่าต่อคุณมากนี่</td>\n",
       "      <td>是你非常爱惜的</td>\n",
       "      <td>20</td>\n",
       "      <td>7</td>\n",
       "      <td>6</td>\n",
       "      <td>5</td>\n",
       "      <td>5</td>\n",
       "      <td>5</td>\n",
       "      <td>5</td>\n",
       "    </tr>\n",
       "    <tr>\n",
       "      <th>96</th>\n",
       "      <td>บางทีคุณก็เจอกันโดยบังเอิญใน ภัตตาคารที่เคยมาด...</td>\n",
       "      <td>偶尔会在恋爱时常常约会的饭店碰面</td>\n",
       "      <td>60</td>\n",
       "      <td>16</td>\n",
       "      <td>15</td>\n",
       "      <td>10</td>\n",
       "      <td>10</td>\n",
       "      <td>11</td>\n",
       "      <td>9</td>\n",
       "    </tr>\n",
       "    <tr>\n",
       "      <th>97</th>\n",
       "      <td>และเจอกันในบาร์ที่เคยไปเมาด้วยกัน ดื่ม</td>\n",
       "      <td>也会在经常光顾的酒吧碰面</td>\n",
       "      <td>38</td>\n",
       "      <td>12</td>\n",
       "      <td>11</td>\n",
       "      <td>8</td>\n",
       "      <td>8</td>\n",
       "      <td>8</td>\n",
       "      <td>8</td>\n",
       "    </tr>\n",
       "    <tr>\n",
       "      <th>98</th>\n",
       "      <td>ดื่ม</td>\n",
       "      <td>干</td>\n",
       "      <td>4</td>\n",
       "      <td>1</td>\n",
       "      <td>1</td>\n",
       "      <td>1</td>\n",
       "      <td>1</td>\n",
       "      <td>1</td>\n",
       "      <td>1</td>\n",
       "    </tr>\n",
       "    <tr>\n",
       "      <th>99</th>\n",
       "      <td>ดูน่าอร่อยนะ นั่นไม่ใช่รูปวาดหรอ?</td>\n",
       "      <td>真的好好吃啊</td>\n",
       "      <td>33</td>\n",
       "      <td>6</td>\n",
       "      <td>10</td>\n",
       "      <td>4</td>\n",
       "      <td>4</td>\n",
       "      <td>4</td>\n",
       "      <td>3</td>\n",
       "    </tr>\n",
       "  </tbody>\n",
       "</table>\n",
       "<p>100 rows × 9 columns</p>\n",
       "</div>"
      ],
      "text/plain": [
       "                                                   th                zh  \\\n",
       "0        คุณจำตอนพิธีล้างบาปของคุณได้ เป็นไปได้ยังไง?   记得自己的洗礼仪式 这可能吗?   \n",
       "1                      เป็นไปไม่ได้รึไง? แต่มันจริงนะ              不可能?   \n",
       "2                   คุณได้ยินผู้ใหญ่เขาคุยกันรึเปล่า?  可那是事实啊 是听大人们说的吧?   \n",
       "3         ฉันรู้สึกได้ถึงแสงอาทิตย์ลอดผ่านกระจกเข้ามา      我能感受到透过玻璃的阳光   \n",
       "4                     ฉันยังจำเสียงหัวใจเต้นของพ่อได้       我还记得爸爸的心跳声呢   \n",
       "..                                                ...               ...   \n",
       "95                               มันมีค่าต่อคุณมากนี่           是你非常爱惜的   \n",
       "96  บางทีคุณก็เจอกันโดยบังเอิญใน ภัตตาคารที่เคยมาด...  偶尔会在恋爱时常常约会的饭店碰面   \n",
       "97             และเจอกันในบาร์ที่เคยไปเมาด้วยกัน ดื่ม      也会在经常光顾的酒吧碰面   \n",
       "98                                               ดื่ม                 干   \n",
       "99                  ดูน่าอร่อยนะ นั่นไม่ใช่รูปวาดหรอ?            真的好好吃啊   \n",
       "\n",
       "    th_str  zh_str  th_word  zh_word  zh_word_pkuseg  zh_word_SnowNLP  \\\n",
       "0       44      15       12       10               9                9   \n",
       "1       30       4        9        3               3                3   \n",
       "2       33      16        8       14              12               12   \n",
       "3       43      12        8        7               8                8   \n",
       "4       31      11        9        7               8                7   \n",
       "..     ...     ...      ...      ...             ...              ...   \n",
       "95      20       7        6        5               5                5   \n",
       "96      60      16       15       10              10               11   \n",
       "97      38      12       11        8               8                8   \n",
       "98       4       1        1        1               1                1   \n",
       "99      33       6       10        4               4                4   \n",
       "\n",
       "    zh_word_LTP  \n",
       "0             9  \n",
       "1             3  \n",
       "2            12  \n",
       "3             8  \n",
       "4             7  \n",
       "..          ...  \n",
       "95            5  \n",
       "96            9  \n",
       "97            8  \n",
       "98            1  \n",
       "99            3  \n",
       "\n",
       "[100 rows x 9 columns]"
      ]
     },
     "execution_count": 153,
     "metadata": {},
     "output_type": "execute_result"
    }
   ],
   "source": [
    "df"
   ]
  },
  {
   "cell_type": "code",
   "execution_count": 167,
   "metadata": {},
   "outputs": [],
   "source": [
    "#df.to_csv('../data/OpenSubtitles/OpenSubtitles_sample_str_word_thzh.csv',header=None, index=None, sep='\\n')"
   ]
  },
  {
   "cell_type": "code",
   "execution_count": null,
   "metadata": {},
   "outputs": [],
   "source": []
  },
  {
   "cell_type": "code",
   "execution_count": 44,
   "metadata": {},
   "outputs": [],
   "source": [
    "df2 = df.loc[0:99, 'th_word' :'zh_word']"
   ]
  },
  {
   "cell_type": "code",
   "execution_count": 45,
   "metadata": {
    "collapsed": true
   },
   "outputs": [
    {
     "data": {
      "text/html": [
       "<div>\n",
       "<style scoped>\n",
       "    .dataframe tbody tr th:only-of-type {\n",
       "        vertical-align: middle;\n",
       "    }\n",
       "\n",
       "    .dataframe tbody tr th {\n",
       "        vertical-align: top;\n",
       "    }\n",
       "\n",
       "    .dataframe thead th {\n",
       "        text-align: right;\n",
       "    }\n",
       "</style>\n",
       "<table border=\"1\" class=\"dataframe\">\n",
       "  <thead>\n",
       "    <tr style=\"text-align: right;\">\n",
       "      <th></th>\n",
       "      <th>th_word</th>\n",
       "      <th>zh_word</th>\n",
       "    </tr>\n",
       "  </thead>\n",
       "  <tbody>\n",
       "    <tr>\n",
       "      <th>0</th>\n",
       "      <td>12</td>\n",
       "      <td>10</td>\n",
       "    </tr>\n",
       "    <tr>\n",
       "      <th>1</th>\n",
       "      <td>9</td>\n",
       "      <td>3</td>\n",
       "    </tr>\n",
       "    <tr>\n",
       "      <th>2</th>\n",
       "      <td>8</td>\n",
       "      <td>14</td>\n",
       "    </tr>\n",
       "    <tr>\n",
       "      <th>3</th>\n",
       "      <td>8</td>\n",
       "      <td>7</td>\n",
       "    </tr>\n",
       "    <tr>\n",
       "      <th>4</th>\n",
       "      <td>9</td>\n",
       "      <td>7</td>\n",
       "    </tr>\n",
       "    <tr>\n",
       "      <th>...</th>\n",
       "      <td>...</td>\n",
       "      <td>...</td>\n",
       "    </tr>\n",
       "    <tr>\n",
       "      <th>95</th>\n",
       "      <td>6</td>\n",
       "      <td>5</td>\n",
       "    </tr>\n",
       "    <tr>\n",
       "      <th>96</th>\n",
       "      <td>15</td>\n",
       "      <td>10</td>\n",
       "    </tr>\n",
       "    <tr>\n",
       "      <th>97</th>\n",
       "      <td>11</td>\n",
       "      <td>8</td>\n",
       "    </tr>\n",
       "    <tr>\n",
       "      <th>98</th>\n",
       "      <td>1</td>\n",
       "      <td>1</td>\n",
       "    </tr>\n",
       "    <tr>\n",
       "      <th>99</th>\n",
       "      <td>10</td>\n",
       "      <td>4</td>\n",
       "    </tr>\n",
       "  </tbody>\n",
       "</table>\n",
       "<p>100 rows × 2 columns</p>\n",
       "</div>"
      ],
      "text/plain": [
       "    th_word  zh_word\n",
       "0        12       10\n",
       "1         9        3\n",
       "2         8       14\n",
       "3         8        7\n",
       "4         9        7\n",
       "..      ...      ...\n",
       "95        6        5\n",
       "96       15       10\n",
       "97       11        8\n",
       "98        1        1\n",
       "99       10        4\n",
       "\n",
       "[100 rows x 2 columns]"
      ]
     },
     "execution_count": 45,
     "metadata": {},
     "output_type": "execute_result"
    }
   ],
   "source": [
    "df2"
   ]
  },
  {
   "cell_type": "code",
   "execution_count": 56,
   "metadata": {
    "collapsed": true
   },
   "outputs": [
    {
     "data": {
      "text/plain": [
       "0     2\n",
       "1     6\n",
       "2    -6\n",
       "3     1\n",
       "4     2\n",
       "     ..\n",
       "95    1\n",
       "96    5\n",
       "97    3\n",
       "98    0\n",
       "99    6\n",
       "Length: 100, dtype: int64"
      ]
     },
     "execution_count": 56,
     "metadata": {},
     "output_type": "execute_result"
    }
   ],
   "source": [
    "df2['th_word'] - df2['zh_word']"
   ]
  },
  {
   "cell_type": "code",
   "execution_count": 78,
   "metadata": {
    "collapsed": true
   },
   "outputs": [
    {
     "data": {
      "text/plain": [
       "0     False\n",
       "1     False\n",
       "2     False\n",
       "3     False\n",
       "4     False\n",
       "      ...  \n",
       "95    False\n",
       "96    False\n",
       "97    False\n",
       "98     True\n",
       "99    False\n",
       "Length: 100, dtype: bool"
      ]
     },
     "execution_count": 78,
     "metadata": {},
     "output_type": "execute_result"
    }
   ],
   "source": [
    "df2['th_word'] - df2['zh_word'] == 0"
   ]
  },
  {
   "cell_type": "code",
   "execution_count": 58,
   "metadata": {
    "collapsed": true
   },
   "outputs": [
    {
     "data": {
      "text/html": [
       "<div>\n",
       "<style scoped>\n",
       "    .dataframe tbody tr th:only-of-type {\n",
       "        vertical-align: middle;\n",
       "    }\n",
       "\n",
       "    .dataframe tbody tr th {\n",
       "        vertical-align: top;\n",
       "    }\n",
       "\n",
       "    .dataframe thead th {\n",
       "        text-align: right;\n",
       "    }\n",
       "</style>\n",
       "<table border=\"1\" class=\"dataframe\">\n",
       "  <thead>\n",
       "    <tr style=\"text-align: right;\">\n",
       "      <th></th>\n",
       "      <th>th_word</th>\n",
       "      <th>zh_word</th>\n",
       "    </tr>\n",
       "  </thead>\n",
       "  <tbody>\n",
       "    <tr>\n",
       "      <th>10</th>\n",
       "      <td>3</td>\n",
       "      <td>3</td>\n",
       "    </tr>\n",
       "    <tr>\n",
       "      <th>28</th>\n",
       "      <td>10</td>\n",
       "      <td>10</td>\n",
       "    </tr>\n",
       "    <tr>\n",
       "      <th>32</th>\n",
       "      <td>7</td>\n",
       "      <td>7</td>\n",
       "    </tr>\n",
       "    <tr>\n",
       "      <th>44</th>\n",
       "      <td>17</td>\n",
       "      <td>17</td>\n",
       "    </tr>\n",
       "    <tr>\n",
       "      <th>70</th>\n",
       "      <td>2</td>\n",
       "      <td>2</td>\n",
       "    </tr>\n",
       "    <tr>\n",
       "      <th>82</th>\n",
       "      <td>5</td>\n",
       "      <td>5</td>\n",
       "    </tr>\n",
       "    <tr>\n",
       "      <th>98</th>\n",
       "      <td>1</td>\n",
       "      <td>1</td>\n",
       "    </tr>\n",
       "  </tbody>\n",
       "</table>\n",
       "</div>"
      ],
      "text/plain": [
       "    th_word  zh_word\n",
       "10        3        3\n",
       "28       10       10\n",
       "32        7        7\n",
       "44       17       17\n",
       "70        2        2\n",
       "82        5        5\n",
       "98        1        1"
      ]
     },
     "execution_count": 58,
     "metadata": {},
     "output_type": "execute_result"
    }
   ],
   "source": [
    "df2[df2['th_word'] - df2['zh_word'] == 0]"
   ]
  },
  {
   "cell_type": "code",
   "execution_count": 61,
   "metadata": {
    "collapsed": true
   },
   "outputs": [
    {
     "data": {
      "text/html": [
       "<div>\n",
       "<style scoped>\n",
       "    .dataframe tbody tr th:only-of-type {\n",
       "        vertical-align: middle;\n",
       "    }\n",
       "\n",
       "    .dataframe tbody tr th {\n",
       "        vertical-align: top;\n",
       "    }\n",
       "\n",
       "    .dataframe thead th {\n",
       "        text-align: right;\n",
       "    }\n",
       "</style>\n",
       "<table border=\"1\" class=\"dataframe\">\n",
       "  <thead>\n",
       "    <tr style=\"text-align: right;\">\n",
       "      <th></th>\n",
       "      <th>th_word</th>\n",
       "      <th>zh_word</th>\n",
       "    </tr>\n",
       "  </thead>\n",
       "  <tbody>\n",
       "    <tr>\n",
       "      <th>10</th>\n",
       "      <td>3</td>\n",
       "      <td>3</td>\n",
       "    </tr>\n",
       "    <tr>\n",
       "      <th>28</th>\n",
       "      <td>10</td>\n",
       "      <td>10</td>\n",
       "    </tr>\n",
       "    <tr>\n",
       "      <th>32</th>\n",
       "      <td>7</td>\n",
       "      <td>7</td>\n",
       "    </tr>\n",
       "    <tr>\n",
       "      <th>44</th>\n",
       "      <td>17</td>\n",
       "      <td>17</td>\n",
       "    </tr>\n",
       "    <tr>\n",
       "      <th>70</th>\n",
       "      <td>2</td>\n",
       "      <td>2</td>\n",
       "    </tr>\n",
       "    <tr>\n",
       "      <th>82</th>\n",
       "      <td>5</td>\n",
       "      <td>5</td>\n",
       "    </tr>\n",
       "    <tr>\n",
       "      <th>98</th>\n",
       "      <td>1</td>\n",
       "      <td>1</td>\n",
       "    </tr>\n",
       "  </tbody>\n",
       "</table>\n",
       "</div>"
      ],
      "text/plain": [
       "    th_word  zh_word\n",
       "10        3        3\n",
       "28       10       10\n",
       "32        7        7\n",
       "44       17       17\n",
       "70        2        2\n",
       "82        5        5\n",
       "98        1        1"
      ]
     },
     "execution_count": 61,
     "metadata": {},
     "output_type": "execute_result"
    }
   ],
   "source": [
    "df2[df2['th_word'] / df2['zh_word'] == 1]"
   ]
  },
  {
   "cell_type": "code",
   "execution_count": 63,
   "metadata": {
    "collapsed": true
   },
   "outputs": [
    {
     "data": {
      "text/html": [
       "<div>\n",
       "<style scoped>\n",
       "    .dataframe tbody tr th:only-of-type {\n",
       "        vertical-align: middle;\n",
       "    }\n",
       "\n",
       "    .dataframe tbody tr th {\n",
       "        vertical-align: top;\n",
       "    }\n",
       "\n",
       "    .dataframe thead th {\n",
       "        text-align: right;\n",
       "    }\n",
       "</style>\n",
       "<table border=\"1\" class=\"dataframe\">\n",
       "  <thead>\n",
       "    <tr style=\"text-align: right;\">\n",
       "      <th></th>\n",
       "      <th>th_word</th>\n",
       "      <th>zh_word</th>\n",
       "    </tr>\n",
       "  </thead>\n",
       "  <tbody>\n",
       "    <tr>\n",
       "      <th>0</th>\n",
       "      <td>12</td>\n",
       "      <td>10</td>\n",
       "    </tr>\n",
       "    <tr>\n",
       "      <th>1</th>\n",
       "      <td>9</td>\n",
       "      <td>3</td>\n",
       "    </tr>\n",
       "    <tr>\n",
       "      <th>2</th>\n",
       "      <td>8</td>\n",
       "      <td>14</td>\n",
       "    </tr>\n",
       "    <tr>\n",
       "      <th>3</th>\n",
       "      <td>8</td>\n",
       "      <td>7</td>\n",
       "    </tr>\n",
       "    <tr>\n",
       "      <th>4</th>\n",
       "      <td>9</td>\n",
       "      <td>7</td>\n",
       "    </tr>\n",
       "    <tr>\n",
       "      <th>...</th>\n",
       "      <td>...</td>\n",
       "      <td>...</td>\n",
       "    </tr>\n",
       "    <tr>\n",
       "      <th>94</th>\n",
       "      <td>7</td>\n",
       "      <td>5</td>\n",
       "    </tr>\n",
       "    <tr>\n",
       "      <th>95</th>\n",
       "      <td>6</td>\n",
       "      <td>5</td>\n",
       "    </tr>\n",
       "    <tr>\n",
       "      <th>96</th>\n",
       "      <td>15</td>\n",
       "      <td>10</td>\n",
       "    </tr>\n",
       "    <tr>\n",
       "      <th>97</th>\n",
       "      <td>11</td>\n",
       "      <td>8</td>\n",
       "    </tr>\n",
       "    <tr>\n",
       "      <th>99</th>\n",
       "      <td>10</td>\n",
       "      <td>4</td>\n",
       "    </tr>\n",
       "  </tbody>\n",
       "</table>\n",
       "<p>93 rows × 2 columns</p>\n",
       "</div>"
      ],
      "text/plain": [
       "    th_word  zh_word\n",
       "0        12       10\n",
       "1         9        3\n",
       "2         8       14\n",
       "3         8        7\n",
       "4         9        7\n",
       "..      ...      ...\n",
       "94        7        5\n",
       "95        6        5\n",
       "96       15       10\n",
       "97       11        8\n",
       "99       10        4\n",
       "\n",
       "[93 rows x 2 columns]"
      ]
     },
     "execution_count": 63,
     "metadata": {},
     "output_type": "execute_result"
    }
   ],
   "source": [
    "df2[df2['th_word'] / df2['zh_word'] != 1]"
   ]
  },
  {
   "cell_type": "code",
   "execution_count": 65,
   "metadata": {
    "collapsed": true
   },
   "outputs": [
    {
     "data": {
      "text/plain": [
       "0     1.200000\n",
       "1     3.000000\n",
       "2     0.571429\n",
       "3     1.142857\n",
       "4     1.285714\n",
       "        ...   \n",
       "95    1.200000\n",
       "96    1.500000\n",
       "97    1.375000\n",
       "98    1.000000\n",
       "99    2.500000\n",
       "Length: 100, dtype: float64"
      ]
     },
     "execution_count": 65,
     "metadata": {},
     "output_type": "execute_result"
    }
   ],
   "source": [
    "df2['th_word'] / df2['zh_word']"
   ]
  },
  {
   "cell_type": "code",
   "execution_count": 69,
   "metadata": {
    "collapsed": true
   },
   "outputs": [
    {
     "data": {
      "text/plain": [
       "0     False\n",
       "1     False\n",
       "2     False\n",
       "3     False\n",
       "4     False\n",
       "      ...  \n",
       "95    False\n",
       "96    False\n",
       "97    False\n",
       "98     True\n",
       "99    False\n",
       "Length: 100, dtype: bool"
      ]
     },
     "execution_count": 69,
     "metadata": {},
     "output_type": "execute_result"
    }
   ],
   "source": [
    "df2['th_word'] / df2['zh_word'] == 1"
   ]
  },
  {
   "cell_type": "code",
   "execution_count": 126,
   "metadata": {},
   "outputs": [],
   "source": [
    "ratio = df2['th_word'] / df2['zh_word']"
   ]
  },
  {
   "cell_type": "code",
   "execution_count": 131,
   "metadata": {
    "collapsed": true
   },
   "outputs": [
    {
     "data": {
      "text/plain": [
       "0     1.200000\n",
       "1     3.000000\n",
       "2     0.571429\n",
       "3     1.142857\n",
       "4     1.285714\n",
       "        ...   \n",
       "95    1.200000\n",
       "96    1.500000\n",
       "97    1.375000\n",
       "98    1.000000\n",
       "99    2.500000\n",
       "Length: 100, dtype: float64"
      ]
     },
     "execution_count": 131,
     "metadata": {},
     "output_type": "execute_result"
    }
   ],
   "source": [
    "ratio"
   ]
  },
  {
   "cell_type": "code",
   "execution_count": null,
   "metadata": {},
   "outputs": [],
   "source": []
  },
  {
   "cell_type": "code",
   "execution_count": 134,
   "metadata": {},
   "outputs": [
    {
     "data": {
      "text/html": [
       "<div>\n",
       "<style scoped>\n",
       "    .dataframe tbody tr th:only-of-type {\n",
       "        vertical-align: middle;\n",
       "    }\n",
       "\n",
       "    .dataframe tbody tr th {\n",
       "        vertical-align: top;\n",
       "    }\n",
       "\n",
       "    .dataframe thead th {\n",
       "        text-align: right;\n",
       "    }\n",
       "</style>\n",
       "<table border=\"1\" class=\"dataframe\">\n",
       "  <thead>\n",
       "    <tr style=\"text-align: right;\">\n",
       "      <th></th>\n",
       "      <th>zh</th>\n",
       "      <th>th</th>\n",
       "      <th>thzh_ratio</th>\n",
       "    </tr>\n",
       "  </thead>\n",
       "  <tbody>\n",
       "    <tr>\n",
       "      <th>0</th>\n",
       "      <td>记得自己的洗礼仪式 这可能吗?</td>\n",
       "      <td>คุณจำตอนพิธีล้างบาปของคุณได้ เป็นไปได้ยังไง?</td>\n",
       "      <td>1.200000</td>\n",
       "    </tr>\n",
       "    <tr>\n",
       "      <th>1</th>\n",
       "      <td>不可能?</td>\n",
       "      <td>เป็นไปไม่ได้รึไง? แต่มันจริงนะ</td>\n",
       "      <td>3.000000</td>\n",
       "    </tr>\n",
       "    <tr>\n",
       "      <th>2</th>\n",
       "      <td>可那是事实啊 是听大人们说的吧?</td>\n",
       "      <td>คุณได้ยินผู้ใหญ่เขาคุยกันรึเปล่า?</td>\n",
       "      <td>0.571429</td>\n",
       "    </tr>\n",
       "    <tr>\n",
       "      <th>3</th>\n",
       "      <td>我能感受到透过玻璃的阳光</td>\n",
       "      <td>ฉันรู้สึกได้ถึงแสงอาทิตย์ลอดผ่านกระจกเข้ามา</td>\n",
       "      <td>1.142857</td>\n",
       "    </tr>\n",
       "    <tr>\n",
       "      <th>4</th>\n",
       "      <td>我还记得爸爸的心跳声呢</td>\n",
       "      <td>ฉันยังจำเสียงหัวใจเต้นของพ่อได้</td>\n",
       "      <td>1.285714</td>\n",
       "    </tr>\n",
       "    <tr>\n",
       "      <th>...</th>\n",
       "      <td>...</td>\n",
       "      <td>...</td>\n",
       "      <td>...</td>\n",
       "    </tr>\n",
       "    <tr>\n",
       "      <th>95</th>\n",
       "      <td>是你非常爱惜的</td>\n",
       "      <td>มันมีค่าต่อคุณมากนี่</td>\n",
       "      <td>1.200000</td>\n",
       "    </tr>\n",
       "    <tr>\n",
       "      <th>96</th>\n",
       "      <td>偶尔会在恋爱时常常约会的饭店碰面</td>\n",
       "      <td>บางทีคุณก็เจอกันโดยบังเอิญใน ภัตตาคารที่เคยมาด...</td>\n",
       "      <td>1.500000</td>\n",
       "    </tr>\n",
       "    <tr>\n",
       "      <th>97</th>\n",
       "      <td>也会在经常光顾的酒吧碰面</td>\n",
       "      <td>และเจอกันในบาร์ที่เคยไปเมาด้วยกัน ดื่ม</td>\n",
       "      <td>1.375000</td>\n",
       "    </tr>\n",
       "    <tr>\n",
       "      <th>98</th>\n",
       "      <td>干</td>\n",
       "      <td>ดื่ม</td>\n",
       "      <td>1.000000</td>\n",
       "    </tr>\n",
       "    <tr>\n",
       "      <th>99</th>\n",
       "      <td>真的好好吃啊</td>\n",
       "      <td>ดูน่าอร่อยนะ นั่นไม่ใช่รูปวาดหรอ?</td>\n",
       "      <td>2.500000</td>\n",
       "    </tr>\n",
       "  </tbody>\n",
       "</table>\n",
       "<p>100 rows × 3 columns</p>\n",
       "</div>"
      ],
      "text/plain": [
       "                  zh                                                 th  \\\n",
       "0    记得自己的洗礼仪式 这可能吗?       คุณจำตอนพิธีล้างบาปของคุณได้ เป็นไปได้ยังไง?   \n",
       "1               不可能?                     เป็นไปไม่ได้รึไง? แต่มันจริงนะ   \n",
       "2   可那是事实啊 是听大人们说的吧?                  คุณได้ยินผู้ใหญ่เขาคุยกันรึเปล่า?   \n",
       "3       我能感受到透过玻璃的阳光        ฉันรู้สึกได้ถึงแสงอาทิตย์ลอดผ่านกระจกเข้ามา   \n",
       "4        我还记得爸爸的心跳声呢                    ฉันยังจำเสียงหัวใจเต้นของพ่อได้   \n",
       "..               ...                                                ...   \n",
       "95           是你非常爱惜的                               มันมีค่าต่อคุณมากนี่   \n",
       "96  偶尔会在恋爱时常常约会的饭店碰面  บางทีคุณก็เจอกันโดยบังเอิญใน ภัตตาคารที่เคยมาด...   \n",
       "97      也会在经常光顾的酒吧碰面             และเจอกันในบาร์ที่เคยไปเมาด้วยกัน ดื่ม   \n",
       "98                 干                                               ดื่ม   \n",
       "99            真的好好吃啊                  ดูน่าอร่อยนะ นั่นไม่ใช่รูปวาดหรอ?   \n",
       "\n",
       "    thzh_ratio  \n",
       "0     1.200000  \n",
       "1     3.000000  \n",
       "2     0.571429  \n",
       "3     1.142857  \n",
       "4     1.285714  \n",
       "..         ...  \n",
       "95    1.200000  \n",
       "96    1.500000  \n",
       "97    1.375000  \n",
       "98    1.000000  \n",
       "99    2.500000  \n",
       "\n",
       "[100 rows x 3 columns]"
      ]
     },
     "execution_count": 134,
     "metadata": {},
     "output_type": "execute_result"
    }
   ],
   "source": [
    "ratio_df = pd.DataFrame({'zh':zh_lines, 'th': th_lines, 'thzh_ratio':ratio})\n",
    "ratio_df"
   ]
  },
  {
   "cell_type": "code",
   "execution_count": 135,
   "metadata": {},
   "outputs": [],
   "source": [
    "# df.to_csv('../data/OpenSubtitles/OpenSubtitles_sample_thzh_ratio.csv',header=None, index=None, sep='\\n')"
   ]
  },
  {
   "cell_type": "code",
   "execution_count": null,
   "metadata": {},
   "outputs": [],
   "source": []
  }
 ],
 "metadata": {
  "kernelspec": {
   "display_name": "Python 3",
   "language": "python",
   "name": "python3"
  },
  "language_info": {
   "codemirror_mode": {
    "name": "ipython",
    "version": 3
   },
   "file_extension": ".py",
   "mimetype": "text/x-python",
   "name": "python",
   "nbconvert_exporter": "python",
   "pygments_lexer": "ipython3",
   "version": "3.8.5"
  }
 },
 "nbformat": 4,
 "nbformat_minor": 4
}
