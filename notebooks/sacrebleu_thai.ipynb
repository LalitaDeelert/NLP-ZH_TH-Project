{
  "nbformat": 4,
  "nbformat_minor": 0,
  "metadata": {
    "colab": {
      "name": "sacrebleu_thai",
      "provenance": [],
      "collapsed_sections": []
    },
    "kernelspec": {
      "name": "python3",
      "display_name": "Python 3"
    },
    "language_info": {
      "name": "python"
    }
  },
  "cells": [
    {
      "cell_type": "code",
      "metadata": {
        "colab": {
          "base_uri": "https://localhost:8080/"
        },
        "id": "53eHLLh0rTcG",
        "outputId": "f9e11e25-30eb-4b43-b0a3-27665a212455"
      },
      "source": [
        "!pip install -q datasets pythainlp\n",
        "!pip uninstall -q sacrebleu\n",
        "!pip install -q git+https://github.com/cstorm125/sacrebleu.git@add_thai_tokenizer"
      ],
      "execution_count": 3,
      "outputs": [
        {
          "output_type": "stream",
          "text": [
            "\u001b[K     |████████████████████████████████| 245kB 4.0MB/s \n",
            "\u001b[K     |████████████████████████████████| 11.0MB 19.2MB/s \n",
            "\u001b[K     |████████████████████████████████| 122kB 46.7MB/s \n",
            "\u001b[K     |████████████████████████████████| 245kB 41.8MB/s \n",
            "\u001b[K     |████████████████████████████████| 747kB 42.9MB/s \n",
            "\u001b[?25h  Building wheel for sacrebleu (setup.py) ... \u001b[?25l\u001b[?25hdone\n"
          ],
          "name": "stdout"
        }
      ]
    },
    {
      "cell_type": "markdown",
      "metadata": {
        "id": "WH6LKjhr-aTV"
      },
      "source": [
        "## SacreBLEU"
      ]
    },
    {
      "cell_type": "code",
      "metadata": {
        "id": "uww-zF91qi2v"
      },
      "source": [
        "from datasets import load_metric\n",
        "metric = load_metric(\"sacrebleu\")"
      ],
      "execution_count": 11,
      "outputs": []
    },
    {
      "cell_type": "code",
      "metadata": {
        "colab": {
          "base_uri": "https://localhost:8080/"
        },
        "id": "pY44b_fdqjz9",
        "outputId": "9eb89fbb-3a76-438f-ab9d-adcca01f5180"
      },
      "source": [
        "predictions = [\n",
        "    \"我吃米饭\",                           # tokenized prediction of the first sample\n",
        "    \"我吃米\"                                             # tokenized prediction of the second sample\n",
        "]\n",
        "references = [\n",
        "[\"我吃米饭\"],  # tokenized references for the first sample (2 references)\n",
        "[\"我吃米饭\"]                                           # tokenized references for the second sample (1 reference)\n",
        "]\n",
        "metric.compute(predictions=predictions,references=references,tokenize='zh')"
      ],
      "execution_count": 12,
      "outputs": [
        {
          "output_type": "execute_result",
          "data": {
            "text/plain": [
              "{'bp': 0.8668778997501817,\n",
              " 'counts': [7, 5, 3, 1],\n",
              " 'precisions': [100.0, 100.0, 100.0, 100.0],\n",
              " 'ref_len': 8,\n",
              " 'score': 86.6877899750182,\n",
              " 'sys_len': 7,\n",
              " 'totals': [7, 5, 3, 1]}"
            ]
          },
          "metadata": {
            "tags": []
          },
          "execution_count": 12
        }
      ]
    },
    {
      "cell_type": "code",
      "metadata": {
        "colab": {
          "base_uri": "https://localhost:8080/"
        },
        "id": "fxsWqlZ3rf3t",
        "outputId": "dbd0192d-5b26-41d4-ecc2-b8010cfeb4f2"
      },
      "source": [
        "predictions = [\n",
        "    \"สวัสดีค่ะ\",                           # tokenized prediction of the first sample\n",
        "    \"สวัสดี\"                                             # tokenized prediction of the second sample\n",
        "]\n",
        "references = [\n",
        "[\"สวัสดีค่ะ\"],  # tokenized references for the first sample (2 references)\n",
        "[\"สวัสดีครับ\"]                                           # tokenized references for the second sample (1 reference)\n",
        "]\n",
        "metric.compute(predictions=predictions,references=references,tokenize='th_word')"
      ],
      "execution_count": 14,
      "outputs": [
        {
          "output_type": "execute_result",
          "data": {
            "text/plain": [
              "{'bp': 0.7165313105737893,\n",
              " 'counts': [3, 1, 0, 0],\n",
              " 'precisions': [100.0, 100.0, 0.0, 0.0],\n",
              " 'ref_len': 4,\n",
              " 'score': 0.0,\n",
              " 'sys_len': 3,\n",
              " 'totals': [3, 1, 0, 0]}"
            ]
          },
          "metadata": {
            "tags": []
          },
          "execution_count": 14
        }
      ]
    },
    {
      "cell_type": "code",
      "metadata": {
        "colab": {
          "base_uri": "https://localhost:8080/"
        },
        "id": "T_6s76p9-iJT",
        "outputId": "f258f3d1-6221-49ef-bf8e-422ee081288d"
      },
      "source": [
        "predictions = [\n",
        "    \"สวัสดีค่ะ\",                           # tokenized prediction of the first sample\n",
        "    \"สวัสดี\"                                             # tokenized prediction of the second sample\n",
        "]\n",
        "references = [\n",
        "[\"สวัสดีค่ะ\"],  # tokenized references for the first sample (2 references)\n",
        "[\"สวัสดีครับ\"]                                           # tokenized references for the second sample (1 reference)\n",
        "]\n",
        "metric.compute(predictions=predictions,references=references,tokenize='th_syllable')"
      ],
      "execution_count": 15,
      "outputs": [
        {
          "output_type": "execute_result",
          "data": {
            "text/plain": [
              "{'bp': 0.8187307530779819,\n",
              " 'counts': [5, 3, 1, 0],\n",
              " 'precisions': [100.0, 100.0, 100.0, 0.0],\n",
              " 'ref_len': 6,\n",
              " 'score': 0.0,\n",
              " 'sys_len': 5,\n",
              " 'totals': [5, 3, 1, 0]}"
            ]
          },
          "metadata": {
            "tags": []
          },
          "execution_count": 15
        }
      ]
    },
    {
      "cell_type": "code",
      "metadata": {
        "id": "d7n4X8pC-lVX"
      },
      "source": [
        ""
      ],
      "execution_count": null,
      "outputs": []
    }
  ]
}