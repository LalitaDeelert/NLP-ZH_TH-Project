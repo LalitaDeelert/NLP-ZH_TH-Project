{
 "cells": [
  {
   "cell_type": "markdown",
   "metadata": {},
   "source": [
    "# Similarity Score"
   ]
  },
  {
   "cell_type": "code",
   "execution_count": 2,
   "metadata": {},
   "outputs": [],
   "source": [
    "#read sample dataset\n",
    "with open(\"../data/OpenSubtitles/OpenSubtitles_sample.th\", \"r\", encoding='utf-8') as f:\n",
    "    th_lines = f.readlines()\n",
    "    th_lines = [i[:-1] for i in th_lines]\n",
    "with open(\"../data/OpenSubtitles/OpenSubtitles_sample.zh_cn\", \"r\", encoding='utf-8') as f:\n",
    "    zh_lines = f.readlines()\n",
    "    zh_lines = [i[:-1] for i in zh_lines]"
   ]
  },
  {
   "cell_type": "code",
   "execution_count": 3,
   "metadata": {},
   "outputs": [
    {
     "data": {
      "text/plain": [
       "100"
      ]
     },
     "execution_count": 3,
     "metadata": {},
     "output_type": "execute_result"
    }
   ],
   "source": [
    "len(th_lines)"
   ]
  },
  {
   "cell_type": "code",
   "execution_count": 4,
   "metadata": {},
   "outputs": [
    {
     "data": {
      "text/plain": [
       "['คุณจำตอนพิธีล้างบาปของคุณได้ เป็นไปได้ยังไง?',\n",
       " 'เป็นไปไม่ได้รึไง? แต่มันจริงนะ',\n",
       " 'คุณได้ยินผู้ใหญ่เขาคุยกันรึเปล่า?',\n",
       " 'ฉันรู้สึกได้ถึงแสงอาทิตย์ลอดผ่านกระจกเข้ามา',\n",
       " 'ฉันยังจำเสียงหัวใจเต้นของพ่อได้',\n",
       " 'ไม่ใช่ฉันที่จำได้ แต่เป็นความทรงจำของฉันต่างหาก',\n",
       " 'แต่คุณไม่ใช่ คาธอลิกแล้วนี่?',\n",
       " 'เขาปล่อยให้คนอื่นผ่านไป',\n",
       " 'ทำไมอยู่ดีๆถึงพูดเรื่องพิธีล้างบาปขึ้นมาล่ะ?',\n",
       " 'ฉันนึกถึงมันบ่อยๆ บางทีฉันก็จำได้']"
      ]
     },
     "execution_count": 4,
     "metadata": {},
     "output_type": "execute_result"
    }
   ],
   "source": [
    "th_lines[:10]"
   ]
  },
  {
   "cell_type": "code",
   "execution_count": 5,
   "metadata": {},
   "outputs": [
    {
     "data": {
      "text/plain": [
       "100"
      ]
     },
     "execution_count": 5,
     "metadata": {},
     "output_type": "execute_result"
    }
   ],
   "source": [
    "len(zh_lines)"
   ]
  },
  {
   "cell_type": "code",
   "execution_count": 6,
   "metadata": {},
   "outputs": [
    {
     "data": {
      "text/plain": [
       "['记得自己的洗礼仪式 这可能吗?',\n",
       " '不可能?',\n",
       " '可那是事实啊 是听大人们说的吧?',\n",
       " '我能感受到透过玻璃的阳光',\n",
       " '我还记得爸爸的心跳声呢',\n",
       " '真的不是听来的 是记忆里的',\n",
       " '你也不是信天主教的吧',\n",
       " '改新教也有洗礼这种仪式',\n",
       " '为什么忽然提起洗礼仪式?',\n",
       " '最近想起来的 偶尔会想起']"
      ]
     },
     "execution_count": 6,
     "metadata": {},
     "output_type": "execute_result"
    }
   ],
   "source": [
    "zh_lines[:10]"
   ]
  },
  {
   "cell_type": "markdown",
   "metadata": {},
   "source": [
    "## multilingual universal sentence encoder"
   ]
  },
  {
   "cell_type": "code",
   "execution_count": 11,
   "metadata": {},
   "outputs": [],
   "source": [
    "import tensorflow as tf\n",
    "import tensorflow_hub as hub\n",
    "import tensorflow_text"
   ]
  },
  {
   "cell_type": "code",
   "execution_count": 12,
   "metadata": {},
   "outputs": [],
   "source": [
    "def get_similar_score(lang1: str, lang2: str, batch_size: int, embed):\n",
    "\n",
    "    scores = []\n",
    "\n",
    "    if len(lang1) % batch_size != 0:\n",
    "        num_of_batch = int(len(lang1)/batch_size)+1\n",
    "    else:\n",
    "        num_of_batch = int(len(lang1)/batch_size)\n",
    "\n",
    "    for i in range(num_of_batch):\n",
    "        start = i*batch_size\n",
    "        end = start+batch_size\n",
    "        if i <= num_of_batch:\n",
    "\n",
    "            lang1_temp = lang1[start:end]\n",
    "            lang2_temp = lang2[start:end]\n",
    "\n",
    "            lang1_embedding = embed(lang1_temp)\n",
    "            lang2_embedding = embed(lang2_temp)\n",
    "            distance_matrix = tf.matmul(\n",
    "                lang1_embedding, lang2_embedding, transpose_b=True).numpy()\n",
    "\n",
    "            for j in range(len(distance_matrix)):\n",
    "                scores.append(distance_matrix[j][j])\n",
    "\n",
    "    return scores"
   ]
  },
  {
   "cell_type": "code",
   "execution_count": 13,
   "metadata": {},
   "outputs": [],
   "source": [
    "zhs = [\n",
    "    '我吃食物',\n",
    "    '她喜歡看電視',\n",
    "    '她為什麼喜歡吃電視',\n",
    "    '我吃食物',\n",
    "    '她喜歡看電視',\n",
    "    '她為什麼喜歡吃電視'\n",
    "]\n",
    "ths = [\n",
    "    'ฉันกินอาหาร',\n",
    "    'เธอชอบดูทีวี',\n",
    "    'ทำไมเธอถึงชอบกินทีวี',\n",
    "    'ฉันไม่ชอบกินอาหาร',\n",
    "    'เธอเกลียดทีวี',\n",
    "    'ทำไมทีวีกินเธอเข้าไป',\n",
    "]\n"
   ]
  },
  {
   "cell_type": "code",
   "execution_count": 14,
   "metadata": {},
   "outputs": [],
   "source": [
    "emb = hub.load('https://tfhub.dev/google/universal-sentence-encoder-multilingual-large/3', tags=None, options=None)"
   ]
  },
  {
   "cell_type": "code",
   "execution_count": 15,
   "metadata": {},
   "outputs": [
    {
     "data": {
      "text/plain": [
       "[0.93829453, 0.8440465, 0.82446057, 0.62734914, 0.6408375, 0.7583015]"
      ]
     },
     "execution_count": 15,
     "metadata": {},
     "output_type": "execute_result"
    }
   ],
   "source": [
    "get_similar_score(zhs, ths, 16, emb)"
   ]
  },
  {
   "cell_type": "code",
   "execution_count": 16,
   "metadata": {},
   "outputs": [],
   "source": [
    "sims = get_similar_score(zh_lines, th_lines, 16, emb)"
   ]
  },
  {
   "cell_type": "code",
   "execution_count": null,
   "metadata": {},
   "outputs": [],
   "source": []
  },
  {
   "cell_type": "code",
   "execution_count": 23,
   "metadata": {},
   "outputs": [
    {
     "data": {
      "text/html": [
       "<div>\n",
       "<style scoped>\n",
       "    .dataframe tbody tr th:only-of-type {\n",
       "        vertical-align: middle;\n",
       "    }\n",
       "\n",
       "    .dataframe tbody tr th {\n",
       "        vertical-align: top;\n",
       "    }\n",
       "\n",
       "    .dataframe thead th {\n",
       "        text-align: right;\n",
       "    }\n",
       "</style>\n",
       "<table border=\"1\" class=\"dataframe\">\n",
       "  <thead>\n",
       "    <tr style=\"text-align: right;\">\n",
       "      <th></th>\n",
       "      <th>zh</th>\n",
       "      <th>th</th>\n",
       "      <th>similarity_score</th>\n",
       "    </tr>\n",
       "  </thead>\n",
       "  <tbody>\n",
       "    <tr>\n",
       "      <th>7</th>\n",
       "      <td>改新教也有洗礼这种仪式</td>\n",
       "      <td>เขาปล่อยให้คนอื่นผ่านไป</td>\n",
       "      <td>0.040723</td>\n",
       "    </tr>\n",
       "    <tr>\n",
       "      <th>22</th>\n",
       "      <td>真是小气</td>\n",
       "      <td>คุณคิดเอาไว้ก่อนอยู่แล้วจริงๆ</td>\n",
       "      <td>0.120773</td>\n",
       "    </tr>\n",
       "    <tr>\n",
       "      <th>84</th>\n",
       "      <td>例如</td>\n",
       "      <td>การจ่ายค่าชดเชย</td>\n",
       "      <td>0.124281</td>\n",
       "    </tr>\n",
       "    <tr>\n",
       "      <th>17</th>\n",
       "      <td>还是 一人分一张</td>\n",
       "      <td>หรือว่าเราควรไปทางใครทางมัน พาคนอื่นมาแทนดี?</td>\n",
       "      <td>0.125284</td>\n",
       "    </tr>\n",
       "    <tr>\n",
       "      <th>93</th>\n",
       "      <td>和同龄人上课后做XX* 再如 把错拿的东西归还回来</td>\n",
       "      <td>และก็มีเวลาที่คุณต้องคืนของที่ยืมมา</td>\n",
       "      <td>0.176312</td>\n",
       "    </tr>\n",
       "    <tr>\n",
       "      <th>...</th>\n",
       "      <td>...</td>\n",
       "      <td>...</td>\n",
       "      <td>...</td>\n",
       "    </tr>\n",
       "    <tr>\n",
       "      <th>10</th>\n",
       "      <td>第1集</td>\n",
       "      <td>ตอนที่ 1</td>\n",
       "      <td>0.836212</td>\n",
       "    </tr>\n",
       "    <tr>\n",
       "      <th>68</th>\n",
       "      <td>真的?</td>\n",
       "      <td>จริงเหรอ?</td>\n",
       "      <td>0.871570</td>\n",
       "    </tr>\n",
       "    <tr>\n",
       "      <th>90</th>\n",
       "      <td>这个为什么会在厨房里</td>\n",
       "      <td>ทำไมนี่ถึงอยู่ในครัวน่ะ</td>\n",
       "      <td>0.872231</td>\n",
       "    </tr>\n",
       "    <tr>\n",
       "      <th>76</th>\n",
       "      <td>什么?</td>\n",
       "      <td>อะไรนะ?</td>\n",
       "      <td>0.953017</td>\n",
       "    </tr>\n",
       "    <tr>\n",
       "      <th>12</th>\n",
       "      <td>为什么?</td>\n",
       "      <td>ทำไมล่ะ?</td>\n",
       "      <td>0.975215</td>\n",
       "    </tr>\n",
       "  </tbody>\n",
       "</table>\n",
       "<p>100 rows × 3 columns</p>\n",
       "</div>"
      ],
      "text/plain": [
       "                           zh                                            th  \\\n",
       "7                 改新教也有洗礼这种仪式                       เขาปล่อยให้คนอื่นผ่านไป   \n",
       "22                       真是小气                 คุณคิดเอาไว้ก่อนอยู่แล้วจริงๆ   \n",
       "84                         例如                               การจ่ายค่าชดเชย   \n",
       "17                   还是 一人分一张  หรือว่าเราควรไปทางใครทางมัน พาคนอื่นมาแทนดี?   \n",
       "93  和同龄人上课后做XX* 再如 把错拿的东西归还回来           และก็มีเวลาที่คุณต้องคืนของที่ยืมมา   \n",
       "..                        ...                                           ...   \n",
       "10                        第1集                                      ตอนที่ 1   \n",
       "68                        真的?                                     จริงเหรอ?   \n",
       "90                 这个为什么会在厨房里                       ทำไมนี่ถึงอยู่ในครัวน่ะ   \n",
       "76                        什么?                                       อะไรนะ?   \n",
       "12                       为什么?                                      ทำไมล่ะ?   \n",
       "\n",
       "    similarity_score  \n",
       "7           0.040723  \n",
       "22          0.120773  \n",
       "84          0.124281  \n",
       "17          0.125284  \n",
       "93          0.176312  \n",
       "..               ...  \n",
       "10          0.836212  \n",
       "68          0.871570  \n",
       "90          0.872231  \n",
       "76          0.953017  \n",
       "12          0.975215  \n",
       "\n",
       "[100 rows x 3 columns]"
      ]
     },
     "execution_count": 23,
     "metadata": {},
     "output_type": "execute_result"
    }
   ],
   "source": [
    "import pandas as pd\n",
    "#find a good threshold with full dataset\n",
    "sim_df = pd.DataFrame({'zh':zh_lines, 'th': th_lines, 'similarity_score':sims}).sort_values('similarity_score')\n",
    "sim_df"
   ]
  },
  {
   "cell_type": "code",
   "execution_count": 24,
   "metadata": {},
   "outputs": [
    {
     "data": {
      "text/html": [
       "<div>\n",
       "<style scoped>\n",
       "    .dataframe tbody tr th:only-of-type {\n",
       "        vertical-align: middle;\n",
       "    }\n",
       "\n",
       "    .dataframe tbody tr th {\n",
       "        vertical-align: top;\n",
       "    }\n",
       "\n",
       "    .dataframe thead th {\n",
       "        text-align: right;\n",
       "    }\n",
       "</style>\n",
       "<table border=\"1\" class=\"dataframe\">\n",
       "  <thead>\n",
       "    <tr style=\"text-align: right;\">\n",
       "      <th></th>\n",
       "      <th>similarity_score</th>\n",
       "    </tr>\n",
       "  </thead>\n",
       "  <tbody>\n",
       "    <tr>\n",
       "      <th>count</th>\n",
       "      <td>100.000000</td>\n",
       "    </tr>\n",
       "    <tr>\n",
       "      <th>mean</th>\n",
       "      <td>0.521489</td>\n",
       "    </tr>\n",
       "    <tr>\n",
       "      <th>std</th>\n",
       "      <td>0.187168</td>\n",
       "    </tr>\n",
       "    <tr>\n",
       "      <th>min</th>\n",
       "      <td>0.040723</td>\n",
       "    </tr>\n",
       "    <tr>\n",
       "      <th>25%</th>\n",
       "      <td>0.409993</td>\n",
       "    </tr>\n",
       "    <tr>\n",
       "      <th>50%</th>\n",
       "      <td>0.523687</td>\n",
       "    </tr>\n",
       "    <tr>\n",
       "      <th>75%</th>\n",
       "      <td>0.623350</td>\n",
       "    </tr>\n",
       "    <tr>\n",
       "      <th>max</th>\n",
       "      <td>0.975215</td>\n",
       "    </tr>\n",
       "  </tbody>\n",
       "</table>\n",
       "</div>"
      ],
      "text/plain": [
       "       similarity_score\n",
       "count        100.000000\n",
       "mean           0.521489\n",
       "std            0.187168\n",
       "min            0.040723\n",
       "25%            0.409993\n",
       "50%            0.523687\n",
       "75%            0.623350\n",
       "max            0.975215"
      ]
     },
     "execution_count": 24,
     "metadata": {},
     "output_type": "execute_result"
    }
   ],
   "source": [
    "sim_df.describe()"
   ]
  },
  {
   "cell_type": "code",
   "execution_count": 28,
   "metadata": {},
   "outputs": [
    {
     "data": {
      "text/plain": [
       "<AxesSubplot:ylabel='Frequency'>"
      ]
     },
     "execution_count": 28,
     "metadata": {},
     "output_type": "execute_result"
    },
    {
     "data": {
      "image/png": "[encoded data removed]",
      "text/plain": [
       "<Figure size 432x288 with 1 Axes>"
      ]
     },
     "metadata": {
      "needs_background": "light"
     },
     "output_type": "display_data"
    }
   ],
   "source": [
    "sim_df['similarity_score'].plot(kind='hist', bins=10)"
   ]
  },
  {
   "cell_type": "code",
   "execution_count": null,
   "metadata": {},
   "outputs": [],
   "source": []
  }
 ],
 "metadata": {
  "kernelspec": {
   "display_name": "Python 3",
   "language": "python",
   "name": "python3"
  },
  "language_info": {
   "codemirror_mode": {
    "name": "ipython",
    "version": 3
   },
   "file_extension": ".py",
   "mimetype": "text/x-python",
   "name": "python",
   "nbconvert_exporter": "python",
   "pygments_lexer": "ipython3",
   "version": "3.8.5"
  }
 },
 "nbformat": 4,
 "nbformat_minor": 4
}
