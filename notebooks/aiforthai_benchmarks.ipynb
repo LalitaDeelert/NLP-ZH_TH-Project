{
 "cells": [
  {
   "cell_type": "markdown",
   "metadata": {},
   "source": [
    "# Get Predictions from [AIforThai (xiaofan)](https://aiforthai.in.th/aiplatform/#/chinesetothai)"
   ]
  },
  {
   "cell_type": "markdown",
   "metadata": {},
   "source": [
    "Prediction results with AIforThai xiaofan run on 1,500 randomly selected sentence pairs of the test set, due to limitations of the AIforThai API, on 2021-06-21 done by [@wannaphong](http://python3.wannaphong.com/)"
   ]
  },
  {
   "cell_type": "code",
   "execution_count": 2,
   "metadata": {},
   "outputs": [],
   "source": [
    "import pandas as pd\n",
    "import requests\n",
    "from urllib.parse import quote_plus"
   ]
  },
  {
   "cell_type": "code",
   "execution_count": 2,
   "metadata": {},
   "outputs": [],
   "source": [
    "headers = {\n",
    "    'Apikey': \"\", # It is my cat.\n",
    "    }"
   ]
  },
  {
   "cell_type": "code",
   "execution_count": 3,
   "metadata": {},
   "outputs": [],
   "source": [
    "import sqlite3"
   ]
  },
  {
   "cell_type": "code",
   "execution_count": 4,
   "metadata": {},
   "outputs": [
    {
     "name": "stdout",
     "output_type": "stream",
     "text": [
      "เปิดฐานข้อมูลสำเร็จ\n",
      "สร้างตารางสำเร็จ :D \n"
     ]
    }
   ],
   "source": [
    "conn = sqlite3.connect('ch2.db')\n",
    "print(\"เปิดฐานข้อมูลสำเร็จ\")\n",
    "conn.execute('''CREATE TABLE zhth\n",
    "       (ID INTEGER PRIMARY KEY   AUTOINCREMENT,\n",
    "       DFID INT NOT NULL,\n",
    "       ZH           TEXT    NOT NULL,\n",
    "       TH        TEXT    NOT NULL);''')\n",
    "conn.execute('''CREATE TABLE thzh\n",
    "       (ID INTEGER PRIMARY KEY  AUTOINCREMENT,\n",
    "       DFID INT NOT NULL,\n",
    "       TH           TEXT    NOT NULL,\n",
    "       ZH        TEXT    NOT NULL);''')\n",
    "conn.commit()\n",
    "print(\"สร้างตารางสำเร็จ :D \")\n",
    "conn.close() "
   ]
  },
  {
   "cell_type": "code",
   "execution_count": 6,
   "metadata": {},
   "outputs": [],
   "source": [
    "df = pd.read_csv('test1500_seed42.csv')"
   ]
  },
  {
   "cell_type": "code",
   "execution_count": 7,
   "metadata": {},
   "outputs": [
    {
     "data": {
      "text/html": [
       "<div>\n",
       "<style scoped>\n",
       "    .dataframe tbody tr th:only-of-type {\n",
       "        vertical-align: middle;\n",
       "    }\n",
       "\n",
       "    .dataframe tbody tr th {\n",
       "        vertical-align: top;\n",
       "    }\n",
       "\n",
       "    .dataframe thead th {\n",
       "        text-align: right;\n",
       "    }\n",
       "</style>\n",
       "<table border=\"1\" class=\"dataframe\">\n",
       "  <thead>\n",
       "    <tr style=\"text-align: right;\">\n",
       "      <th></th>\n",
       "      <th>th</th>\n",
       "      <th>zh_cn</th>\n",
       "    </tr>\n",
       "  </thead>\n",
       "  <tbody>\n",
       "    <tr>\n",
       "      <th>0</th>\n",
       "      <td>และเพราะเหตุนี้ ฉันก็ต้องขอบอกว่า การร่วมมือกั...</td>\n",
       "      <td>而正因为这点，我必须得说， 合作是我最喜欢的超凡能力。</td>\n",
       "    </tr>\n",
       "    <tr>\n",
       "      <th>1</th>\n",
       "      <td>ถ้างานของคุณไม่เข้าขั้น ก็ไม่ใช่ความผิดของคุณท...</td>\n",
       "      <td>如果你的作品很烂，同样也不全是你的错</td>\n",
       "    </tr>\n",
       "    <tr>\n",
       "      <th>2</th>\n",
       "      <td>(เสียงหัวเราะ) (เสียงปรบมือ) ผมกำลังพูดถึงการท...</td>\n",
       "      <td>（笑）（掌声） 我所讲的就是让人们得到工作， 让孩子们远离街道，让他们了解 自己种植食物的喜...</td>\n",
       "    </tr>\n",
       "    <tr>\n",
       "      <th>3</th>\n",
       "      <td>เขากล่าวว่า ถ้าคุณอยู่ในโรงพยาบาล โรงพยาบาลจะส...</td>\n",
       "      <td>他写道：如果你去看病 医院对你的唯一帮助 就是提供了 给你提供了温暖、食物、住所， 或许还有...</td>\n",
       "    </tr>\n",
       "    <tr>\n",
       "      <th>4</th>\n",
       "      <td>และนี้คือบทเรียนที่ยิ่งใหญ่ที่สุด เรื่องสื่อสั...</td>\n",
       "      <td>接下来，就是我们在使用 社交媒体和手机时最大的教训：</td>\n",
       "    </tr>\n",
       "    <tr>\n",
       "      <th>...</th>\n",
       "      <td>...</td>\n",
       "      <td>...</td>\n",
       "    </tr>\n",
       "    <tr>\n",
       "      <th>1495</th>\n",
       "      <td>ส่วนใหญ่นำเสนอในรูปของการ์ตูนช่องเดียว \"ฉันปรา...</td>\n",
       "      <td>他们通常会以单片式动画形式呈现， “我要谴责恐怖主义！同时我也谴责 那些从来不把纸盘子装满的...</td>\n",
       "    </tr>\n",
       "    <tr>\n",
       "      <th>1496</th>\n",
       "      <td>เทมเปิล: ฉันรักสิ่งที่ฉันทำ อยากให้สิ่งฉันทำ เ...</td>\n",
       "      <td>葛兰丁：我对于我所做的事情感到十分热情 并且希望这些事情可以让世界变得更美好 当我听到有母亲说</td>\n",
       "    </tr>\n",
       "    <tr>\n",
       "      <th>1497</th>\n",
       "      <td>ฉันหวังว่าวันนี้ คุณจะมีมุมมองต่อป่า ที่ต่างออ...</td>\n",
       "      <td>我希望今天我也能改变 你们的一些关于森林的印象。</td>\n",
       "    </tr>\n",
       "    <tr>\n",
       "      <th>1498</th>\n",
       "      <td>ว่าจะเงาตกอยู่ตรงไหน ที่เป็นกลางคืน และตรงไหนม...</td>\n",
       "      <td>有阴影的地方是黑夜， 而有阳光的地方就是白天。</td>\n",
       "    </tr>\n",
       "    <tr>\n",
       "      <th>1499</th>\n",
       "      <td>โดยเหตุที่ข้อมูลบนตัวเก็บข้อมูลในความจำปัจจุบั...</td>\n",
       "      <td>当今大多存储媒体内的数据 寿命预测也不超过10年 科学家们正在尝试开拓材料的物理性能 将它们...</td>\n",
       "    </tr>\n",
       "  </tbody>\n",
       "</table>\n",
       "<p>1500 rows × 2 columns</p>\n",
       "</div>"
      ],
      "text/plain": [
       "                                                     th  \\\n",
       "0     และเพราะเหตุนี้ ฉันก็ต้องขอบอกว่า การร่วมมือกั...   \n",
       "1     ถ้างานของคุณไม่เข้าขั้น ก็ไม่ใช่ความผิดของคุณท...   \n",
       "2     (เสียงหัวเราะ) (เสียงปรบมือ) ผมกำลังพูดถึงการท...   \n",
       "3     เขากล่าวว่า ถ้าคุณอยู่ในโรงพยาบาล โรงพยาบาลจะส...   \n",
       "4     และนี้คือบทเรียนที่ยิ่งใหญ่ที่สุด เรื่องสื่อสั...   \n",
       "...                                                 ...   \n",
       "1495  ส่วนใหญ่นำเสนอในรูปของการ์ตูนช่องเดียว \"ฉันปรา...   \n",
       "1496  เทมเปิล: ฉันรักสิ่งที่ฉันทำ อยากให้สิ่งฉันทำ เ...   \n",
       "1497  ฉันหวังว่าวันนี้ คุณจะมีมุมมองต่อป่า ที่ต่างออ...   \n",
       "1498  ว่าจะเงาตกอยู่ตรงไหน ที่เป็นกลางคืน และตรงไหนม...   \n",
       "1499  โดยเหตุที่ข้อมูลบนตัวเก็บข้อมูลในความจำปัจจุบั...   \n",
       "\n",
       "                                                  zh_cn  \n",
       "0                          而正因为这点，我必须得说， 合作是我最喜欢的超凡能力。   \n",
       "1                                   如果你的作品很烂，同样也不全是你的错   \n",
       "2     （笑）（掌声） 我所讲的就是让人们得到工作， 让孩子们远离街道，让他们了解 自己种植食物的喜...  \n",
       "3     他写道：如果你去看病 医院对你的唯一帮助 就是提供了 给你提供了温暖、食物、住所， 或许还有...  \n",
       "4                           接下来，就是我们在使用 社交媒体和手机时最大的教训：   \n",
       "...                                                 ...  \n",
       "1495  他们通常会以单片式动画形式呈现， “我要谴责恐怖主义！同时我也谴责 那些从来不把纸盘子装满的...  \n",
       "1496   葛兰丁：我对于我所做的事情感到十分热情 并且希望这些事情可以让世界变得更美好 当我听到有母亲说   \n",
       "1497                          我希望今天我也能改变 你们的一些关于森林的印象。   \n",
       "1498                           有阴影的地方是黑夜， 而有阳光的地方就是白天。   \n",
       "1499  当今大多存储媒体内的数据 寿命预测也不超过10年 科学家们正在尝试开拓材料的物理性能 将它们...  \n",
       "\n",
       "[1500 rows x 2 columns]"
      ]
     },
     "execution_count": 7,
     "metadata": {},
     "output_type": "execute_result"
    }
   ],
   "source": [
    "df"
   ]
  },
  {
   "cell_type": "code",
   "execution_count": 8,
   "metadata": {},
   "outputs": [],
   "source": [
    "conn = sqlite3.connect('ch2.db', check_same_thread=False)"
   ]
  },
  {
   "cell_type": "code",
   "execution_count": 9,
   "metadata": {},
   "outputs": [],
   "source": [
    "th2zhlist = []"
   ]
  },
  {
   "cell_type": "code",
   "execution_count": 10,
   "metadata": {},
   "outputs": [],
   "source": [
    "def th2zh(text,id):\n",
    "    url = 'https://api.aiforthai.in.th/th-zh-nmt/' +quote_plus(text)\n",
    "    response = requests.get(url, headers=headers)\n",
    "    if \"The upstream server is timing out\" in response.text:\n",
    "        response = requests.get(url, headers=headers)\n",
    "    conn.execute(\"INSERT INTO thzh (DFID,TH,ZH) VALUES (?, ?,?)\",(id,text,response.text))\n",
    "    conn.commit()"
   ]
  },
  {
   "cell_type": "code",
   "execution_count": 11,
   "metadata": {},
   "outputs": [],
   "source": [
    "th2zh(\"ผมรักคุณ\",-2)"
   ]
  },
  {
   "cell_type": "code",
   "execution_count": 12,
   "metadata": {},
   "outputs": [],
   "source": [
    "#th2zh(\"แมว\",0)"
   ]
  },
  {
   "cell_type": "code",
   "execution_count": 13,
   "metadata": {},
   "outputs": [
    {
     "data": {
      "text/plain": [
       "[]"
      ]
     },
     "execution_count": 13,
     "metadata": {},
     "output_type": "execute_result"
    }
   ],
   "source": [
    "th2zhlist"
   ]
  },
  {
   "cell_type": "code",
   "execution_count": 14,
   "metadata": {},
   "outputs": [],
   "source": [
    "from concurrent.futures import ThreadPoolExecutor"
   ]
  },
  {
   "cell_type": "code",
   "execution_count": 15,
   "metadata": {},
   "outputs": [],
   "source": [
    "from  tqdm import  tqdm"
   ]
  },
  {
   "cell_type": "code",
   "execution_count": 16,
   "metadata": {},
   "outputs": [],
   "source": [
    "executor = ThreadPoolExecutor(max_workers=5)"
   ]
  },
  {
   "cell_type": "code",
   "execution_count": 17,
   "metadata": {},
   "outputs": [
    {
     "name": "stderr",
     "output_type": "stream",
     "text": [
      "100%|██████████| 1500/1500 [00:00<00:00, 26143.38it/s]\n"
     ]
    }
   ],
   "source": [
    "th2zhlist = []\n",
    "j=0\n",
    "for i in tqdm(df['th'].tolist()):\n",
    "    executor.submit(th2zh,i,j)\n",
    "    j+=1"
   ]
  },
  {
   "cell_type": "code",
   "execution_count": 18,
   "metadata": {},
   "outputs": [
    {
     "data": {
      "text/plain": [
       "0"
      ]
     },
     "execution_count": 18,
     "metadata": {},
     "output_type": "execute_result"
    }
   ],
   "source": [
    "len(th2zhlist)"
   ]
  },
  {
   "cell_type": "code",
   "execution_count": 19,
   "metadata": {},
   "outputs": [],
   "source": [
    "zh2thlist = []"
   ]
  },
  {
   "cell_type": "code",
   "execution_count": 22,
   "metadata": {},
   "outputs": [],
   "source": [
    "def zh2th(text,id):\n",
    "    url = 'https://api.aiforthai.in.th/zh-th-nmt/' +quote_plus(text)\n",
    "    response = requests.get(url, headers=headers)\n",
    "    if \"The upstream server is timing out\" in response.text:\n",
    "        response = requests.get(url, headers=headers)\n",
    "    conn.execute(\"INSERT INTO zhth (DFID,ZH,TH) VALUES (?, ?,?)\",(id,text,response.text))\n",
    "    conn.commit()"
   ]
  },
  {
   "cell_type": "code",
   "execution_count": 41,
   "metadata": {},
   "outputs": [],
   "source": [
    "def zh2th_reload(text,id):\n",
    "    url = 'https://api.aiforthai.in.th/zh-th-nmt/' +quote_plus(text)\n",
    "    response = requests.get(url, headers=headers)\n",
    "    if \"The upstream server is timing out\" in response.text:\n",
    "        response = requests.get(url, headers=headers)\n",
    "    conn.execute(\"UPDATE zhth set TH=? WHERE id=?\",(response.text,id))\n",
    "    conn.commit()"
   ]
  },
  {
   "cell_type": "code",
   "execution_count": 48,
   "metadata": {},
   "outputs": [],
   "source": [
    "def th2zh_reload(text,id):\n",
    "    url = 'https://api.aiforthai.in.th/th-zh-nmt/' +quote_plus(text)\n",
    "    response = requests.get(url, headers=headers)\n",
    "    if \"The upstream server is timing out\" in response.text:\n",
    "        response = requests.get(url, headers=headers)\n",
    "    conn.execute(\"UPDATE thzh set ZH=? WHERE id=?\",(response.text,id))\n",
    "    conn.commit()"
   ]
  },
  {
   "cell_type": "code",
   "execution_count": 44,
   "metadata": {},
   "outputs": [],
   "source": [
    "# zh2thlist = []\n",
    "# jj=0\n",
    "# for i in tqdm(df['zh_cn'].tolist()):\n",
    "#     executor2.submit(zh2th,i,jj)\n",
    "#     jj+=1"
   ]
  },
  {
   "cell_type": "code",
   "execution_count": 61,
   "metadata": {},
   "outputs": [],
   "source": [
    "cursor = conn.execute(\"SELECT id,zh  from zhth WHERE th='The upstream server is timing out\\n';\")"
   ]
  },
  {
   "cell_type": "code",
   "execution_count": 62,
   "metadata": {},
   "outputs": [
    {
     "name": "stderr",
     "output_type": "stream",
     "text": [
      "6it [00:00, 159.47it/s]\n"
     ]
    }
   ],
   "source": [
    "for row in tqdm(cursor):\n",
    "    #zh2th_reload(row[1],row[0])\n",
    "    executor.submit(zh2th_reload,row[1],row[0])"
   ]
  },
  {
   "cell_type": "code",
   "execution_count": 58,
   "metadata": {},
   "outputs": [],
   "source": [
    "cursor2 = conn.execute(\"SELECT id,th  from thzh WHERE zh='The upstream server is timing out\\n';\")"
   ]
  },
  {
   "cell_type": "code",
   "execution_count": 59,
   "metadata": {},
   "outputs": [],
   "source": [
    "executor2 = ThreadPoolExecutor(max_workers=5)"
   ]
  },
  {
   "cell_type": "code",
   "execution_count": 60,
   "metadata": {},
   "outputs": [
    {
     "name": "stderr",
     "output_type": "stream",
     "text": [
      "185it [00:00, 4210.53it/s]\n"
     ]
    }
   ],
   "source": [
    "for row in tqdm(cursor2):\n",
    "    #print(row)\n",
    "    executor2.submit(th2zh_reload,row[1],row[0])"
   ]
  },
  {
   "cell_type": "code",
   "execution_count": 72,
   "metadata": {},
   "outputs": [
    {
     "name": "stderr",
     "output_type": "stream",
     "text": [
      "1500it [00:00, 51140.90it/s]\n"
     ]
    }
   ],
   "source": [
    "zh_th_cursor = conn.execute(\"SELECT DFID,zh,th  from zhth\")\n",
    "zh_th_tuples = []\n",
    "for row in tqdm(zh_th_cursor):\n",
    "    if row[0]>=0:\n",
    "        zh_th_tuples.append(row)"
   ]
  },
  {
   "cell_type": "code",
   "execution_count": 73,
   "metadata": {},
   "outputs": [
    {
     "data": {
      "text/plain": [
       "(0,\n",
       " '而正因为这点，我必须得说， 合作是我最喜欢的超凡能力。 ',\n",
       " 'สิ่งที่ผมจะต้องพูดก็คือมันเป็นสิ่งที่ผมชอบที่สุด')"
      ]
     },
     "execution_count": 73,
     "metadata": {},
     "output_type": "execute_result"
    }
   ],
   "source": [
    "zh_th_tuples[0]"
   ]
  },
  {
   "cell_type": "code",
   "execution_count": 74,
   "metadata": {},
   "outputs": [
    {
     "data": {
      "text/plain": [
       "(16,\n",
       " '如果确实存在危机， 如果这种危机是由 我们的排放造成的， 你至少该看到一些迹象。 ',\n",
       " 'ถ้าเรามีวิกฤติการณ์บวกบวกบวกบวกบวกลบๆ')"
      ]
     },
     "execution_count": 74,
     "metadata": {},
     "output_type": "execute_result"
    }
   ],
   "source": [
    "zh_th_tuples[13]"
   ]
  },
  {
   "cell_type": "code",
   "execution_count": 75,
   "metadata": {},
   "outputs": [],
   "source": [
    "zh_th_tuples = sorted(zh_th_tuples, key=lambda x: x[0])"
   ]
  },
  {
   "cell_type": "code",
   "execution_count": 76,
   "metadata": {},
   "outputs": [
    {
     "data": {
      "text/plain": [
       "(13, '在超过175个社会里，人们都用不同的证据证明了这部分大脑组织是如此强大 ', 'ในสังคม')"
      ]
     },
     "execution_count": 76,
     "metadata": {},
     "output_type": "execute_result"
    }
   ],
   "source": [
    "zh_th_tuples[13]"
   ]
  },
  {
   "cell_type": "code",
   "execution_count": 81,
   "metadata": {},
   "outputs": [
    {
     "name": "stderr",
     "output_type": "stream",
     "text": [
      "1501it [00:00, 189988.54it/s]\n"
     ]
    }
   ],
   "source": [
    "th_zh_cursor = conn.execute(\"SELECT DFID,zh,th from thzh\")\n",
    "th_zh_tuples = []\n",
    "for row in tqdm(th_zh_cursor):\n",
    "    if row[0]>=0:\n",
    "        th_zh_tuples.append(row)"
   ]
  },
  {
   "cell_type": "code",
   "execution_count": 82,
   "metadata": {},
   "outputs": [
    {
     "data": {
      "text/plain": [
       "(1,\n",
       " '如果你的工作不深入,你就不是你的错。',\n",
       " 'ถ้างานของคุณไม่เข้าขั้น ก็ไม่ใช่ความผิดของคุณทั้งหมด ')"
      ]
     },
     "execution_count": 82,
     "metadata": {},
     "output_type": "execute_result"
    }
   ],
   "source": [
    "th_zh_tuples[0]"
   ]
  },
  {
   "cell_type": "code",
   "execution_count": 83,
   "metadata": {},
   "outputs": [
    {
     "data": {
      "text/plain": [
       "1500"
      ]
     },
     "execution_count": 83,
     "metadata": {},
     "output_type": "execute_result"
    }
   ],
   "source": [
    "len(th_zh_tuples)"
   ]
  },
  {
   "cell_type": "code",
   "execution_count": 84,
   "metadata": {},
   "outputs": [
    {
     "data": {
      "text/plain": [
       "(15,\n",
       " '作为一个项目',\n",
       " 'ในฐานะนักชีววิทยา ผมยังพยายามเรียนรู้ กับผู้อื่น ว่าทุก ๆ คนเกี่ยวข้องกันและกันอย่างไร และใครเกี่ยวข้องกับใคร ')"
      ]
     },
     "execution_count": 84,
     "metadata": {},
     "output_type": "execute_result"
    }
   ],
   "source": [
    "th_zh_tuples[13]"
   ]
  },
  {
   "cell_type": "code",
   "execution_count": 85,
   "metadata": {},
   "outputs": [],
   "source": [
    "th_zh_tuples = sorted(th_zh_tuples, key=lambda x: x[0])"
   ]
  },
  {
   "cell_type": "code",
   "execution_count": 86,
   "metadata": {},
   "outputs": [
    {
     "data": {
      "text/plain": [
       "(13,\n",
       " '业余项目',\n",
       " 'ในมากกว่า 175 สังคมวัฒนธรรม คนเราได้ทิ้งหลักฐาน ของระบบสมองอันทรงพลังนี้ ')"
      ]
     },
     "execution_count": 86,
     "metadata": {},
     "output_type": "execute_result"
    }
   ],
   "source": [
    "th_zh_tuples[13]"
   ]
  },
  {
   "cell_type": "code",
   "execution_count": 96,
   "metadata": {},
   "outputs": [],
   "source": [
    "def check_error(txt):\n",
    "    if 'The' in txt or 'the' in txt:\n",
    "        return None\n",
    "    else:\n",
    "        return txt"
   ]
  },
  {
   "cell_type": "code",
   "execution_count": 97,
   "metadata": {},
   "outputs": [],
   "source": [
    "dict_data = {\n",
    "    'TH': [i[2] for i in th_zh_tuples],\n",
    "    'ZH': [i[1] for i in zh_th_tuples],\n",
    "    'pred_th': [check_error(i[2])  for i in zh_th_tuples],\n",
    "    'pred_zh': [check_error(i[1])  for i in th_zh_tuples]\n",
    "}"
   ]
  },
  {
   "cell_type": "code",
   "execution_count": 98,
   "metadata": {},
   "outputs": [],
   "source": [
    "test_aiforthai=pd.DataFrame.from_dict(dict_data)"
   ]
  },
  {
   "cell_type": "code",
   "execution_count": 99,
   "metadata": {},
   "outputs": [
    {
     "data": {
      "text/html": [
       "<div>\n",
       "<style scoped>\n",
       "    .dataframe tbody tr th:only-of-type {\n",
       "        vertical-align: middle;\n",
       "    }\n",
       "\n",
       "    .dataframe tbody tr th {\n",
       "        vertical-align: top;\n",
       "    }\n",
       "\n",
       "    .dataframe thead th {\n",
       "        text-align: right;\n",
       "    }\n",
       "</style>\n",
       "<table border=\"1\" class=\"dataframe\">\n",
       "  <thead>\n",
       "    <tr style=\"text-align: right;\">\n",
       "      <th></th>\n",
       "      <th>TH</th>\n",
       "      <th>ZH</th>\n",
       "      <th>pred_th</th>\n",
       "      <th>pred_zh</th>\n",
       "    </tr>\n",
       "  </thead>\n",
       "  <tbody>\n",
       "    <tr>\n",
       "      <th>0</th>\n",
       "      <td>และเพราะเหตุนี้ ฉันก็ต้องขอบอกว่า การร่วมมือกั...</td>\n",
       "      <td>而正因为这点，我必须得说， 合作是我最喜欢的超凡能力。</td>\n",
       "      <td>สิ่งที่ผมจะต้องพูดก็คือมันเป็นสิ่งที่ผมชอบที่สุด</td>\n",
       "      <td>我的项目</td>\n",
       "    </tr>\n",
       "    <tr>\n",
       "      <th>1</th>\n",
       "      <td>ถ้างานของคุณไม่เข้าขั้น ก็ไม่ใช่ความผิดของคุณท...</td>\n",
       "      <td>如果你的作品很烂，同样也不全是你的错</td>\n",
       "      <td>ถ้างานของคุณห่วยมากแต่ก็ไม่ใช่ความผิดของคุณ</td>\n",
       "      <td>如果你的工作不深入,你就不是你的错。</td>\n",
       "    </tr>\n",
       "    <tr>\n",
       "      <th>2</th>\n",
       "      <td>(เสียงหัวเราะ) (เสียงปรบมือ) ผมกำลังพูดถึงการท...</td>\n",
       "      <td>（笑）（掌声） 我所讲的就是让人们得到工作， 让孩子们远离街道，让他们了解 自己种植食物的喜...</td>\n",
       "      <td>(เสียงปรบมือ)</td>\n",
       "      <td>好吧</td>\n",
       "    </tr>\n",
       "    <tr>\n",
       "      <th>3</th>\n",
       "      <td>เขากล่าวว่า ถ้าคุณอยู่ในโรงพยาบาล โรงพยาบาลจะส...</td>\n",
       "      <td>他写道：如果你去看病 医院对你的唯一帮助 就是提供了 给你提供了温暖、食物、住所， 或许还有...</td>\n",
       "      <td>คำพูดของเขากล่าวว่าถ้าคุณไปพบหมอกอล์สและถ้าคุณ...</td>\n",
       "      <td>他说</td>\n",
       "    </tr>\n",
       "    <tr>\n",
       "      <th>4</th>\n",
       "      <td>และนี้คือบทเรียนที่ยิ่งใหญ่ที่สุด เรื่องสื่อสั...</td>\n",
       "      <td>接下来，就是我们在使用 社交媒体和手机时最大的教训：</td>\n",
       "      <td>ขั้นตอนต่อไปคือบทเรียนของบวกและโทรศัพท์</td>\n",
       "      <td>这是一个伟大的项目</td>\n",
       "    </tr>\n",
       "    <tr>\n",
       "      <th>...</th>\n",
       "      <td>...</td>\n",
       "      <td>...</td>\n",
       "      <td>...</td>\n",
       "      <td>...</td>\n",
       "    </tr>\n",
       "    <tr>\n",
       "      <th>1495</th>\n",
       "      <td>ส่วนใหญ่นำเสนอในรูปของการ์ตูนช่องเดียว \"ฉันปรา...</td>\n",
       "      <td>他们通常会以单片式动画形式呈现， “我要谴责恐怖主义！同时我也谴责 那些从来不把纸盘子装满的...</td>\n",
       "      <td>พวกเขามักจะถือรูปแบบการวาดรูปแบบเดี่ยวหรือ\"เบิ...</td>\n",
       "      <td>我给你看看\"+\"\"。</td>\n",
       "    </tr>\n",
       "    <tr>\n",
       "      <th>1496</th>\n",
       "      <td>เทมเปิล: ฉันรักสิ่งที่ฉันทำ อยากให้สิ่งฉันทำ เ...</td>\n",
       "      <td>葛兰丁：我对于我所做的事情感到十分热情 并且希望这些事情可以让世界变得更美好 当我听到有母亲说</td>\n",
       "      <td>ผมกระตือรือร้นและกระตือรือร้นในสิ่งที่ฉันทำ</td>\n",
       "      <td>T好吧</td>\n",
       "    </tr>\n",
       "    <tr>\n",
       "      <th>1497</th>\n",
       "      <td>ฉันหวังว่าวันนี้ คุณจะมีมุมมองต่อป่า ที่ต่างออ...</td>\n",
       "      <td>我希望今天我也能改变 你们的一些关于森林的印象。</td>\n",
       "      <td>ผมหวังว่าผมได้เปลี่ยนสิ่งที่คุณเห็นในวันนี้</td>\n",
       "      <td>我希望你再来一个新的项目吧</td>\n",
       "    </tr>\n",
       "    <tr>\n",
       "      <th>1498</th>\n",
       "      <td>ว่าจะเงาตกอยู่ตรงไหน ที่เป็นกลางคืน และตรงไหนม...</td>\n",
       "      <td>有阴影的地方是黑夜， 而有阳光的地方就是白天。</td>\n",
       "      <td>การมีเงามืดในที่มืดและมืดมัวแต่งแสงแดดคือกลางวัน</td>\n",
       "      <td>你知道吧。</td>\n",
       "    </tr>\n",
       "    <tr>\n",
       "      <th>1499</th>\n",
       "      <td>โดยเหตุที่ข้อมูลบนตัวเก็บข้อมูลในความจำปัจจุบั...</td>\n",
       "      <td>当今大多存储媒体内的数据 寿命预测也不超过10年 科学家们正在尝试开拓材料的物理性能 将它们...</td>\n",
       "      <td>การคาดการณ์ของข้อมูลบวกบวกบางส่วนในสื่อรูปแบบน...</td>\n",
       "      <td>刚给你的新印象</td>\n",
       "    </tr>\n",
       "  </tbody>\n",
       "</table>\n",
       "<p>1500 rows × 4 columns</p>\n",
       "</div>"
      ],
      "text/plain": [
       "                                                     TH  \\\n",
       "0     และเพราะเหตุนี้ ฉันก็ต้องขอบอกว่า การร่วมมือกั...   \n",
       "1     ถ้างานของคุณไม่เข้าขั้น ก็ไม่ใช่ความผิดของคุณท...   \n",
       "2     (เสียงหัวเราะ) (เสียงปรบมือ) ผมกำลังพูดถึงการท...   \n",
       "3     เขากล่าวว่า ถ้าคุณอยู่ในโรงพยาบาล โรงพยาบาลจะส...   \n",
       "4     และนี้คือบทเรียนที่ยิ่งใหญ่ที่สุด เรื่องสื่อสั...   \n",
       "...                                                 ...   \n",
       "1495  ส่วนใหญ่นำเสนอในรูปของการ์ตูนช่องเดียว \"ฉันปรา...   \n",
       "1496  เทมเปิล: ฉันรักสิ่งที่ฉันทำ อยากให้สิ่งฉันทำ เ...   \n",
       "1497  ฉันหวังว่าวันนี้ คุณจะมีมุมมองต่อป่า ที่ต่างออ...   \n",
       "1498  ว่าจะเงาตกอยู่ตรงไหน ที่เป็นกลางคืน และตรงไหนม...   \n",
       "1499  โดยเหตุที่ข้อมูลบนตัวเก็บข้อมูลในความจำปัจจุบั...   \n",
       "\n",
       "                                                     ZH  \\\n",
       "0                          而正因为这点，我必须得说， 合作是我最喜欢的超凡能力。    \n",
       "1                                   如果你的作品很烂，同样也不全是你的错    \n",
       "2     （笑）（掌声） 我所讲的就是让人们得到工作， 让孩子们远离街道，让他们了解 自己种植食物的喜...   \n",
       "3     他写道：如果你去看病 医院对你的唯一帮助 就是提供了 给你提供了温暖、食物、住所， 或许还有...   \n",
       "4                           接下来，就是我们在使用 社交媒体和手机时最大的教训：    \n",
       "...                                                 ...   \n",
       "1495  他们通常会以单片式动画形式呈现， “我要谴责恐怖主义！同时我也谴责 那些从来不把纸盘子装满的...   \n",
       "1496   葛兰丁：我对于我所做的事情感到十分热情 并且希望这些事情可以让世界变得更美好 当我听到有母亲说    \n",
       "1497                          我希望今天我也能改变 你们的一些关于森林的印象。    \n",
       "1498                           有阴影的地方是黑夜， 而有阳光的地方就是白天。    \n",
       "1499  当今大多存储媒体内的数据 寿命预测也不超过10年 科学家们正在尝试开拓材料的物理性能 将它们...   \n",
       "\n",
       "                                                pred_th             pred_zh  \n",
       "0      สิ่งที่ผมจะต้องพูดก็คือมันเป็นสิ่งที่ผมชอบที่สุด                我的项目  \n",
       "1           ถ้างานของคุณห่วยมากแต่ก็ไม่ใช่ความผิดของคุณ  如果你的工作不深入,你就不是你的错。  \n",
       "2                                         (เสียงปรบมือ)                  好吧  \n",
       "3     คำพูดของเขากล่าวว่าถ้าคุณไปพบหมอกอล์สและถ้าคุณ...                  他说  \n",
       "4               ขั้นตอนต่อไปคือบทเรียนของบวกและโทรศัพท์           这是一个伟大的项目  \n",
       "...                                                 ...                 ...  \n",
       "1495  พวกเขามักจะถือรูปแบบการวาดรูปแบบเดี่ยวหรือ\"เบิ...          我给你看看\"+\"\"。  \n",
       "1496        ผมกระตือรือร้นและกระตือรือร้นในสิ่งที่ฉันทำ                 T好吧  \n",
       "1497        ผมหวังว่าผมได้เปลี่ยนสิ่งที่คุณเห็นในวันนี้       我希望你再来一个新的项目吧  \n",
       "1498   การมีเงามืดในที่มืดและมืดมัวแต่งแสงแดดคือกลางวัน               你知道吧。  \n",
       "1499  การคาดการณ์ของข้อมูลบวกบวกบางส่วนในสื่อรูปแบบน...             刚给你的新印象  \n",
       "\n",
       "[1500 rows x 4 columns]"
      ]
     },
     "execution_count": 99,
     "metadata": {},
     "output_type": "execute_result"
    }
   ],
   "source": [
    "test_aiforthai"
   ]
  },
  {
   "cell_type": "code",
   "execution_count": 100,
   "metadata": {},
   "outputs": [],
   "source": [
    "test_aiforthai.to_csv('aiforthai.csv',index=False)"
   ]
  },
  {
   "cell_type": "markdown",
   "metadata": {},
   "source": [
    "## Benchmark"
   ]
  },
  {
   "cell_type": "code",
   "execution_count": 12,
   "metadata": {},
   "outputs": [
    {
     "data": {
      "text/plain": [
       "((1500, 4), (1226, 4))"
      ]
     },
     "execution_count": 12,
     "metadata": {},
     "output_type": "execute_result"
    }
   ],
   "source": [
    "df = pd.read_csv('../data/aiforthai.csv')\n",
    "df.columns = ['th','zh','pred_th','pred_zh']\n",
    "df.shape, df.dropna().shape"
   ]
  },
  {
   "cell_type": "code",
   "execution_count": 13,
   "metadata": {},
   "outputs": [
    {
     "data": {
      "text/html": [
       "<div>\n",
       "<style scoped>\n",
       "    .dataframe tbody tr th:only-of-type {\n",
       "        vertical-align: middle;\n",
       "    }\n",
       "\n",
       "    .dataframe tbody tr th {\n",
       "        vertical-align: top;\n",
       "    }\n",
       "\n",
       "    .dataframe thead th {\n",
       "        text-align: right;\n",
       "    }\n",
       "</style>\n",
       "<table border=\"1\" class=\"dataframe\">\n",
       "  <thead>\n",
       "    <tr style=\"text-align: right;\">\n",
       "      <th></th>\n",
       "      <th>th</th>\n",
       "      <th>zh</th>\n",
       "      <th>pred_th</th>\n",
       "      <th>pred_zh</th>\n",
       "    </tr>\n",
       "  </thead>\n",
       "  <tbody>\n",
       "    <tr>\n",
       "      <th>0</th>\n",
       "      <td>และเพราะเหตุนี้ ฉันก็ต้องขอบอกว่า การร่วมมือกั...</td>\n",
       "      <td>而正因为这点，我必须得说， 合作是我最喜欢的超凡能力。</td>\n",
       "      <td>สิ่งที่ผมจะต้องพูดก็คือมันเป็นสิ่งที่ผมชอบที่สุด</td>\n",
       "      <td>我的项目</td>\n",
       "    </tr>\n",
       "    <tr>\n",
       "      <th>1</th>\n",
       "      <td>ถ้างานของคุณไม่เข้าขั้น ก็ไม่ใช่ความผิดของคุณท...</td>\n",
       "      <td>如果你的作品很烂，同样也不全是你的错</td>\n",
       "      <td>ถ้างานของคุณห่วยมากแต่ก็ไม่ใช่ความผิดของคุณ</td>\n",
       "      <td>如果你的工作不深入,你就不是你的错。</td>\n",
       "    </tr>\n",
       "    <tr>\n",
       "      <th>2</th>\n",
       "      <td>(เสียงหัวเราะ) (เสียงปรบมือ) ผมกำลังพูดถึงการท...</td>\n",
       "      <td>（笑）（掌声） 我所讲的就是让人们得到工作， 让孩子们远离街道，让他们了解 自己种植食物的喜...</td>\n",
       "      <td>(เสียงปรบมือ)</td>\n",
       "      <td>好吧</td>\n",
       "    </tr>\n",
       "    <tr>\n",
       "      <th>3</th>\n",
       "      <td>เขากล่าวว่า ถ้าคุณอยู่ในโรงพยาบาล โรงพยาบาลจะส...</td>\n",
       "      <td>他写道：如果你去看病 医院对你的唯一帮助 就是提供了 给你提供了温暖、食物、住所， 或许还有...</td>\n",
       "      <td>คำพูดของเขากล่าวว่าถ้าคุณไปพบหมอกอล์สและถ้าคุณ...</td>\n",
       "      <td>他说</td>\n",
       "    </tr>\n",
       "    <tr>\n",
       "      <th>4</th>\n",
       "      <td>และนี้คือบทเรียนที่ยิ่งใหญ่ที่สุด เรื่องสื่อสั...</td>\n",
       "      <td>接下来，就是我们在使用 社交媒体和手机时最大的教训：</td>\n",
       "      <td>ขั้นตอนต่อไปคือบทเรียนของบวกและโทรศัพท์</td>\n",
       "      <td>这是一个伟大的项目</td>\n",
       "    </tr>\n",
       "    <tr>\n",
       "      <th>...</th>\n",
       "      <td>...</td>\n",
       "      <td>...</td>\n",
       "      <td>...</td>\n",
       "      <td>...</td>\n",
       "    </tr>\n",
       "    <tr>\n",
       "      <th>1221</th>\n",
       "      <td>ส่วนใหญ่นำเสนอในรูปของการ์ตูนช่องเดียว \"ฉันปรา...</td>\n",
       "      <td>他们通常会以单片式动画形式呈现， “我要谴责恐怖主义！同时我也谴责 那些从来不把纸盘子装满的...</td>\n",
       "      <td>พวกเขามักจะถือรูปแบบการวาดรูปแบบเดี่ยวหรือ\"เบิ...</td>\n",
       "      <td>我给你看看\"+\"\"。</td>\n",
       "    </tr>\n",
       "    <tr>\n",
       "      <th>1222</th>\n",
       "      <td>เทมเปิล: ฉันรักสิ่งที่ฉันทำ อยากให้สิ่งฉันทำ เ...</td>\n",
       "      <td>葛兰丁：我对于我所做的事情感到十分热情 并且希望这些事情可以让世界变得更美好 当我听到有母亲说</td>\n",
       "      <td>ผมกระตือรือร้นและกระตือรือร้นในสิ่งที่ฉันทำ</td>\n",
       "      <td>T好吧</td>\n",
       "    </tr>\n",
       "    <tr>\n",
       "      <th>1223</th>\n",
       "      <td>ฉันหวังว่าวันนี้ คุณจะมีมุมมองต่อป่า ที่ต่างออ...</td>\n",
       "      <td>我希望今天我也能改变 你们的一些关于森林的印象。</td>\n",
       "      <td>ผมหวังว่าผมได้เปลี่ยนสิ่งที่คุณเห็นในวันนี้</td>\n",
       "      <td>我希望你再来一个新的项目吧</td>\n",
       "    </tr>\n",
       "    <tr>\n",
       "      <th>1224</th>\n",
       "      <td>ว่าจะเงาตกอยู่ตรงไหน ที่เป็นกลางคืน และตรงไหนม...</td>\n",
       "      <td>有阴影的地方是黑夜， 而有阳光的地方就是白天。</td>\n",
       "      <td>การมีเงามืดในที่มืดและมืดมัวแต่งแสงแดดคือกลางวัน</td>\n",
       "      <td>你知道吧。</td>\n",
       "    </tr>\n",
       "    <tr>\n",
       "      <th>1225</th>\n",
       "      <td>โดยเหตุที่ข้อมูลบนตัวเก็บข้อมูลในความจำปัจจุบั...</td>\n",
       "      <td>当今大多存储媒体内的数据 寿命预测也不超过10年 科学家们正在尝试开拓材料的物理性能 将它们...</td>\n",
       "      <td>การคาดการณ์ของข้อมูลบวกบวกบางส่วนในสื่อรูปแบบน...</td>\n",
       "      <td>刚给你的新印象</td>\n",
       "    </tr>\n",
       "  </tbody>\n",
       "</table>\n",
       "<p>1226 rows × 4 columns</p>\n",
       "</div>"
      ],
      "text/plain": [
       "                                                     th  \\\n",
       "0     และเพราะเหตุนี้ ฉันก็ต้องขอบอกว่า การร่วมมือกั...   \n",
       "1     ถ้างานของคุณไม่เข้าขั้น ก็ไม่ใช่ความผิดของคุณท...   \n",
       "2     (เสียงหัวเราะ) (เสียงปรบมือ) ผมกำลังพูดถึงการท...   \n",
       "3     เขากล่าวว่า ถ้าคุณอยู่ในโรงพยาบาล โรงพยาบาลจะส...   \n",
       "4     และนี้คือบทเรียนที่ยิ่งใหญ่ที่สุด เรื่องสื่อสั...   \n",
       "...                                                 ...   \n",
       "1221  ส่วนใหญ่นำเสนอในรูปของการ์ตูนช่องเดียว \"ฉันปรา...   \n",
       "1222  เทมเปิล: ฉันรักสิ่งที่ฉันทำ อยากให้สิ่งฉันทำ เ...   \n",
       "1223  ฉันหวังว่าวันนี้ คุณจะมีมุมมองต่อป่า ที่ต่างออ...   \n",
       "1224  ว่าจะเงาตกอยู่ตรงไหน ที่เป็นกลางคืน และตรงไหนม...   \n",
       "1225  โดยเหตุที่ข้อมูลบนตัวเก็บข้อมูลในความจำปัจจุบั...   \n",
       "\n",
       "                                                     zh  \\\n",
       "0                          而正因为这点，我必须得说， 合作是我最喜欢的超凡能力。    \n",
       "1                                   如果你的作品很烂，同样也不全是你的错    \n",
       "2     （笑）（掌声） 我所讲的就是让人们得到工作， 让孩子们远离街道，让他们了解 自己种植食物的喜...   \n",
       "3     他写道：如果你去看病 医院对你的唯一帮助 就是提供了 给你提供了温暖、食物、住所， 或许还有...   \n",
       "4                           接下来，就是我们在使用 社交媒体和手机时最大的教训：    \n",
       "...                                                 ...   \n",
       "1221  他们通常会以单片式动画形式呈现， “我要谴责恐怖主义！同时我也谴责 那些从来不把纸盘子装满的...   \n",
       "1222   葛兰丁：我对于我所做的事情感到十分热情 并且希望这些事情可以让世界变得更美好 当我听到有母亲说    \n",
       "1223                          我希望今天我也能改变 你们的一些关于森林的印象。    \n",
       "1224                           有阴影的地方是黑夜， 而有阳光的地方就是白天。    \n",
       "1225  当今大多存储媒体内的数据 寿命预测也不超过10年 科学家们正在尝试开拓材料的物理性能 将它们...   \n",
       "\n",
       "                                                pred_th             pred_zh  \n",
       "0      สิ่งที่ผมจะต้องพูดก็คือมันเป็นสิ่งที่ผมชอบที่สุด                我的项目  \n",
       "1           ถ้างานของคุณห่วยมากแต่ก็ไม่ใช่ความผิดของคุณ  如果你的工作不深入,你就不是你的错。  \n",
       "2                                         (เสียงปรบมือ)                  好吧  \n",
       "3     คำพูดของเขากล่าวว่าถ้าคุณไปพบหมอกอล์สและถ้าคุณ...                  他说  \n",
       "4               ขั้นตอนต่อไปคือบทเรียนของบวกและโทรศัพท์           这是一个伟大的项目  \n",
       "...                                                 ...                 ...  \n",
       "1221  พวกเขามักจะถือรูปแบบการวาดรูปแบบเดี่ยวหรือ\"เบิ...          我给你看看\"+\"\"。  \n",
       "1222        ผมกระตือรือร้นและกระตือรือร้นในสิ่งที่ฉันทำ                 T好吧  \n",
       "1223        ผมหวังว่าผมได้เปลี่ยนสิ่งที่คุณเห็นในวันนี้       我希望你再来一个新的项目吧  \n",
       "1224   การมีเงามืดในที่มืดและมืดมัวแต่งแสงแดดคือกลางวัน               你知道吧。  \n",
       "1225  การคาดการณ์ของข้อมูลบวกบวกบางส่วนในสื่อรูปแบบน...             刚给你的新印象  \n",
       "\n",
       "[1226 rows x 4 columns]"
      ]
     },
     "execution_count": 13,
     "metadata": {},
     "output_type": "execute_result"
    }
   ],
   "source": [
    "#choose only those without NAs\n",
    "df = df.dropna().reset_index(drop=True)\n",
    "df"
   ]
  },
  {
   "cell_type": "code",
   "execution_count": 26,
   "metadata": {},
   "outputs": [],
   "source": [
    "df.to_csv('test1226.csv',index=False)"
   ]
  },
  {
   "cell_type": "code",
   "execution_count": 14,
   "metadata": {},
   "outputs": [],
   "source": [
    "from datasets import load_metric\n",
    "metric = load_metric(\"sacrebleu\")"
   ]
  },
  {
   "cell_type": "code",
   "execution_count": 27,
   "metadata": {},
   "outputs": [],
   "source": [
    "#benchmark zh->th\n",
    "predictions = df.loc[:,'pred_th'].tolist()\n",
    "references = [[i] for i in df.loc[:,'th'].tolist()]"
   ]
  },
  {
   "cell_type": "code",
   "execution_count": 28,
   "metadata": {},
   "outputs": [
    {
     "data": {
      "text/plain": [
       "['สิ่งที่ผมจะต้องพูดก็คือมันเป็นสิ่งที่ผมชอบที่สุด',\n",
       " 'ถ้างานของคุณห่วยมากแต่ก็ไม่ใช่ความผิดของคุณ',\n",
       " '(เสียงปรบมือ)',\n",
       " 'คำพูดของเขากล่าวว่าถ้าคุณไปพบหมอกอล์สและถ้าคุณไปพบหมอกอล์สและครูบาลได้ให้บริการคุณ',\n",
       " 'ขั้นตอนต่อไปคือบทเรียนของบวกและโทรศัพท์',\n",
       " 'เราก็ได้รู้ว่าเราต้องหาทางออกไป',\n",
       " 'ชื่อของเขาคือ\"บบ\"ขอบเขตของทะเลทราย',\n",
       " 'ผมไม่ได้บอกอะไรบางอย่างที่จะแสดงให้เห็นว่าเขามีความกระตือรือร้น',\n",
       " 'การทำงานสามชั่วโมง',\n",
       " 'อย่าลืมว่าพวกเขาไม่ได้เรียนภาษาอังกฤษ']"
      ]
     },
     "execution_count": 28,
     "metadata": {},
     "output_type": "execute_result"
    }
   ],
   "source": [
    "predictions[:10]"
   ]
  },
  {
   "cell_type": "code",
   "execution_count": 29,
   "metadata": {},
   "outputs": [
    {
     "data": {
      "text/plain": [
       "[['และเพราะเหตุนี้ ฉันก็ต้องขอบอกว่า การร่วมมือกันเป็น พลังยอดมนุษย์ที่ฉันโปรดปราน '],\n",
       " ['ถ้างานของคุณไม่เข้าขั้น ก็ไม่ใช่ความผิดของคุณทั้งหมด '],\n",
       " ['(เสียงหัวเราะ) (เสียงปรบมือ) ผมกำลังพูดถึงการทำให้คนมีงานทำ และดึงเด็กๆ ออกจากท้องถนน สอนให้เขารู้จัก ความสุข ความภาคภูมิใจ และความมีเกียรติ จากการปลูกอาหารกินเอง เปิดตลาดนัดเกษตรกร '],\n",
       " ['เขากล่าวว่า ถ้าคุณอยู่ในโรงพยาบาล โรงพยาบาลจะสำหรับคุณ เพราะเหตุผลเดียวคือ ให้ความอบอุ่น อาหาร ที่พัก และอาจจะมีการดูแลเอาใจใส่ จากพยาบาล '],\n",
       " ['และนี้คือบทเรียนที่ยิ่งใหญ่ที่สุด เรื่องสื่อสังคมและโทรศัพท์มือถือสำหรับเราทุกคน '],\n",
       " ['เรารู้ว่า เราต้องประดิษฐ์ แนวทางของเราเอง '],\n",
       " ['ซึ่งชื่อนั่นมีความหมายว่า ชายขอบของทะเลทราย '],\n",
       " ['และผมไม่ได้หมายถึงผู้เชี่ยวชาญที่จะมาบอกคุณว่า คุณกำลังมองดูอะไรอยู่เท่านั้นนะครับ แต่รวมถึงคนที่มีความหลงใหลในซอกมุมต่างๆในเอกภพ ผู้ที่สามารถแบ่งปันความสนใจของเขา และทำให้เอกภพเป็นที่ที่น่าไปท่องเที่ยวได้ '],\n",
       " ['ทำงานสามชั่วโมง '],\n",
       " ['อย่าลืมว่าพวกเขาไม่รู้ภาษาอังกฤษ ']]"
      ]
     },
     "execution_count": 29,
     "metadata": {},
     "output_type": "execute_result"
    }
   ],
   "source": [
    "references[:10]"
   ]
  },
  {
   "cell_type": "code",
   "execution_count": 16,
   "metadata": {},
   "outputs": [
    {
     "name": "stderr",
     "output_type": "stream",
     "text": [
      "I0623 12:17:49.704079 140034238318400 metric.py:412] Removing /home/cstorm125/.cache/huggingface/metrics/sacrebleu/default/default_experiment-ae388a23-320e-45f6-9801-76902f008390-1-0.arrow\n"
     ]
    },
    {
     "name": "stdout",
     "output_type": "stream",
     "text": [
      "CPU times: user 1min 33s, sys: 1.86 s, total: 1min 35s\n",
      "Wall time: 1min 46s\n"
     ]
    },
    {
     "data": {
      "text/plain": [
       "{'score': 6.74293684356434,\n",
       " 'counts': [8035, 3691, 1876, 983],\n",
       " 'totals': [16951, 15725, 14500, 13283],\n",
       " 'precisions': [47.401333254675244,\n",
       "  23.472178060413356,\n",
       "  12.937931034482759,\n",
       "  7.400436648347512],\n",
       " 'bp': 0.3732351700044612,\n",
       " 'sys_len': 16951,\n",
       " 'ref_len': 33657}"
      ]
     },
     "execution_count": 16,
     "metadata": {},
     "output_type": "execute_result"
    }
   ],
   "source": [
    "%%time \n",
    "metric.compute(predictions=predictions,references=references,tokenize='th_syllable')"
   ]
  },
  {
   "cell_type": "code",
   "execution_count": 17,
   "metadata": {},
   "outputs": [
    {
     "name": "stderr",
     "output_type": "stream",
     "text": [
      "I0623 12:17:51.585505 140034238318400 metric.py:412] Removing /home/cstorm125/.cache/huggingface/metrics/sacrebleu/default/default_experiment-1c2b851b-7fcc-451c-8e1b-04003de3757e-1-0.arrow\n"
     ]
    },
    {
     "name": "stdout",
     "output_type": "stream",
     "text": [
      "CPU times: user 781 ms, sys: 15.6 ms, total: 797 ms\n",
      "Wall time: 1.87 s\n"
     ]
    },
    {
     "data": {
      "text/plain": [
       "{'score': 4.269998725951353,\n",
       " 'counts': [4873, 1655, 666, 278],\n",
       " 'totals': [12544, 11318, 10098, 8899],\n",
       " 'precisions': [38.84725765306123,\n",
       "  14.622724863050008,\n",
       "  6.595365418894831,\n",
       "  3.123946510843915],\n",
       " 'bp': 0.41053006104713324,\n",
       " 'sys_len': 12544,\n",
       " 'ref_len': 23712}"
      ]
     },
     "execution_count": 17,
     "metadata": {},
     "output_type": "execute_result"
    }
   ],
   "source": [
    "%%time \n",
    "metric.compute(predictions=predictions,references=references,tokenize='th_word')"
   ]
  },
  {
   "cell_type": "code",
   "execution_count": 18,
   "metadata": {},
   "outputs": [],
   "source": [
    "#benchmark zh->th\n",
    "predictions = df.loc[:,'pred_zh'].tolist()\n",
    "references = [[i] for i in df.loc[:,'zh'].tolist()]"
   ]
  },
  {
   "cell_type": "code",
   "execution_count": 20,
   "metadata": {},
   "outputs": [
    {
     "name": "stderr",
     "output_type": "stream",
     "text": [
      "I0623 12:19:02.490108 140034238318400 metric.py:412] Removing /home/cstorm125/.cache/huggingface/metrics/sacrebleu/default/default_experiment-74a48f43-d73d-4a88-8ea6-348233c66726-1-0.arrow\n"
     ]
    },
    {
     "name": "stdout",
     "output_type": "stream",
     "text": [
      "CPU times: user 578 ms, sys: 0 ns, total: 578 ms\n",
      "Wall time: 1.63 s\n"
     ]
    },
    {
     "data": {
      "text/plain": [
       "{'score': 1.5501105410601086,\n",
       " 'counts': [5043, 2011, 919, 483],\n",
       " 'totals': [11860, 10634, 9408, 8225],\n",
       " 'precisions': [42.52107925801012,\n",
       "  18.911040060184316,\n",
       "  9.76828231292517,\n",
       "  5.872340425531915],\n",
       " 'bp': 0.10577313813540001,\n",
       " 'sys_len': 11860,\n",
       " 'ref_len': 38503}"
      ]
     },
     "execution_count": 20,
     "metadata": {},
     "output_type": "execute_result"
    }
   ],
   "source": [
    "%%time \n",
    "metric.compute(predictions=predictions,references=references,tokenize='zh')"
   ]
  },
  {
   "cell_type": "code",
   "execution_count": 23,
   "metadata": {},
   "outputs": [
    {
     "data": {
      "text/plain": [
       "['我的项目',\n",
       " '如果你的工作不深入,你就不是你的错。',\n",
       " '好吧',\n",
       " '他说',\n",
       " '这是一个伟大的项目',\n",
       " '我们知道。',\n",
       " '它的意思是',\n",
       " '我的意思不是说好吧。',\n",
       " '工作3个小时。',\n",
       " '不要忘记,他们不懂英语。']"
      ]
     },
     "execution_count": 23,
     "metadata": {},
     "output_type": "execute_result"
    }
   ],
   "source": [
    "predictions[:10]"
   ]
  },
  {
   "cell_type": "code",
   "execution_count": 24,
   "metadata": {},
   "outputs": [
    {
     "data": {
      "text/plain": [
       "[['而正因为这点，我必须得说， 合作是我最喜欢的超凡能力。 '],\n",
       " ['如果你的作品很烂，同样也不全是你的错 '],\n",
       " ['（笑）（掌声） 我所讲的就是让人们得到工作， 让孩子们远离街道，让他们了解 自己种植食物的喜悦，荣誉和荣耀， 开放农民市场。 '],\n",
       " ['他写道：如果你去看病 医院对你的唯一帮助 就是提供了 给你提供了温暖、食物、住所， 或许还有来自护士的 关怀 '],\n",
       " ['接下来，就是我们在使用 社交媒体和手机时最大的教训： '],\n",
       " ['我们意识到需要自己走出一条路。 '],\n",
       " ['这个名字的意思是“沙漠的边缘”。 '],\n",
       " ['我说的不是仅仅是一些告诉你所见是什么的专家们， 而是那些对宇宙各种各样的犄角旮旯都充满激情的人们， 那些分享他们热情的人们 让宇宙成为好客之地。 '],\n",
       " ['工作三小时。 '],\n",
       " ['不要忘记，她们没学英文。 ']]"
      ]
     },
     "execution_count": 24,
     "metadata": {},
     "output_type": "execute_result"
    }
   ],
   "source": [
    "references[:10]"
   ]
  },
  {
   "cell_type": "code",
   "execution_count": null,
   "metadata": {},
   "outputs": [],
   "source": []
  }
 ],
 "metadata": {
  "kernelspec": {
   "display_name": "Python 3",
   "language": "python",
   "name": "python3"
  },
  "language_info": {
   "codemirror_mode": {
    "name": "ipython",
    "version": 3
   },
   "file_extension": ".py",
   "mimetype": "text/x-python",
   "name": "python",
   "nbconvert_exporter": "python",
   "pygments_lexer": "ipython3",
   "version": "3.6.9"
  }
 },
 "nbformat": 4,
 "nbformat_minor": 4
}
