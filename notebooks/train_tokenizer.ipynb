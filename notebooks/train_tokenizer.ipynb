{
 "cells": [
  {
   "cell_type": "markdown",
   "metadata": {},
   "source": [
    "# Train SentencePiece Tokenizer with Shared Vocab"
   ]
  },
  {
   "cell_type": "code",
   "execution_count": 23,
   "metadata": {},
   "outputs": [],
   "source": [
    "#read full dataset\n",
    "with open(\"../data/OpenSubtitles/OpenSubtitles.th-zh_cn.th\",\"r\",encoding='utf-8') as f:\n",
    "    th_lines = f.readlines()\n",
    "    th_lines = [i[:-1] for i in th_lines]\n",
    "with open(\"../data/OpenSubtitles/OpenSubtitles.th-zh_cn.zh_cn\",\"r\",encoding='utf-8') as f:\n",
    "    zh_lines = f.readlines()\n",
    "    zh_lines = [i[:-1] for i in zh_lines]"
   ]
  },
  {
   "cell_type": "code",
   "execution_count": 24,
   "metadata": {},
   "outputs": [],
   "source": [
    "# #read sample dataset\n",
    "# with open(\"../data/OpenSubtitles/OpenSubtitles_sample.th\", \"r\", encoding='utf-8') as f:\n",
    "#     th_lines = f.readlines()\n",
    "#     th_lines = [i[:-1] for i in th_lines]\n",
    "# with open(\"../data/OpenSubtitles/OpenSubtitles_sample.zh_cn\", \"r\", encoding='utf-8') as f:\n",
    "#     zh_lines = f.readlines()\n",
    "#     zh_lines = [i[:-1] for i in zh_lines]"
   ]
  },
  {
   "cell_type": "code",
   "execution_count": 25,
   "metadata": {},
   "outputs": [
    {
     "data": {
      "text/plain": [
       "1227589"
      ]
     },
     "execution_count": 25,
     "metadata": {},
     "output_type": "execute_result"
    }
   ],
   "source": [
    "len(th_lines)"
   ]
  },
  {
   "cell_type": "code",
   "execution_count": 26,
   "metadata": {},
   "outputs": [
    {
     "data": {
      "text/plain": [
       "['คุณจำตอนพิธีล้างบาปของคุณได้ เป็นไปได้ยังไง?',\n",
       " 'เป็นไปไม่ได้รึไง? แต่มันจริงนะ',\n",
       " 'คุณได้ยินผู้ใหญ่เขาคุยกันรึเปล่า?',\n",
       " 'ฉันรู้สึกได้ถึงแสงอาทิตย์ลอดผ่านกระจกเข้ามา',\n",
       " 'ฉันยังจำเสียงหัวใจเต้นของพ่อได้',\n",
       " 'ไม่ใช่ฉันที่จำได้ แต่เป็นความทรงจำของฉันต่างหาก',\n",
       " 'แต่คุณไม่ใช่ คาธอลิกแล้วนี่?',\n",
       " 'เขาปล่อยให้คนอื่นผ่านไป',\n",
       " 'ทำไมอยู่ดีๆถึงพูดเรื่องพิธีล้างบาปขึ้นมาล่ะ?',\n",
       " 'ฉันนึกถึงมันบ่อยๆ บางทีฉันก็จำได้']"
      ]
     },
     "execution_count": 26,
     "metadata": {},
     "output_type": "execute_result"
    }
   ],
   "source": [
    "th_lines[:10]"
   ]
  },
  {
   "cell_type": "code",
   "execution_count": 27,
   "metadata": {},
   "outputs": [
    {
     "data": {
      "text/plain": [
       "1227589"
      ]
     },
     "execution_count": 27,
     "metadata": {},
     "output_type": "execute_result"
    }
   ],
   "source": [
    "len(zh_lines)"
   ]
  },
  {
   "cell_type": "code",
   "execution_count": 28,
   "metadata": {},
   "outputs": [
    {
     "data": {
      "text/plain": [
       "['记得自己的洗礼仪式 这可能吗?',\n",
       " '不可能?',\n",
       " '可那是事实啊 是听大人们说的吧?',\n",
       " '我能感受到透过玻璃的阳光',\n",
       " '我还记得爸爸的心跳声呢',\n",
       " '真的不是听来的 是记忆里的',\n",
       " '你也不是信天主教的吧',\n",
       " '改新教也有洗礼这种仪式',\n",
       " '为什么忽然提起洗礼仪式?',\n",
       " '最近想起来的 偶尔会想起']"
      ]
     },
     "execution_count": 28,
     "metadata": {},
     "output_type": "execute_result"
    }
   ],
   "source": [
    "zh_lines[:10]"
   ]
  },
  {
   "cell_type": "code",
   "execution_count": 29,
   "metadata": {},
   "outputs": [],
   "source": [
    "import pandas as pd"
   ]
  },
  {
   "cell_type": "code",
   "execution_count": 30,
   "metadata": {},
   "outputs": [],
   "source": [
    "df = pd.DataFrame({'th':th_lines,'zh':zh_lines})"
   ]
  },
  {
   "cell_type": "code",
   "execution_count": 31,
   "metadata": {},
   "outputs": [
    {
     "data": {
      "text/html": [
       "<div>\n",
       "<style scoped>\n",
       "    .dataframe tbody tr th:only-of-type {\n",
       "        vertical-align: middle;\n",
       "    }\n",
       "\n",
       "    .dataframe tbody tr th {\n",
       "        vertical-align: top;\n",
       "    }\n",
       "\n",
       "    .dataframe thead th {\n",
       "        text-align: right;\n",
       "    }\n",
       "</style>\n",
       "<table border=\"1\" class=\"dataframe\">\n",
       "  <thead>\n",
       "    <tr style=\"text-align: right;\">\n",
       "      <th></th>\n",
       "      <th>th</th>\n",
       "      <th>zh</th>\n",
       "    </tr>\n",
       "  </thead>\n",
       "  <tbody>\n",
       "    <tr>\n",
       "      <th>0</th>\n",
       "      <td>คุณจำตอนพิธีล้างบาปของคุณได้ เป็นไปได้ยังไง?</td>\n",
       "      <td>记得自己的洗礼仪式 这可能吗?</td>\n",
       "    </tr>\n",
       "    <tr>\n",
       "      <th>1</th>\n",
       "      <td>เป็นไปไม่ได้รึไง? แต่มันจริงนะ</td>\n",
       "      <td>不可能?</td>\n",
       "    </tr>\n",
       "    <tr>\n",
       "      <th>2</th>\n",
       "      <td>คุณได้ยินผู้ใหญ่เขาคุยกันรึเปล่า?</td>\n",
       "      <td>可那是事实啊 是听大人们说的吧?</td>\n",
       "    </tr>\n",
       "    <tr>\n",
       "      <th>3</th>\n",
       "      <td>ฉันรู้สึกได้ถึงแสงอาทิตย์ลอดผ่านกระจกเข้ามา</td>\n",
       "      <td>我能感受到透过玻璃的阳光</td>\n",
       "    </tr>\n",
       "    <tr>\n",
       "      <th>4</th>\n",
       "      <td>ฉันยังจำเสียงหัวใจเต้นของพ่อได้</td>\n",
       "      <td>我还记得爸爸的心跳声呢</td>\n",
       "    </tr>\n",
       "    <tr>\n",
       "      <th>...</th>\n",
       "      <td>...</td>\n",
       "      <td>...</td>\n",
       "    </tr>\n",
       "    <tr>\n",
       "      <th>1227584</th>\n",
       "      <td>นั่นก็เพราะว่า ผมต้องการให้มันเป็นอย่างนั้น</td>\n",
       "      <td>这是我自己的原则</td>\n",
       "    </tr>\n",
       "    <tr>\n",
       "      <th>1227585</th>\n",
       "      <td>(เหล่าสุภาพสตรีของผม โดย มิชิมะ ชิน)</td>\n",
       "      <td>（我的女人们）</td>\n",
       "    </tr>\n",
       "    <tr>\n",
       "      <th>1227586</th>\n",
       "      <td>(ภาพยนตร์ชุดนี้เป็นเรื่องแต่ง) (ตัวละครและองค์...</td>\n",
       "      <td>（本剧纯属虚构 剧中人物、团体名称皆为架空）</td>\n",
       "    </tr>\n",
       "    <tr>\n",
       "      <th>1227587</th>\n",
       "      <td>คำบรรยายโดย:</td>\n",
       "      <td>字幕翻译：</td>\n",
       "    </tr>\n",
       "    <tr>\n",
       "      <th>1227588</th>\n",
       "      <td>วัชรพล อิศรานนท์</td>\n",
       "      <td>汪千然</td>\n",
       "    </tr>\n",
       "  </tbody>\n",
       "</table>\n",
       "<p>1227589 rows × 2 columns</p>\n",
       "</div>"
      ],
      "text/plain": [
       "                                                        th  \\\n",
       "0             คุณจำตอนพิธีล้างบาปของคุณได้ เป็นไปได้ยังไง?   \n",
       "1                           เป็นไปไม่ได้รึไง? แต่มันจริงนะ   \n",
       "2                        คุณได้ยินผู้ใหญ่เขาคุยกันรึเปล่า?   \n",
       "3              ฉันรู้สึกได้ถึงแสงอาทิตย์ลอดผ่านกระจกเข้ามา   \n",
       "4                          ฉันยังจำเสียงหัวใจเต้นของพ่อได้   \n",
       "...                                                    ...   \n",
       "1227584        นั่นก็เพราะว่า ผมต้องการให้มันเป็นอย่างนั้น   \n",
       "1227585               (เหล่าสุภาพสตรีของผม โดย มิชิมะ ชิน)   \n",
       "1227586  (ภาพยนตร์ชุดนี้เป็นเรื่องแต่ง) (ตัวละครและองค์...   \n",
       "1227587                                       คำบรรยายโดย:   \n",
       "1227588                                   วัชรพล อิศรานนท์   \n",
       "\n",
       "                             zh  \n",
       "0               记得自己的洗礼仪式 这可能吗?  \n",
       "1                          不可能?  \n",
       "2              可那是事实啊 是听大人们说的吧?  \n",
       "3                  我能感受到透过玻璃的阳光  \n",
       "4                   我还记得爸爸的心跳声呢  \n",
       "...                         ...  \n",
       "1227584                这是我自己的原则  \n",
       "1227585                 （我的女人们）  \n",
       "1227586  （本剧纯属虚构 剧中人物、团体名称皆为架空）  \n",
       "1227587                   字幕翻译：  \n",
       "1227588                     汪千然  \n",
       "\n",
       "[1227589 rows x 2 columns]"
      ]
     },
     "execution_count": 31,
     "metadata": {},
     "output_type": "execute_result"
    }
   ],
   "source": [
    "df"
   ]
  },
  {
   "cell_type": "code",
   "execution_count": 32,
   "metadata": {},
   "outputs": [
    {
     "data": {
      "text/plain": [
       "(1227589, 2)"
      ]
     },
     "execution_count": 32,
     "metadata": {},
     "output_type": "execute_result"
    }
   ],
   "source": [
    "df.shape"
   ]
  },
  {
   "cell_type": "code",
   "execution_count": 33,
   "metadata": {},
   "outputs": [
    {
     "data": {
      "text/plain": [
       "(1188987, 2)"
      ]
     },
     "execution_count": 33,
     "metadata": {},
     "output_type": "execute_result"
    }
   ],
   "source": [
    "df.drop_duplicates().shape"
   ]
  },
  {
   "cell_type": "code",
   "execution_count": 34,
   "metadata": {},
   "outputs": [
    {
     "data": {
      "text/plain": [
       "(1090783, 1079254)"
      ]
     },
     "execution_count": 34,
     "metadata": {},
     "output_type": "execute_result"
    }
   ],
   "source": [
    "df.th.nunique(),df.zh.nunique()"
   ]
  },
  {
   "cell_type": "code",
   "execution_count": 35,
   "metadata": {},
   "outputs": [],
   "source": [
    "#save deduped\n",
    "df.to_csv('../data/OpenSubtitles/OpenSubtitles_zhth_dedup.txt',header=None, index=None, sep='\\n')"
   ]
  },
  {
   "cell_type": "markdown",
   "metadata": {},
   "source": [
    "## Train spm"
   ]
  },
  {
   "cell_type": "code",
   "execution_count": 2,
   "metadata": {},
   "outputs": [],
   "source": [
    "import sentencepiece as spm"
   ]
  },
  {
   "cell_type": "code",
   "execution_count": 3,
   "metadata": {},
   "outputs": [],
   "source": [
    "# spm.SentencePieceTrainer.train('--input=../data/OpenSubtitles/OpenSubtitles_zhth_dedup.txt --character_coverage=1.0 --model_prefix=opensubtitles_zhth --vocab_size=16000')"
   ]
  },
  {
   "cell_type": "code",
   "execution_count": 4,
   "metadata": {},
   "outputs": [],
   "source": [
    "sp = spm.SentencePieceProcessor()"
   ]
  },
  {
   "cell_type": "code",
   "execution_count": 5,
   "metadata": {},
   "outputs": [
    {
     "data": {
      "text/plain": [
       "True"
      ]
     },
     "execution_count": 5,
     "metadata": {},
     "output_type": "execute_result"
    }
   ],
   "source": [
    "sp.load('../models/spm/opensubtitles_zhth.model')"
   ]
  },
  {
   "cell_type": "code",
   "execution_count": 6,
   "metadata": {},
   "outputs": [
    {
     "data": {
      "text/plain": [
       "['▁มา', 'นั่ง', 'ตรงนี้', 'สิ', '▁', 'หลัง', 'ผมจะ', 'เย็น', 'พอดี']"
      ]
     },
     "execution_count": 6,
     "metadata": {},
     "output_type": "execute_result"
    }
   ],
   "source": [
    "sp.encode_as_pieces('มานั่งตรงนี้สิ หลังผมจะเย็นพอดี')"
   ]
  },
  {
   "cell_type": "code",
   "execution_count": 7,
   "metadata": {},
   "outputs": [
    {
     "data": {
      "text/plain": [
       "[1962, 1180]"
      ]
     },
     "execution_count": 7,
     "metadata": {},
     "output_type": "execute_result"
    }
   ],
   "source": [
    "sp.encode_as_ids('ตอนที่ 1')"
   ]
  },
  {
   "cell_type": "code",
   "execution_count": 8,
   "metadata": {},
   "outputs": [
    {
     "name": "stdout",
     "output_type": "stream",
     "text": [
      "▁มานั่งตรงนี้สิ▁หลังผมจะเย็นพอดี\n"
     ]
    }
   ],
   "source": [
    "print(sp.decode_pieces(['▁มานั่งตรงนี้', 'สิ', '▁หลัง', 'ผม', 'จะเย็น', 'พอดี']))"
   ]
  },
  {
   "cell_type": "code",
   "execution_count": 9,
   "metadata": {},
   "outputs": [
    {
     "name": "stdout",
     "output_type": "stream",
     "text": [
      "ตอนที่ 1\n"
     ]
    }
   ],
   "source": [
    "print(sp.decode_ids([1962, 1180]))"
   ]
  },
  {
   "cell_type": "code",
   "execution_count": 10,
   "metadata": {},
   "outputs": [
    {
     "data": {
      "text/plain": [
       "['▁',\n",
       " '和',\n",
       " '别人',\n",
       " '一起',\n",
       " '来',\n",
       " '吗',\n",
       " '?',\n",
       " '▁',\n",
       " '结',\n",
       " '账',\n",
       " '的时候',\n",
       " '会',\n",
       " '不会',\n",
       " '被',\n",
       " '揭',\n",
       " '穿',\n",
       " '呢',\n",
       " '?']"
      ]
     },
     "execution_count": 10,
     "metadata": {},
     "output_type": "execute_result"
    }
   ],
   "source": [
    "sp.encode_as_pieces('和别人一起来吗? 结账的时候会不会被揭穿呢?')"
   ]
  },
  {
   "cell_type": "code",
   "execution_count": 11,
   "metadata": {},
   "outputs": [
    {
     "name": "stdout",
     "output_type": "stream",
     "text": [
      "和别人一起来吗? 结账的时候会不会被揭穿呢?\n"
     ]
    }
   ],
   "source": [
    "print(sp.decode_pieces(['▁', '和别人一起来吗', '?', '▁', '结账的时候会不会被揭穿呢', '?']))"
   ]
  },
  {
   "cell_type": "code",
   "execution_count": 12,
   "metadata": {},
   "outputs": [
    {
     "data": {
      "text/plain": [
       "[3, 1623, 143, 9891, 10258, 1031, 6121, 644, 887, 59]"
      ]
     },
     "execution_count": 12,
     "metadata": {},
     "output_type": "execute_result"
    }
   ],
   "source": [
    "sp.encode_as_ids('夜里寂寞难耐的时候看看吧')"
   ]
  },
  {
   "cell_type": "code",
   "execution_count": 13,
   "metadata": {},
   "outputs": [
    {
     "name": "stdout",
     "output_type": "stream",
     "text": [
      "夜里寂寞难耐的时候看看吧\n"
     ]
    }
   ],
   "source": [
    "print(sp.decode_ids([3, 1623, 143, 9891, 10258, 1031, 6121, 644, 887, 59]))"
   ]
  },
  {
   "cell_type": "code",
   "execution_count": 14,
   "metadata": {},
   "outputs": [
    {
     "data": {
      "text/plain": [
       "[3,\n",
       " 94,\n",
       " 1715,\n",
       " 672,\n",
       " 67,\n",
       " 30,\n",
       " 4,\n",
       " 3,\n",
       " 2050,\n",
       " 8466,\n",
       " 644,\n",
       " 73,\n",
       " 407,\n",
       " 154,\n",
       " 9590,\n",
       " 1139,\n",
       " 114,\n",
       " 4]"
      ]
     },
     "execution_count": 14,
     "metadata": {},
     "output_type": "execute_result"
    }
   ],
   "source": [
    "sp.encode_as_ids('和别人一起来吗? 结账的时候会不会被揭穿呢?')"
   ]
  },
  {
   "cell_type": "code",
   "execution_count": 15,
   "metadata": {},
   "outputs": [
    {
     "name": "stdout",
     "output_type": "stream",
     "text": [
      "和别人一起来吗? 结账的时候会不会被揭穿呢?\n"
     ]
    }
   ],
   "source": [
    "print(sp.decode_ids([3,\n",
    " 94,\n",
    " 1715,\n",
    " 672,\n",
    " 67,\n",
    " 30,\n",
    " 4,\n",
    " 3,\n",
    " 2050,\n",
    " 8466,\n",
    " 644,\n",
    " 73,\n",
    " 407,\n",
    " 154,\n",
    " 9590,\n",
    " 1139,\n",
    " 114,\n",
    " 4]))"
   ]
  },
  {
   "cell_type": "code",
   "execution_count": 16,
   "metadata": {},
   "outputs": [
    {
     "name": "stdout",
     "output_type": "stream",
     "text": [
      "16000\n"
     ]
    }
   ],
   "source": [
    "print(sp.get_piece_size())"
   ]
  },
  {
   "cell_type": "code",
   "execution_count": 18,
   "metadata": {},
   "outputs": [
    {
     "name": "stdout",
     "output_type": "stream",
     "text": [
      "你好\n"
     ]
    }
   ],
   "source": [
    "print(sp.id_to_piece(5293))"
   ]
  },
  {
   "cell_type": "code",
   "execution_count": 19,
   "metadata": {},
   "outputs": [
    {
     "name": "stdout",
     "output_type": "stream",
     "text": [
      "5293\n"
     ]
    }
   ],
   "source": [
    "print(sp.piece_to_id('你好'))"
   ]
  },
  {
   "cell_type": "code",
   "execution_count": 20,
   "metadata": {},
   "outputs": [
    {
     "data": {
      "text/plain": [
       "['▁',\n",
       " '和',\n",
       " '别',\n",
       " '人',\n",
       " '一',\n",
       " '起来',\n",
       " '吗',\n",
       " '?',\n",
       " '▁',\n",
       " '结',\n",
       " '账',\n",
       " '的',\n",
       " '时',\n",
       " '候',\n",
       " '会',\n",
       " '不会',\n",
       " '被',\n",
       " '揭',\n",
       " '穿',\n",
       " '呢',\n",
       " '?']"
      ]
     },
     "execution_count": 20,
     "metadata": {},
     "output_type": "execute_result"
    }
   ],
   "source": [
    "sp.sample_encode_as_pieces('和别人一起来吗? 结账的时候会不会被揭穿呢?', -1, 0.2)"
   ]
  },
  {
   "cell_type": "code",
   "execution_count": 21,
   "metadata": {},
   "outputs": [
    {
     "name": "stdout",
     "output_type": "stream",
     "text": [
      "[3, 5293]\n"
     ]
    }
   ],
   "source": [
    "print(sp.sample_encode_as_ids('你好', -1, 0.1))"
   ]
  },
  {
   "cell_type": "code",
   "execution_count": 22,
   "metadata": {},
   "outputs": [
    {
     "name": "stdout",
     "output_type": "stream",
     "text": [
      "[['▁你好'], ['▁你', '好'], ['▁', '你好'], ['▁', '你', '好']]\n"
     ]
    }
   ],
   "source": [
    "print(sp.nbest_encode_as_pieces('你好', 10))"
   ]
  },
  {
   "cell_type": "code",
   "execution_count": 23,
   "metadata": {},
   "outputs": [
    {
     "name": "stdout",
     "output_type": "stream",
     "text": [
      "[[1174], [15, 88], [3, 5293], [3, 14, 88]]\n"
     ]
    }
   ],
   "source": [
    "print(sp.nbest_encode_as_ids('你好', 10))"
   ]
  },
  {
   "cell_type": "code",
   "execution_count": null,
   "metadata": {},
   "outputs": [],
   "source": []
  }
 ],
 "metadata": {
  "kernelspec": {
   "display_name": "Python 3",
   "language": "python",
   "name": "python3"
  }
 },
 "nbformat": 4,
 "nbformat_minor": 4
}
