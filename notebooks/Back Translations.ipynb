{
 "cells": [
  {
   "cell_type": "code",
   "execution_count": 1,
   "metadata": {},
   "outputs": [],
   "source": [
    "from googletrans import Translator\n",
    "translator = Translator(service_urls=['translate.googleapis.com'])"
   ]
  },
  {
   "cell_type": "code",
   "execution_count": 2,
   "metadata": {},
   "outputs": [
    {
     "name": "stdout",
     "output_type": "stream",
     "text": [
      "Wall time: 212 ms\n"
     ]
    },
    {
     "data": {
      "text/plain": [
       "'我去吃东西了'"
      ]
     },
     "execution_count": 2,
     "metadata": {},
     "output_type": "execute_result"
    }
   ],
   "source": [
    "%%time\n",
    "#th to zh\n",
    "translator.translate(\"ฉันไปกินข้าว\", src='th', dest='zh-cn').text"
   ]
  },
  {
   "cell_type": "code",
   "execution_count": 3,
   "metadata": {},
   "outputs": [
    {
     "name": "stdout",
     "output_type": "stream",
     "text": [
      "Wall time: 235 ms\n"
     ]
    },
    {
     "data": {
      "text/plain": [
       "'ฉันกำลังจะไปกิน'"
      ]
     },
     "execution_count": 3,
     "metadata": {},
     "output_type": "execute_result"
    }
   ],
   "source": [
    "%%time\n",
    "#zh to th\n",
    "translator.translate(\"我去吃饭\", src='zh-cn',dest='th').text"
   ]
  },
  {
   "cell_type": "code",
   "execution_count": 4,
   "metadata": {},
   "outputs": [
    {
     "name": "stdout",
     "output_type": "stream",
     "text": [
      "Wall time: 257 ms\n"
     ]
    },
    {
     "data": {
      "text/plain": [
       "'祝大家有个美好的一天'"
      ]
     },
     "execution_count": 4,
     "metadata": {},
     "output_type": "execute_result"
    }
   ],
   "source": [
    "%%time\n",
    "#zh to th\n",
    "translator.translate(\"Have a good day people\", src='en',dest='zh-cn').text"
   ]
  },
  {
   "cell_type": "code",
   "execution_count": 11,
   "metadata": {},
   "outputs": [
    {
     "data": {
      "text/plain": [
       "<googletrans.models.Translated at 0x253a762deb0>"
      ]
     },
     "execution_count": 11,
     "metadata": {},
     "output_type": "execute_result"
    }
   ],
   "source": [
    "translator.translate(\"Have a good day people\", src='en',dest='zh-cn')"
   ]
  },
  {
   "cell_type": "code",
   "execution_count": 2,
   "metadata": {},
   "outputs": [
    {
     "data": {
      "text/plain": [
       "(3887916, 6)"
      ]
     },
     "execution_count": 2,
     "metadata": {},
     "output_type": "execute_result"
    }
   ],
   "source": [
    "fname = \"../data/scb_mt_opus/en-th.merged_stratified.train.csv\"\n",
    "df = pd.read_csv(fname, encoding='utf-8')\n",
    "df.shape"
   ]
  },
  {
   "cell_type": "code",
   "execution_count": 3,
   "metadata": {},
   "outputs": [],
   "source": [
    "%%time\n",
    "x = []\n",
    "for i in tqdm(df.en.tolist()):\n",
    "    x.append(translator.translate(i, src='en',dest='zh-cn').text)\n",
    "    time.sleep(random.randint(1,5))"
   ]
  },
  {
   "cell_type": "markdown",
   "metadata": {},
   "source": [
    "## Cloud Translation API"
   ]
  },
  {
   "cell_type": "code",
   "execution_count": 44,
   "metadata": {},
   "outputs": [],
   "source": [
    "import pandas as pd\n",
    "from tqdm.auto import tqdm\n",
    "\n",
    "#set up translation client\n",
    "from google.cloud import translate_v2 as translate\n",
    "import os\n",
    "os.environ[\"GOOGLE_APPLICATION_CREDENTIALS\"]=\"/mnt/c/charin_projects/NLP-ZH_TH-Project/credentials/charicloud-45aef05e93db.json\"\n",
    "\n",
    "translate_client = translate.Client()"
   ]
  },
  {
   "cell_type": "code",
   "execution_count": 49,
   "metadata": {},
   "outputs": [
    {
     "data": {
      "text/plain": [
       "(3887916, 6)"
      ]
     },
     "execution_count": 49,
     "metadata": {},
     "output_type": "execute_result"
    }
   ],
   "source": [
    "fname = \"../data/scb_mt_opus/en-th.merged_stratified.train.csv\"\n",
    "df = pd.read_csv(fname, encoding='utf-8')\n",
    "df.shape"
   ]
  },
  {
   "cell_type": "code",
   "execution_count": 75,
   "metadata": {},
   "outputs": [
    {
     "data": {
      "application/vnd.jupyter.widget-view+json": {
       "model_id": "4e53b03750d445bd9882a44acc7b0b4f",
       "version_major": 2,
       "version_minor": 0
      },
      "text/plain": [
       "HBox(children=(FloatProgress(value=0.0, max=21.0), HTML(value='')))"
      ]
     },
     "metadata": {},
     "output_type": "display_data"
    },
    {
     "name": "stdout",
     "output_type": "stream",
     "text": [
      "(100, 3) 100\n",
      "(1100, 3) 1100\n",
      "(2100, 3) 2100\n",
      "\n"
     ]
    }
   ],
   "source": [
    "bs = 100\n",
    "en_list = df.en.tolist()\n",
    "th_list = df.th.tolist()\n",
    "zh_list = []\n",
    "\n",
    "for i in tqdm(range(len(en_list[:2000])//bs+1)):\n",
    "    ens = en_list[(i*bs):(i+1)*bs]\n",
    "    res = translate_client.translate(ens, target_language='zh_cn')\n",
    "    zh_list+=[i['translatedText'] for i in res]\n",
    "    if i % (1000/bs) == 0:\n",
    "        save_df = pd.DataFrame({'en': en_list[:(i+1)*bs], 'th': th_list[:(i+1)*bs], 'zh_translated':zh_list[:(i+1)*bs]})\n",
    "        print(save_df.shape, len(en_list[:(i+1)*bs]))\n",
    "        save_df.to_csv(f'{fname[:-4]}_backtranslated.csv', index=False)\n",
    "save_df = pd.DataFrame({'en': en_list[:(i+1)*bs], 'th': th_list[:(i+1)*bs], 'zh_translated':zh_list[:(i+1)*bs]})\n",
    "save_df.to_csv(f'{fname[:-4]}_backtranslated.csv', index=False)"
   ]
  },
  {
   "cell_type": "code",
   "execution_count": 76,
   "metadata": {},
   "outputs": [
    {
     "data": {
      "text/html": [
       "<div>\n",
       "<style scoped>\n",
       "    .dataframe tbody tr th:only-of-type {\n",
       "        vertical-align: middle;\n",
       "    }\n",
       "\n",
       "    .dataframe tbody tr th {\n",
       "        vertical-align: top;\n",
       "    }\n",
       "\n",
       "    .dataframe thead th {\n",
       "        text-align: right;\n",
       "    }\n",
       "</style>\n",
       "<table border=\"1\" class=\"dataframe\">\n",
       "  <thead>\n",
       "    <tr style=\"text-align: right;\">\n",
       "      <th></th>\n",
       "      <th>en</th>\n",
       "      <th>th</th>\n",
       "      <th>zh_translated</th>\n",
       "    </tr>\n",
       "  </thead>\n",
       "  <tbody>\n",
       "    <tr>\n",
       "      <th>0</th>\n",
       "      <td>The &amp; dolphin; Handbook</td>\n",
       "      <td>คู่มือ &amp; dolphin;</td>\n",
       "      <td>海豚;手册</td>\n",
       "    </tr>\n",
       "    <tr>\n",
       "      <th>1</th>\n",
       "      <td>&amp; dolphin; is the default file manager for &amp; k...</td>\n",
       "      <td>&amp; dolphin; คือโปรแกรมจัดการแฟ้มสําหรับ &amp; kde; ...</td>\n",
       "      <td>&amp;amp; 海豚;是 &amp;amp; kde; 的默认文件管理器，设计时以可用性为主要关注点。</td>\n",
       "    </tr>\n",
       "    <tr>\n",
       "      <th>2</th>\n",
       "      <td>Filemanager</td>\n",
       "      <td>โปรแกรมจัดการแฟ้ม</td>\n",
       "      <td>文件管理器</td>\n",
       "    </tr>\n",
       "    <tr>\n",
       "      <th>3</th>\n",
       "      <td>Introduction</td>\n",
       "      <td>บทนํา</td>\n",
       "      <td>介绍</td>\n",
       "    </tr>\n",
       "    <tr>\n",
       "      <th>4</th>\n",
       "      <td>&amp; dolphin; is &amp; kde; 's default file manager. ...</td>\n",
       "      <td>&amp; dolphin; คือโปรแกรมจัดการแฟ้มสําหรับ &amp; kde; ...</td>\n",
       "      <td>&amp;amp; 海豚;是 &amp;amp; kde;的默认文件管理器。它旨在提高用户界面级别的可用性。...</td>\n",
       "    </tr>\n",
       "    <tr>\n",
       "      <th>...</th>\n",
       "      <td>...</td>\n",
       "      <td>...</td>\n",
       "      <td>...</td>\n",
       "    </tr>\n",
       "    <tr>\n",
       "      <th>2095</th>\n",
       "      <td>Set here the desired custom aspect numerator v...</td>\n",
       "      <td>ตั้งค่าปรับความอิ่มสีได้ที่นี่</td>\n",
       "      <td>在此处设置所需的自定义宽高比分子值。</td>\n",
       "    </tr>\n",
       "    <tr>\n",
       "      <th>2096</th>\n",
       "      <td>Set here the desired custom aspect denominator...</td>\n",
       "      <td>ตั้งค่าการชดเชยแสงหลักได้ที่นี่ โดยมีหน่วยเป็น...</td>\n",
       "      <td>在此处设置所需的自定义方面分母值。</td>\n",
       "    </tr>\n",
       "    <tr>\n",
       "      <th>2097</th>\n",
       "      <td>Set here the top left selection corner positio...</td>\n",
       "      <td>ตั้งค่ามุมบนซ้ายของการเลือกสําหรับครอบตัดภาพได...</td>\n",
       "      <td>在此处设置用于裁剪的左上角选择角位置。</td>\n",
       "    </tr>\n",
       "    <tr>\n",
       "      <th>2098</th>\n",
       "      <td>X:</td>\n",
       "      <td>ตําแหน่ง X:</td>\n",
       "      <td>X：</td>\n",
       "    </tr>\n",
       "    <tr>\n",
       "      <th>2099</th>\n",
       "      <td>Set here the width selection for cropping.</td>\n",
       "      <td>ตั้งค่าความกว้างของการเลือกสําหรับครอบตัดภาพได...</td>\n",
       "      <td>在此处设置裁剪的宽度选择。</td>\n",
       "    </tr>\n",
       "  </tbody>\n",
       "</table>\n",
       "<p>2100 rows × 3 columns</p>\n",
       "</div>"
      ],
      "text/plain": [
       "                                                     en  \\\n",
       "0                               The & dolphin; Handbook   \n",
       "1     & dolphin; is the default file manager for & k...   \n",
       "2                                           Filemanager   \n",
       "3                                          Introduction   \n",
       "4     & dolphin; is & kde; 's default file manager. ...   \n",
       "...                                                 ...   \n",
       "2095  Set here the desired custom aspect numerator v...   \n",
       "2096  Set here the desired custom aspect denominator...   \n",
       "2097  Set here the top left selection corner positio...   \n",
       "2098                                                 X:   \n",
       "2099         Set here the width selection for cropping.   \n",
       "\n",
       "                                                     th  \\\n",
       "0                                     คู่มือ & dolphin;   \n",
       "1     & dolphin; คือโปรแกรมจัดการแฟ้มสําหรับ & kde; ...   \n",
       "2                                     โปรแกรมจัดการแฟ้ม   \n",
       "3                                                 บทนํา   \n",
       "4     & dolphin; คือโปรแกรมจัดการแฟ้มสําหรับ & kde; ...   \n",
       "...                                                 ...   \n",
       "2095                     ตั้งค่าปรับความอิ่มสีได้ที่นี่   \n",
       "2096  ตั้งค่าการชดเชยแสงหลักได้ที่นี่ โดยมีหน่วยเป็น...   \n",
       "2097  ตั้งค่ามุมบนซ้ายของการเลือกสําหรับครอบตัดภาพได...   \n",
       "2098                                        ตําแหน่ง X:   \n",
       "2099  ตั้งค่าความกว้างของการเลือกสําหรับครอบตัดภาพได...   \n",
       "\n",
       "                                          zh_translated  \n",
       "0                                                 海豚;手册  \n",
       "1         &amp; 海豚;是 &amp; kde; 的默认文件管理器，设计时以可用性为主要关注点。  \n",
       "2                                                 文件管理器  \n",
       "3                                                    介绍  \n",
       "4     &amp; 海豚;是 &amp; kde;的默认文件管理器。它旨在提高用户界面级别的可用性。...  \n",
       "...                                                 ...  \n",
       "2095                                 在此处设置所需的自定义宽高比分子值。  \n",
       "2096                                  在此处设置所需的自定义方面分母值。  \n",
       "2097                                在此处设置用于裁剪的左上角选择角位置。  \n",
       "2098                                                 X：  \n",
       "2099                                      在此处设置裁剪的宽度选择。  \n",
       "\n",
       "[2100 rows x 3 columns]"
      ]
     },
     "execution_count": 76,
     "metadata": {},
     "output_type": "execute_result"
    }
   ],
   "source": [
    "check = pd.read_csv(f'{fname[:-4]}_backtranslated.csv')\n",
    "check"
   ]
  },
  {
   "cell_type": "code",
   "execution_count": 77,
   "metadata": {},
   "outputs": [
    {
     "data": {
      "text/plain": [
       "'../data/scb_mt_opus/en-th.merged_stratified.train_backtranslated.csv'"
      ]
     },
     "execution_count": 77,
     "metadata": {},
     "output_type": "execute_result"
    }
   ],
   "source": [
    "f'{fname[:-4]}_backtranslated.csv'"
   ]
  },
  {
   "cell_type": "code",
   "execution_count": null,
   "metadata": {},
   "outputs": [],
   "source": []
  }
 ],
 "metadata": {
  "kernelspec": {
   "display_name": "Python 3",
   "language": "python",
   "name": "python3"
  },
  "language_info": {
   "codemirror_mode": {
    "name": "ipython",
    "version": 3
   },
   "file_extension": ".py",
   "mimetype": "text/x-python",
   "name": "python",
   "nbconvert_exporter": "python",
   "pygments_lexer": "ipython3",
   "version": "3.6.9"
  }
 },
 "nbformat": 4,
 "nbformat_minor": 4
}
