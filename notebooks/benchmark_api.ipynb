{
 "cells": [
  {
   "cell_type": "markdown",
   "metadata": {},
   "source": [
    "# Benchmark with Other APIs"
   ]
  },
  {
   "cell_type": "markdown",
   "metadata": {},
   "source": [
    "## Getting Translation from [AI4Thai](https://aiforthai.in.th/aiplatform/#/chinesetothai)"
   ]
  },
  {
   "cell_type": "code",
   "execution_count": 2,
   "metadata": {},
   "outputs": [],
   "source": [
    "#code from thai2nmt; @artificiala\n",
    "import requests\n",
    "from urllib.parse import quote, urlencode\n",
    "\n",
    "def translate4thai(s, ai4thai_url, api_key):\n",
    "    headers = {\n",
    "                 'Apikey': api_key,\n",
    "                 'Content-Type': 'application/x-www-form-urlencoded'\n",
    "            }\n",
    "    target_uri = ai4thai_url + quote(s, safe='')\n",
    "    target_uri = target_uri.replace('%2F','%252F') \n",
    "    res = requests.get(target_uri, headers=headers)\n",
    "    translation = None\n",
    "    if res.status_code != 200:\n",
    "       print('Error')\n",
    "       print(f'res.status_code : {res.status_code}')\n",
    "       print(f'res.headers : {res.headers}')\n",
    "       print(f'res.text : {res.text}')\n",
    "       raise \"error\"\n",
    "    else:\n",
    "       translation = res.content.decode('utf-8')\n",
    "    return translation"
   ]
  },
  {
   "cell_type": "code",
   "execution_count": 3,
   "metadata": {},
   "outputs": [
    {
     "name": "stdout",
     "output_type": "stream",
     "text": [
      "CPU times: user 31.2 ms, sys: 31.2 ms, total: 62.5 ms\n",
      "Wall time: 3.08 s\n"
     ]
    },
    {
     "data": {
      "text/plain": [
       "'我去吃饭。'"
      ]
     },
     "execution_count": 3,
     "metadata": {},
     "output_type": "execute_result"
    }
   ],
   "source": [
    "%%time\n",
    "\n",
    "s = \"ฉันไปกินข้าว\"\n",
    "ai4thai_url = 'https://api.aiforthai.in.th/th-zh-nmt/' #th to zh\n",
    "# ai4thai_url = 'https://api.aiforthai.in.th/zh-th-nmt/' #zh to th\n",
    "api_key = \"zVSOWIMkNEqzdXLSNWct1SnCLM54eh06\"\n",
    "\n",
    "translate4thai(s,ai4thai_url,api_key)"
   ]
  },
  {
   "cell_type": "code",
   "execution_count": 4,
   "metadata": {},
   "outputs": [
    {
     "name": "stdout",
     "output_type": "stream",
     "text": [
      "CPU times: user 31.2 ms, sys: 15.6 ms, total: 46.9 ms\n",
      "Wall time: 7.96 s\n"
     ]
    },
    {
     "data": {
      "text/plain": [
       "'ฉันจะไปทานข้าวเย็น'"
      ]
     },
     "execution_count": 4,
     "metadata": {},
     "output_type": "execute_result"
    }
   ],
   "source": [
    "%%time\n",
    "\n",
    "s = \"我去吃饭。\"\n",
    "# ai4thai_url = 'https://api.aiforthai.in.th/th-zh-nmt/' #th to zh\n",
    "ai4thai_url = 'https://api.aiforthai.in.th/zh-th-nmt/' #zh to th\n",
    "api_key = \"zVSOWIMkNEqzdXLSNWct1SnCLM54eh06\"\n",
    "\n",
    "translate4thai(s,ai4thai_url,api_key)"
   ]
  },
  {
   "cell_type": "markdown",
   "metadata": {},
   "source": [
    "## Getting Translation from Google Translate"
   ]
  },
  {
   "cell_type": "code",
   "execution_count": 13,
   "metadata": {},
   "outputs": [],
   "source": [
    "# #use this verison\n",
    "# !pip install googletrans==3.1.0a0"
   ]
  },
  {
   "cell_type": "code",
   "execution_count": null,
   "metadata": {},
   "outputs": [],
   "source": [
    "from googletrans import Translator\n",
    "translator = Translator(service_urls=['translate.googleapis.com'])"
   ]
  },
  {
   "cell_type": "code",
   "execution_count": 19,
   "metadata": {},
   "outputs": [
    {
     "name": "stdout",
     "output_type": "stream",
     "text": [
      "CPU times: user 15.6 ms, sys: 0 ns, total: 15.6 ms\n",
      "Wall time: 197 ms\n"
     ]
    },
    {
     "data": {
      "text/plain": [
       "'我去吃饭'"
      ]
     },
     "execution_count": 19,
     "metadata": {},
     "output_type": "execute_result"
    }
   ],
   "source": [
    "%%time\n",
    "#th to zh\n",
    "translator.translate(\"ฉันไปกินข้าว\", src='th', dest='zh-cn').text"
   ]
  },
  {
   "cell_type": "code",
   "execution_count": 18,
   "metadata": {},
   "outputs": [
    {
     "name": "stdout",
     "output_type": "stream",
     "text": [
      "CPU times: user 0 ns, sys: 15.6 ms, total: 15.6 ms\n",
      "Wall time: 252 ms\n"
     ]
    },
    {
     "data": {
      "text/plain": [
       "'ฉันจะไปกิน'"
      ]
     },
     "execution_count": 18,
     "metadata": {},
     "output_type": "execute_result"
    }
   ],
   "source": [
    "%%time\n",
    "#zh to th\n",
    "translator.translate(\"我去吃饭\", src='zh-cn',dest='th').text"
   ]
  },
  {
   "cell_type": "code",
   "execution_count": null,
   "metadata": {},
   "outputs": [],
   "source": []
  }
 ],
 "metadata": {
  "kernelspec": {
   "display_name": "Python 3",
   "language": "python",
   "name": "python3"
  },
  "language_info": {
   "codemirror_mode": {
    "name": "ipython",
    "version": 3
   },
   "file_extension": ".py",
   "mimetype": "text/x-python",
   "name": "python",
   "nbconvert_exporter": "python",
   "pygments_lexer": "ipython3",
   "version": "3.6.9"
  }
 },
 "nbformat": 4,
 "nbformat_minor": 2
}
