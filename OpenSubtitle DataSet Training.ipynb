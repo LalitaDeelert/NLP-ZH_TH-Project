{
 "cells": [
  {
   "cell_type": "code",
   "execution_count": 1,
   "metadata": {},
   "outputs": [],
   "source": [
    "with open(\"OpenSubtitles.th-zh_cn.th\",\"r\",encoding='utf-8') as f:\n",
    "    th_lines = f.readlines()\n",
    "    th_lines = [i[:-1] for i in th_lines]\n",
    "with open(\"OpenSubtitles.th-zh_cn.zh_cn\",\"r\",encoding='utf-8') as f:\n",
    "    zh_lines = f.readlines()\n",
    "    zh_lines = [i[:-1] for i in zh_lines]"
   ]
  },
  {
   "cell_type": "code",
   "execution_count": 2,
   "metadata": {},
   "outputs": [
    {
     "data": {
      "text/plain": [
       "1227589"
      ]
     },
     "execution_count": 2,
     "metadata": {},
     "output_type": "execute_result"
    }
   ],
   "source": [
    "len(th_lines)"
   ]
  },
  {
   "cell_type": "code",
   "execution_count": 3,
   "metadata": {},
   "outputs": [
    {
     "data": {
      "text/plain": [
       "['คุณจำตอนพิธีล้างบาปของคุณได้ เป็นไปได้ยังไง?',\n",
       " 'เป็นไปไม่ได้รึไง? แต่มันจริงนะ',\n",
       " 'คุณได้ยินผู้ใหญ่เขาคุยกันรึเปล่า?',\n",
       " 'ฉันรู้สึกได้ถึงแสงอาทิตย์ลอดผ่านกระจกเข้ามา',\n",
       " 'ฉันยังจำเสียงหัวใจเต้นของพ่อได้',\n",
       " 'ไม่ใช่ฉันที่จำได้ แต่เป็นความทรงจำของฉันต่างหาก',\n",
       " 'แต่คุณไม่ใช่ คาธอลิกแล้วนี่?',\n",
       " 'เขาปล่อยให้คนอื่นผ่านไป',\n",
       " 'ทำไมอยู่ดีๆถึงพูดเรื่องพิธีล้างบาปขึ้นมาล่ะ?',\n",
       " 'ฉันนึกถึงมันบ่อยๆ บางทีฉันก็จำได้']"
      ]
     },
     "execution_count": 3,
     "metadata": {},
     "output_type": "execute_result"
    }
   ],
   "source": [
    "th_lines[:10]"
   ]
  },
  {
   "cell_type": "code",
   "execution_count": 4,
   "metadata": {},
   "outputs": [
    {
     "data": {
      "text/plain": [
       "1227589"
      ]
     },
     "execution_count": 4,
     "metadata": {},
     "output_type": "execute_result"
    }
   ],
   "source": [
    "len(zh_lines)"
   ]
  },
  {
   "cell_type": "code",
   "execution_count": 5,
   "metadata": {},
   "outputs": [
    {
     "data": {
      "text/plain": [
       "['记得自己的洗礼仪式 这可能吗?',\n",
       " '不可能?',\n",
       " '可那是事实啊 是听大人们说的吧?',\n",
       " '我能感受到透过玻璃的阳光',\n",
       " '我还记得爸爸的心跳声呢',\n",
       " '真的不是听来的 是记忆里的',\n",
       " '你也不是信天主教的吧',\n",
       " '改新教也有洗礼这种仪式',\n",
       " '为什么忽然提起洗礼仪式?',\n",
       " '最近想起来的 偶尔会想起']"
      ]
     },
     "execution_count": 5,
     "metadata": {},
     "output_type": "execute_result"
    }
   ],
   "source": [
    "zh_lines[:10]"
   ]
  },
  {
   "cell_type": "code",
   "execution_count": 6,
   "metadata": {},
   "outputs": [],
   "source": [
    "import pandas as pd"
   ]
  },
  {
   "cell_type": "code",
   "execution_count": 7,
   "metadata": {},
   "outputs": [],
   "source": [
    "df = pd.DataFrame({'th':th_lines,'zh':zh_lines})"
   ]
  },
  {
   "cell_type": "code",
   "execution_count": 8,
   "metadata": {},
   "outputs": [
    {
     "data": {
      "text/html": [
       "<div>\n",
       "<style scoped>\n",
       "    .dataframe tbody tr th:only-of-type {\n",
       "        vertical-align: middle;\n",
       "    }\n",
       "\n",
       "    .dataframe tbody tr th {\n",
       "        vertical-align: top;\n",
       "    }\n",
       "\n",
       "    .dataframe thead th {\n",
       "        text-align: right;\n",
       "    }\n",
       "</style>\n",
       "<table border=\"1\" class=\"dataframe\">\n",
       "  <thead>\n",
       "    <tr style=\"text-align: right;\">\n",
       "      <th></th>\n",
       "      <th>th</th>\n",
       "      <th>zh</th>\n",
       "    </tr>\n",
       "  </thead>\n",
       "  <tbody>\n",
       "    <tr>\n",
       "      <th>0</th>\n",
       "      <td>คุณจำตอนพิธีล้างบาปของคุณได้ เป็นไปได้ยังไง?</td>\n",
       "      <td>记得自己的洗礼仪式 这可能吗?</td>\n",
       "    </tr>\n",
       "    <tr>\n",
       "      <th>1</th>\n",
       "      <td>เป็นไปไม่ได้รึไง? แต่มันจริงนะ</td>\n",
       "      <td>不可能?</td>\n",
       "    </tr>\n",
       "    <tr>\n",
       "      <th>2</th>\n",
       "      <td>คุณได้ยินผู้ใหญ่เขาคุยกันรึเปล่า?</td>\n",
       "      <td>可那是事实啊 是听大人们说的吧?</td>\n",
       "    </tr>\n",
       "    <tr>\n",
       "      <th>3</th>\n",
       "      <td>ฉันรู้สึกได้ถึงแสงอาทิตย์ลอดผ่านกระจกเข้ามา</td>\n",
       "      <td>我能感受到透过玻璃的阳光</td>\n",
       "    </tr>\n",
       "    <tr>\n",
       "      <th>4</th>\n",
       "      <td>ฉันยังจำเสียงหัวใจเต้นของพ่อได้</td>\n",
       "      <td>我还记得爸爸的心跳声呢</td>\n",
       "    </tr>\n",
       "    <tr>\n",
       "      <th>...</th>\n",
       "      <td>...</td>\n",
       "      <td>...</td>\n",
       "    </tr>\n",
       "    <tr>\n",
       "      <th>1227584</th>\n",
       "      <td>นั่นก็เพราะว่า ผมต้องการให้มันเป็นอย่างนั้น</td>\n",
       "      <td>这是我自己的原则</td>\n",
       "    </tr>\n",
       "    <tr>\n",
       "      <th>1227585</th>\n",
       "      <td>(เหล่าสุภาพสตรีของผม โดย มิชิมะ ชิน)</td>\n",
       "      <td>（我的女人们）</td>\n",
       "    </tr>\n",
       "    <tr>\n",
       "      <th>1227586</th>\n",
       "      <td>(ภาพยนตร์ชุดนี้เป็นเรื่องแต่ง) (ตัวละครและองค์...</td>\n",
       "      <td>（本剧纯属虚构 剧中人物、团体名称皆为架空）</td>\n",
       "    </tr>\n",
       "    <tr>\n",
       "      <th>1227587</th>\n",
       "      <td>คำบรรยายโดย:</td>\n",
       "      <td>字幕翻译：</td>\n",
       "    </tr>\n",
       "    <tr>\n",
       "      <th>1227588</th>\n",
       "      <td>วัชรพล อิศรานนท์</td>\n",
       "      <td>汪千然</td>\n",
       "    </tr>\n",
       "  </tbody>\n",
       "</table>\n",
       "<p>1227589 rows × 2 columns</p>\n",
       "</div>"
      ],
      "text/plain": [
       "                                                        th  \\\n",
       "0             คุณจำตอนพิธีล้างบาปของคุณได้ เป็นไปได้ยังไง?   \n",
       "1                           เป็นไปไม่ได้รึไง? แต่มันจริงนะ   \n",
       "2                        คุณได้ยินผู้ใหญ่เขาคุยกันรึเปล่า?   \n",
       "3              ฉันรู้สึกได้ถึงแสงอาทิตย์ลอดผ่านกระจกเข้ามา   \n",
       "4                          ฉันยังจำเสียงหัวใจเต้นของพ่อได้   \n",
       "...                                                    ...   \n",
       "1227584        นั่นก็เพราะว่า ผมต้องการให้มันเป็นอย่างนั้น   \n",
       "1227585               (เหล่าสุภาพสตรีของผม โดย มิชิมะ ชิน)   \n",
       "1227586  (ภาพยนตร์ชุดนี้เป็นเรื่องแต่ง) (ตัวละครและองค์...   \n",
       "1227587                                       คำบรรยายโดย:   \n",
       "1227588                                   วัชรพล อิศรานนท์   \n",
       "\n",
       "                             zh  \n",
       "0               记得自己的洗礼仪式 这可能吗?  \n",
       "1                          不可能?  \n",
       "2              可那是事实啊 是听大人们说的吧?  \n",
       "3                  我能感受到透过玻璃的阳光  \n",
       "4                   我还记得爸爸的心跳声呢  \n",
       "...                         ...  \n",
       "1227584                这是我自己的原则  \n",
       "1227585                 （我的女人们）  \n",
       "1227586  （本剧纯属虚构 剧中人物、团体名称皆为架空）  \n",
       "1227587                   字幕翻译：  \n",
       "1227588                     汪千然  \n",
       "\n",
       "[1227589 rows x 2 columns]"
      ]
     },
     "execution_count": 8,
     "metadata": {},
     "output_type": "execute_result"
    }
   ],
   "source": [
    "df"
   ]
  },
  {
   "cell_type": "code",
   "execution_count": 9,
   "metadata": {},
   "outputs": [
    {
     "data": {
      "text/plain": [
       "(1227589, 2)"
      ]
     },
     "execution_count": 9,
     "metadata": {},
     "output_type": "execute_result"
    }
   ],
   "source": [
    "df.shape"
   ]
  },
  {
   "cell_type": "code",
   "execution_count": 10,
   "metadata": {},
   "outputs": [
    {
     "data": {
      "text/plain": [
       "(1188987, 2)"
      ]
     },
     "execution_count": 10,
     "metadata": {},
     "output_type": "execute_result"
    }
   ],
   "source": [
    "df.drop_duplicates().shape"
   ]
  },
  {
   "cell_type": "code",
   "execution_count": 11,
   "metadata": {},
   "outputs": [
    {
     "data": {
      "text/plain": [
       "(1090783, 1079254)"
      ]
     },
     "execution_count": 11,
     "metadata": {},
     "output_type": "execute_result"
    }
   ],
   "source": [
    "df.th.nunique(),df.zh.nunique()"
   ]
  },
  {
   "cell_type": "code",
   "execution_count": 12,
   "metadata": {},
   "outputs": [],
   "source": [
    "import sentencepiece as spm"
   ]
  },
  {
   "cell_type": "code",
   "execution_count": 16,
   "metadata": {},
   "outputs": [],
   "source": [
    "spm.SentencePieceTrainer.train('--input=OpenSubtitles.th-zh_cn.th --model_prefix=m --vocab_size=244936')"
   ]
  },
  {
   "cell_type": "code",
   "execution_count": 17,
   "metadata": {},
   "outputs": [],
   "source": [
    "sp = spm.SentencePieceProcessor()"
   ]
  },
  {
   "cell_type": "code",
   "execution_count": 18,
   "metadata": {},
   "outputs": [
    {
     "data": {
      "text/plain": [
       "True"
      ]
     },
     "execution_count": 18,
     "metadata": {},
     "output_type": "execute_result"
    }
   ],
   "source": [
    "sp.load('m.model')"
   ]
  },
  {
   "cell_type": "code",
   "execution_count": 37,
   "metadata": {},
   "outputs": [
    {
     "data": {
      "text/plain": [
       "['▁มานั่งตรงนี้', 'สิ', '▁หลัง', 'ผม', 'จะเย็น', 'พอดี']"
      ]
     },
     "execution_count": 37,
     "metadata": {},
     "output_type": "execute_result"
    }
   ],
   "source": [
    "sp.encode_as_pieces('มานั่งตรงนี้สิ หลังผมจะเย็นพอดี')"
   ]
  },
  {
   "cell_type": "code",
   "execution_count": 31,
   "metadata": {},
   "outputs": [
    {
     "data": {
      "text/plain": [
       "[639, 234]"
      ]
     },
     "execution_count": 31,
     "metadata": {},
     "output_type": "execute_result"
    }
   ],
   "source": [
    "sp.encode_as_ids('ตอนที่ 1')"
   ]
  },
  {
   "cell_type": "code",
   "execution_count": 38,
   "metadata": {},
   "outputs": [
    {
     "name": "stdout",
     "output_type": "stream",
     "text": [
      "มานั่งตรงนี้สิ หลังผมจะเย็นพอดี\n"
     ]
    }
   ],
   "source": [
    "print(sp.decode_pieces(['▁มานั่งตรงนี้', 'สิ', '▁หลัง', 'ผม', 'จะเย็น', 'พอดี']))"
   ]
  },
  {
   "cell_type": "code",
   "execution_count": 32,
   "metadata": {},
   "outputs": [
    {
     "name": "stdout",
     "output_type": "stream",
     "text": [
      "ตอนที่ 1\n"
     ]
    }
   ],
   "source": [
    "print(sp.decode_ids([639, 234]))"
   ]
  },
  {
   "cell_type": "code",
   "execution_count": null,
   "metadata": {},
   "outputs": [],
   "source": []
  },
  {
   "cell_type": "code",
   "execution_count": 47,
   "metadata": {},
   "outputs": [],
   "source": [
    "spm.SentencePieceTrainer.train('--input=OpenSubtitles.th-zh_cn.zh_cn --model_prefix=zh --vocab_size=544314')"
   ]
  },
  {
   "cell_type": "code",
   "execution_count": 48,
   "metadata": {},
   "outputs": [],
   "source": [
    "sp = spm.SentencePieceProcessor()"
   ]
  },
  {
   "cell_type": "code",
   "execution_count": 49,
   "metadata": {},
   "outputs": [
    {
     "data": {
      "text/plain": [
       "True"
      ]
     },
     "execution_count": 49,
     "metadata": {},
     "output_type": "execute_result"
    }
   ],
   "source": [
    "sp.load('zh.model')"
   ]
  },
  {
   "cell_type": "code",
   "execution_count": 41,
   "metadata": {},
   "outputs": [
    {
     "data": {
      "text/plain": [
       "['▁', '和别人一起来吗', '?', '▁', '结账的时候会不会被揭穿呢', '?']"
      ]
     },
     "execution_count": 41,
     "metadata": {},
     "output_type": "execute_result"
    }
   ],
   "source": [
    "sp.encode_as_pieces('和别人一起来吗? 结账的时候会不会被揭穿呢?')"
   ]
  },
  {
   "cell_type": "code",
   "execution_count": 50,
   "metadata": {},
   "outputs": [
    {
     "name": "stdout",
     "output_type": "stream",
     "text": [
      "和别人一起来吗? 结账的时候会不会被揭穿呢?\n"
     ]
    }
   ],
   "source": [
    "print(sp.decode_pieces(['▁', '和别人一起来吗', '?', '▁', '结账的时候会不会被揭穿呢', '?']))"
   ]
  },
  {
   "cell_type": "code",
   "execution_count": 51,
   "metadata": {},
   "outputs": [
    {
     "data": {
      "text/plain": [
       "[51641, 127850, 164, 9403]"
      ]
     },
     "execution_count": 51,
     "metadata": {},
     "output_type": "execute_result"
    }
   ],
   "source": [
    "sp.encode_as_ids('夜里寂寞难耐的时候看看吧')"
   ]
  },
  {
   "cell_type": "code",
   "execution_count": 52,
   "metadata": {},
   "outputs": [
    {
     "name": "stdout",
     "output_type": "stream",
     "text": [
      "夜里寂寞难耐的时候看看吧\n"
     ]
    }
   ],
   "source": [
    "print(sp.decode_ids([51641, 127850, 164, 9403]))"
   ]
  },
  {
   "cell_type": "code",
   "execution_count": 53,
   "metadata": {},
   "outputs": [
    {
     "data": {
      "text/plain": [
       "[156347, 122480, 4, 315887, 308164, 36, 4]"
      ]
     },
     "execution_count": 53,
     "metadata": {},
     "output_type": "execute_result"
    }
   ],
   "source": [
    "sp.encode_as_ids('和别人一起来吗? 结账的时候会不会被揭穿呢?')"
   ]
  },
  {
   "cell_type": "code",
   "execution_count": 54,
   "metadata": {},
   "outputs": [
    {
     "name": "stdout",
     "output_type": "stream",
     "text": [
      "和别人一起来吗? 结账的时候会不会被揭穿呢?\n"
     ]
    }
   ],
   "source": [
    "print(sp.decode_ids([156347, 122480, 4, 315887, 308164, 36, 4]))"
   ]
  },
  {
   "cell_type": "code",
   "execution_count": null,
   "metadata": {},
   "outputs": [],
   "source": []
  },
  {
   "cell_type": "code",
   "execution_count": 55,
   "metadata": {},
   "outputs": [
    {
     "name": "stdout",
     "output_type": "stream",
     "text": [
      "544314\n"
     ]
    }
   ],
   "source": [
    "print(sp.get_piece_size())"
   ]
  },
  {
   "cell_type": "code",
   "execution_count": 70,
   "metadata": {},
   "outputs": [
    {
     "name": "stdout",
     "output_type": "stream",
     "text": [
      "你好\n"
     ]
    }
   ],
   "source": [
    "print(sp.id_to_piece(803))"
   ]
  },
  {
   "cell_type": "code",
   "execution_count": 59,
   "metadata": {},
   "outputs": [
    {
     "name": "stdout",
     "output_type": "stream",
     "text": [
      "803\n"
     ]
    }
   ],
   "source": [
    "print(sp.piece_to_id('你好'))"
   ]
  },
  {
   "cell_type": "code",
   "execution_count": 78,
   "metadata": {},
   "outputs": [
    {
     "data": {
      "text/plain": [
       "['▁', '和别人', '一起来吗', '?', '▁结账', '的时候', '会不会被揭穿', '呢', '?']"
      ]
     },
     "execution_count": 78,
     "metadata": {},
     "output_type": "execute_result"
    }
   ],
   "source": [
    "sp.sample_encode_as_pieces('和别人一起来吗? 结账的时候会不会被揭穿呢?', -1, 0.2)"
   ]
  },
  {
   "cell_type": "code",
   "execution_count": 81,
   "metadata": {},
   "outputs": [
    {
     "name": "stdout",
     "output_type": "stream",
     "text": [
      "[5, 39, 119]\n"
     ]
    }
   ],
   "source": [
    "print(sp.sample_encode_as_ids('你好', -1, 0.1))"
   ]
  },
  {
   "cell_type": "code",
   "execution_count": 82,
   "metadata": {},
   "outputs": [
    {
     "name": "stdout",
     "output_type": "stream",
     "text": [
      "[['▁你好'], ['▁', '你好'], ['▁你', '好'], ['▁', '你', '好']]\n"
     ]
    }
   ],
   "source": [
    "print(sp.nbest_encode_as_pieces('你好', 10))"
   ]
  },
  {
   "cell_type": "code",
   "execution_count": 83,
   "metadata": {},
   "outputs": [
    {
     "name": "stdout",
     "output_type": "stream",
     "text": [
      "[[149], [5, 803], [19, 119], [5, 39, 119]]\n"
     ]
    }
   ],
   "source": [
    "print(sp.nbest_encode_as_ids('你好', 10))"
   ]
  },
  {
   "cell_type": "code",
   "execution_count": null,
   "metadata": {},
   "outputs": [],
   "source": []
  },
  {
   "cell_type": "code",
   "execution_count": 86,
   "metadata": {},
   "outputs": [
    {
     "name": "stdout",
     "output_type": "stream",
     "text": [
      "你好\n"
     ]
    }
   ],
   "source": [
    "print(sp.decode_ids([5, 39, 119]))"
   ]
  },
  {
   "cell_type": "code",
   "execution_count": null,
   "metadata": {},
   "outputs": [],
   "source": []
  }
 ],
 "metadata": {
  "kernelspec": {
   "display_name": "Python 3",
   "language": "python",
   "name": "python3"
  },
  "language_info": {
   "codemirror_mode": {
    "name": "ipython",
    "version": 3
   },
   "file_extension": ".py",
   "mimetype": "text/x-python",
   "name": "python",
   "nbconvert_exporter": "python",
   "pygments_lexer": "ipython3",
   "version": "3.8.5"
  }
 },
 "nbformat": 4,
 "nbformat_minor": 4
}
